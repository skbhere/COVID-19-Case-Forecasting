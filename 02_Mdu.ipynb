{
  "nbformat": 4,
  "nbformat_minor": 0,
  "metadata": {
    "kernelspec": {
      "name": "python3",
      "display_name": "Python 3"
    },
    "colab": {
      "name": "02_Mdu.ipynb",
      "provenance": [],
      "include_colab_link": true
    },
    "accelerator": "GPU"
  },
  "cells": [
    {
      "cell_type": "markdown",
      "metadata": {
        "id": "view-in-github",
        "colab_type": "text"
      },
      "source": [
        "<a href=\"https://colab.research.google.com/github/skbhere/Simple-forecast-predicion-for-Covid-19-/blob/master/02_Mdu.ipynb\" target=\"_parent\"><img src=\"https://colab.research.google.com/assets/colab-badge.svg\" alt=\"Open In Colab\"/></a>"
      ]
    },
    {
      "cell_type": "code",
      "metadata": {
        "id": "5PMvjbq2iPie",
        "colab_type": "code",
        "colab": {}
      },
      "source": [
        "import numpy as np\n",
        "import pandas as pd"
      ],
      "execution_count": 2,
      "outputs": []
    },
    {
      "cell_type": "code",
      "metadata": {
        "id": "0WxFsCPIgm50",
        "colab_type": "code",
        "colab": {}
      },
      "source": [
        "df= pd.read_csv(\"https://api.covid19india.org/csv/latest/districts.csv\")"
      ],
      "execution_count": 3,
      "outputs": []
    },
    {
      "cell_type": "code",
      "metadata": {
        "id": "osaJwlFC9Sud",
        "colab_type": "code",
        "colab": {}
      },
      "source": [
        "df1=df.loc[df['State'] == \"Delhi\"]"
      ],
      "execution_count": 4,
      "outputs": []
    },
    {
      "cell_type": "code",
      "metadata": {
        "id": "eT-iDNlw2nEz",
        "colab_type": "code",
        "colab": {}
      },
      "source": [
        "df=df.loc[df['District'] == \"Madurai\"]"
      ],
      "execution_count": null,
      "outputs": []
    },
    {
      "cell_type": "code",
      "metadata": {
        "id": "lWIqbA1t7M_a",
        "colab_type": "code",
        "colab": {}
      },
      "source": [
        "DF=df\n",
        "DF.rename(columns={'Confirmed':'Total Confirmed',\n",
        "                          'Recovered':'Total Recovered',\n",
        "                          'Deceased':'Total Deceased'}, \n",
        "                 inplace=True)\n",
        "xx=len(DF) - 1\n",
        "DF=DF.head(xx)"
      ],
      "execution_count": null,
      "outputs": []
    },
    {
      "cell_type": "code",
      "metadata": {
        "id": "DxXRmHSCxLjl",
        "colab_type": "code",
        "colab": {
          "base_uri": "https://localhost:8080/",
          "height": 407
        },
        "outputId": "61725dc1-c7c9-4ebc-90d8-f81ef7a9467d"
      },
      "source": [
        "DF"
      ],
      "execution_count": null,
      "outputs": [
        {
          "output_type": "execute_result",
          "data": {
            "text/html": [
              "<div>\n",
              "<style scoped>\n",
              "    .dataframe tbody tr th:only-of-type {\n",
              "        vertical-align: middle;\n",
              "    }\n",
              "\n",
              "    .dataframe tbody tr th {\n",
              "        vertical-align: top;\n",
              "    }\n",
              "\n",
              "    .dataframe thead th {\n",
              "        text-align: right;\n",
              "    }\n",
              "</style>\n",
              "<table border=\"1\" class=\"dataframe\">\n",
              "  <thead>\n",
              "    <tr style=\"text-align: right;\">\n",
              "      <th></th>\n",
              "      <th>Date</th>\n",
              "      <th>State</th>\n",
              "      <th>District</th>\n",
              "      <th>Total Confirmed</th>\n",
              "      <th>Total Recovered</th>\n",
              "      <th>Total Deceased</th>\n",
              "      <th>Migrated</th>\n",
              "      <th>Tested</th>\n",
              "    </tr>\n",
              "  </thead>\n",
              "  <tbody>\n",
              "    <tr>\n",
              "      <th>317</th>\n",
              "      <td>2020-04-26</td>\n",
              "      <td>Tamil Nadu</td>\n",
              "      <td>Madurai</td>\n",
              "      <td>75</td>\n",
              "      <td>8</td>\n",
              "      <td>2</td>\n",
              "      <td>0</td>\n",
              "      <td>NaN</td>\n",
              "    </tr>\n",
              "    <tr>\n",
              "      <th>750</th>\n",
              "      <td>2020-04-27</td>\n",
              "      <td>Tamil Nadu</td>\n",
              "      <td>Madurai</td>\n",
              "      <td>79</td>\n",
              "      <td>8</td>\n",
              "      <td>2</td>\n",
              "      <td>0</td>\n",
              "      <td>NaN</td>\n",
              "    </tr>\n",
              "    <tr>\n",
              "      <th>1194</th>\n",
              "      <td>2020-04-28</td>\n",
              "      <td>Tamil Nadu</td>\n",
              "      <td>Madurai</td>\n",
              "      <td>79</td>\n",
              "      <td>36</td>\n",
              "      <td>2</td>\n",
              "      <td>0</td>\n",
              "      <td>NaN</td>\n",
              "    </tr>\n",
              "    <tr>\n",
              "      <th>1642</th>\n",
              "      <td>2020-04-29</td>\n",
              "      <td>Tamil Nadu</td>\n",
              "      <td>Madurai</td>\n",
              "      <td>79</td>\n",
              "      <td>40</td>\n",
              "      <td>2</td>\n",
              "      <td>0</td>\n",
              "      <td>NaN</td>\n",
              "    </tr>\n",
              "    <tr>\n",
              "      <th>2091</th>\n",
              "      <td>2020-04-30</td>\n",
              "      <td>Tamil Nadu</td>\n",
              "      <td>Madurai</td>\n",
              "      <td>84</td>\n",
              "      <td>40</td>\n",
              "      <td>2</td>\n",
              "      <td>0</td>\n",
              "      <td>NaN</td>\n",
              "    </tr>\n",
              "    <tr>\n",
              "      <th>...</th>\n",
              "      <td>...</td>\n",
              "      <td>...</td>\n",
              "      <td>...</td>\n",
              "      <td>...</td>\n",
              "      <td>...</td>\n",
              "      <td>...</td>\n",
              "      <td>...</td>\n",
              "      <td>...</td>\n",
              "    </tr>\n",
              "    <tr>\n",
              "      <th>49020</th>\n",
              "      <td>2020-07-12</td>\n",
              "      <td>Tamil Nadu</td>\n",
              "      <td>Madurai</td>\n",
              "      <td>6078</td>\n",
              "      <td>2590</td>\n",
              "      <td>116</td>\n",
              "      <td>0</td>\n",
              "      <td>23092.0</td>\n",
              "    </tr>\n",
              "    <tr>\n",
              "      <th>49731</th>\n",
              "      <td>2020-07-13</td>\n",
              "      <td>Tamil Nadu</td>\n",
              "      <td>Madurai</td>\n",
              "      <td>6539</td>\n",
              "      <td>2616</td>\n",
              "      <td>120</td>\n",
              "      <td>0</td>\n",
              "      <td>23092.0</td>\n",
              "    </tr>\n",
              "    <tr>\n",
              "      <th>50442</th>\n",
              "      <td>2020-07-14</td>\n",
              "      <td>Tamil Nadu</td>\n",
              "      <td>Madurai</td>\n",
              "      <td>6990</td>\n",
              "      <td>2667</td>\n",
              "      <td>124</td>\n",
              "      <td>0</td>\n",
              "      <td>23092.0</td>\n",
              "    </tr>\n",
              "    <tr>\n",
              "      <th>51154</th>\n",
              "      <td>2020-07-15</td>\n",
              "      <td>Tamil Nadu</td>\n",
              "      <td>Madurai</td>\n",
              "      <td>7331</td>\n",
              "      <td>3855</td>\n",
              "      <td>129</td>\n",
              "      <td>0</td>\n",
              "      <td>23092.0</td>\n",
              "    </tr>\n",
              "    <tr>\n",
              "      <th>51868</th>\n",
              "      <td>2020-07-16</td>\n",
              "      <td>Tamil Nadu</td>\n",
              "      <td>Madurai</td>\n",
              "      <td>7597</td>\n",
              "      <td>4534</td>\n",
              "      <td>134</td>\n",
              "      <td>0</td>\n",
              "      <td>23092.0</td>\n",
              "    </tr>\n",
              "  </tbody>\n",
              "</table>\n",
              "<p>82 rows × 8 columns</p>\n",
              "</div>"
            ],
            "text/plain": [
              "             Date       State District  ...  Total Deceased  Migrated   Tested\n",
              "317    2020-04-26  Tamil Nadu  Madurai  ...               2         0      NaN\n",
              "750    2020-04-27  Tamil Nadu  Madurai  ...               2         0      NaN\n",
              "1194   2020-04-28  Tamil Nadu  Madurai  ...               2         0      NaN\n",
              "1642   2020-04-29  Tamil Nadu  Madurai  ...               2         0      NaN\n",
              "2091   2020-04-30  Tamil Nadu  Madurai  ...               2         0      NaN\n",
              "...           ...         ...      ...  ...             ...       ...      ...\n",
              "49020  2020-07-12  Tamil Nadu  Madurai  ...             116         0  23092.0\n",
              "49731  2020-07-13  Tamil Nadu  Madurai  ...             120         0  23092.0\n",
              "50442  2020-07-14  Tamil Nadu  Madurai  ...             124         0  23092.0\n",
              "51154  2020-07-15  Tamil Nadu  Madurai  ...             129         0  23092.0\n",
              "51868  2020-07-16  Tamil Nadu  Madurai  ...             134         0  23092.0\n",
              "\n",
              "[82 rows x 8 columns]"
            ]
          },
          "metadata": {
            "tags": []
          },
          "execution_count": 6
        }
      ]
    },
    {
      "cell_type": "code",
      "metadata": {
        "id": "9HAVwrAPvCQf",
        "colab_type": "code",
        "colab": {}
      },
      "source": [
        "TConfirmed = list(DF[\"Total Confirmed\"])\n",
        "DConfirmed = [None] * len(DF)\n",
        "i = 1\n",
        "while i < len(DF):\n",
        "    DConfirmed[i]=TConfirmed[i]-TConfirmed[i-1]\n",
        "    i += 1\n",
        "DF[\"Daily Confirmed\"]=DConfirmed\n",
        "DF[\"Day\"]=range(1,xx+1)\n",
        "i = range(0,len(DF))\n",
        "DF['Index']=i\n",
        "DF=DF.set_index('Index')"
      ],
      "execution_count": null,
      "outputs": []
    },
    {
      "cell_type": "code",
      "metadata": {
        "id": "NuLCQ-27iPjB",
        "colab_type": "code",
        "colab": {
          "base_uri": "https://localhost:8080/",
          "height": 126
        },
        "outputId": "a10149aa-a5e3-46b5-fa4b-0a61693be75a"
      },
      "source": [
        "xlen=len(DF)\n",
        "sp=round(xlen*0.9)\n",
        "DF['Date'] = pd.to_datetime(DF['Date'])\n",
        "DF.index"
      ],
      "execution_count": null,
      "outputs": [
        {
          "output_type": "execute_result",
          "data": {
            "text/plain": [
              "Int64Index([ 0,  1,  2,  3,  4,  5,  6,  7,  8,  9, 10, 11, 12, 13, 14, 15, 16,\n",
              "            17, 18, 19, 20, 21, 22, 23, 24, 25, 26, 27, 28, 29, 30, 31, 32, 33,\n",
              "            34, 35, 36, 37, 38, 39, 40, 41, 42, 43, 44, 45, 46, 47, 48, 49, 50,\n",
              "            51, 52, 53, 54, 55, 56, 57, 58, 59, 60, 61, 62, 63, 64, 65, 66, 67,\n",
              "            68, 69, 70, 71, 72, 73, 74, 75, 76, 77, 78, 79, 80, 81],\n",
              "           dtype='int64', name='Index')"
            ]
          },
          "metadata": {
            "tags": []
          },
          "execution_count": 31
        }
      ]
    },
    {
      "cell_type": "code",
      "metadata": {
        "id": "RszYUwzjDK_M",
        "colab_type": "code",
        "colab": {
          "base_uri": "https://localhost:8080/",
          "height": 499
        },
        "outputId": "ef751224-e6dd-4be0-9012-85e9dfbb40a4"
      },
      "source": [
        "import matplotlib.pyplot as plt\n",
        "train_data, test_data = DF[0:sp], DF[sp:]\n",
        "fig= plt.figure(figsize=(18,7))\n",
        "axes= fig.add_axes([0.1,0.1,0.8,0.8])\n",
        "#plt.figure(figsize=(12,7))\n",
        "plt.title('Daily Confirmed')\n",
        "plt.xlabel('Dates')\n",
        "plt.ylabel('Daily Confirmed')\n",
        "plt.plot(DF['Daily Confirmed'], 'blue', label='Training Data')\n",
        "plt.plot(test_data['Daily Confirmed'], 'green', label='Testing Data')\n",
        "plt.xticks(np.arange(0,sp,xlen), DF['Date'][0:sp:xlen])\n",
        "plt.legend()"
      ],
      "execution_count": null,
      "outputs": [
        {
          "output_type": "execute_result",
          "data": {
            "text/plain": [
              "<matplotlib.legend.Legend at 0x7f8c23578160>"
            ]
          },
          "metadata": {
            "tags": []
          },
          "execution_count": 32
        },
        {
          "output_type": "display_data",
          "data": {
            "image/png": "[encoded data removed]",
            "text/plain": [
              "<Figure size 1296x504 with 1 Axes>"
            ]
          },
          "metadata": {
            "tags": [],
            "needs_background": "light"
          }
        }
      ]
    },
    {
      "cell_type": "code",
      "metadata": {
        "id": "GrCvbHywdfzf",
        "colab_type": "code",
        "colab": {}
      },
      "source": [
        "def smape_kun(y_true, y_pred):\n",
        "    return np.mean((np.abs(y_pred - y_true) * 200/ (np.abs(y_pred) +       np.abs(y_true))))"
      ],
      "execution_count": null,
      "outputs": []
    },
    {
      "cell_type": "code",
      "metadata": {
        "id": "e5ajmKd5fHme",
        "colab_type": "code",
        "colab": {
          "base_uri": "https://localhost:8080/",
          "height": 165
        },
        "outputId": "ff61d77e-f92c-4f58-eb4f-754722fc425c"
      },
      "source": [
        "from statsmodels.tsa.arima_model import ARIMA\n",
        "from statsmodels.tsa.statespace.sarimax import SARIMAX\n",
        "from sklearn.metrics import mean_squared_error\n",
        "train_ar = train_data['Daily Confirmed'].values\n",
        "test_ar = test_data['Daily Confirmed'].values\n",
        "history = [x for x in train_ar]\n",
        "print(type(history))\n",
        "predictions = list()\n",
        "for t in range(len(test_ar)):\n",
        "    my_order = (1, 1, 1)\n",
        "    my_seasonal_order = (1, 1, 1, 12)\n",
        "    model = SARIMAX(history, order=my_order, seasonal_order=my_seasonal_order)\n",
        "    #model = ARIMA(history, order=(5,1,0))\n",
        "    model_fit = model.fit(disp=0)\n",
        "    output = model_fit.forecast()\n",
        "    yhat = output[0]\n",
        "    predictions.append(yhat)\n",
        "    obs = test_ar[t]\n",
        "    history.append(obs)\n",
        "error = mean_squared_error(test_ar, predictions)\n",
        "print('Testing Mean Squared Error: %.3f' % error)\n",
        "error2 = smape_kun(test_ar, predictions)\n",
        "print('Symmetric mean absolute percentage error: %.3f' % error2)\n",
        "\n"
      ],
      "execution_count": null,
      "outputs": [
        {
          "output_type": "stream",
          "text": [
            "<class 'list'>\n"
          ],
          "name": "stdout"
        },
        {
          "output_type": "stream",
          "text": [
            "/usr/local/lib/python3.6/dist-packages/statsmodels/tsa/statespace/sarimax.py:949: UserWarning: Non-stationary starting autoregressive parameters found. Using zeros as starting parameters.\n",
            "  warn('Non-stationary starting autoregressive parameters'\n",
            "/usr/local/lib/python3.6/dist-packages/statsmodels/tsa/statespace/sarimax.py:961: UserWarning: Non-invertible starting MA parameters found. Using zeros as starting parameters.\n",
            "  warn('Non-invertible starting MA parameters found.'\n"
          ],
          "name": "stderr"
        },
        {
          "output_type": "stream",
          "text": [
            "Testing Mean Squared Error: 13394.674\n",
            "Symmetric mean absolute percentage error: 33.640\n"
          ],
          "name": "stdout"
        }
      ]
    },
    {
      "cell_type": "code",
      "metadata": {
        "id": "7lE2fcPUpDEd",
        "colab_type": "code",
        "colab": {}
      },
      "source": [
        "f=[]\n",
        "def forecast(x) :\n",
        "  f = model_fit.forecast(steps=x)\n",
        "  f = np.round(f)\n",
        "  return f"
      ],
      "execution_count": null,
      "outputs": []
    },
    {
      "cell_type": "code",
      "metadata": {
        "id": "1j46gZcwmaL7",
        "colab_type": "code",
        "colab": {
          "base_uri": "https://localhost:8080/",
          "height": 35
        },
        "outputId": "0f6cb769-c85e-4e11-f4b4-859c0de9310d"
      },
      "source": [
        "forecast(5)"
      ],
      "execution_count": null,
      "outputs": [
        {
          "output_type": "execute_result",
          "data": {
            "text/plain": [
              "array([409., 391., 346., 434., 456.])"
            ]
          },
          "metadata": {
            "tags": []
          },
          "execution_count": 36
        }
      ]
    },
    {
      "cell_type": "code",
      "metadata": {
        "id": "tF-ytoxZSfPP",
        "colab_type": "code",
        "colab": {}
      },
      "source": [
        "df=DF"
      ],
      "execution_count": null,
      "outputs": []
    },
    {
      "cell_type": "code",
      "metadata": {
        "id": "a6pnjYu1f4IY",
        "colab_type": "code",
        "colab": {
          "base_uri": "https://localhost:8080/",
          "height": 476
        },
        "outputId": "ba6c0110-64af-4b91-c1ec-8196d4fc94b9"
      },
      "source": [
        "plt.figure(figsize=(12,7))\n",
        "plt.plot(df['Daily Confirmed'], 'green', color='blue', label='Training Data')\n",
        "plt.plot(test_data.index, predictions, color='green', marker='o', linestyle='dashed', \n",
        "         label='Predicted Price')\n",
        "plt.plot(test_data.index, test_data['Daily Confirmed'], color='red', label='Actual Price')\n",
        "plt.title('Daily Confirmed Prediction')\n",
        "plt.xlabel('Dates')\n",
        "plt.ylabel('Daily Confirmed')\n",
        "plt.xticks(np.arange(0,sp,xlen), df['Date'][0:sp:xlen])\n",
        "plt.legend()"
      ],
      "execution_count": null,
      "outputs": [
        {
          "output_type": "execute_result",
          "data": {
            "text/plain": [
              "<matplotlib.legend.Legend at 0x7f8c233f9908>"
            ]
          },
          "metadata": {
            "tags": []
          },
          "execution_count": 38
        },
        {
          "output_type": "display_data",
          "data": {
            "image/png": "[encoded data removed]",
            "text/plain": [
              "<Figure size 864x504 with 1 Axes>"
            ]
          },
          "metadata": {
            "tags": [],
            "needs_background": "light"
          }
        }
      ]
    },
    {
      "cell_type": "code",
      "metadata": {
        "id": "iASB49r3iPjG",
        "colab_type": "code",
        "colab": {}
      },
      "source": [
        "df2 = DF.tail(17)\n",
        "df1 =DF.tail(10)"
      ],
      "execution_count": null,
      "outputs": []
    },
    {
      "cell_type": "code",
      "metadata": {
        "id": "Mjoq0R4PiPjc",
        "colab_type": "code",
        "colab": {}
      },
      "source": [
        "X1 = np.array(df1['Day'])\n",
        "X2 = np.array(df2['Day'])\n",
        "#Y1 = np.array(df1['Total Confirmed'])\n",
        "#Y2 = np.array(df1['Total Recovered'])\n",
        "#Y3 = np.array(df1['Total Deceased'])\n",
        "Y1 = np.log(df1['Total Confirmed'])\n",
        "Y1 = np.array(Y1)\n",
        "Y2 = np.log(df1['Total Recovered'])\n",
        "Y2 = np.array(Y2)\n",
        "Y3 = np.log(df1['Total Deceased'])\n",
        "Y3 = np.array(Y3)\n",
        "#Y4 = np.array(df2['Daily Confirmed'])\n",
        "\n",
        "Y4 =np.log(df2['Daily Confirmed'])\n",
        "Y4 = np.array(Y4)\n"
      ],
      "execution_count": null,
      "outputs": []
    },
    {
      "cell_type": "code",
      "metadata": {
        "id": "DcOlR4igiPji",
        "colab_type": "code",
        "colab": {
          "base_uri": "https://localhost:8080/",
          "height": 108
        },
        "outputId": "3442a24d-45dc-498a-ff9c-65fbd4af7658"
      },
      "source": [
        "from sklearn.linear_model import LinearRegression\n",
        "X1=X1.reshape(-1, 1)\n",
        "X2=X2.reshape(-1, 1)\n",
        "Y1=Y1.reshape(-1, 1)\n",
        "Y2=Y2.reshape(-1, 1)\n",
        "Y3=Y3.reshape(-1, 1)\n",
        "Y4=Y4.reshape(-1, 1)\n",
        "\n",
        "reg1 = LinearRegression().fit(X1, Y1)\n",
        "reg2 = LinearRegression().fit(X1, Y2)\n",
        "reg3 = LinearRegression().fit(X1, Y3)\n",
        "reg4 = LinearRegression().fit(X2, Y4)\n",
        "\n",
        "\n",
        "logb1 = reg1.coef_\n",
        "loga1 = reg1.intercept_\n",
        "a1 = np.exp(loga1)\n",
        "b1 = np.exp(logb1)\n",
        "\n",
        "logb2 = reg2.coef_\n",
        "loga2 = reg2.intercept_\n",
        "a2 = np.exp(loga2)\n",
        "b2 = np.exp(logb2)\n",
        "\n",
        "logb3 = reg3.coef_\n",
        "loga3 = reg3.intercept_\n",
        "a3 = np.exp(loga3)\n",
        "b3 = np.exp(logb3)\n",
        "\n",
        "logb4 = reg4.coef_\n",
        "loga4 = reg4.intercept_\n",
        "a4 = np.exp(loga4)\n",
        "b4 = np.exp(logb4)\n",
        "\n",
        "\n",
        "\n",
        "#print(\"Based on Last 20 Days Data\")\n",
        "#print (\"Total Confirmed Accuracy\", reg1.score(X1, Y1)*100)\n",
        "print (\"coefficient of determination for Total Confirmed\", reg1.score(X1, Y1)*100)\n",
        "print (\"coefficient of determination for Total Recovered \", reg2.score(X1, Y2)*100)\n",
        "print (\"coefficient of determination for Total Deceased \", reg3.score(X1, Y3)*100)\n",
        "print(\"coefficient of determination for Based on Last 30 Days Data\")\n",
        "print (\"coefficient of determination for Daily Confirmed \", reg4.score(X2, Y4)*100)\n",
        "#print (\"coefficient of determination for Daily Recovered \", reg5.score(X2, Y5)*100)\n",
        "#print (\"coefficient of determination for Daily Deceased \", reg6.score(X2, Y6)*100)\n"
      ],
      "execution_count": null,
      "outputs": [
        {
          "output_type": "stream",
          "text": [
            "coefficient of determination for Total Confirmed 99.39339733389798\n",
            "coefficient of determination for Total Recovered  94.21302893945857\n",
            "coefficient of determination for Total Deceased  94.95576290522106\n",
            "coefficient of determination for Based on Last 30 Days Data\n",
            "coefficient of determination for Daily Confirmed  6.654045066507885\n"
          ],
          "name": "stdout"
        }
      ]
    },
    {
      "cell_type": "code",
      "metadata": {
        "id": "Sfz63JT2iPjn",
        "colab_type": "code",
        "colab": {
          "base_uri": "https://localhost:8080/",
          "height": 198
        },
        "outputId": "3665a2f9-2258-4b85-d1dc-e544d1547a93"
      },
      "source": [
        "drange = 15\n",
        "start =len(df) +1\n",
        "dval = np.arange(start,start+drange,1)\n",
        "dval= np.array(dval)\n",
        "val= dval\n",
        "dval=dval.reshape(-1, 1)\n",
        "\n",
        "start1 =len(DF)\n",
        "dval1 = np.arange(start1,start1+drange,1)\n",
        "dval1= np.array(dval1)\n",
        "val1= dval1\n",
        "dval1=dval1.reshape(-1, 1)\n",
        "import datetime\n",
        "base = datetime.date.today() - datetime.timedelta(days=1)\n",
        "date_list = [base + datetime.timedelta(days=x) for x in range(drange)]\n",
        "\n",
        "DConfirmed = forecast(drange+1)\n",
        "DConfirmed =DConfirmed[:-1]\n",
        "#DConfirmed = np.round_(np.multiply(a4,(np.power(b4,val))))\n",
        "TConfirmed = np.round_(np.multiply(a1,(np.power(b1,val1))))\n",
        "#TConfirmed = np.round_(reg1.predict(dval1))\n",
        "#DRecovered = np.round_(np.multiply(a5,(np.power(b5,val))))\n",
        "#TRecovered = np.round_(np.multiply(a2,(np.power(b2,val1))))\n",
        "#TRecovered = np.round_(reg2.predict(dval1))\n",
        "#DDeceased = np.round_(np.multiply(a6,(np.power(b6,val))))\n",
        "#TDeceased = np.round_(np.multiply(a3,(np.power(b3,val1))))\n",
        "#TDeceased = np.round_(reg3.predict(dval1))\n",
        "\n",
        "# DConfirmed= DConfirmed.flatten()\n",
        "# TConfirmed= TConfirmed.flatten()\n",
        "# i = 1\n",
        "# while i < len(TConfirmed):\n",
        "#     DConfirmed[i]=TConfirmed[i]-TConfirmed[i-1]\n",
        "#     i += 1\n",
        "ii=len(DF)-1\n",
        "lastD = DF['Daily Confirmed'][ii]\n",
        "lastT = DF['Total Confirmed'][ii]\n",
        "lastDat = DF['Date'][ii]\n",
        "new_row = pd.DataFrame({'Daily Confirmed':lastD.flatten() ,\n",
        "                        'Total Confirmed':lastT.flatten(),\n",
        "                        'Date': pd.to_datetime(lastDat)\n",
        "                        })\n",
        "#DConfirmed[0]=DF['Total Confirmed'][0]-TConfirmed[0]\n",
        "dict = {\n",
        "        'Date' : date_list,\n",
        "        'Daily Confirmed': DConfirmed.flatten(), \n",
        "        'Total Confirmed': TConfirmed.flatten(), \n",
        "   #     'Daily Recovered': DRecovered.flatten() ,\n",
        "    #    'Total Recovered': TRecovered.flatten(),\n",
        "    #    'Daily Deceased' : DDeceased.flatten(),\n",
        "     #   'Total Deceased' : TDeceased.flatten(),\n",
        "        'Day' : dval1.flatten() ,\n",
        "       } \n",
        "final = pd.DataFrame(dict) \n",
        "final = pd.concat([new_row, final]).reset_index(drop = True) \n",
        "final['Date'] = pd.to_datetime(final['Date'])\n",
        "final.head(5) "
      ],
      "execution_count": null,
      "outputs": [
        {
          "output_type": "execute_result",
          "data": {
            "text/html": [
              "<div>\n",
              "<style scoped>\n",
              "    .dataframe tbody tr th:only-of-type {\n",
              "        vertical-align: middle;\n",
              "    }\n",
              "\n",
              "    .dataframe tbody tr th {\n",
              "        vertical-align: top;\n",
              "    }\n",
              "\n",
              "    .dataframe thead th {\n",
              "        text-align: right;\n",
              "    }\n",
              "</style>\n",
              "<table border=\"1\" class=\"dataframe\">\n",
              "  <thead>\n",
              "    <tr style=\"text-align: right;\">\n",
              "      <th></th>\n",
              "      <th>Daily Confirmed</th>\n",
              "      <th>Total Confirmed</th>\n",
              "      <th>Date</th>\n",
              "      <th>Day</th>\n",
              "    </tr>\n",
              "  </thead>\n",
              "  <tbody>\n",
              "    <tr>\n",
              "      <th>0</th>\n",
              "      <td>266.0</td>\n",
              "      <td>7597.0</td>\n",
              "      <td>2020-07-16</td>\n",
              "      <td>NaN</td>\n",
              "    </tr>\n",
              "    <tr>\n",
              "      <th>1</th>\n",
              "      <td>409.0</td>\n",
              "      <td>7665.0</td>\n",
              "      <td>2020-07-16</td>\n",
              "      <td>82.0</td>\n",
              "    </tr>\n",
              "    <tr>\n",
              "      <th>2</th>\n",
              "      <td>391.0</td>\n",
              "      <td>8092.0</td>\n",
              "      <td>2020-07-17</td>\n",
              "      <td>83.0</td>\n",
              "    </tr>\n",
              "    <tr>\n",
              "      <th>3</th>\n",
              "      <td>346.0</td>\n",
              "      <td>8542.0</td>\n",
              "      <td>2020-07-18</td>\n",
              "      <td>84.0</td>\n",
              "    </tr>\n",
              "    <tr>\n",
              "      <th>4</th>\n",
              "      <td>434.0</td>\n",
              "      <td>9018.0</td>\n",
              "      <td>2020-07-19</td>\n",
              "      <td>85.0</td>\n",
              "    </tr>\n",
              "  </tbody>\n",
              "</table>\n",
              "</div>"
            ],
            "text/plain": [
              "   Daily Confirmed  Total Confirmed       Date   Day\n",
              "0            266.0           7597.0 2020-07-16   NaN\n",
              "1            409.0           7665.0 2020-07-16  82.0\n",
              "2            391.0           8092.0 2020-07-17  83.0\n",
              "3            346.0           8542.0 2020-07-18  84.0\n",
              "4            434.0           9018.0 2020-07-19  85.0"
            ]
          },
          "metadata": {
            "tags": []
          },
          "execution_count": 67
        }
      ]
    },
    {
      "cell_type": "code",
      "metadata": {
        "scrolled": false,
        "id": "JP0V21beiPj8",
        "colab_type": "code",
        "colab": {
          "base_uri": "https://localhost:8080/",
          "height": 528
        },
        "outputId": "551df735-ae6e-4b5e-cc4b-b270c32e2126"
      },
      "source": [
        "final.head(20)"
      ],
      "execution_count": null,
      "outputs": [
        {
          "output_type": "execute_result",
          "data": {
            "text/html": [
              "<div>\n",
              "<style scoped>\n",
              "    .dataframe tbody tr th:only-of-type {\n",
              "        vertical-align: middle;\n",
              "    }\n",
              "\n",
              "    .dataframe tbody tr th {\n",
              "        vertical-align: top;\n",
              "    }\n",
              "\n",
              "    .dataframe thead th {\n",
              "        text-align: right;\n",
              "    }\n",
              "</style>\n",
              "<table border=\"1\" class=\"dataframe\">\n",
              "  <thead>\n",
              "    <tr style=\"text-align: right;\">\n",
              "      <th></th>\n",
              "      <th>Daily Confirmed</th>\n",
              "      <th>Total Confirmed</th>\n",
              "      <th>Date</th>\n",
              "      <th>Day</th>\n",
              "    </tr>\n",
              "  </thead>\n",
              "  <tbody>\n",
              "    <tr>\n",
              "      <th>0</th>\n",
              "      <td>266.0</td>\n",
              "      <td>7597.0</td>\n",
              "      <td>2020-07-16</td>\n",
              "      <td>NaN</td>\n",
              "    </tr>\n",
              "    <tr>\n",
              "      <th>1</th>\n",
              "      <td>409.0</td>\n",
              "      <td>7665.0</td>\n",
              "      <td>2020-07-16</td>\n",
              "      <td>82.0</td>\n",
              "    </tr>\n",
              "    <tr>\n",
              "      <th>2</th>\n",
              "      <td>391.0</td>\n",
              "      <td>8092.0</td>\n",
              "      <td>2020-07-17</td>\n",
              "      <td>83.0</td>\n",
              "    </tr>\n",
              "    <tr>\n",
              "      <th>3</th>\n",
              "      <td>346.0</td>\n",
              "      <td>8542.0</td>\n",
              "      <td>2020-07-18</td>\n",
              "      <td>84.0</td>\n",
              "    </tr>\n",
              "    <tr>\n",
              "      <th>4</th>\n",
              "      <td>434.0</td>\n",
              "      <td>9018.0</td>\n",
              "      <td>2020-07-19</td>\n",
              "      <td>85.0</td>\n",
              "    </tr>\n",
              "    <tr>\n",
              "      <th>5</th>\n",
              "      <td>456.0</td>\n",
              "      <td>9520.0</td>\n",
              "      <td>2020-07-20</td>\n",
              "      <td>86.0</td>\n",
              "    </tr>\n",
              "    <tr>\n",
              "      <th>6</th>\n",
              "      <td>395.0</td>\n",
              "      <td>10050.0</td>\n",
              "      <td>2020-07-21</td>\n",
              "      <td>87.0</td>\n",
              "    </tr>\n",
              "    <tr>\n",
              "      <th>7</th>\n",
              "      <td>390.0</td>\n",
              "      <td>10609.0</td>\n",
              "      <td>2020-07-22</td>\n",
              "      <td>88.0</td>\n",
              "    </tr>\n",
              "    <tr>\n",
              "      <th>8</th>\n",
              "      <td>444.0</td>\n",
              "      <td>11200.0</td>\n",
              "      <td>2020-07-23</td>\n",
              "      <td>89.0</td>\n",
              "    </tr>\n",
              "    <tr>\n",
              "      <th>9</th>\n",
              "      <td>445.0</td>\n",
              "      <td>11824.0</td>\n",
              "      <td>2020-07-24</td>\n",
              "      <td>90.0</td>\n",
              "    </tr>\n",
              "    <tr>\n",
              "      <th>10</th>\n",
              "      <td>539.0</td>\n",
              "      <td>12482.0</td>\n",
              "      <td>2020-07-25</td>\n",
              "      <td>91.0</td>\n",
              "    </tr>\n",
              "    <tr>\n",
              "      <th>11</th>\n",
              "      <td>526.0</td>\n",
              "      <td>13177.0</td>\n",
              "      <td>2020-07-26</td>\n",
              "      <td>92.0</td>\n",
              "    </tr>\n",
              "    <tr>\n",
              "      <th>12</th>\n",
              "      <td>475.0</td>\n",
              "      <td>13910.0</td>\n",
              "      <td>2020-07-27</td>\n",
              "      <td>93.0</td>\n",
              "    </tr>\n",
              "    <tr>\n",
              "      <th>13</th>\n",
              "      <td>540.0</td>\n",
              "      <td>14685.0</td>\n",
              "      <td>2020-07-28</td>\n",
              "      <td>94.0</td>\n",
              "    </tr>\n",
              "    <tr>\n",
              "      <th>14</th>\n",
              "      <td>514.0</td>\n",
              "      <td>15502.0</td>\n",
              "      <td>2020-07-29</td>\n",
              "      <td>95.0</td>\n",
              "    </tr>\n",
              "    <tr>\n",
              "      <th>15</th>\n",
              "      <td>465.0</td>\n",
              "      <td>16365.0</td>\n",
              "      <td>2020-07-30</td>\n",
              "      <td>96.0</td>\n",
              "    </tr>\n",
              "  </tbody>\n",
              "</table>\n",
              "</div>"
            ],
            "text/plain": [
              "    Daily Confirmed  Total Confirmed       Date   Day\n",
              "0             266.0           7597.0 2020-07-16   NaN\n",
              "1             409.0           7665.0 2020-07-16  82.0\n",
              "2             391.0           8092.0 2020-07-17  83.0\n",
              "3             346.0           8542.0 2020-07-18  84.0\n",
              "4             434.0           9018.0 2020-07-19  85.0\n",
              "5             456.0           9520.0 2020-07-20  86.0\n",
              "6             395.0          10050.0 2020-07-21  87.0\n",
              "7             390.0          10609.0 2020-07-22  88.0\n",
              "8             444.0          11200.0 2020-07-23  89.0\n",
              "9             445.0          11824.0 2020-07-24  90.0\n",
              "10            539.0          12482.0 2020-07-25  91.0\n",
              "11            526.0          13177.0 2020-07-26  92.0\n",
              "12            475.0          13910.0 2020-07-27  93.0\n",
              "13            540.0          14685.0 2020-07-28  94.0\n",
              "14            514.0          15502.0 2020-07-29  95.0\n",
              "15            465.0          16365.0 2020-07-30  96.0"
            ]
          },
          "metadata": {
            "tags": []
          },
          "execution_count": 68
        }
      ]
    },
    {
      "cell_type": "code",
      "metadata": {
        "id": "MIc30m89iPj2",
        "colab_type": "code",
        "colab": {
          "base_uri": "https://localhost:8080/",
          "height": 465
        },
        "outputId": "25bbade1-10d1-448b-d713-57fc41cd5ed7"
      },
      "source": [
        "%matplotlib inline\n",
        "import matplotlib.pyplot as plt\n",
        "\n",
        "fig= plt.figure(figsize=(18,7))\n",
        "\n",
        "axes= fig.add_axes([0.1,0.1,0.8,0.8])\n",
        "\n",
        "time = df['Date']\n",
        "position =df['Daily Confirmed']\n",
        "\n",
        "time1 = final['Date']\n",
        "position1 = final['Daily Confirmed']\n",
        "\n",
        "axes.plot(time, position)\n",
        "axes.plot(time1, position1)\n",
        "plt.xlabel('Date')\n",
        "plt.ylabel('Daily Confirmed')\n",
        "\n",
        "plt.show()\n",
        "fig.savefig('MDU_Daily.png')\n"
      ],
      "execution_count": null,
      "outputs": [
        {
          "output_type": "display_data",
          "data": {
            "image/png": "[encoded data removed]",
            "text/plain": [
              "<Figure size 1296x504 with 1 Axes>"
            ]
          },
          "metadata": {
            "tags": [],
            "needs_background": "light"
          }
        }
      ]
    },
    {
      "cell_type": "code",
      "metadata": {
        "id": "Vv_G9jA3iPkM",
        "colab_type": "code",
        "colab": {
          "base_uri": "https://localhost:8080/",
          "height": 753
        },
        "outputId": "a50ec09f-890b-40aa-b018-b99f54a36ac4"
      },
      "source": [
        "%matplotlib inline\n",
        "import matplotlib.pyplot as plt\n",
        "\n",
        "fig= plt.figure(figsize=(16,12))\n",
        "\n",
        "axes= fig.add_axes([0.1,0.1,0.8,0.8])\n",
        "\n",
        "time = DF['Date']\n",
        "position =DF['Total Confirmed']\n",
        "\n",
        "time1 = final['Date']\n",
        "position1 = final['Total Confirmed']\n",
        "axes.plot(time, position)\n",
        "axes.plot(time1, position1)\n",
        "\n",
        "plt.xlabel('Date')\n",
        "plt.ylabel('Total Confirmed')\n",
        "fig.savefig('MDU_Total.png')"
      ],
      "execution_count": null,
      "outputs": [
        {
          "output_type": "display_data",
          "data": {
            "image/png": "[encoded data removed]",
            "text/plain": [
              "<Figure size 1152x864 with 1 Axes>"
            ]
          },
          "metadata": {
            "tags": [],
            "needs_background": "light"
          }
        }
      ]
    },
    {
      "cell_type": "code",
      "metadata": {
        "id": "-DvbESqPiPkV",
        "colab_type": "code",
        "colab": {
          "base_uri": "https://localhost:8080/",
          "height": 198
        },
        "outputId": "49a70cd0-ba89-486e-8ff7-90b8c3b340a0"
      },
      "source": [
        "#save to Csv\n",
        "final = final.iloc[1:]\n",
        "final.to_csv(\"predictMDU.csv\")\n",
        "pr=pd.read_csv('predictMDU.csv')\n",
        "pr.head()"
      ],
      "execution_count": null,
      "outputs": [
        {
          "output_type": "execute_result",
          "data": {
            "text/html": [
              "<div>\n",
              "<style scoped>\n",
              "    .dataframe tbody tr th:only-of-type {\n",
              "        vertical-align: middle;\n",
              "    }\n",
              "\n",
              "    .dataframe tbody tr th {\n",
              "        vertical-align: top;\n",
              "    }\n",
              "\n",
              "    .dataframe thead th {\n",
              "        text-align: right;\n",
              "    }\n",
              "</style>\n",
              "<table border=\"1\" class=\"dataframe\">\n",
              "  <thead>\n",
              "    <tr style=\"text-align: right;\">\n",
              "      <th></th>\n",
              "      <th>Unnamed: 0</th>\n",
              "      <th>Daily Confirmed</th>\n",
              "      <th>Total Confirmed</th>\n",
              "      <th>Date</th>\n",
              "      <th>Day</th>\n",
              "    </tr>\n",
              "  </thead>\n",
              "  <tbody>\n",
              "    <tr>\n",
              "      <th>0</th>\n",
              "      <td>1</td>\n",
              "      <td>409.0</td>\n",
              "      <td>7718.0</td>\n",
              "      <td>2020-07-17</td>\n",
              "      <td>82.0</td>\n",
              "    </tr>\n",
              "    <tr>\n",
              "      <th>1</th>\n",
              "      <td>2</td>\n",
              "      <td>457.0</td>\n",
              "      <td>8175.0</td>\n",
              "      <td>2020-07-18</td>\n",
              "      <td>83.0</td>\n",
              "    </tr>\n",
              "    <tr>\n",
              "      <th>2</th>\n",
              "      <td>3</td>\n",
              "      <td>485.0</td>\n",
              "      <td>8660.0</td>\n",
              "      <td>2020-07-19</td>\n",
              "      <td>84.0</td>\n",
              "    </tr>\n",
              "    <tr>\n",
              "      <th>3</th>\n",
              "      <td>4</td>\n",
              "      <td>513.0</td>\n",
              "      <td>9173.0</td>\n",
              "      <td>2020-07-20</td>\n",
              "      <td>85.0</td>\n",
              "    </tr>\n",
              "    <tr>\n",
              "      <th>4</th>\n",
              "      <td>5</td>\n",
              "      <td>544.0</td>\n",
              "      <td>9717.0</td>\n",
              "      <td>2020-07-21</td>\n",
              "      <td>86.0</td>\n",
              "    </tr>\n",
              "  </tbody>\n",
              "</table>\n",
              "</div>"
            ],
            "text/plain": [
              "   Unnamed: 0  Daily Confirmed  Total Confirmed        Date   Day\n",
              "0           1            409.0           7718.0  2020-07-17  82.0\n",
              "1           2            457.0           8175.0  2020-07-18  83.0\n",
              "2           3            485.0           8660.0  2020-07-19  84.0\n",
              "3           4            513.0           9173.0  2020-07-20  85.0\n",
              "4           5            544.0           9717.0  2020-07-21  86.0"
            ]
          },
          "metadata": {
            "tags": []
          },
          "execution_count": 55
        }
      ]
    },
    {
      "cell_type": "code",
      "metadata": {
        "id": "QXS1G3NPA7Md",
        "colab_type": "code",
        "colab": {
          "base_uri": "https://localhost:8080/",
          "height": 407
        },
        "outputId": "e40a5fa8-0b69-4ec4-8d91-bb35c8ee4b9b"
      },
      "source": [
        "df1=df.loc[df['District'] == \"Bengaluru Urban\"]\n",
        "df1"
      ],
      "execution_count": 43,
      "outputs": [
        {
          "output_type": "execute_result",
          "data": {
            "text/html": [
              "<div>\n",
              "<style scoped>\n",
              "    .dataframe tbody tr th:only-of-type {\n",
              "        vertical-align: middle;\n",
              "    }\n",
              "\n",
              "    .dataframe tbody tr th {\n",
              "        vertical-align: top;\n",
              "    }\n",
              "\n",
              "    .dataframe thead th {\n",
              "        text-align: right;\n",
              "    }\n",
              "</style>\n",
              "<table border=\"1\" class=\"dataframe\">\n",
              "  <thead>\n",
              "    <tr style=\"text-align: right;\">\n",
              "      <th></th>\n",
              "      <th>Date</th>\n",
              "      <th>State</th>\n",
              "      <th>District</th>\n",
              "      <th>Confirmed</th>\n",
              "      <th>Recovered</th>\n",
              "      <th>Deceased</th>\n",
              "      <th>Migrated</th>\n",
              "      <th>Tested</th>\n",
              "    </tr>\n",
              "  </thead>\n",
              "  <tbody>\n",
              "    <tr>\n",
              "      <th>145</th>\n",
              "      <td>2020-04-26</td>\n",
              "      <td>Karnataka</td>\n",
              "      <td>Bengaluru Urban</td>\n",
              "      <td>129</td>\n",
              "      <td>53</td>\n",
              "      <td>5</td>\n",
              "      <td>0</td>\n",
              "      <td>NaN</td>\n",
              "    </tr>\n",
              "    <tr>\n",
              "      <th>574</th>\n",
              "      <td>2020-04-27</td>\n",
              "      <td>Karnataka</td>\n",
              "      <td>Bengaluru Urban</td>\n",
              "      <td>130</td>\n",
              "      <td>53</td>\n",
              "      <td>5</td>\n",
              "      <td>1</td>\n",
              "      <td>NaN</td>\n",
              "    </tr>\n",
              "    <tr>\n",
              "      <th>1014</th>\n",
              "      <td>2020-04-28</td>\n",
              "      <td>Karnataka</td>\n",
              "      <td>Bengaluru Urban</td>\n",
              "      <td>131</td>\n",
              "      <td>58</td>\n",
              "      <td>5</td>\n",
              "      <td>1</td>\n",
              "      <td>NaN</td>\n",
              "    </tr>\n",
              "    <tr>\n",
              "      <th>1458</th>\n",
              "      <td>2020-04-29</td>\n",
              "      <td>Karnataka</td>\n",
              "      <td>Bengaluru Urban</td>\n",
              "      <td>131</td>\n",
              "      <td>58</td>\n",
              "      <td>5</td>\n",
              "      <td>1</td>\n",
              "      <td>NaN</td>\n",
              "    </tr>\n",
              "    <tr>\n",
              "      <th>1906</th>\n",
              "      <td>2020-04-30</td>\n",
              "      <td>Karnataka</td>\n",
              "      <td>Bengaluru Urban</td>\n",
              "      <td>141</td>\n",
              "      <td>61</td>\n",
              "      <td>5</td>\n",
              "      <td>1</td>\n",
              "      <td>NaN</td>\n",
              "    </tr>\n",
              "    <tr>\n",
              "      <th>...</th>\n",
              "      <td>...</td>\n",
              "      <td>...</td>\n",
              "      <td>...</td>\n",
              "      <td>...</td>\n",
              "      <td>...</td>\n",
              "      <td>...</td>\n",
              "      <td>...</td>\n",
              "      <td>...</td>\n",
              "    </tr>\n",
              "    <tr>\n",
              "      <th>53000</th>\n",
              "      <td>2020-07-18</td>\n",
              "      <td>Karnataka</td>\n",
              "      <td>Bengaluru Urban</td>\n",
              "      <td>29619</td>\n",
              "      <td>6541</td>\n",
              "      <td>631</td>\n",
              "      <td>1</td>\n",
              "      <td>190536.0</td>\n",
              "    </tr>\n",
              "    <tr>\n",
              "      <th>53714</th>\n",
              "      <td>2020-07-19</td>\n",
              "      <td>Karnataka</td>\n",
              "      <td>Bengaluru Urban</td>\n",
              "      <td>31775</td>\n",
              "      <td>6794</td>\n",
              "      <td>667</td>\n",
              "      <td>1</td>\n",
              "      <td>190536.0</td>\n",
              "    </tr>\n",
              "    <tr>\n",
              "      <th>54427</th>\n",
              "      <td>2020-07-20</td>\n",
              "      <td>Karnataka</td>\n",
              "      <td>Bengaluru Urban</td>\n",
              "      <td>33227</td>\n",
              "      <td>6957</td>\n",
              "      <td>698</td>\n",
              "      <td>1</td>\n",
              "      <td>219959.0</td>\n",
              "    </tr>\n",
              "    <tr>\n",
              "      <th>55140</th>\n",
              "      <td>2020-07-21</td>\n",
              "      <td>Karnataka</td>\n",
              "      <td>Bengaluru Urban</td>\n",
              "      <td>34941</td>\n",
              "      <td>7477</td>\n",
              "      <td>720</td>\n",
              "      <td>1</td>\n",
              "      <td>227134.0</td>\n",
              "    </tr>\n",
              "    <tr>\n",
              "      <th>55854</th>\n",
              "      <td>2020-07-22</td>\n",
              "      <td>Karnataka</td>\n",
              "      <td>Bengaluru Urban</td>\n",
              "      <td>34941</td>\n",
              "      <td>7477</td>\n",
              "      <td>720</td>\n",
              "      <td>1</td>\n",
              "      <td>227134.0</td>\n",
              "    </tr>\n",
              "  </tbody>\n",
              "</table>\n",
              "<p>88 rows × 8 columns</p>\n",
              "</div>"
            ],
            "text/plain": [
              "             Date      State         District  ...  Deceased  Migrated    Tested\n",
              "145    2020-04-26  Karnataka  Bengaluru Urban  ...         5         0       NaN\n",
              "574    2020-04-27  Karnataka  Bengaluru Urban  ...         5         1       NaN\n",
              "1014   2020-04-28  Karnataka  Bengaluru Urban  ...         5         1       NaN\n",
              "1458   2020-04-29  Karnataka  Bengaluru Urban  ...         5         1       NaN\n",
              "1906   2020-04-30  Karnataka  Bengaluru Urban  ...         5         1       NaN\n",
              "...           ...        ...              ...  ...       ...       ...       ...\n",
              "53000  2020-07-18  Karnataka  Bengaluru Urban  ...       631         1  190536.0\n",
              "53714  2020-07-19  Karnataka  Bengaluru Urban  ...       667         1  190536.0\n",
              "54427  2020-07-20  Karnataka  Bengaluru Urban  ...       698         1  219959.0\n",
              "55140  2020-07-21  Karnataka  Bengaluru Urban  ...       720         1  227134.0\n",
              "55854  2020-07-22  Karnataka  Bengaluru Urban  ...       720         1  227134.0\n",
              "\n",
              "[88 rows x 8 columns]"
            ]
          },
          "metadata": {
            "tags": []
          },
          "execution_count": 43
        }
      ]
    },
    {
      "cell_type": "code",
      "metadata": {
        "id": "N4qaDTshBBse",
        "colab_type": "code",
        "colab": {
          "base_uri": "https://localhost:8080/",
          "height": 108
        },
        "outputId": "096be938-08d0-4c05-847c-42962cb5cca2"
      },
      "source": [
        "df1.rename(columns={'Confirmed':'Total Confirmed',\n",
        "                          'Recovered':'Total Recovered',\n",
        "                          'Deceased':'Total Deceased'}, \n",
        "                 inplace=True)\n",
        "xx=len(df1) - 1\n",
        "df1=df1.head(xx)"
      ],
      "execution_count": 44,
      "outputs": [
        {
          "output_type": "stream",
          "text": [
            "/usr/local/lib/python3.6/dist-packages/pandas/core/frame.py:4133: SettingWithCopyWarning: \n",
            "A value is trying to be set on a copy of a slice from a DataFrame\n",
            "\n",
            "See the caveats in the documentation: https://pandas.pydata.org/pandas-docs/stable/user_guide/indexing.html#returning-a-view-versus-a-copy\n",
            "  errors=errors,\n"
          ],
          "name": "stderr"
        }
      ]
    },
    {
      "cell_type": "code",
      "metadata": {
        "id": "2h3w8UxF9kQj",
        "colab_type": "code",
        "colab": {
          "base_uri": "https://localhost:8080/",
          "height": 407
        },
        "outputId": "fc06263f-634c-4422-ad31-8f0a27805a2f"
      },
      "source": [
        "df1"
      ],
      "execution_count": 45,
      "outputs": [
        {
          "output_type": "execute_result",
          "data": {
            "text/html": [
              "<div>\n",
              "<style scoped>\n",
              "    .dataframe tbody tr th:only-of-type {\n",
              "        vertical-align: middle;\n",
              "    }\n",
              "\n",
              "    .dataframe tbody tr th {\n",
              "        vertical-align: top;\n",
              "    }\n",
              "\n",
              "    .dataframe thead th {\n",
              "        text-align: right;\n",
              "    }\n",
              "</style>\n",
              "<table border=\"1\" class=\"dataframe\">\n",
              "  <thead>\n",
              "    <tr style=\"text-align: right;\">\n",
              "      <th></th>\n",
              "      <th>Date</th>\n",
              "      <th>State</th>\n",
              "      <th>District</th>\n",
              "      <th>Total Confirmed</th>\n",
              "      <th>Total Recovered</th>\n",
              "      <th>Total Deceased</th>\n",
              "      <th>Migrated</th>\n",
              "      <th>Tested</th>\n",
              "    </tr>\n",
              "  </thead>\n",
              "  <tbody>\n",
              "    <tr>\n",
              "      <th>145</th>\n",
              "      <td>2020-04-26</td>\n",
              "      <td>Karnataka</td>\n",
              "      <td>Bengaluru Urban</td>\n",
              "      <td>129</td>\n",
              "      <td>53</td>\n",
              "      <td>5</td>\n",
              "      <td>0</td>\n",
              "      <td>NaN</td>\n",
              "    </tr>\n",
              "    <tr>\n",
              "      <th>574</th>\n",
              "      <td>2020-04-27</td>\n",
              "      <td>Karnataka</td>\n",
              "      <td>Bengaluru Urban</td>\n",
              "      <td>130</td>\n",
              "      <td>53</td>\n",
              "      <td>5</td>\n",
              "      <td>1</td>\n",
              "      <td>NaN</td>\n",
              "    </tr>\n",
              "    <tr>\n",
              "      <th>1014</th>\n",
              "      <td>2020-04-28</td>\n",
              "      <td>Karnataka</td>\n",
              "      <td>Bengaluru Urban</td>\n",
              "      <td>131</td>\n",
              "      <td>58</td>\n",
              "      <td>5</td>\n",
              "      <td>1</td>\n",
              "      <td>NaN</td>\n",
              "    </tr>\n",
              "    <tr>\n",
              "      <th>1458</th>\n",
              "      <td>2020-04-29</td>\n",
              "      <td>Karnataka</td>\n",
              "      <td>Bengaluru Urban</td>\n",
              "      <td>131</td>\n",
              "      <td>58</td>\n",
              "      <td>5</td>\n",
              "      <td>1</td>\n",
              "      <td>NaN</td>\n",
              "    </tr>\n",
              "    <tr>\n",
              "      <th>1906</th>\n",
              "      <td>2020-04-30</td>\n",
              "      <td>Karnataka</td>\n",
              "      <td>Bengaluru Urban</td>\n",
              "      <td>141</td>\n",
              "      <td>61</td>\n",
              "      <td>5</td>\n",
              "      <td>1</td>\n",
              "      <td>NaN</td>\n",
              "    </tr>\n",
              "    <tr>\n",
              "      <th>...</th>\n",
              "      <td>...</td>\n",
              "      <td>...</td>\n",
              "      <td>...</td>\n",
              "      <td>...</td>\n",
              "      <td>...</td>\n",
              "      <td>...</td>\n",
              "      <td>...</td>\n",
              "      <td>...</td>\n",
              "    </tr>\n",
              "    <tr>\n",
              "      <th>52286</th>\n",
              "      <td>2020-07-17</td>\n",
              "      <td>Karnataka</td>\n",
              "      <td>Bengaluru Urban</td>\n",
              "      <td>27494</td>\n",
              "      <td>6291</td>\n",
              "      <td>582</td>\n",
              "      <td>1</td>\n",
              "      <td>190536.0</td>\n",
              "    </tr>\n",
              "    <tr>\n",
              "      <th>53000</th>\n",
              "      <td>2020-07-18</td>\n",
              "      <td>Karnataka</td>\n",
              "      <td>Bengaluru Urban</td>\n",
              "      <td>29619</td>\n",
              "      <td>6541</td>\n",
              "      <td>631</td>\n",
              "      <td>1</td>\n",
              "      <td>190536.0</td>\n",
              "    </tr>\n",
              "    <tr>\n",
              "      <th>53714</th>\n",
              "      <td>2020-07-19</td>\n",
              "      <td>Karnataka</td>\n",
              "      <td>Bengaluru Urban</td>\n",
              "      <td>31775</td>\n",
              "      <td>6794</td>\n",
              "      <td>667</td>\n",
              "      <td>1</td>\n",
              "      <td>190536.0</td>\n",
              "    </tr>\n",
              "    <tr>\n",
              "      <th>54427</th>\n",
              "      <td>2020-07-20</td>\n",
              "      <td>Karnataka</td>\n",
              "      <td>Bengaluru Urban</td>\n",
              "      <td>33227</td>\n",
              "      <td>6957</td>\n",
              "      <td>698</td>\n",
              "      <td>1</td>\n",
              "      <td>219959.0</td>\n",
              "    </tr>\n",
              "    <tr>\n",
              "      <th>55140</th>\n",
              "      <td>2020-07-21</td>\n",
              "      <td>Karnataka</td>\n",
              "      <td>Bengaluru Urban</td>\n",
              "      <td>34941</td>\n",
              "      <td>7477</td>\n",
              "      <td>720</td>\n",
              "      <td>1</td>\n",
              "      <td>227134.0</td>\n",
              "    </tr>\n",
              "  </tbody>\n",
              "</table>\n",
              "<p>87 rows × 8 columns</p>\n",
              "</div>"
            ],
            "text/plain": [
              "             Date      State  ... Migrated    Tested\n",
              "145    2020-04-26  Karnataka  ...        0       NaN\n",
              "574    2020-04-27  Karnataka  ...        1       NaN\n",
              "1014   2020-04-28  Karnataka  ...        1       NaN\n",
              "1458   2020-04-29  Karnataka  ...        1       NaN\n",
              "1906   2020-04-30  Karnataka  ...        1       NaN\n",
              "...           ...        ...  ...      ...       ...\n",
              "52286  2020-07-17  Karnataka  ...        1  190536.0\n",
              "53000  2020-07-18  Karnataka  ...        1  190536.0\n",
              "53714  2020-07-19  Karnataka  ...        1  190536.0\n",
              "54427  2020-07-20  Karnataka  ...        1  219959.0\n",
              "55140  2020-07-21  Karnataka  ...        1  227134.0\n",
              "\n",
              "[87 rows x 8 columns]"
            ]
          },
          "metadata": {
            "tags": []
          },
          "execution_count": 45
        }
      ]
    },
    {
      "cell_type": "code",
      "metadata": {
        "id": "7uG7LctW-Qae",
        "colab_type": "code",
        "colab": {
          "base_uri": "https://localhost:8080/",
          "height": 198
        },
        "outputId": "2f092f89-20c7-43ca-bf59-114b77fae316"
      },
      "source": [
        "#Doubling Rate for every 7 days \n",
        "T=df1['Total Confirmed']\n",
        "an = 6\n",
        "reminder = len(T)%an\n",
        "if reminder != 0 :\n",
        "  T = T[:-reminder]\n",
        "re = ((len(T))//an )\n",
        "Week=range(1,re)\n",
        "T = T. to_numpy()\n",
        "T=T.reshape(re,an) \n",
        "double =  []\n",
        "n=0\n",
        "while n<len(T):\n",
        "  v= (an*2) / (T[n][(an-1)] / T[n][0])\n",
        "  double.append(v) \n",
        "  n= n+1\n",
        "DRate = pd.DataFrame(list(zip(double, Week)), \n",
        "               columns =['DRate', 'Weeks'])\n",
        "DRate.tail()"
      ],
      "execution_count": 41,
      "outputs": [
        {
          "output_type": "execute_result",
          "data": {
            "text/html": [
              "<div>\n",
              "<style scoped>\n",
              "    .dataframe tbody tr th:only-of-type {\n",
              "        vertical-align: middle;\n",
              "    }\n",
              "\n",
              "    .dataframe tbody tr th {\n",
              "        vertical-align: top;\n",
              "    }\n",
              "\n",
              "    .dataframe thead th {\n",
              "        text-align: right;\n",
              "    }\n",
              "</style>\n",
              "<table border=\"1\" class=\"dataframe\">\n",
              "  <thead>\n",
              "    <tr style=\"text-align: right;\">\n",
              "      <th></th>\n",
              "      <th>DRate</th>\n",
              "      <th>Weeks</th>\n",
              "    </tr>\n",
              "  </thead>\n",
              "  <tbody>\n",
              "    <tr>\n",
              "      <th>8</th>\n",
              "      <td>9.213270</td>\n",
              "      <td>9</td>\n",
              "    </tr>\n",
              "    <tr>\n",
              "      <th>9</th>\n",
              "      <td>7.022646</td>\n",
              "      <td>10</td>\n",
              "    </tr>\n",
              "    <tr>\n",
              "      <th>10</th>\n",
              "      <td>4.718332</td>\n",
              "      <td>11</td>\n",
              "    </tr>\n",
              "    <tr>\n",
              "      <th>11</th>\n",
              "      <td>6.010794</td>\n",
              "      <td>12</td>\n",
              "    </tr>\n",
              "    <tr>\n",
              "      <th>12</th>\n",
              "      <td>7.414586</td>\n",
              "      <td>13</td>\n",
              "    </tr>\n",
              "  </tbody>\n",
              "</table>\n",
              "</div>"
            ],
            "text/plain": [
              "       DRate  Weeks\n",
              "8   9.213270      9\n",
              "9   7.022646     10\n",
              "10  4.718332     11\n",
              "11  6.010794     12\n",
              "12  7.414586     13"
            ]
          },
          "metadata": {
            "tags": []
          },
          "execution_count": 41
        }
      ]
    },
    {
      "cell_type": "code",
      "metadata": {
        "id": "HE21GnW1-qui",
        "colab_type": "code",
        "colab": {
          "base_uri": "https://localhost:8080/",
          "height": 406
        },
        "outputId": "7d9916ca-e737-4348-9fc6-4e985b417c5e"
      },
      "source": [
        "%matplotlib inline\n",
        "import matplotlib.pyplot as plt\n",
        "fig= plt.figure(figsize=(18,6))\n",
        "ax = DRate.plot.bar(x='Weeks', y='DRate', rot=0,figsize=(18,6),label='Doubling Rate' )\n",
        "plt.savefig('Bangaluru Urban Doubling Rate')"
      ],
      "execution_count": 46,
      "outputs": [
        {
          "output_type": "display_data",
          "data": {
            "text/plain": [
              "<Figure size 1296x432 with 0 Axes>"
            ]
          },
          "metadata": {
            "tags": []
          }
        },
        {
          "output_type": "display_data",
          "data": {
            "image/png": "[encoded data removed]",
            "text/plain": [
              "<Figure size 1296x432 with 1 Axes>"
            ]
          },
          "metadata": {
            "tags": [],
            "needs_background": "light"
          }
        }
      ]
    },
    {
      "cell_type": "code",
      "metadata": {
        "id": "FxlhmpiF-v6w",
        "colab_type": "code",
        "colab": {}
      },
      "source": [
        ""
      ],
      "execution_count": null,
      "outputs": []
    }
  ]
}