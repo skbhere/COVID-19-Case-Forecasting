{
  "nbformat": 4,
  "nbformat_minor": 0,
  "metadata": {
    "kernelspec": {
      "name": "python3",
      "display_name": "Python 3"
    },
    "colab": {
      "name": "02_Mdu.ipynb",
      "provenance": [],
      "include_colab_link": true
    },
    "accelerator": "GPU"
  },
  "cells": [
    {
      "cell_type": "markdown",
      "metadata": {
        "id": "view-in-github",
        "colab_type": "text"
      },
      "source": [
        "<a href=\"https://colab.research.google.com/github/skbhere/Simple-forecast-predicion-for-Covid-19-/blob/master/02_Mdu.ipynb\" target=\"_parent\"><img src=\"https://colab.research.google.com/assets/colab-badge.svg\" alt=\"Open In Colab\"/></a>"
      ]
    },
    {
      "cell_type": "code",
      "metadata": {
        "id": "5PMvjbq2iPie",
        "colab_type": "code",
        "colab": {}
      },
      "source": [
        "import numpy as np\n",
        "import pandas as pd"
      ],
      "execution_count": 1,
      "outputs": []
    },
    {
      "cell_type": "code",
      "metadata": {
        "id": "0WxFsCPIgm50",
        "colab_type": "code",
        "colab": {}
      },
      "source": [
        "df= pd.read_csv(\"https://api.covid19india.org/csv/latest/districts.csv\")"
      ],
      "execution_count": 2,
      "outputs": []
    },
    {
      "cell_type": "code",
      "metadata": {
        "id": "eT-iDNlw2nEz",
        "colab_type": "code",
        "colab": {}
      },
      "source": [
        "df=df.loc[df['District'] == \"Madurai\"]"
      ],
      "execution_count": 4,
      "outputs": []
    },
    {
      "cell_type": "code",
      "metadata": {
        "id": "lWIqbA1t7M_a",
        "colab_type": "code",
        "colab": {}
      },
      "source": [
        "DF=df\n",
        "DF.rename(columns={'Confirmed':'Total Confirmed',\n",
        "                          'Recovered':'Total Recovered',\n",
        "                          'Deceased':'Total Deceased'}, \n",
        "                 inplace=True)\n",
        "xx=len(DF) - 1\n",
        "DF=DF.head(xx)"
      ],
      "execution_count": 5,
      "outputs": []
    },
    {
      "cell_type": "code",
      "metadata": {
        "id": "DxXRmHSCxLjl",
        "colab_type": "code",
        "colab": {
          "base_uri": "https://localhost:8080/",
          "height": 407
        },
        "outputId": "77f27a4a-4b45-4a88-f384-fec37c12a91d"
      },
      "source": [
        "DF"
      ],
      "execution_count": 6,
      "outputs": [
        {
          "output_type": "execute_result",
          "data": {
            "text/html": [
              "<div>\n",
              "<style scoped>\n",
              "    .dataframe tbody tr th:only-of-type {\n",
              "        vertical-align: middle;\n",
              "    }\n",
              "\n",
              "    .dataframe tbody tr th {\n",
              "        vertical-align: top;\n",
              "    }\n",
              "\n",
              "    .dataframe thead th {\n",
              "        text-align: right;\n",
              "    }\n",
              "</style>\n",
              "<table border=\"1\" class=\"dataframe\">\n",
              "  <thead>\n",
              "    <tr style=\"text-align: right;\">\n",
              "      <th></th>\n",
              "      <th>Date</th>\n",
              "      <th>State</th>\n",
              "      <th>District</th>\n",
              "      <th>Total Confirmed</th>\n",
              "      <th>Total Recovered</th>\n",
              "      <th>Total Deceased</th>\n",
              "      <th>Migrated</th>\n",
              "      <th>Tested</th>\n",
              "    </tr>\n",
              "  </thead>\n",
              "  <tbody>\n",
              "    <tr>\n",
              "      <th>317</th>\n",
              "      <td>2020-04-26</td>\n",
              "      <td>Tamil Nadu</td>\n",
              "      <td>Madurai</td>\n",
              "      <td>75</td>\n",
              "      <td>8</td>\n",
              "      <td>2</td>\n",
              "      <td>0</td>\n",
              "      <td>NaN</td>\n",
              "    </tr>\n",
              "    <tr>\n",
              "      <th>750</th>\n",
              "      <td>2020-04-27</td>\n",
              "      <td>Tamil Nadu</td>\n",
              "      <td>Madurai</td>\n",
              "      <td>79</td>\n",
              "      <td>8</td>\n",
              "      <td>2</td>\n",
              "      <td>0</td>\n",
              "      <td>NaN</td>\n",
              "    </tr>\n",
              "    <tr>\n",
              "      <th>1194</th>\n",
              "      <td>2020-04-28</td>\n",
              "      <td>Tamil Nadu</td>\n",
              "      <td>Madurai</td>\n",
              "      <td>79</td>\n",
              "      <td>36</td>\n",
              "      <td>2</td>\n",
              "      <td>0</td>\n",
              "      <td>NaN</td>\n",
              "    </tr>\n",
              "    <tr>\n",
              "      <th>1642</th>\n",
              "      <td>2020-04-29</td>\n",
              "      <td>Tamil Nadu</td>\n",
              "      <td>Madurai</td>\n",
              "      <td>79</td>\n",
              "      <td>40</td>\n",
              "      <td>2</td>\n",
              "      <td>0</td>\n",
              "      <td>NaN</td>\n",
              "    </tr>\n",
              "    <tr>\n",
              "      <th>2091</th>\n",
              "      <td>2020-04-30</td>\n",
              "      <td>Tamil Nadu</td>\n",
              "      <td>Madurai</td>\n",
              "      <td>84</td>\n",
              "      <td>40</td>\n",
              "      <td>2</td>\n",
              "      <td>0</td>\n",
              "      <td>NaN</td>\n",
              "    </tr>\n",
              "    <tr>\n",
              "      <th>...</th>\n",
              "      <td>...</td>\n",
              "      <td>...</td>\n",
              "      <td>...</td>\n",
              "      <td>...</td>\n",
              "      <td>...</td>\n",
              "      <td>...</td>\n",
              "      <td>...</td>\n",
              "      <td>...</td>\n",
              "    </tr>\n",
              "    <tr>\n",
              "      <th>54724</th>\n",
              "      <td>2020-07-20</td>\n",
              "      <td>Tamil Nadu</td>\n",
              "      <td>Madurai</td>\n",
              "      <td>8357</td>\n",
              "      <td>4934</td>\n",
              "      <td>160</td>\n",
              "      <td>0</td>\n",
              "      <td>23092.0</td>\n",
              "    </tr>\n",
              "    <tr>\n",
              "      <th>55438</th>\n",
              "      <td>2020-07-21</td>\n",
              "      <td>Tamil Nadu</td>\n",
              "      <td>Madurai</td>\n",
              "      <td>8517</td>\n",
              "      <td>5070</td>\n",
              "      <td>167</td>\n",
              "      <td>0</td>\n",
              "      <td>23092.0</td>\n",
              "    </tr>\n",
              "    <tr>\n",
              "      <th>56152</th>\n",
              "      <td>2020-07-22</td>\n",
              "      <td>Tamil Nadu</td>\n",
              "      <td>Madurai</td>\n",
              "      <td>8705</td>\n",
              "      <td>5515</td>\n",
              "      <td>174</td>\n",
              "      <td>0</td>\n",
              "      <td>23092.0</td>\n",
              "    </tr>\n",
              "    <tr>\n",
              "      <th>56866</th>\n",
              "      <td>2020-07-23</td>\n",
              "      <td>Tamil Nadu</td>\n",
              "      <td>Madurai</td>\n",
              "      <td>8984</td>\n",
              "      <td>5965</td>\n",
              "      <td>183</td>\n",
              "      <td>0</td>\n",
              "      <td>97279.0</td>\n",
              "    </tr>\n",
              "    <tr>\n",
              "      <th>57579</th>\n",
              "      <td>2020-07-24</td>\n",
              "      <td>Tamil Nadu</td>\n",
              "      <td>Madurai</td>\n",
              "      <td>9302</td>\n",
              "      <td>6448</td>\n",
              "      <td>193</td>\n",
              "      <td>0</td>\n",
              "      <td>97279.0</td>\n",
              "    </tr>\n",
              "  </tbody>\n",
              "</table>\n",
              "<p>90 rows × 8 columns</p>\n",
              "</div>"
            ],
            "text/plain": [
              "             Date       State District  ...  Total Deceased  Migrated   Tested\n",
              "317    2020-04-26  Tamil Nadu  Madurai  ...               2         0      NaN\n",
              "750    2020-04-27  Tamil Nadu  Madurai  ...               2         0      NaN\n",
              "1194   2020-04-28  Tamil Nadu  Madurai  ...               2         0      NaN\n",
              "1642   2020-04-29  Tamil Nadu  Madurai  ...               2         0      NaN\n",
              "2091   2020-04-30  Tamil Nadu  Madurai  ...               2         0      NaN\n",
              "...           ...         ...      ...  ...             ...       ...      ...\n",
              "54724  2020-07-20  Tamil Nadu  Madurai  ...             160         0  23092.0\n",
              "55438  2020-07-21  Tamil Nadu  Madurai  ...             167         0  23092.0\n",
              "56152  2020-07-22  Tamil Nadu  Madurai  ...             174         0  23092.0\n",
              "56866  2020-07-23  Tamil Nadu  Madurai  ...             183         0  97279.0\n",
              "57579  2020-07-24  Tamil Nadu  Madurai  ...             193         0  97279.0\n",
              "\n",
              "[90 rows x 8 columns]"
            ]
          },
          "metadata": {
            "tags": []
          },
          "execution_count": 6
        }
      ]
    },
    {
      "cell_type": "code",
      "metadata": {
        "id": "9HAVwrAPvCQf",
        "colab_type": "code",
        "colab": {
          "base_uri": "https://localhost:8080/",
          "height": 365
        },
        "outputId": "712a0588-0445-4f4d-8fca-28548c16b829"
      },
      "source": [
        "TConfirmed = list(DF[\"Total Confirmed\"])\n",
        "DConfirmed = [None] * len(DF)\n",
        "i = 1\n",
        "while i < len(DF):\n",
        "    DConfirmed[i]=TConfirmed[i]-TConfirmed[i-1]\n",
        "    i += 1\n",
        "DF[\"Daily Confirmed\"]=DConfirmed\n",
        "DF[\"Day\"]=range(1,xx+1)\n",
        "i = range(0,len(DF))\n",
        "DF['Index']=i\n",
        "DF=DF.set_index('Index')"
      ],
      "execution_count": 7,
      "outputs": [
        {
          "output_type": "stream",
          "text": [
            "/usr/local/lib/python3.6/dist-packages/ipykernel_launcher.py:7: SettingWithCopyWarning: \n",
            "A value is trying to be set on a copy of a slice from a DataFrame.\n",
            "Try using .loc[row_indexer,col_indexer] = value instead\n",
            "\n",
            "See the caveats in the documentation: https://pandas.pydata.org/pandas-docs/stable/user_guide/indexing.html#returning-a-view-versus-a-copy\n",
            "  import sys\n",
            "/usr/local/lib/python3.6/dist-packages/ipykernel_launcher.py:8: SettingWithCopyWarning: \n",
            "A value is trying to be set on a copy of a slice from a DataFrame.\n",
            "Try using .loc[row_indexer,col_indexer] = value instead\n",
            "\n",
            "See the caveats in the documentation: https://pandas.pydata.org/pandas-docs/stable/user_guide/indexing.html#returning-a-view-versus-a-copy\n",
            "  \n",
            "/usr/local/lib/python3.6/dist-packages/ipykernel_launcher.py:10: SettingWithCopyWarning: \n",
            "A value is trying to be set on a copy of a slice from a DataFrame.\n",
            "Try using .loc[row_indexer,col_indexer] = value instead\n",
            "\n",
            "See the caveats in the documentation: https://pandas.pydata.org/pandas-docs/stable/user_guide/indexing.html#returning-a-view-versus-a-copy\n",
            "  # Remove the CWD from sys.path while we load stuff.\n"
          ],
          "name": "stderr"
        }
      ]
    },
    {
      "cell_type": "code",
      "metadata": {
        "id": "NuLCQ-27iPjB",
        "colab_type": "code",
        "colab": {
          "base_uri": "https://localhost:8080/",
          "height": 145
        },
        "outputId": "51788f3e-0f40-4848-b87b-64573802aabe"
      },
      "source": [
        "xlen=len(DF)\n",
        "sp=round(xlen*0.9)\n",
        "DF['Date'] = pd.to_datetime(DF['Date'])\n",
        "DF.index"
      ],
      "execution_count": 8,
      "outputs": [
        {
          "output_type": "execute_result",
          "data": {
            "text/plain": [
              "Int64Index([ 0,  1,  2,  3,  4,  5,  6,  7,  8,  9, 10, 11, 12, 13, 14, 15, 16,\n",
              "            17, 18, 19, 20, 21, 22, 23, 24, 25, 26, 27, 28, 29, 30, 31, 32, 33,\n",
              "            34, 35, 36, 37, 38, 39, 40, 41, 42, 43, 44, 45, 46, 47, 48, 49, 50,\n",
              "            51, 52, 53, 54, 55, 56, 57, 58, 59, 60, 61, 62, 63, 64, 65, 66, 67,\n",
              "            68, 69, 70, 71, 72, 73, 74, 75, 76, 77, 78, 79, 80, 81, 82, 83, 84,\n",
              "            85, 86, 87, 88, 89],\n",
              "           dtype='int64', name='Index')"
            ]
          },
          "metadata": {
            "tags": []
          },
          "execution_count": 8
        }
      ]
    },
    {
      "cell_type": "code",
      "metadata": {
        "id": "RszYUwzjDK_M",
        "colab_type": "code",
        "colab": {
          "base_uri": "https://localhost:8080/",
          "height": 412
        },
        "outputId": "4e88ff0f-2cec-475c-dd6d-95aae25925b7"
      },
      "source": [
        "import matplotlib.pyplot as plt\n",
        "train_data, test_data = DF[0:sp], DF[sp:]\n",
        "fig= plt.figure(figsize=(18,7))\n",
        "axes= fig.add_axes([0.1,0.1,0.8,0.8])\n",
        "#plt.figure(figsize=(12,7))\n",
        "plt.title('Daily Confirmed')\n",
        "plt.xlabel('Dates')\n",
        "plt.ylabel('Daily Confirmed')\n",
        "plt.plot(DF['Daily Confirmed'], 'blue', label='Training Data')\n",
        "plt.plot(test_data['Daily Confirmed'], 'green', label='Testing Data')\n",
        "plt.xticks(np.arange(0,sp,xlen), DF['Date'][0:sp:xlen])\n",
        "plt.legend()"
      ],
      "execution_count": 9,
      "outputs": [
        {
          "output_type": "execute_result",
          "data": {
            "text/plain": [
              "<matplotlib.legend.Legend at 0x7fbd3b7bea58>"
            ]
          },
          "metadata": {
            "tags": []
          },
          "execution_count": 9
        },
        {
          "output_type": "display_data",
          "data": {
            "image/png": "[encoded data removed]",
            "text/plain": [
              "<Figure size 1296x504 with 1 Axes>"
            ]
          },
          "metadata": {
            "tags": [],
            "needs_background": "light"
          }
        }
      ]
    },
    {
      "cell_type": "code",
      "metadata": {
        "id": "GrCvbHywdfzf",
        "colab_type": "code",
        "colab": {}
      },
      "source": [
        "def smape_kun(y_true, y_pred):\n",
        "    return np.mean((np.abs(y_pred - y_true) * 200/ (np.abs(y_pred) +       np.abs(y_true))))"
      ],
      "execution_count": null,
      "outputs": []
    },
    {
      "cell_type": "code",
      "metadata": {
        "id": "e5ajmKd5fHme",
        "colab_type": "code",
        "colab": {
          "base_uri": "https://localhost:8080/",
          "height": 165
        },
        "outputId": "ff61d77e-f92c-4f58-eb4f-754722fc425c"
      },
      "source": [
        "from statsmodels.tsa.arima_model import ARIMA\n",
        "from statsmodels.tsa.statespace.sarimax import SARIMAX\n",
        "from sklearn.metrics import mean_squared_error\n",
        "train_ar = train_data['Daily Confirmed'].values\n",
        "test_ar = test_data['Daily Confirmed'].values\n",
        "history = [x for x in train_ar]\n",
        "print(type(history))\n",
        "predictions = list()\n",
        "for t in range(len(test_ar)):\n",
        "    my_order = (1, 1, 1)\n",
        "    my_seasonal_order = (1, 1, 1, 12)\n",
        "    model = SARIMAX(history, order=my_order, seasonal_order=my_seasonal_order)\n",
        "    #model = ARIMA(history, order=(5,1,0))\n",
        "    model_fit = model.fit(disp=0)\n",
        "    output = model_fit.forecast()\n",
        "    yhat = output[0]\n",
        "    predictions.append(yhat)\n",
        "    obs = test_ar[t]\n",
        "    history.append(obs)\n",
        "error = mean_squared_error(test_ar, predictions)\n",
        "print('Testing Mean Squared Error: %.3f' % error)\n",
        "error2 = smape_kun(test_ar, predictions)\n",
        "print('Symmetric mean absolute percentage error: %.3f' % error2)\n",
        "\n"
      ],
      "execution_count": null,
      "outputs": [
        {
          "output_type": "stream",
          "text": [
            "<class 'list'>\n"
          ],
          "name": "stdout"
        },
        {
          "output_type": "stream",
          "text": [
            "/usr/local/lib/python3.6/dist-packages/statsmodels/tsa/statespace/sarimax.py:949: UserWarning: Non-stationary starting autoregressive parameters found. Using zeros as starting parameters.\n",
            "  warn('Non-stationary starting autoregressive parameters'\n",
            "/usr/local/lib/python3.6/dist-packages/statsmodels/tsa/statespace/sarimax.py:961: UserWarning: Non-invertible starting MA parameters found. Using zeros as starting parameters.\n",
            "  warn('Non-invertible starting MA parameters found.'\n"
          ],
          "name": "stderr"
        },
        {
          "output_type": "stream",
          "text": [
            "Testing Mean Squared Error: 13394.674\n",
            "Symmetric mean absolute percentage error: 33.640\n"
          ],
          "name": "stdout"
        }
      ]
    },
    {
      "cell_type": "code",
      "metadata": {
        "id": "7lE2fcPUpDEd",
        "colab_type": "code",
        "colab": {}
      },
      "source": [
        "f=[]\n",
        "def forecast(x) :\n",
        "  f = model_fit.forecast(steps=x)\n",
        "  f = np.round(f)\n",
        "  return f"
      ],
      "execution_count": null,
      "outputs": []
    },
    {
      "cell_type": "code",
      "metadata": {
        "id": "1j46gZcwmaL7",
        "colab_type": "code",
        "colab": {
          "base_uri": "https://localhost:8080/",
          "height": 35
        },
        "outputId": "0f6cb769-c85e-4e11-f4b4-859c0de9310d"
      },
      "source": [
        "forecast(5)"
      ],
      "execution_count": null,
      "outputs": [
        {
          "output_type": "execute_result",
          "data": {
            "text/plain": [
              "array([409., 391., 346., 434., 456.])"
            ]
          },
          "metadata": {
            "tags": []
          },
          "execution_count": 36
        }
      ]
    },
    {
      "cell_type": "code",
      "metadata": {
        "id": "tF-ytoxZSfPP",
        "colab_type": "code",
        "colab": {}
      },
      "source": [
        "df=DF"
      ],
      "execution_count": 10,
      "outputs": []
    },
    {
      "cell_type": "code",
      "metadata": {
        "id": "a6pnjYu1f4IY",
        "colab_type": "code",
        "colab": {
          "base_uri": "https://localhost:8080/",
          "height": 655
        },
        "outputId": "5c67bb74-c7a8-40a0-ec48-5b49e7a5c8f2"
      },
      "source": [
        "plt.figure(figsize=(12,7))\n",
        "plt.plot(df['Daily Confirmed'], 'green', color='blue', label='Training Data')\n",
        "plt.plot(test_data.index, predictions, color='green', marker='o', linestyle='dashed', \n",
        "         label='Predicted Price')\n",
        "plt.plot(test_data.index, test_data['Daily Confirmed'], color='red', label='Actual Price')\n",
        "plt.title('Daily Confirmed Prediction')\n",
        "plt.xlabel('Dates')\n",
        "plt.ylabel('Daily Confirmed')\n",
        "plt.xticks(np.arange(0,sp,xlen), df['Date'][0:sp:xlen])\n",
        "plt.legend()"
      ],
      "execution_count": 11,
      "outputs": [
        {
          "output_type": "error",
          "ename": "NameError",
          "evalue": "ignored",
          "traceback": [
            "\u001b[0;31m---------------------------------------------------------------------------\u001b[0m",
            "\u001b[0;31mNameError\u001b[0m                                 Traceback (most recent call last)",
            "\u001b[0;32m<ipython-input-11-4dccb41b5515>\u001b[0m in \u001b[0;36m<module>\u001b[0;34m()\u001b[0m\n\u001b[1;32m      1\u001b[0m \u001b[0mplt\u001b[0m\u001b[0;34m.\u001b[0m\u001b[0mfigure\u001b[0m\u001b[0;34m(\u001b[0m\u001b[0mfigsize\u001b[0m\u001b[0;34m=\u001b[0m\u001b[0;34m(\u001b[0m\u001b[0;36m12\u001b[0m\u001b[0;34m,\u001b[0m\u001b[0;36m7\u001b[0m\u001b[0;34m)\u001b[0m\u001b[0;34m)\u001b[0m\u001b[0;34m\u001b[0m\u001b[0;34m\u001b[0m\u001b[0m\n\u001b[1;32m      2\u001b[0m \u001b[0mplt\u001b[0m\u001b[0;34m.\u001b[0m\u001b[0mplot\u001b[0m\u001b[0;34m(\u001b[0m\u001b[0mdf\u001b[0m\u001b[0;34m[\u001b[0m\u001b[0;34m'Daily Confirmed'\u001b[0m\u001b[0;34m]\u001b[0m\u001b[0;34m,\u001b[0m \u001b[0;34m'green'\u001b[0m\u001b[0;34m,\u001b[0m \u001b[0mcolor\u001b[0m\u001b[0;34m=\u001b[0m\u001b[0;34m'blue'\u001b[0m\u001b[0;34m,\u001b[0m \u001b[0mlabel\u001b[0m\u001b[0;34m=\u001b[0m\u001b[0;34m'Training Data'\u001b[0m\u001b[0;34m)\u001b[0m\u001b[0;34m\u001b[0m\u001b[0;34m\u001b[0m\u001b[0m\n\u001b[0;32m----> 3\u001b[0;31m plt.plot(test_data.index, predictions, color='green', marker='o', linestyle='dashed', \n\u001b[0m\u001b[1;32m      4\u001b[0m          label='Predicted Price')\n\u001b[1;32m      5\u001b[0m \u001b[0mplt\u001b[0m\u001b[0;34m.\u001b[0m\u001b[0mplot\u001b[0m\u001b[0;34m(\u001b[0m\u001b[0mtest_data\u001b[0m\u001b[0;34m.\u001b[0m\u001b[0mindex\u001b[0m\u001b[0;34m,\u001b[0m \u001b[0mtest_data\u001b[0m\u001b[0;34m[\u001b[0m\u001b[0;34m'Daily Confirmed'\u001b[0m\u001b[0;34m]\u001b[0m\u001b[0;34m,\u001b[0m \u001b[0mcolor\u001b[0m\u001b[0;34m=\u001b[0m\u001b[0;34m'red'\u001b[0m\u001b[0;34m,\u001b[0m \u001b[0mlabel\u001b[0m\u001b[0;34m=\u001b[0m\u001b[0;34m'Actual Price'\u001b[0m\u001b[0;34m)\u001b[0m\u001b[0;34m\u001b[0m\u001b[0;34m\u001b[0m\u001b[0m\n",
            "\u001b[0;31mNameError\u001b[0m: name 'predictions' is not defined"
          ]
        },
        {
          "output_type": "display_data",
          "data": {
            "image/png": "[encoded data removed]",
            "text/plain": [
              "<Figure size 864x504 with 1 Axes>"
            ]
          },
          "metadata": {
            "tags": [],
            "needs_background": "light"
          }
        }
      ]
    },
    {
      "cell_type": "code",
      "metadata": {
        "id": "iASB49r3iPjG",
        "colab_type": "code",
        "colab": {}
      },
      "source": [
        "df2 = DF.tail(6)\n",
        "df1 =DF.tail(6)"
      ],
      "execution_count": 19,
      "outputs": []
    },
    {
      "cell_type": "code",
      "metadata": {
        "id": "Mjoq0R4PiPjc",
        "colab_type": "code",
        "colab": {}
      },
      "source": [
        "X1 = np.array(df1['Day'])\n",
        "X2 = np.array(df2['Day'])\n",
        "#Y1 = np.array(df1['Total Confirmed'])\n",
        "#Y2 = np.array(df1['Total Recovered'])\n",
        "#Y3 = np.array(df1['Total Deceased'])\n",
        "Y1 = np.log(df1['Total Confirmed'])\n",
        "Y1 = np.array(Y1)\n",
        "Y2 = np.log(df1['Total Recovered'])\n",
        "Y2 = np.array(Y2)\n",
        "Y3 = np.log(df1['Total Deceased'])\n",
        "Y3 = np.array(Y3)\n",
        "#Y4 = np.array(df2['Daily Confirmed'])\n",
        "\n",
        "Y4 =np.log(df2['Daily Confirmed'])\n",
        "Y4 = np.array(Y4)\n"
      ],
      "execution_count": 20,
      "outputs": []
    },
    {
      "cell_type": "code",
      "metadata": {
        "id": "DcOlR4igiPji",
        "colab_type": "code",
        "colab": {
          "base_uri": "https://localhost:8080/",
          "height": 108
        },
        "outputId": "76a2f5ed-eace-474e-f374-edd539ac329e"
      },
      "source": [
        "from sklearn.linear_model import LinearRegression\n",
        "X1=X1.reshape(-1, 1)\n",
        "X2=X2.reshape(-1, 1)\n",
        "Y1=Y1.reshape(-1, 1)\n",
        "Y2=Y2.reshape(-1, 1)\n",
        "Y3=Y3.reshape(-1, 1)\n",
        "Y4=Y4.reshape(-1, 1)\n",
        "\n",
        "reg1 = LinearRegression().fit(X1, Y1)\n",
        "reg2 = LinearRegression().fit(X1, Y2)\n",
        "reg3 = LinearRegression().fit(X1, Y3)\n",
        "reg4 = LinearRegression().fit(X2, Y4)\n",
        "\n",
        "\n",
        "logb1 = reg1.coef_\n",
        "loga1 = reg1.intercept_\n",
        "a1 = np.exp(loga1)\n",
        "b1 = np.exp(logb1)\n",
        "\n",
        "logb2 = reg2.coef_\n",
        "loga2 = reg2.intercept_\n",
        "a2 = np.exp(loga2)\n",
        "b2 = np.exp(logb2)\n",
        "\n",
        "logb3 = reg3.coef_\n",
        "loga3 = reg3.intercept_\n",
        "a3 = np.exp(loga3)\n",
        "b3 = np.exp(logb3)\n",
        "\n",
        "logb4 = reg4.coef_\n",
        "loga4 = reg4.intercept_\n",
        "a4 = np.exp(loga4)\n",
        "b4 = np.exp(logb4)\n",
        "\n",
        "\n",
        "\n",
        "#print(\"Based on Last 20 Days Data\")\n",
        "#print (\"Total Confirmed Accuracy\", reg1.score(X1, Y1)*100)\n",
        "print (\"coefficient of determination for Total Confirmed\", reg1.score(X1, Y1)*100)\n",
        "print (\"coefficient of determination for Total Recovered \", reg2.score(X1, Y2)*100)\n",
        "print (\"coefficient of determination for Total Deceased \", reg3.score(X1, Y3)*100)\n",
        "print(\"coefficient of determination for Based on Last 30 Days Data\")\n",
        "print (\"coefficient of determination for Daily Confirmed \", reg4.score(X2, Y4)*100)\n",
        "#print (\"coefficient of determination for Daily Recovered \", reg5.score(X2, Y5)*100)\n",
        "#print (\"coefficient of determination for Daily Deceased \", reg6.score(X2, Y6)*100)\n"
      ],
      "execution_count": 21,
      "outputs": [
        {
          "output_type": "stream",
          "text": [
            "coefficient of determination for Total Confirmed 97.0131804107589\n",
            "coefficient of determination for Total Recovered  95.16957305641738\n",
            "coefficient of determination for Total Deceased  99.31306241645068\n",
            "coefficient of determination for Based on Last 30 Days Data\n",
            "coefficient of determination for Daily Confirmed  49.58401671801174\n"
          ],
          "name": "stdout"
        }
      ]
    },
    {
      "cell_type": "code",
      "metadata": {
        "id": "Sfz63JT2iPjn",
        "colab_type": "code",
        "colab": {
          "base_uri": "https://localhost:8080/",
          "height": 198
        },
        "outputId": "e8e65345-700d-462a-ff7a-a5e4f72fc287"
      },
      "source": [
        "drange = 15\n",
        "start =len(df) +1\n",
        "dval = np.arange(start,start+drange,1)\n",
        "dval= np.array(dval)\n",
        "val= dval\n",
        "dval=dval.reshape(-1, 1)\n",
        "\n",
        "start1 =len(DF)\n",
        "dval1 = np.arange(start1,start1+drange,1)\n",
        "dval1= np.array(dval1)\n",
        "val1= dval1\n",
        "dval1=dval1.reshape(-1, 1)\n",
        "import datetime\n",
        "base = datetime.date.today() - datetime.timedelta(days=1)\n",
        "date_list = [base + datetime.timedelta(days=x) for x in range(drange)]\n",
        "\n",
        "# DConfirmed = forecast(drange+1)\n",
        "# DConfirmed =DConfirmed[:-1]\n",
        "DConfirmed = np.round_(np.multiply(a4,(np.power(b4,val))))\n",
        "TConfirmed = np.round_(np.multiply(a1,(np.power(b1,val1))))\n",
        "#TConfirmed = np.round_(reg1.predict(dval1))\n",
        "#DRecovered = np.round_(np.multiply(a5,(np.power(b5,val))))\n",
        "#TRecovered = np.round_(np.multiply(a2,(np.power(b2,val1))))\n",
        "#TRecovered = np.round_(reg2.predict(dval1))\n",
        "#DDeceased = np.round_(np.multiply(a6,(np.power(b6,val))))\n",
        "#TDeceased = np.round_(np.multiply(a3,(np.power(b3,val1))))\n",
        "#TDeceased = np.round_(reg3.predict(dval1))\n",
        "\n",
        "# DConfirmed= DConfirmed.flatten()\n",
        "# TConfirmed= TConfirmed.flatten()\n",
        "# i = 1\n",
        "# while i < len(TConfirmed):\n",
        "#     DConfirmed[i]=TConfirmed[i]-TConfirmed[i-1]\n",
        "#     i += 1\n",
        "ii=len(DF)-1\n",
        "lastD = DF['Daily Confirmed'][ii]\n",
        "lastT = DF['Total Confirmed'][ii]\n",
        "lastDat = DF['Date'][ii]\n",
        "new_row = pd.DataFrame({'Daily Confirmed':lastD.flatten() ,\n",
        "                        'Total Confirmed':lastT.flatten(),\n",
        "                        'Date': pd.to_datetime(lastDat)\n",
        "                        })\n",
        "#DConfirmed[0]=DF['Total Confirmed'][0]-TConfirmed[0]\n",
        "dict = {\n",
        "        'Date' : date_list,\n",
        "        'Daily Confirmed': DConfirmed.flatten(), \n",
        "        'Total Confirmed': TConfirmed.flatten(), \n",
        "   #     'Daily Recovered': DRecovered.flatten() ,\n",
        "    #    'Total Recovered': TRecovered.flatten(),\n",
        "    #    'Daily Deceased' : DDeceased.flatten(),\n",
        "     #   'Total Deceased' : TDeceased.flatten(),\n",
        "        'Day' : dval1.flatten() ,\n",
        "       } \n",
        "final = pd.DataFrame(dict) \n",
        "final = pd.concat([new_row, final]).reset_index(drop = True) \n",
        "final['Date'] = pd.to_datetime(final['Date'])\n",
        "final.head(5) "
      ],
      "execution_count": 23,
      "outputs": [
        {
          "output_type": "execute_result",
          "data": {
            "text/html": [
              "<div>\n",
              "<style scoped>\n",
              "    .dataframe tbody tr th:only-of-type {\n",
              "        vertical-align: middle;\n",
              "    }\n",
              "\n",
              "    .dataframe tbody tr th {\n",
              "        vertical-align: top;\n",
              "    }\n",
              "\n",
              "    .dataframe thead th {\n",
              "        text-align: right;\n",
              "    }\n",
              "</style>\n",
              "<table border=\"1\" class=\"dataframe\">\n",
              "  <thead>\n",
              "    <tr style=\"text-align: right;\">\n",
              "      <th></th>\n",
              "      <th>Daily Confirmed</th>\n",
              "      <th>Total Confirmed</th>\n",
              "      <th>Date</th>\n",
              "      <th>Day</th>\n",
              "    </tr>\n",
              "  </thead>\n",
              "  <tbody>\n",
              "    <tr>\n",
              "      <th>0</th>\n",
              "      <td>318.0</td>\n",
              "      <td>9302.0</td>\n",
              "      <td>2020-07-24</td>\n",
              "      <td>NaN</td>\n",
              "    </tr>\n",
              "    <tr>\n",
              "      <th>1</th>\n",
              "      <td>332.0</td>\n",
              "      <td>9214.0</td>\n",
              "      <td>2020-07-24</td>\n",
              "      <td>90.0</td>\n",
              "    </tr>\n",
              "    <tr>\n",
              "      <th>2</th>\n",
              "      <td>385.0</td>\n",
              "      <td>9437.0</td>\n",
              "      <td>2020-07-25</td>\n",
              "      <td>91.0</td>\n",
              "    </tr>\n",
              "    <tr>\n",
              "      <th>3</th>\n",
              "      <td>447.0</td>\n",
              "      <td>9666.0</td>\n",
              "      <td>2020-07-26</td>\n",
              "      <td>92.0</td>\n",
              "    </tr>\n",
              "    <tr>\n",
              "      <th>4</th>\n",
              "      <td>519.0</td>\n",
              "      <td>9900.0</td>\n",
              "      <td>2020-07-27</td>\n",
              "      <td>93.0</td>\n",
              "    </tr>\n",
              "  </tbody>\n",
              "</table>\n",
              "</div>"
            ],
            "text/plain": [
              "   Daily Confirmed  Total Confirmed       Date   Day\n",
              "0            318.0           9302.0 2020-07-24   NaN\n",
              "1            332.0           9214.0 2020-07-24  90.0\n",
              "2            385.0           9437.0 2020-07-25  91.0\n",
              "3            447.0           9666.0 2020-07-26  92.0\n",
              "4            519.0           9900.0 2020-07-27  93.0"
            ]
          },
          "metadata": {
            "tags": []
          },
          "execution_count": 23
        }
      ]
    },
    {
      "cell_type": "code",
      "metadata": {
        "scrolled": false,
        "id": "JP0V21beiPj8",
        "colab_type": "code",
        "colab": {
          "base_uri": "https://localhost:8080/",
          "height": 528
        },
        "outputId": "b6d3f5de-a20d-47b3-eb9a-40083b8d6f20"
      },
      "source": [
        "final.head(20)"
      ],
      "execution_count": 24,
      "outputs": [
        {
          "output_type": "execute_result",
          "data": {
            "text/html": [
              "<div>\n",
              "<style scoped>\n",
              "    .dataframe tbody tr th:only-of-type {\n",
              "        vertical-align: middle;\n",
              "    }\n",
              "\n",
              "    .dataframe tbody tr th {\n",
              "        vertical-align: top;\n",
              "    }\n",
              "\n",
              "    .dataframe thead th {\n",
              "        text-align: right;\n",
              "    }\n",
              "</style>\n",
              "<table border=\"1\" class=\"dataframe\">\n",
              "  <thead>\n",
              "    <tr style=\"text-align: right;\">\n",
              "      <th></th>\n",
              "      <th>Daily Confirmed</th>\n",
              "      <th>Total Confirmed</th>\n",
              "      <th>Date</th>\n",
              "      <th>Day</th>\n",
              "    </tr>\n",
              "  </thead>\n",
              "  <tbody>\n",
              "    <tr>\n",
              "      <th>0</th>\n",
              "      <td>318.0</td>\n",
              "      <td>9302.0</td>\n",
              "      <td>2020-07-24</td>\n",
              "      <td>NaN</td>\n",
              "    </tr>\n",
              "    <tr>\n",
              "      <th>1</th>\n",
              "      <td>332.0</td>\n",
              "      <td>9214.0</td>\n",
              "      <td>2020-07-24</td>\n",
              "      <td>90.0</td>\n",
              "    </tr>\n",
              "    <tr>\n",
              "      <th>2</th>\n",
              "      <td>385.0</td>\n",
              "      <td>9437.0</td>\n",
              "      <td>2020-07-25</td>\n",
              "      <td>91.0</td>\n",
              "    </tr>\n",
              "    <tr>\n",
              "      <th>3</th>\n",
              "      <td>447.0</td>\n",
              "      <td>9666.0</td>\n",
              "      <td>2020-07-26</td>\n",
              "      <td>92.0</td>\n",
              "    </tr>\n",
              "    <tr>\n",
              "      <th>4</th>\n",
              "      <td>519.0</td>\n",
              "      <td>9900.0</td>\n",
              "      <td>2020-07-27</td>\n",
              "      <td>93.0</td>\n",
              "    </tr>\n",
              "    <tr>\n",
              "      <th>5</th>\n",
              "      <td>602.0</td>\n",
              "      <td>10141.0</td>\n",
              "      <td>2020-07-28</td>\n",
              "      <td>94.0</td>\n",
              "    </tr>\n",
              "    <tr>\n",
              "      <th>6</th>\n",
              "      <td>699.0</td>\n",
              "      <td>10386.0</td>\n",
              "      <td>2020-07-29</td>\n",
              "      <td>95.0</td>\n",
              "    </tr>\n",
              "    <tr>\n",
              "      <th>7</th>\n",
              "      <td>811.0</td>\n",
              "      <td>10638.0</td>\n",
              "      <td>2020-07-30</td>\n",
              "      <td>96.0</td>\n",
              "    </tr>\n",
              "    <tr>\n",
              "      <th>8</th>\n",
              "      <td>941.0</td>\n",
              "      <td>10896.0</td>\n",
              "      <td>2020-07-31</td>\n",
              "      <td>97.0</td>\n",
              "    </tr>\n",
              "    <tr>\n",
              "      <th>9</th>\n",
              "      <td>1092.0</td>\n",
              "      <td>11160.0</td>\n",
              "      <td>2020-08-01</td>\n",
              "      <td>98.0</td>\n",
              "    </tr>\n",
              "    <tr>\n",
              "      <th>10</th>\n",
              "      <td>1267.0</td>\n",
              "      <td>11431.0</td>\n",
              "      <td>2020-08-02</td>\n",
              "      <td>99.0</td>\n",
              "    </tr>\n",
              "    <tr>\n",
              "      <th>11</th>\n",
              "      <td>1471.0</td>\n",
              "      <td>11708.0</td>\n",
              "      <td>2020-08-03</td>\n",
              "      <td>100.0</td>\n",
              "    </tr>\n",
              "    <tr>\n",
              "      <th>12</th>\n",
              "      <td>1707.0</td>\n",
              "      <td>11992.0</td>\n",
              "      <td>2020-08-04</td>\n",
              "      <td>101.0</td>\n",
              "    </tr>\n",
              "    <tr>\n",
              "      <th>13</th>\n",
              "      <td>1981.0</td>\n",
              "      <td>12282.0</td>\n",
              "      <td>2020-08-05</td>\n",
              "      <td>102.0</td>\n",
              "    </tr>\n",
              "    <tr>\n",
              "      <th>14</th>\n",
              "      <td>2299.0</td>\n",
              "      <td>12580.0</td>\n",
              "      <td>2020-08-06</td>\n",
              "      <td>103.0</td>\n",
              "    </tr>\n",
              "    <tr>\n",
              "      <th>15</th>\n",
              "      <td>2668.0</td>\n",
              "      <td>12885.0</td>\n",
              "      <td>2020-08-07</td>\n",
              "      <td>104.0</td>\n",
              "    </tr>\n",
              "  </tbody>\n",
              "</table>\n",
              "</div>"
            ],
            "text/plain": [
              "    Daily Confirmed  Total Confirmed       Date    Day\n",
              "0             318.0           9302.0 2020-07-24    NaN\n",
              "1             332.0           9214.0 2020-07-24   90.0\n",
              "2             385.0           9437.0 2020-07-25   91.0\n",
              "3             447.0           9666.0 2020-07-26   92.0\n",
              "4             519.0           9900.0 2020-07-27   93.0\n",
              "5             602.0          10141.0 2020-07-28   94.0\n",
              "6             699.0          10386.0 2020-07-29   95.0\n",
              "7             811.0          10638.0 2020-07-30   96.0\n",
              "8             941.0          10896.0 2020-07-31   97.0\n",
              "9            1092.0          11160.0 2020-08-01   98.0\n",
              "10           1267.0          11431.0 2020-08-02   99.0\n",
              "11           1471.0          11708.0 2020-08-03  100.0\n",
              "12           1707.0          11992.0 2020-08-04  101.0\n",
              "13           1981.0          12282.0 2020-08-05  102.0\n",
              "14           2299.0          12580.0 2020-08-06  103.0\n",
              "15           2668.0          12885.0 2020-08-07  104.0"
            ]
          },
          "metadata": {
            "tags": []
          },
          "execution_count": 24
        }
      ]
    },
    {
      "cell_type": "code",
      "metadata": {
        "id": "MIc30m89iPj2",
        "colab_type": "code",
        "colab": {
          "base_uri": "https://localhost:8080/",
          "height": 379
        },
        "outputId": "917b4670-f3f9-48a1-b6eb-678fb61f3116"
      },
      "source": [
        "%matplotlib inline\n",
        "import matplotlib.pyplot as plt\n",
        "\n",
        "fig= plt.figure(figsize=(18,7))\n",
        "\n",
        "axes= fig.add_axes([0.1,0.1,0.8,0.8])\n",
        "\n",
        "time = df['Date']\n",
        "position =df['Daily Confirmed']\n",
        "\n",
        "time1 = final['Date']\n",
        "position1 = final['Daily Confirmed']\n",
        "\n",
        "axes.plot(time, position)\n",
        "axes.plot(time1, position1)\n",
        "plt.xlabel('Date')\n",
        "plt.ylabel('Daily Confirmed')\n",
        "\n",
        "plt.show()\n",
        "fig.savefig('MDU_Daily.png')\n"
      ],
      "execution_count": 25,
      "outputs": [
        {
          "output_type": "display_data",
          "data": {
            "image/png": "[encoded data removed]",
            "text/plain": [
              "<Figure size 1296x504 with 1 Axes>"
            ]
          },
          "metadata": {
            "tags": [],
            "needs_background": "light"
          }
        }
      ]
    },
    {
      "cell_type": "code",
      "metadata": {
        "id": "Vv_G9jA3iPkM",
        "colab_type": "code",
        "colab": {
          "base_uri": "https://localhost:8080/",
          "height": 677
        },
        "outputId": "bd316541-7505-4b41-9dd0-dfd2c554bf42"
      },
      "source": [
        "%matplotlib inline\n",
        "import matplotlib.pyplot as plt\n",
        "\n",
        "fig= plt.figure(figsize=(16,12))\n",
        "\n",
        "axes= fig.add_axes([0.1,0.1,0.8,0.8])\n",
        "\n",
        "time = DF['Date']\n",
        "position =DF['Total Confirmed']\n",
        "\n",
        "time1 = final['Date']\n",
        "position1 = final['Total Confirmed']\n",
        "axes.plot(time, position)\n",
        "axes.plot(time1, position1)\n",
        "\n",
        "plt.xlabel('Date')\n",
        "plt.ylabel('Total Confirmed')\n",
        "fig.savefig('MDU_Total.png')"
      ],
      "execution_count": 26,
      "outputs": [
        {
          "output_type": "display_data",
          "data": {
            "image/png": "[encoded data removed]",
            "text/plain": [
              "<Figure size 1152x864 with 1 Axes>"
            ]
          },
          "metadata": {
            "tags": [],
            "needs_background": "light"
          }
        }
      ]
    },
    {
      "cell_type": "code",
      "metadata": {
        "id": "-DvbESqPiPkV",
        "colab_type": "code",
        "colab": {
          "base_uri": "https://localhost:8080/",
          "height": 198
        },
        "outputId": "35a31d98-cda5-4ab4-935a-cd85790a80af"
      },
      "source": [
        "#save to Csv\n",
        "final = final.iloc[1:]\n",
        "final.to_csv(\"predictMDU.csv\")\n",
        "pr=pd.read_csv('predictMDU.csv')\n",
        "pr.head()"
      ],
      "execution_count": 27,
      "outputs": [
        {
          "output_type": "execute_result",
          "data": {
            "text/html": [
              "<div>\n",
              "<style scoped>\n",
              "    .dataframe tbody tr th:only-of-type {\n",
              "        vertical-align: middle;\n",
              "    }\n",
              "\n",
              "    .dataframe tbody tr th {\n",
              "        vertical-align: top;\n",
              "    }\n",
              "\n",
              "    .dataframe thead th {\n",
              "        text-align: right;\n",
              "    }\n",
              "</style>\n",
              "<table border=\"1\" class=\"dataframe\">\n",
              "  <thead>\n",
              "    <tr style=\"text-align: right;\">\n",
              "      <th></th>\n",
              "      <th>Unnamed: 0</th>\n",
              "      <th>Daily Confirmed</th>\n",
              "      <th>Total Confirmed</th>\n",
              "      <th>Date</th>\n",
              "      <th>Day</th>\n",
              "    </tr>\n",
              "  </thead>\n",
              "  <tbody>\n",
              "    <tr>\n",
              "      <th>0</th>\n",
              "      <td>1</td>\n",
              "      <td>332.0</td>\n",
              "      <td>9214.0</td>\n",
              "      <td>2020-07-24</td>\n",
              "      <td>90.0</td>\n",
              "    </tr>\n",
              "    <tr>\n",
              "      <th>1</th>\n",
              "      <td>2</td>\n",
              "      <td>385.0</td>\n",
              "      <td>9437.0</td>\n",
              "      <td>2020-07-25</td>\n",
              "      <td>91.0</td>\n",
              "    </tr>\n",
              "    <tr>\n",
              "      <th>2</th>\n",
              "      <td>3</td>\n",
              "      <td>447.0</td>\n",
              "      <td>9666.0</td>\n",
              "      <td>2020-07-26</td>\n",
              "      <td>92.0</td>\n",
              "    </tr>\n",
              "    <tr>\n",
              "      <th>3</th>\n",
              "      <td>4</td>\n",
              "      <td>519.0</td>\n",
              "      <td>9900.0</td>\n",
              "      <td>2020-07-27</td>\n",
              "      <td>93.0</td>\n",
              "    </tr>\n",
              "    <tr>\n",
              "      <th>4</th>\n",
              "      <td>5</td>\n",
              "      <td>602.0</td>\n",
              "      <td>10141.0</td>\n",
              "      <td>2020-07-28</td>\n",
              "      <td>94.0</td>\n",
              "    </tr>\n",
              "  </tbody>\n",
              "</table>\n",
              "</div>"
            ],
            "text/plain": [
              "   Unnamed: 0  Daily Confirmed  Total Confirmed        Date   Day\n",
              "0           1            332.0           9214.0  2020-07-24  90.0\n",
              "1           2            385.0           9437.0  2020-07-25  91.0\n",
              "2           3            447.0           9666.0  2020-07-26  92.0\n",
              "3           4            519.0           9900.0  2020-07-27  93.0\n",
              "4           5            602.0          10141.0  2020-07-28  94.0"
            ]
          },
          "metadata": {
            "tags": []
          },
          "execution_count": 27
        }
      ]
    },
    {
      "cell_type": "code",
      "metadata": {
        "id": "7uG7LctW-Qae",
        "colab_type": "code",
        "colab": {
          "base_uri": "https://localhost:8080/",
          "height": 216
        },
        "outputId": "8a07680c-7ad3-4d8d-c2b3-9b98c9be0c7b"
      },
      "source": [
        "#Doubling Rate for every 7 days \n",
        "T1=DF['Total Confirmed']\n",
        "an = 6\n",
        "reminder = (len(T1)%an) \n",
        "if reminder != 0 :\n",
        "  T1 = T1[0:-reminder]\n",
        "re = ((len(T1))// an )\n",
        "Week=range(0,re)\n",
        "T1 = T1.to_numpy()\n",
        "T1=T1.reshape(re,an) \n",
        "double =  []\n",
        "print(len(T1))\n",
        "for n in range(0,len(T1)):\n",
        "  l2 = np.log(2)\n",
        "  Diff = np.log(T1[n][an-1]/T1[n][0])\n",
        "  V= l2*(an-1)/Diff\n",
        "  double.append(V)\n",
        "WL = DF['Date']\n",
        "WL=WL[6::an]\n",
        "DRate = pd.DataFrame(list(zip(double, Week,WL)), \n",
        "               columns =['DRate', 'Weeks','Date'])\n",
        "DRate.tail()"
      ],
      "execution_count": 35,
      "outputs": [
        {
          "output_type": "stream",
          "text": [
            "15\n"
          ],
          "name": "stdout"
        },
        {
          "output_type": "execute_result",
          "data": {
            "text/html": [
              "<div>\n",
              "<style scoped>\n",
              "    .dataframe tbody tr th:only-of-type {\n",
              "        vertical-align: middle;\n",
              "    }\n",
              "\n",
              "    .dataframe tbody tr th {\n",
              "        vertical-align: top;\n",
              "    }\n",
              "\n",
              "    .dataframe thead th {\n",
              "        text-align: right;\n",
              "    }\n",
              "</style>\n",
              "<table border=\"1\" class=\"dataframe\">\n",
              "  <thead>\n",
              "    <tr style=\"text-align: right;\">\n",
              "      <th></th>\n",
              "      <th>DRate</th>\n",
              "      <th>Weeks</th>\n",
              "      <th>Date</th>\n",
              "    </tr>\n",
              "  </thead>\n",
              "  <tbody>\n",
              "    <tr>\n",
              "      <th>9</th>\n",
              "      <td>5.185934</td>\n",
              "      <td>9</td>\n",
              "      <td>2020-06-25</td>\n",
              "    </tr>\n",
              "    <tr>\n",
              "      <th>10</th>\n",
              "      <td>5.002822</td>\n",
              "      <td>10</td>\n",
              "      <td>2020-07-01</td>\n",
              "    </tr>\n",
              "    <tr>\n",
              "      <th>11</th>\n",
              "      <td>8.305315</td>\n",
              "      <td>11</td>\n",
              "      <td>2020-07-07</td>\n",
              "    </tr>\n",
              "    <tr>\n",
              "      <th>12</th>\n",
              "      <td>13.194738</td>\n",
              "      <td>12</td>\n",
              "      <td>2020-07-13</td>\n",
              "    </tr>\n",
              "    <tr>\n",
              "      <th>13</th>\n",
              "      <td>16.731190</td>\n",
              "      <td>13</td>\n",
              "      <td>2020-07-19</td>\n",
              "    </tr>\n",
              "  </tbody>\n",
              "</table>\n",
              "</div>"
            ],
            "text/plain": [
              "        DRate  Weeks       Date\n",
              "9    5.185934      9 2020-06-25\n",
              "10   5.002822     10 2020-07-01\n",
              "11   8.305315     11 2020-07-07\n",
              "12  13.194738     12 2020-07-13\n",
              "13  16.731190     13 2020-07-19"
            ]
          },
          "metadata": {
            "tags": []
          },
          "execution_count": 35
        }
      ]
    },
    {
      "cell_type": "code",
      "metadata": {
        "id": "HE21GnW1-qui",
        "colab_type": "code",
        "colab": {
          "base_uri": "https://localhost:8080/",
          "height": 426
        },
        "outputId": "80f1cadf-0a4a-4e4a-acb6-a0e03683fd0a"
      },
      "source": [
        "%matplotlib inline\n",
        "import matplotlib.pyplot as plt\n",
        "fig= plt.figure(figsize=(18,6))\n",
        "ax = DRate.plot.bar(x='Weeks', y='DRate', rot=0,figsize=(18,6),label='Doubling Rate' )\n",
        "plt.savefig('MDu Doubling Rate')"
      ],
      "execution_count": 37,
      "outputs": [
        {
          "output_type": "display_data",
          "data": {
            "text/plain": [
              "<Figure size 1296x432 with 0 Axes>"
            ]
          },
          "metadata": {
            "tags": []
          }
        },
        {
          "output_type": "display_data",
          "data": {
            "image/png": "[encoded data removed]",
            "text/plain": [
              "<Figure size 1296x432 with 1 Axes>"
            ]
          },
          "metadata": {
            "tags": [],
            "needs_background": "light"
          }
        }
      ]
    },
    {
      "cell_type": "code",
      "metadata": {
        "id": "_fTZ4-r6pwlY",
        "colab_type": "code",
        "colab": {
          "base_uri": "https://localhost:8080/",
          "height": 198
        },
        "outputId": "75bb9716-4aa0-4042-b1a8-c04bd40464e8"
      },
      "source": [
        "df= pd.read_csv(\"https://api.covid19india.org/csv/latest/districts.csv\")\n",
        "df1=df.loc[df['District'] == \"Wayanad\"]\n",
        "df1.tail()"
      ],
      "execution_count": 91,
      "outputs": [
        {
          "output_type": "execute_result",
          "data": {
            "text/html": [
              "<div>\n",
              "<style scoped>\n",
              "    .dataframe tbody tr th:only-of-type {\n",
              "        vertical-align: middle;\n",
              "    }\n",
              "\n",
              "    .dataframe tbody tr th {\n",
              "        vertical-align: top;\n",
              "    }\n",
              "\n",
              "    .dataframe thead th {\n",
              "        text-align: right;\n",
              "    }\n",
              "</style>\n",
              "<table border=\"1\" class=\"dataframe\">\n",
              "  <thead>\n",
              "    <tr style=\"text-align: right;\">\n",
              "      <th></th>\n",
              "      <th>Date</th>\n",
              "      <th>State</th>\n",
              "      <th>District</th>\n",
              "      <th>Confirmed</th>\n",
              "      <th>Recovered</th>\n",
              "      <th>Deceased</th>\n",
              "      <th>Migrated</th>\n",
              "      <th>Tested</th>\n",
              "    </tr>\n",
              "  </thead>\n",
              "  <tbody>\n",
              "    <tr>\n",
              "      <th>55184</th>\n",
              "      <td>2020-07-21</td>\n",
              "      <td>Kerala</td>\n",
              "      <td>Wayanad</td>\n",
              "      <td>311</td>\n",
              "      <td>122</td>\n",
              "      <td>1</td>\n",
              "      <td>0</td>\n",
              "      <td>NaN</td>\n",
              "    </tr>\n",
              "    <tr>\n",
              "      <th>55898</th>\n",
              "      <td>2020-07-22</td>\n",
              "      <td>Kerala</td>\n",
              "      <td>Wayanad</td>\n",
              "      <td>315</td>\n",
              "      <td>127</td>\n",
              "      <td>1</td>\n",
              "      <td>0</td>\n",
              "      <td>NaN</td>\n",
              "    </tr>\n",
              "    <tr>\n",
              "      <th>56612</th>\n",
              "      <td>2020-07-23</td>\n",
              "      <td>Kerala</td>\n",
              "      <td>Wayanad</td>\n",
              "      <td>325</td>\n",
              "      <td>132</td>\n",
              "      <td>1</td>\n",
              "      <td>0</td>\n",
              "      <td>NaN</td>\n",
              "    </tr>\n",
              "    <tr>\n",
              "      <th>57326</th>\n",
              "      <td>2020-07-24</td>\n",
              "      <td>Kerala</td>\n",
              "      <td>Wayanad</td>\n",
              "      <td>340</td>\n",
              "      <td>153</td>\n",
              "      <td>1</td>\n",
              "      <td>0</td>\n",
              "      <td>NaN</td>\n",
              "    </tr>\n",
              "    <tr>\n",
              "      <th>58039</th>\n",
              "      <td>2020-07-25</td>\n",
              "      <td>Kerala</td>\n",
              "      <td>Wayanad</td>\n",
              "      <td>340</td>\n",
              "      <td>153</td>\n",
              "      <td>1</td>\n",
              "      <td>0</td>\n",
              "      <td>NaN</td>\n",
              "    </tr>\n",
              "  </tbody>\n",
              "</table>\n",
              "</div>"
            ],
            "text/plain": [
              "             Date   State District  ...  Deceased  Migrated  Tested\n",
              "55184  2020-07-21  Kerala  Wayanad  ...         1         0     NaN\n",
              "55898  2020-07-22  Kerala  Wayanad  ...         1         0     NaN\n",
              "56612  2020-07-23  Kerala  Wayanad  ...         1         0     NaN\n",
              "57326  2020-07-24  Kerala  Wayanad  ...         1         0     NaN\n",
              "58039  2020-07-25  Kerala  Wayanad  ...         1         0     NaN\n",
              "\n",
              "[5 rows x 8 columns]"
            ]
          },
          "metadata": {
            "tags": []
          },
          "execution_count": 91
        }
      ]
    },
    {
      "cell_type": "code",
      "metadata": {
        "id": "iQBbfnWtnoCF",
        "colab_type": "code",
        "colab": {
          "base_uri": "https://localhost:8080/",
          "height": 273
        },
        "outputId": "0406e35b-d1a9-4905-f57b-9e1b1e7593aa"
      },
      "source": [
        "T1=df1['Confirmed']\n",
        "an = 6\n",
        "reminder = (len(T1)%an) \n",
        "if reminder != 0 :\n",
        "  T1 = T1[0:-reminder]\n",
        "re = ((len(T1))// an )\n",
        "Week=range(0,re)\n",
        "T1 = T1.to_numpy()\n",
        "T1=T1.reshape(re,an) \n",
        "double =  []\n",
        "print(len(T1))\n",
        "for n in range(0,len(T1)):\n",
        "  l2 = np.log(2)\n",
        "  Diff = np.log(T1[n][an-1]/T1[n][0])\n",
        "  V= l2*(an-1)/Diff\n",
        "  double.append(V)\n",
        "WL = DF['Date']\n",
        "WL=WL[6::an]\n",
        "DRate = pd.DataFrame(list(zip(double, Week,WL)), \n",
        "               columns =['DRate', 'Weeks','Date'])\n",
        "DRate.tail()"
      ],
      "execution_count": 92,
      "outputs": [
        {
          "output_type": "stream",
          "text": [
            "15\n"
          ],
          "name": "stdout"
        },
        {
          "output_type": "stream",
          "text": [
            "/usr/local/lib/python3.6/dist-packages/ipykernel_launcher.py:15: RuntimeWarning: divide by zero encountered in double_scalars\n",
            "  from ipykernel import kernelapp as app\n"
          ],
          "name": "stderr"
        },
        {
          "output_type": "execute_result",
          "data": {
            "text/html": [
              "<div>\n",
              "<style scoped>\n",
              "    .dataframe tbody tr th:only-of-type {\n",
              "        vertical-align: middle;\n",
              "    }\n",
              "\n",
              "    .dataframe tbody tr th {\n",
              "        vertical-align: top;\n",
              "    }\n",
              "\n",
              "    .dataframe thead th {\n",
              "        text-align: right;\n",
              "    }\n",
              "</style>\n",
              "<table border=\"1\" class=\"dataframe\">\n",
              "  <thead>\n",
              "    <tr style=\"text-align: right;\">\n",
              "      <th></th>\n",
              "      <th>DRate</th>\n",
              "      <th>Weeks</th>\n",
              "      <th>Date</th>\n",
              "    </tr>\n",
              "  </thead>\n",
              "  <tbody>\n",
              "    <tr>\n",
              "      <th>9</th>\n",
              "      <td>17.519135</td>\n",
              "      <td>9</td>\n",
              "      <td>2020-06-25</td>\n",
              "    </tr>\n",
              "    <tr>\n",
              "      <th>10</th>\n",
              "      <td>20.167185</td>\n",
              "      <td>10</td>\n",
              "      <td>2020-07-01</td>\n",
              "    </tr>\n",
              "    <tr>\n",
              "      <th>11</th>\n",
              "      <td>20.553197</td>\n",
              "      <td>11</td>\n",
              "      <td>2020-07-07</td>\n",
              "    </tr>\n",
              "    <tr>\n",
              "      <th>12</th>\n",
              "      <td>9.716791</td>\n",
              "      <td>12</td>\n",
              "      <td>2020-07-13</td>\n",
              "    </tr>\n",
              "    <tr>\n",
              "      <th>13</th>\n",
              "      <td>9.308665</td>\n",
              "      <td>13</td>\n",
              "      <td>2020-07-19</td>\n",
              "    </tr>\n",
              "  </tbody>\n",
              "</table>\n",
              "</div>"
            ],
            "text/plain": [
              "        DRate  Weeks       Date\n",
              "9   17.519135      9 2020-06-25\n",
              "10  20.167185     10 2020-07-01\n",
              "11  20.553197     11 2020-07-07\n",
              "12   9.716791     12 2020-07-13\n",
              "13   9.308665     13 2020-07-19"
            ]
          },
          "metadata": {
            "tags": []
          },
          "execution_count": 92
        }
      ]
    },
    {
      "cell_type": "code",
      "metadata": {
        "id": "F6C9lzCWo9oo",
        "colab_type": "code",
        "colab": {
          "base_uri": "https://localhost:8080/",
          "height": 352
        },
        "outputId": "3c973d56-aca6-4952-c2d8-7f4a8bdbadc2"
      },
      "source": [
        "%matplotlib inline\n",
        "import matplotlib.pyplot as plt\n",
        "fig= plt.figure(figsize=(18,6))\n",
        "ax = DRate.plot.bar(x='Weeks', y='DRate', rot=0,figsize=(18,6),label='Doubling Rate' )\n",
        "plt.savefig('MDu Doubling Rate')"
      ],
      "execution_count": 93,
      "outputs": [
        {
          "output_type": "display_data",
          "data": {
            "text/plain": [
              "<Figure size 1296x432 with 0 Axes>"
            ]
          },
          "metadata": {
            "tags": []
          }
        },
        {
          "output_type": "display_data",
          "data": {
            "image/png": "[encoded data removed]",
            "text/plain": [
              "<Figure size 1296x432 with 1 Axes>"
            ]
          },
          "metadata": {
            "tags": [],
            "needs_background": "light"
          }
        }
      ]
    },
    {
      "cell_type": "code",
      "metadata": {
        "id": "jWhcYmt4pcsM",
        "colab_type": "code",
        "colab": {}
      },
      "source": [
        ""
      ],
      "execution_count": null,
      "outputs": []
    }
  ]
}