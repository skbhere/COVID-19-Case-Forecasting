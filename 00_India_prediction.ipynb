{
  "nbformat": 4,
  "nbformat_minor": 0,
  "metadata": {
    "kernelspec": {
      "display_name": "Python 3.6 - AzureML",
      "language": "python",
      "name": "python3-azureml"
    },
    "language_info": {
      "codemirror_mode": {
        "name": "ipython",
        "version": 3
      },
      "file_extension": ".py",
      "mimetype": "text/x-python",
      "name": "python",
      "nbconvert_exporter": "python",
      "pygments_lexer": "ipython3",
      "version": "3.6.9"
    },
    "colab": {
      "name": "00_India_prediction.ipynb",
      "provenance": [],
      "include_colab_link": true
    }
  },
  "cells": [
    {
      "cell_type": "markdown",
      "metadata": {
        "id": "view-in-github",
        "colab_type": "text"
      },
      "source": [
        "<a href=\"https://colab.research.google.com/github/skbhere/Simple-forecast-predicion-for-Covid-19-/blob/master/00_India_prediction.ipynb\" target=\"_parent\"><img src=\"https://colab.research.google.com/assets/colab-badge.svg\" alt=\"Open In Colab\"/></a>"
      ]
    },
    {
      "cell_type": "code",
      "metadata": {
        "id": "GApKuDDcOCaj",
        "colab_type": "code",
        "colab": {}
      },
      "source": [
        "import numpy as np\n",
        "import pandas as pd\n",
        "import datetime"
      ],
      "execution_count": 1,
      "outputs": []
    },
    {
      "cell_type": "code",
      "metadata": {
        "id": "j9f9_4arOCay",
        "colab_type": "code",
        "colab": {}
      },
      "source": [
        "df=pd.read_csv('https://api.covid19india.org/csv/latest/case_time_series.csv')"
      ],
      "execution_count": 2,
      "outputs": []
    },
    {
      "cell_type": "code",
      "metadata": {
        "id": "SVUERG8kOCay",
        "colab_type": "code",
        "colab": {
          "base_uri": "https://localhost:8080/",
          "height": 198
        },
        "outputId": "652946e3-e4f7-4f5f-eadc-49a6c3a2e84d"
      },
      "source": [
        "first = datetime.date(2020, 1, 30)\n",
        "leng =len(df)\n",
        "date_ = [first + datetime.timedelta(days=x) for x in range(leng)]\n",
        "Day = np.arange(1,(leng+1),1)\n",
        "date_ = pd.to_datetime(date_,utc=None)\n",
        "df[\"Date\"] = date_\n",
        "df[\"Day\"] = Day\n",
        "df0=df\n",
        "v=len(df) -1\n",
        "df=df.head(v)\n",
        "df.head()"
      ],
      "execution_count": 3,
      "outputs": [
        {
          "output_type": "execute_result",
          "data": {
            "text/html": [
              "<div>\n",
              "<style scoped>\n",
              "    .dataframe tbody tr th:only-of-type {\n",
              "        vertical-align: middle;\n",
              "    }\n",
              "\n",
              "    .dataframe tbody tr th {\n",
              "        vertical-align: top;\n",
              "    }\n",
              "\n",
              "    .dataframe thead th {\n",
              "        text-align: right;\n",
              "    }\n",
              "</style>\n",
              "<table border=\"1\" class=\"dataframe\">\n",
              "  <thead>\n",
              "    <tr style=\"text-align: right;\">\n",
              "      <th></th>\n",
              "      <th>Date</th>\n",
              "      <th>Daily Confirmed</th>\n",
              "      <th>Total Confirmed</th>\n",
              "      <th>Daily Recovered</th>\n",
              "      <th>Total Recovered</th>\n",
              "      <th>Daily Deceased</th>\n",
              "      <th>Total Deceased</th>\n",
              "      <th>Day</th>\n",
              "    </tr>\n",
              "  </thead>\n",
              "  <tbody>\n",
              "    <tr>\n",
              "      <th>0</th>\n",
              "      <td>2020-01-30</td>\n",
              "      <td>1</td>\n",
              "      <td>1</td>\n",
              "      <td>0</td>\n",
              "      <td>0</td>\n",
              "      <td>0</td>\n",
              "      <td>0</td>\n",
              "      <td>1</td>\n",
              "    </tr>\n",
              "    <tr>\n",
              "      <th>1</th>\n",
              "      <td>2020-01-31</td>\n",
              "      <td>0</td>\n",
              "      <td>1</td>\n",
              "      <td>0</td>\n",
              "      <td>0</td>\n",
              "      <td>0</td>\n",
              "      <td>0</td>\n",
              "      <td>2</td>\n",
              "    </tr>\n",
              "    <tr>\n",
              "      <th>2</th>\n",
              "      <td>2020-02-01</td>\n",
              "      <td>0</td>\n",
              "      <td>1</td>\n",
              "      <td>0</td>\n",
              "      <td>0</td>\n",
              "      <td>0</td>\n",
              "      <td>0</td>\n",
              "      <td>3</td>\n",
              "    </tr>\n",
              "    <tr>\n",
              "      <th>3</th>\n",
              "      <td>2020-02-02</td>\n",
              "      <td>1</td>\n",
              "      <td>2</td>\n",
              "      <td>0</td>\n",
              "      <td>0</td>\n",
              "      <td>0</td>\n",
              "      <td>0</td>\n",
              "      <td>4</td>\n",
              "    </tr>\n",
              "    <tr>\n",
              "      <th>4</th>\n",
              "      <td>2020-02-03</td>\n",
              "      <td>1</td>\n",
              "      <td>3</td>\n",
              "      <td>0</td>\n",
              "      <td>0</td>\n",
              "      <td>0</td>\n",
              "      <td>0</td>\n",
              "      <td>5</td>\n",
              "    </tr>\n",
              "  </tbody>\n",
              "</table>\n",
              "</div>"
            ],
            "text/plain": [
              "        Date  Daily Confirmed  ...  Total Deceased  Day\n",
              "0 2020-01-30                1  ...               0    1\n",
              "1 2020-01-31                0  ...               0    2\n",
              "2 2020-02-01                0  ...               0    3\n",
              "3 2020-02-02                1  ...               0    4\n",
              "4 2020-02-03                1  ...               0    5\n",
              "\n",
              "[5 rows x 8 columns]"
            ]
          },
          "metadata": {
            "tags": []
          },
          "execution_count": 3
        }
      ]
    },
    {
      "cell_type": "code",
      "metadata": {
        "id": "kfajekbuOCbC",
        "colab_type": "code",
        "colab": {}
      },
      "source": [
        "#df = df.drop(['Date','Total Confirmed','Daily Recovered', 'Total Recovered','Daily Deceased','Daily Confirmed'], axis=1)"
      ],
      "execution_count": 4,
      "outputs": []
    },
    {
      "cell_type": "code",
      "metadata": {
        "id": "rrv3xk-BOCbq",
        "colab_type": "code",
        "colab": {}
      },
      "source": [
        "#df=df.tail(6)\n",
        "df1=df.tail(11)\n",
        "df2=df.tail(20)\n",
        "df3=df.tail(10)"
      ],
      "execution_count": 5,
      "outputs": []
    },
    {
      "cell_type": "code",
      "metadata": {
        "id": "nmb4fVu0OCb6",
        "colab_type": "code",
        "colab": {}
      },
      "source": [
        "Y1 = np.log(df1['Total Confirmed'])\n",
        "Y1 = np.array(Y1)\n",
        "Y2 = np.log(df1['Total Recovered'])\n",
        "Y2 = np.array(Y2)\n",
        "Y3 = np.log(df1['Total Deceased'])\n",
        "Y3 = np.array(Y3)\n",
        "X1 = np.array(df1['Day'])\n",
        "X2 = np.array(df2['Day'])\n",
        "X = np.array(df3['Day'])\n",
        "#Y4 = np.array(df2['Daily Confirmed'])\n",
        "Y4 =np.log(df2['Daily Confirmed'])\n",
        "Y4 = np.array(Y4)\n",
        "Y5 =np.log(df2['Daily Recovered'])\n",
        "Y5 = np.array(Y5)\n",
        "Y6 =np.log(df2['Daily Deceased'])\n",
        "Y6 = np.array(Y6)\n"
      ],
      "execution_count": 6,
      "outputs": []
    },
    {
      "cell_type": "code",
      "metadata": {
        "id": "_hxheTQyOCb6",
        "colab_type": "code",
        "colab": {
          "base_uri": "https://localhost:8080/",
          "height": 145
        },
        "outputId": "e736fc81-a0c3-4dbc-8947-a8264e754927"
      },
      "source": [
        "from sklearn.linear_model import LinearRegression\n",
        "X1=X1.reshape(-1, 1)\n",
        "X2=X2.reshape(-1, 1)\n",
        "Y1=Y1.reshape(-1, 1)\n",
        "Y2=Y2.reshape(-1, 1)\n",
        "Y3=Y3.reshape(-1, 1)\n",
        "Y4=Y4.reshape(-1, 1)\n",
        "Y5=Y5.reshape(-1, 1)\n",
        "Y6=Y6.reshape(-1, 1)\n",
        "\n",
        "reg1 = LinearRegression().fit(X1, Y1)\n",
        "reg2 = LinearRegression().fit(X1, Y2)\n",
        "reg3 = LinearRegression().fit(X1, Y3)\n",
        "reg4 = LinearRegression().fit(X2, Y4)\n",
        "reg5 = LinearRegression().fit(X2, Y5)\n",
        "reg6 = LinearRegression().fit(X2, Y6)\n",
        "\n",
        "logb1 = reg1.coef_\n",
        "loga1 = reg1.intercept_\n",
        "a1 = np.exp(loga1)\n",
        "b1 = np.exp(logb1)\n",
        "\n",
        "logb2 = reg2.coef_\n",
        "loga2 = reg2.intercept_\n",
        "a2 = np.exp(loga2)\n",
        "b2 = np.exp(logb2)\n",
        "\n",
        "logb3 = reg3.coef_\n",
        "loga3 = reg3.intercept_\n",
        "a3 = np.exp(loga3)\n",
        "b3 = np.exp(logb3)\n",
        "\n",
        "logb4 = reg4.coef_\n",
        "loga4 = reg4.intercept_\n",
        "a4 = np.exp(loga4)\n",
        "b4 = np.exp(logb4)\n",
        "\n",
        "logb5 = reg5.coef_\n",
        "loga5 = reg5.intercept_\n",
        "a5 = np.exp(loga5)\n",
        "b5 = np.exp(logb5)\n",
        "\n",
        "logb6 = reg6.coef_\n",
        "loga6 = reg6.intercept_\n",
        "a6 = np.exp(loga6)\n",
        "b6 = np.exp(logb6)\n",
        "#print(\"Based on Last 20 Days Data\")\n",
        "#print (\"Total Confirmed Accuracy\", reg1.score(X1, Y1)*100)\n",
        "print (\"coefficient of determination for Total Confirmed\", reg1.score(X1, Y1)*100)\n",
        "print (\"coefficient of determination for Total Recovered \", reg2.score(X1, Y2)*100)\n",
        "print (\"coefficient of determination for Total Deceased \", reg3.score(X1, Y3)*100)\n",
        "print(\"coefficient of determination for Based on Last 30 Days Data\")\n",
        "print (\"coefficient of determination for Daily Confirmed \", reg4.score(X2, Y4)*100)\n",
        "print (\"coefficient of determination for Daily Recovered \", reg5.score(X2, Y5)*100)\n",
        "print (\"coefficient of determination for Daily Deceased \", reg6.score(X2, Y6)*100)"
      ],
      "execution_count": 7,
      "outputs": [
        {
          "output_type": "stream",
          "text": [
            "coefficient of determination for Total Confirmed 99.9890779869666\n",
            "coefficient of determination for Total Recovered  99.80161392028171\n",
            "coefficient of determination for Total Deceased  99.93260952513879\n",
            "coefficient of determination for Based on Last 30 Days Data\n",
            "coefficient of determination for Daily Confirmed  94.40340519225342\n",
            "coefficient of determination for Daily Recovered  64.70791085704096\n",
            "coefficient of determination for Daily Deceased  65.16394808738274\n"
          ],
          "name": "stdout"
        }
      ]
    },
    {
      "cell_type": "code",
      "metadata": {
        "id": "yKc8kmPqOCb6",
        "colab_type": "code",
        "colab": {
          "base_uri": "https://localhost:8080/",
          "height": 35
        },
        "outputId": "fc324e1f-2c71-404b-9e7b-065257760ec4"
      },
      "source": [
        "drange = 192\n",
        "start =len(df) +1\n",
        "dval = np.arange(start,start+drange,1)\n",
        "dval= np.array(dval)\n",
        "val= dval\n",
        "dval=dval.reshape(-1, 1)\n",
        "print(dval.shape)\n",
        "import datetime\n",
        "base = datetime.date.today() - datetime.timedelta(days=1)\n",
        "date_list = [base + datetime.timedelta(days=x) for x in range(drange)]\n",
        "date_list = pd.to_datetime(date_list,utc=None)\n",
        "\n",
        "DConfirmed = np.round_(np.multiply(a4,(np.power(b4,val))))\n",
        "TConfirmed = np.round_(np.multiply(a1,(np.power(b1,val))))\n",
        "#TConfirmed = np.round_(reg1.predict(dval))\n",
        "DRecovered = np.round_(np.multiply(a5,(np.power(b5,val))))\n",
        "TRecovered = np.round_(np.multiply(a2,(np.power(b2,val))))\n",
        "#TRecovered = np.round_(reg2.predict(dval))\n",
        "DDeceased = np.round_(np.multiply(a6,(np.power(b6,val))))\n",
        "TDeceased = np.round_(np.multiply(a3,(np.power(b3,val))))\n",
        "#TDeceased = np.round_(reg3.predict(dval))\n",
        "\n",
        "\n",
        "DConfirmed= DConfirmed.flatten()\n",
        "TConfirmed= TConfirmed.flatten()\n",
        "i = 1\n",
        "while i < len(TConfirmed):\n",
        "    DConfirmed[i]=TConfirmed[i]-TConfirmed[i-1]\n",
        "    i += 1\n",
        "\n",
        "dict = {\n",
        "   'Date' : date_list,\n",
        "       'Daily Confirmed': DConfirmed.flatten(), \n",
        "        'Total Confirmed': TConfirmed.flatten(), \n",
        "  #      'Daily Recovered': DRecovered.flatten() ,\n",
        "  #      'Total Recovered': TRecovered.flatten(),\n",
        " #       'Daily Deceased' : DDeceased.flatten(),\n",
        "       # 'Total Deceased' : TDeceased.flatten(),\n",
        "        'Day' : dval.flatten() ,\n",
        "       } \n",
        "final = pd.DataFrame(dict) \n"
      ],
      "execution_count": 55,
      "outputs": [
        {
          "output_type": "stream",
          "text": [
            "(192, 1)\n"
          ],
          "name": "stdout"
        }
      ]
    },
    {
      "cell_type": "code",
      "metadata": {
        "id": "t15mDmTfOCcJ",
        "colab_type": "code",
        "colab": {
          "base_uri": "https://localhost:8080/",
          "height": 198
        },
        "outputId": "b44d0ca7-7bb0-40e8-d30d-b98ba76c05aa"
      },
      "source": [
        "df0.tail()"
      ],
      "execution_count": 56,
      "outputs": [
        {
          "output_type": "execute_result",
          "data": {
            "text/html": [
              "<div>\n",
              "<style scoped>\n",
              "    .dataframe tbody tr th:only-of-type {\n",
              "        vertical-align: middle;\n",
              "    }\n",
              "\n",
              "    .dataframe tbody tr th {\n",
              "        vertical-align: top;\n",
              "    }\n",
              "\n",
              "    .dataframe thead th {\n",
              "        text-align: right;\n",
              "    }\n",
              "</style>\n",
              "<table border=\"1\" class=\"dataframe\">\n",
              "  <thead>\n",
              "    <tr style=\"text-align: right;\">\n",
              "      <th></th>\n",
              "      <th>Date</th>\n",
              "      <th>Daily Confirmed</th>\n",
              "      <th>Total Confirmed</th>\n",
              "      <th>Daily Recovered</th>\n",
              "      <th>Total Recovered</th>\n",
              "      <th>Daily Deceased</th>\n",
              "      <th>Total Deceased</th>\n",
              "      <th>Day</th>\n",
              "    </tr>\n",
              "  </thead>\n",
              "  <tbody>\n",
              "    <tr>\n",
              "      <th>166</th>\n",
              "      <td>2020-07-14</td>\n",
              "      <td>29917</td>\n",
              "      <td>937567</td>\n",
              "      <td>20977</td>\n",
              "      <td>593090</td>\n",
              "      <td>587</td>\n",
              "      <td>24317</td>\n",
              "      <td>167</td>\n",
              "    </tr>\n",
              "    <tr>\n",
              "      <th>167</th>\n",
              "      <td>2020-07-15</td>\n",
              "      <td>32607</td>\n",
              "      <td>970174</td>\n",
              "      <td>20646</td>\n",
              "      <td>613736</td>\n",
              "      <td>614</td>\n",
              "      <td>24931</td>\n",
              "      <td>168</td>\n",
              "    </tr>\n",
              "    <tr>\n",
              "      <th>168</th>\n",
              "      <td>2020-07-16</td>\n",
              "      <td>35468</td>\n",
              "      <td>1005642</td>\n",
              "      <td>22867</td>\n",
              "      <td>636603</td>\n",
              "      <td>680</td>\n",
              "      <td>25611</td>\n",
              "      <td>169</td>\n",
              "    </tr>\n",
              "    <tr>\n",
              "      <th>169</th>\n",
              "      <td>2020-07-17</td>\n",
              "      <td>34820</td>\n",
              "      <td>1040462</td>\n",
              "      <td>17476</td>\n",
              "      <td>654079</td>\n",
              "      <td>676</td>\n",
              "      <td>26287</td>\n",
              "      <td>170</td>\n",
              "    </tr>\n",
              "    <tr>\n",
              "      <th>170</th>\n",
              "      <td>2020-07-18</td>\n",
              "      <td>37407</td>\n",
              "      <td>1077869</td>\n",
              "      <td>23552</td>\n",
              "      <td>677631</td>\n",
              "      <td>543</td>\n",
              "      <td>26830</td>\n",
              "      <td>171</td>\n",
              "    </tr>\n",
              "  </tbody>\n",
              "</table>\n",
              "</div>"
            ],
            "text/plain": [
              "          Date  Daily Confirmed  ...  Total Deceased  Day\n",
              "166 2020-07-14            29917  ...           24317  167\n",
              "167 2020-07-15            32607  ...           24931  168\n",
              "168 2020-07-16            35468  ...           25611  169\n",
              "169 2020-07-17            34820  ...           26287  170\n",
              "170 2020-07-18            37407  ...           26830  171\n",
              "\n",
              "[5 rows x 8 columns]"
            ]
          },
          "metadata": {
            "tags": []
          },
          "execution_count": 56
        }
      ]
    },
    {
      "cell_type": "code",
      "metadata": {
        "id": "ZOccYLxrOCcJ",
        "colab_type": "code",
        "colab": {
          "base_uri": "https://localhost:8080/",
          "height": 198
        },
        "outputId": "01142524-cab6-45f6-c685-e765baedcbb1"
      },
      "source": [
        "final.tail(5)"
      ],
      "execution_count": 57,
      "outputs": [
        {
          "output_type": "execute_result",
          "data": {
            "text/html": [
              "<div>\n",
              "<style scoped>\n",
              "    .dataframe tbody tr th:only-of-type {\n",
              "        vertical-align: middle;\n",
              "    }\n",
              "\n",
              "    .dataframe tbody tr th {\n",
              "        vertical-align: top;\n",
              "    }\n",
              "\n",
              "    .dataframe thead th {\n",
              "        text-align: right;\n",
              "    }\n",
              "</style>\n",
              "<table border=\"1\" class=\"dataframe\">\n",
              "  <thead>\n",
              "    <tr style=\"text-align: right;\">\n",
              "      <th></th>\n",
              "      <th>Date</th>\n",
              "      <th>Daily Confirmed</th>\n",
              "      <th>Total Confirmed</th>\n",
              "      <th>Day</th>\n",
              "    </tr>\n",
              "  </thead>\n",
              "  <tbody>\n",
              "    <tr>\n",
              "      <th>187</th>\n",
              "      <td>2021-01-21</td>\n",
              "      <td>18341051.0</td>\n",
              "      <td>557767675.0</td>\n",
              "      <td>358</td>\n",
              "    </tr>\n",
              "    <tr>\n",
              "      <th>188</th>\n",
              "      <td>2021-01-22</td>\n",
              "      <td>18964664.0</td>\n",
              "      <td>576732339.0</td>\n",
              "      <td>359</td>\n",
              "    </tr>\n",
              "    <tr>\n",
              "      <th>189</th>\n",
              "      <td>2021-01-23</td>\n",
              "      <td>19609482.0</td>\n",
              "      <td>596341821.0</td>\n",
              "      <td>360</td>\n",
              "    </tr>\n",
              "    <tr>\n",
              "      <th>190</th>\n",
              "      <td>2021-01-24</td>\n",
              "      <td>20276225.0</td>\n",
              "      <td>616618046.0</td>\n",
              "      <td>361</td>\n",
              "    </tr>\n",
              "    <tr>\n",
              "      <th>191</th>\n",
              "      <td>2021-01-25</td>\n",
              "      <td>20965636.0</td>\n",
              "      <td>637583682.0</td>\n",
              "      <td>362</td>\n",
              "    </tr>\n",
              "  </tbody>\n",
              "</table>\n",
              "</div>"
            ],
            "text/plain": [
              "          Date  Daily Confirmed  Total Confirmed  Day\n",
              "187 2021-01-21       18341051.0      557767675.0  358\n",
              "188 2021-01-22       18964664.0      576732339.0  359\n",
              "189 2021-01-23       19609482.0      596341821.0  360\n",
              "190 2021-01-24       20276225.0      616618046.0  361\n",
              "191 2021-01-25       20965636.0      637583682.0  362"
            ]
          },
          "metadata": {
            "tags": []
          },
          "execution_count": 57
        }
      ]
    },
    {
      "cell_type": "code",
      "metadata": {
        "id": "M5eNssESdpno",
        "colab_type": "code",
        "colab": {
          "base_uri": "https://localhost:8080/",
          "height": 35
        },
        "outputId": "a0647ca1-fb25-4bfb-ebf9-d743420b25c9"
      },
      "source": [
        "1352600000/2 , final['Total Confirmed'][len(final)-1]\n"
      ],
      "execution_count": 60,
      "outputs": [
        {
          "output_type": "execute_result",
          "data": {
            "text/plain": [
              "(676300000.0, 637583682.0)"
            ]
          },
          "metadata": {
            "tags": []
          },
          "execution_count": 60
        }
      ]
    },
    {
      "cell_type": "code",
      "metadata": {
        "id": "ECSe5gyoOCcZ",
        "colab_type": "code",
        "colab": {
          "base_uri": "https://localhost:8080/",
          "height": 476
        },
        "outputId": "a2a0e128-0cca-4683-bf66-4e5dafb04a45"
      },
      "source": [
        "%matplotlib inline\n",
        "import matplotlib.pyplot as plt\n",
        "\n",
        "fig= plt.figure(figsize=(18,7))\n",
        "\n",
        "axes= fig.add_axes([0.1,0.1,0.8,0.8])\n",
        "\n",
        "time = df0['Date']\n",
        "position =df0['Total Confirmed']\n",
        "\n",
        "time1 = final['Date']\n",
        "position1 = final['Total Confirmed']\n",
        "axes.plot(time, position)\n",
        "axes.plot(time1, position1)\n",
        "\n",
        "plt.xlabel('Date(day)')\n",
        "plt.ylabel('INDIA Total Confirmed')\n",
        "fig.savefig('INDIA_Total.png')"
      ],
      "execution_count": 26,
      "outputs": [
        {
          "output_type": "display_data",
          "data": {
            "image/png": "[encoded data removed]",
            "text/plain": [
              "<Figure size 1296x504 with 1 Axes>"
            ]
          },
          "metadata": {
            "tags": [],
            "needs_background": "light"
          }
        }
      ]
    },
    {
      "cell_type": "code",
      "metadata": {
        "id": "u_ndF-3_OCcZ",
        "colab_type": "code",
        "colab": {
          "base_uri": "https://localhost:8080/",
          "height": 198
        },
        "outputId": "5e358eee-845f-4c6a-d859-76463d04fe91"
      },
      "source": [
        "#save to Csv\n",
        "final.to_csv(\"predict.csv\")\n",
        "pr=pd.read_csv('predict.csv')\n",
        "pr.head()"
      ],
      "execution_count": null,
      "outputs": [
        {
          "output_type": "execute_result",
          "data": {
            "text/html": [
              "<div>\n",
              "<style scoped>\n",
              "    .dataframe tbody tr th:only-of-type {\n",
              "        vertical-align: middle;\n",
              "    }\n",
              "\n",
              "    .dataframe tbody tr th {\n",
              "        vertical-align: top;\n",
              "    }\n",
              "\n",
              "    .dataframe thead th {\n",
              "        text-align: right;\n",
              "    }\n",
              "</style>\n",
              "<table border=\"1\" class=\"dataframe\">\n",
              "  <thead>\n",
              "    <tr style=\"text-align: right;\">\n",
              "      <th></th>\n",
              "      <th>Unnamed: 0</th>\n",
              "      <th>Date</th>\n",
              "      <th>Total Confirmed</th>\n",
              "      <th>Total Deceased</th>\n",
              "      <th>Day</th>\n",
              "    </tr>\n",
              "  </thead>\n",
              "  <tbody>\n",
              "    <tr>\n",
              "      <th>0</th>\n",
              "      <td>0</td>\n",
              "      <td>2020-07-16</td>\n",
              "      <td>1002525.0</td>\n",
              "      <td>25485.0</td>\n",
              "      <td>169</td>\n",
              "    </tr>\n",
              "    <tr>\n",
              "      <th>1</th>\n",
              "      <td>1</td>\n",
              "      <td>2020-07-17</td>\n",
              "      <td>1036215.0</td>\n",
              "      <td>26088.0</td>\n",
              "      <td>170</td>\n",
              "    </tr>\n",
              "    <tr>\n",
              "      <th>2</th>\n",
              "      <td>2</td>\n",
              "      <td>2020-07-18</td>\n",
              "      <td>1071038.0</td>\n",
              "      <td>26705.0</td>\n",
              "      <td>171</td>\n",
              "    </tr>\n",
              "    <tr>\n",
              "      <th>3</th>\n",
              "      <td>3</td>\n",
              "      <td>2020-07-19</td>\n",
              "      <td>1107031.0</td>\n",
              "      <td>27337.0</td>\n",
              "      <td>172</td>\n",
              "    </tr>\n",
              "    <tr>\n",
              "      <th>4</th>\n",
              "      <td>4</td>\n",
              "      <td>2020-07-20</td>\n",
              "      <td>1144234.0</td>\n",
              "      <td>27984.0</td>\n",
              "      <td>173</td>\n",
              "    </tr>\n",
              "  </tbody>\n",
              "</table>\n",
              "</div>"
            ],
            "text/plain": [
              "   Unnamed: 0        Date  Total Confirmed  Total Deceased  Day\n",
              "0           0  2020-07-16        1002525.0         25485.0  169\n",
              "1           1  2020-07-17        1036215.0         26088.0  170\n",
              "2           2  2020-07-18        1071038.0         26705.0  171\n",
              "3           3  2020-07-19        1107031.0         27337.0  172\n",
              "4           4  2020-07-20        1144234.0         27984.0  173"
            ]
          },
          "metadata": {
            "tags": []
          },
          "execution_count": 16
        }
      ]
    },
    {
      "cell_type": "code",
      "metadata": {
        "id": "yplNELiGdnr5",
        "colab_type": "code",
        "colab": {
          "base_uri": "https://localhost:8080/",
          "height": 978
        },
        "outputId": "0d823204-21c4-4b2f-9c11-f8e2c7ed82c6"
      },
      "source": [
        "p=pd.read_csv('predictIN.csv')\n",
        "p"
      ],
      "execution_count": null,
      "outputs": [
        {
          "output_type": "execute_result",
          "data": {
            "text/html": [
              "<div>\n",
              "<style scoped>\n",
              "    .dataframe tbody tr th:only-of-type {\n",
              "        vertical-align: middle;\n",
              "    }\n",
              "\n",
              "    .dataframe tbody tr th {\n",
              "        vertical-align: top;\n",
              "    }\n",
              "\n",
              "    .dataframe thead th {\n",
              "        text-align: right;\n",
              "    }\n",
              "</style>\n",
              "<table border=\"1\" class=\"dataframe\">\n",
              "  <thead>\n",
              "    <tr style=\"text-align: right;\">\n",
              "      <th></th>\n",
              "      <th>Unnamed: 0</th>\n",
              "      <th>Date</th>\n",
              "      <th>Total Confirmed</th>\n",
              "      <th>Total Deceased</th>\n",
              "      <th>Day</th>\n",
              "    </tr>\n",
              "  </thead>\n",
              "  <tbody>\n",
              "    <tr>\n",
              "      <th>0</th>\n",
              "      <td>0</td>\n",
              "      <td>2020-06-19</td>\n",
              "      <td>395769.0</td>\n",
              "      <td>13164.0</td>\n",
              "      <td>142</td>\n",
              "    </tr>\n",
              "    <tr>\n",
              "      <th>1</th>\n",
              "      <td>1</td>\n",
              "      <td>2020-06-20</td>\n",
              "      <td>410135.0</td>\n",
              "      <td>13900.0</td>\n",
              "      <td>143</td>\n",
              "    </tr>\n",
              "    <tr>\n",
              "      <th>2</th>\n",
              "      <td>2</td>\n",
              "      <td>2020-06-21</td>\n",
              "      <td>425022.0</td>\n",
              "      <td>14677.0</td>\n",
              "      <td>144</td>\n",
              "    </tr>\n",
              "    <tr>\n",
              "      <th>3</th>\n",
              "      <td>3</td>\n",
              "      <td>2020-06-22</td>\n",
              "      <td>440450.0</td>\n",
              "      <td>15497.0</td>\n",
              "      <td>145</td>\n",
              "    </tr>\n",
              "    <tr>\n",
              "      <th>4</th>\n",
              "      <td>4</td>\n",
              "      <td>2020-06-23</td>\n",
              "      <td>456437.0</td>\n",
              "      <td>16363.0</td>\n",
              "      <td>146</td>\n",
              "    </tr>\n",
              "    <tr>\n",
              "      <th>5</th>\n",
              "      <td>5</td>\n",
              "      <td>2020-06-24</td>\n",
              "      <td>473005.0</td>\n",
              "      <td>17277.0</td>\n",
              "      <td>147</td>\n",
              "    </tr>\n",
              "    <tr>\n",
              "      <th>6</th>\n",
              "      <td>6</td>\n",
              "      <td>2020-06-25</td>\n",
              "      <td>490175.0</td>\n",
              "      <td>18243.0</td>\n",
              "      <td>148</td>\n",
              "    </tr>\n",
              "    <tr>\n",
              "      <th>7</th>\n",
              "      <td>7</td>\n",
              "      <td>2020-06-26</td>\n",
              "      <td>507967.0</td>\n",
              "      <td>19262.0</td>\n",
              "      <td>149</td>\n",
              "    </tr>\n",
              "    <tr>\n",
              "      <th>8</th>\n",
              "      <td>8</td>\n",
              "      <td>2020-06-27</td>\n",
              "      <td>526405.0</td>\n",
              "      <td>20339.0</td>\n",
              "      <td>150</td>\n",
              "    </tr>\n",
              "    <tr>\n",
              "      <th>9</th>\n",
              "      <td>9</td>\n",
              "      <td>2020-06-28</td>\n",
              "      <td>545513.0</td>\n",
              "      <td>21476.0</td>\n",
              "      <td>151</td>\n",
              "    </tr>\n",
              "    <tr>\n",
              "      <th>10</th>\n",
              "      <td>10</td>\n",
              "      <td>2020-06-29</td>\n",
              "      <td>565314.0</td>\n",
              "      <td>22676.0</td>\n",
              "      <td>152</td>\n",
              "    </tr>\n",
              "    <tr>\n",
              "      <th>11</th>\n",
              "      <td>11</td>\n",
              "      <td>2020-06-30</td>\n",
              "      <td>585834.0</td>\n",
              "      <td>23943.0</td>\n",
              "      <td>153</td>\n",
              "    </tr>\n",
              "    <tr>\n",
              "      <th>12</th>\n",
              "      <td>12</td>\n",
              "      <td>2020-07-01</td>\n",
              "      <td>607099.0</td>\n",
              "      <td>25281.0</td>\n",
              "      <td>154</td>\n",
              "    </tr>\n",
              "    <tr>\n",
              "      <th>13</th>\n",
              "      <td>13</td>\n",
              "      <td>2020-07-02</td>\n",
              "      <td>629135.0</td>\n",
              "      <td>26694.0</td>\n",
              "      <td>155</td>\n",
              "    </tr>\n",
              "    <tr>\n",
              "      <th>14</th>\n",
              "      <td>14</td>\n",
              "      <td>2020-07-03</td>\n",
              "      <td>651972.0</td>\n",
              "      <td>28186.0</td>\n",
              "      <td>156</td>\n",
              "    </tr>\n",
              "    <tr>\n",
              "      <th>15</th>\n",
              "      <td>15</td>\n",
              "      <td>2020-07-04</td>\n",
              "      <td>675637.0</td>\n",
              "      <td>29761.0</td>\n",
              "      <td>157</td>\n",
              "    </tr>\n",
              "    <tr>\n",
              "      <th>16</th>\n",
              "      <td>16</td>\n",
              "      <td>2020-07-05</td>\n",
              "      <td>700162.0</td>\n",
              "      <td>31424.0</td>\n",
              "      <td>158</td>\n",
              "    </tr>\n",
              "    <tr>\n",
              "      <th>17</th>\n",
              "      <td>17</td>\n",
              "      <td>2020-07-06</td>\n",
              "      <td>725577.0</td>\n",
              "      <td>33180.0</td>\n",
              "      <td>159</td>\n",
              "    </tr>\n",
              "    <tr>\n",
              "      <th>18</th>\n",
              "      <td>18</td>\n",
              "      <td>2020-07-07</td>\n",
              "      <td>751914.0</td>\n",
              "      <td>35035.0</td>\n",
              "      <td>160</td>\n",
              "    </tr>\n",
              "    <tr>\n",
              "      <th>19</th>\n",
              "      <td>19</td>\n",
              "      <td>2020-07-08</td>\n",
              "      <td>779207.0</td>\n",
              "      <td>36993.0</td>\n",
              "      <td>161</td>\n",
              "    </tr>\n",
              "    <tr>\n",
              "      <th>20</th>\n",
              "      <td>20</td>\n",
              "      <td>2020-07-09</td>\n",
              "      <td>807491.0</td>\n",
              "      <td>39060.0</td>\n",
              "      <td>162</td>\n",
              "    </tr>\n",
              "    <tr>\n",
              "      <th>21</th>\n",
              "      <td>21</td>\n",
              "      <td>2020-07-10</td>\n",
              "      <td>836801.0</td>\n",
              "      <td>41243.0</td>\n",
              "      <td>163</td>\n",
              "    </tr>\n",
              "    <tr>\n",
              "      <th>22</th>\n",
              "      <td>22</td>\n",
              "      <td>2020-07-11</td>\n",
              "      <td>867176.0</td>\n",
              "      <td>43548.0</td>\n",
              "      <td>164</td>\n",
              "    </tr>\n",
              "    <tr>\n",
              "      <th>23</th>\n",
              "      <td>23</td>\n",
              "      <td>2020-07-12</td>\n",
              "      <td>898653.0</td>\n",
              "      <td>45982.0</td>\n",
              "      <td>165</td>\n",
              "    </tr>\n",
              "    <tr>\n",
              "      <th>24</th>\n",
              "      <td>24</td>\n",
              "      <td>2020-07-13</td>\n",
              "      <td>931272.0</td>\n",
              "      <td>48552.0</td>\n",
              "      <td>166</td>\n",
              "    </tr>\n",
              "    <tr>\n",
              "      <th>25</th>\n",
              "      <td>25</td>\n",
              "      <td>2020-07-14</td>\n",
              "      <td>965076.0</td>\n",
              "      <td>51265.0</td>\n",
              "      <td>167</td>\n",
              "    </tr>\n",
              "    <tr>\n",
              "      <th>26</th>\n",
              "      <td>26</td>\n",
              "      <td>2020-07-15</td>\n",
              "      <td>1000106.0</td>\n",
              "      <td>54130.0</td>\n",
              "      <td>168</td>\n",
              "    </tr>\n",
              "    <tr>\n",
              "      <th>27</th>\n",
              "      <td>27</td>\n",
              "      <td>2020-07-16</td>\n",
              "      <td>1036408.0</td>\n",
              "      <td>57155.0</td>\n",
              "      <td>169</td>\n",
              "    </tr>\n",
              "    <tr>\n",
              "      <th>28</th>\n",
              "      <td>28</td>\n",
              "      <td>2020-07-17</td>\n",
              "      <td>1074028.0</td>\n",
              "      <td>60349.0</td>\n",
              "      <td>170</td>\n",
              "    </tr>\n",
              "    <tr>\n",
              "      <th>29</th>\n",
              "      <td>29</td>\n",
              "      <td>2020-07-18</td>\n",
              "      <td>1113013.0</td>\n",
              "      <td>63722.0</td>\n",
              "      <td>171</td>\n",
              "    </tr>\n",
              "    <tr>\n",
              "      <th>30</th>\n",
              "      <td>30</td>\n",
              "      <td>2020-07-19</td>\n",
              "      <td>1153414.0</td>\n",
              "      <td>67283.0</td>\n",
              "      <td>172</td>\n",
              "    </tr>\n",
              "  </tbody>\n",
              "</table>\n",
              "</div>"
            ],
            "text/plain": [
              "    Unnamed: 0        Date  Total Confirmed  Total Deceased  Day\n",
              "0            0  2020-06-19         395769.0         13164.0  142\n",
              "1            1  2020-06-20         410135.0         13900.0  143\n",
              "2            2  2020-06-21         425022.0         14677.0  144\n",
              "3            3  2020-06-22         440450.0         15497.0  145\n",
              "4            4  2020-06-23         456437.0         16363.0  146\n",
              "5            5  2020-06-24         473005.0         17277.0  147\n",
              "6            6  2020-06-25         490175.0         18243.0  148\n",
              "7            7  2020-06-26         507967.0         19262.0  149\n",
              "8            8  2020-06-27         526405.0         20339.0  150\n",
              "9            9  2020-06-28         545513.0         21476.0  151\n",
              "10          10  2020-06-29         565314.0         22676.0  152\n",
              "11          11  2020-06-30         585834.0         23943.0  153\n",
              "12          12  2020-07-01         607099.0         25281.0  154\n",
              "13          13  2020-07-02         629135.0         26694.0  155\n",
              "14          14  2020-07-03         651972.0         28186.0  156\n",
              "15          15  2020-07-04         675637.0         29761.0  157\n",
              "16          16  2020-07-05         700162.0         31424.0  158\n",
              "17          17  2020-07-06         725577.0         33180.0  159\n",
              "18          18  2020-07-07         751914.0         35035.0  160\n",
              "19          19  2020-07-08         779207.0         36993.0  161\n",
              "20          20  2020-07-09         807491.0         39060.0  162\n",
              "21          21  2020-07-10         836801.0         41243.0  163\n",
              "22          22  2020-07-11         867176.0         43548.0  164\n",
              "23          23  2020-07-12         898653.0         45982.0  165\n",
              "24          24  2020-07-13         931272.0         48552.0  166\n",
              "25          25  2020-07-14         965076.0         51265.0  167\n",
              "26          26  2020-07-15        1000106.0         54130.0  168\n",
              "27          27  2020-07-16        1036408.0         57155.0  169\n",
              "28          28  2020-07-17        1074028.0         60349.0  170\n",
              "29          29  2020-07-18        1113013.0         63722.0  171\n",
              "30          30  2020-07-19        1153414.0         67283.0  172"
            ]
          },
          "metadata": {
            "tags": []
          },
          "execution_count": 29
        }
      ]
    },
    {
      "cell_type": "code",
      "metadata": {
        "id": "NGOAYZWRdYRC",
        "colab_type": "code",
        "colab": {
          "base_uri": "https://localhost:8080/",
          "height": 391
        },
        "outputId": "68a868d9-4975-40f9-a408-e9346aa08fdc"
      },
      "source": [
        "%matplotlib inline\n",
        "import matplotlib.pyplot as plt\n",
        "p['Date'] = pd.to_datetime(p['Date'])\n",
        "fig= plt.figure(figsize=(18,7))\n",
        "\n",
        "axes= fig.add_axes([0.1,0.1,0.8,0.8])\n",
        "\n",
        "time = df0['Date']\n",
        "position =df0['Total Confirmed']\n",
        "\n",
        "time1 = p['Date']\n",
        "position1 = p['Total Confirmed']\n",
        "\n",
        "axes.plot(time, position)\n",
        "axes.plot(time1, position1)\n",
        "plt.xlabel('Date')\n",
        "plt.ylabel('India Total Confirmed')\n",
        "\n",
        "plt.show()\n",
        "fig.savefig('IND Total Pred_Vs_Actualpng')"
      ],
      "execution_count": null,
      "outputs": [
        {
          "output_type": "display_data",
          "data": {
            "image/png": "[encoded data removed]",
            "text/plain": [
              "<Figure size 1296x504 with 1 Axes>"
            ]
          },
          "metadata": {
            "tags": [],
            "needs_background": "light"
          }
        }
      ]
    },
    {
      "cell_type": "code",
      "metadata": {
        "id": "y9E_yxtmR8mV",
        "colab_type": "code",
        "colab": {}
      },
      "source": [
        "T=df0['Total Confirmed']\n",
        "#T=T[::-1]\n",
        "Date = df0[\"Date\"]\n",
        "H = [None] * len(T)\n",
        "TM1 = [None] * len(T)\n",
        "i = 1\n",
        "while i < len(T):\n",
        "    TM1[i] =int(T[i-1]) \n",
        "    i += 1\n",
        "#TM1=TM1[::-1]\n",
        "HDF = {'Date': Date,'TM1' :TM1 ,'T':T}\n",
        "hdf = pd.DataFrame(data=HDF)\n",
        "hdf['H value'] = hdf['T'].divide(hdf['TM1'])\n",
        "hdf = hdf.tail(90)\n"
      ],
      "execution_count": 61,
      "outputs": []
    },
    {
      "cell_type": "code",
      "metadata": {
        "id": "y3-m67ImSlSv",
        "colab_type": "code",
        "colab": {
          "base_uri": "https://localhost:8080/",
          "height": 398
        },
        "outputId": "15b96615-564d-442c-8965-f0135316e313"
      },
      "source": [
        "%matplotlib inline\n",
        "import matplotlib.pyplot as plt\n",
        "\n",
        "fig= plt.figure(figsize=(18,7))\n",
        "\n",
        "axes= fig.add_axes([0.1,0.1,0.8,0.8])\n",
        "\n",
        "time = hdf['Date']\n",
        "position =hdf['H value']\n",
        "\n",
        "axes.plot(time, position)\n",
        "\n",
        "plt.xlabel('Date(day)')\n",
        "plt.ylabel('India H ')\n",
        "plt.show()\n",
        "fig.savefig('IND H value')"
      ],
      "execution_count": null,
      "outputs": [
        {
          "output_type": "execute_result",
          "data": {
            "text/plain": [
              "Text(0, 0.5, 'India H ')"
            ]
          },
          "metadata": {
            "tags": []
          },
          "execution_count": 93
        },
        {
          "output_type": "display_data",
          "data": {
            "image/png": "[encoded data removed]",
            "text/plain": [
              "<Figure size 1296x504 with 1 Axes>"
            ]
          },
          "metadata": {
            "tags": [],
            "needs_background": "light"
          }
        }
      ]
    },
    {
      "cell_type": "code",
      "metadata": {
        "id": "lShgGlLbz6Ar",
        "colab_type": "code",
        "colab": {
          "base_uri": "https://localhost:8080/",
          "height": 198
        },
        "outputId": "80c26254-470b-49f6-a1fe-e4d5595d8b33"
      },
      "source": [
        "#Doubling Rate for every 7 days \n",
        "T=df0['Total Confirmed']\n",
        "reminder = len(T)%7\n",
        "if reminder != 0 :\n",
        "  T = T[:-reminder]\n",
        "re = ((len(T))//7 )\n",
        "Week=range(1,re)\n",
        "T = T. to_numpy()\n",
        "T=T.reshape(re,7) \n",
        "double =  list ([None]*7)\n",
        "n=0\n",
        "while n<len(T):\n",
        "  v= (7*2) / (T[n][6] / T[n][0])\n",
        "  double.append(v) \n",
        "  n= n+1\n",
        "DRate = pd.DataFrame(list(zip(double, Week)), \n",
        "               columns =['DRate', 'Weeks'])\n",
        "DRate.tail()"
      ],
      "execution_count": 73,
      "outputs": [
        {
          "output_type": "execute_result",
          "data": {
            "text/html": [
              "<div>\n",
              "<style scoped>\n",
              "    .dataframe tbody tr th:only-of-type {\n",
              "        vertical-align: middle;\n",
              "    }\n",
              "\n",
              "    .dataframe tbody tr th {\n",
              "        vertical-align: top;\n",
              "    }\n",
              "\n",
              "    .dataframe thead th {\n",
              "        text-align: right;\n",
              "    }\n",
              "</style>\n",
              "<table border=\"1\" class=\"dataframe\">\n",
              "  <thead>\n",
              "    <tr style=\"text-align: right;\">\n",
              "      <th></th>\n",
              "      <th>DRate</th>\n",
              "      <th>Weeks</th>\n",
              "    </tr>\n",
              "  </thead>\n",
              "  <tbody>\n",
              "    <tr>\n",
              "      <th>18</th>\n",
              "      <td>8.798390</td>\n",
              "      <td>19</td>\n",
              "    </tr>\n",
              "    <tr>\n",
              "      <th>19</th>\n",
              "      <td>9.755330</td>\n",
              "      <td>20</td>\n",
              "    </tr>\n",
              "    <tr>\n",
              "      <th>20</th>\n",
              "      <td>9.208671</td>\n",
              "      <td>21</td>\n",
              "    </tr>\n",
              "    <tr>\n",
              "      <th>21</th>\n",
              "      <td>10.107026</td>\n",
              "      <td>22</td>\n",
              "    </tr>\n",
              "    <tr>\n",
              "      <th>22</th>\n",
              "      <td>10.237594</td>\n",
              "      <td>23</td>\n",
              "    </tr>\n",
              "  </tbody>\n",
              "</table>\n",
              "</div>"
            ],
            "text/plain": [
              "        DRate  Weeks\n",
              "18   8.798390     19\n",
              "19   9.755330     20\n",
              "20   9.208671     21\n",
              "21  10.107026     22\n",
              "22  10.237594     23"
            ]
          },
          "metadata": {
            "tags": []
          },
          "execution_count": 73
        }
      ]
    },
    {
      "cell_type": "code",
      "metadata": {
        "id": "DTmMyuMj0Gbi",
        "colab_type": "code",
        "colab": {
          "base_uri": "https://localhost:8080/",
          "height": 388
        },
        "outputId": "eaf8396c-4401-4988-aae7-4b1ce3003b75"
      },
      "source": [
        "ax = DRate.plot.bar(x='Weeks', y='DRate', rot=0,figsize=(18,6),label='Doubling Rate' )"
      ],
      "execution_count": 72,
      "outputs": [
        {
          "output_type": "display_data",
          "data": {
            "image/png": "[encoded data removed]",
            "text/plain": [
              "<Figure size 1296x432 with 1 Axes>"
            ]
          },
          "metadata": {
            "tags": [],
            "needs_background": "light"
          }
        }
      ]
    }
  ]
}