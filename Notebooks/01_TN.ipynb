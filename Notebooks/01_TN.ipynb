{
  "nbformat": 4,
  "nbformat_minor": 0,
  "metadata": {
    "kernelspec": {
      "name": "python3",
      "display_name": "Python 3"
    },
    "colab": {
      "name": "01_TN.ipynb",
      "provenance": [],
      "include_colab_link": true
    },
    "accelerator": "GPU"
  },
  "cells": [
    {
      "cell_type": "markdown",
      "metadata": {
        "id": "view-in-github",
        "colab_type": "text"
      },
      "source": [
        "<a href=\"https://colab.research.google.com/github/skbhere/COVID-19-Case-Forecasting/blob/master/Notebooks/01_TN.ipynb\" target=\"_parent\"><img src=\"https://colab.research.google.com/assets/colab-badge.svg\" alt=\"Open In Colab\"/></a>"
      ]
    },
    {
      "cell_type": "code",
      "metadata": {
        "id": "5PMvjbq2iPie",
        "colab_type": "code",
        "colab": {}
      },
      "source": [
        "import numpy as np\n",
        "import pandas as pd"
      ],
      "execution_count": null,
      "outputs": []
    },
    {
      "cell_type": "code",
      "metadata": {
        "id": "T34X5uwhiPis",
        "colab_type": "code",
        "colab": {}
      },
      "source": [
        "df0 = pd.read_json(\"https://api.covid19india.org/v3/timeseries.json\")"
      ],
      "execution_count": null,
      "outputs": []
    },
    {
      "cell_type": "code",
      "metadata": {
        "scrolled": true,
        "id": "A1NG0KPZiPiy",
        "colab_type": "code",
        "colab": {}
      },
      "source": [
        "\n",
        "TN = df0['TN']\n",
        "TN =TN.to_dict() \n",
        "data = pd.DataFrame.from_dict(TN)\n",
        "data =  data.transpose()\n",
        "data = data['total']\n",
        "df2=pd.DataFrame(data)\n",
        "data=data.reindex(index=data.index[::-1])\n",
        "data = data.drop(data.index[0:28])\n",
        "data = data.head(len(data)-3)\n",
        "data=data.drop(data.index[0])"
      ],
      "execution_count": null,
      "outputs": []
    },
    {
      "cell_type": "code",
      "metadata": {
        "id": "HeCeKuyBiU4A",
        "colab_type": "code",
        "colab": {}
      },
      "source": [
        "\n",
        "TN = df0['TN']\n",
        "TN =TN.to_dict() \n",
        "d = pd.DataFrame.from_dict(TN)\n",
        "d =  d.transpose()\n",
        "d = d['delta']\n",
        "df2=pd.DataFrame(d)\n",
        "d=d.reindex(index=d.index[::-1])\n",
        "d = d.drop(d.index[0:28])\n",
        "d = d.head(len(d)-11)\n",
        "d=d.drop(d.index[0])\n"
      ],
      "execution_count": null,
      "outputs": []
    },
    {
      "cell_type": "code",
      "metadata": {
        "scrolled": true,
        "id": "HOg1q2aZiPi5",
        "colab_type": "code",
        "colab": {}
      },
      "source": [
        "dcon =[]\n",
        "con = []\n",
        "dec = []\n",
        "rec = []\n",
        "\n",
        "for index, value in data.items():\n",
        "    con.append(data[index]['confirmed'])\n",
        "    dec.append(data[index]['deceased'])\n",
        "    rec.append(data[index]['recovered'])\n",
        "    \n",
        "\n",
        "for index, value in d.items():\n",
        "    dcon.append(d[index]['confirmed'])\n",
        "  \n",
        "n = len(data)\n",
        "day = list(range(1, n+1))\n",
        "\n",
        "dict1 = { \n",
        "'date' : data.index.values,\n",
        "'Total Confirmed' :con,\n",
        "'Total Deceased' : dec,\n",
        "'Total Recovered' : rec,\n",
        "}\n",
        "\n",
        "nn = len(d)\n",
        "day1 = list(range(1, nn+1))\n",
        "dict2 = { \n",
        "         'Date' : d.index.values,\n",
        "         'Daily Confirmed' :dcon,\n",
        "         \n",
        "    \n",
        "}\n",
        "\n",
        "dict1\n",
        "DF= pd.DataFrame(dict1) \n",
        "DF=DF.head(len(DF))\n",
        "DF=DF.reindex(index=DF.index[::-1])\n",
        "DF[\"Day\"] = day\n",
        "Dailyf = pd.DataFrame(dict2) \n",
        "Dailyf=Dailyf.reindex(index=Dailyf.index[::-1])\n",
        "Dailyf[\"Day\"] = day1\n",
        "df=Dailyf\n",
        "#data['2020-06-13']['confirmed']"
      ],
      "execution_count": null,
      "outputs": []
    },
    {
      "cell_type": "code",
      "metadata": {
        "id": "NuLCQ-27iPjB",
        "colab_type": "code",
        "colab": {}
      },
      "source": [
        "xlen=len(df)\n",
        "sp=round(xlen*0.6)\n",
        "df['Date'] = pd.to_datetime(df['Date'])\n"
      ],
      "execution_count": null,
      "outputs": []
    },
    {
      "cell_type": "code",
      "metadata": {
        "id": "iASB49r3iPjG",
        "colab_type": "code",
        "colab": {}
      },
      "source": [
        "df2 = Dailyf.tail(17)\n",
        "df1 =DF.tail(5)"
      ],
      "execution_count": null,
      "outputs": []
    },
    {
      "cell_type": "code",
      "metadata": {
        "id": "Mjoq0R4PiPjc",
        "colab_type": "code",
        "colab": {}
      },
      "source": [
        "X1 = np.array(df1['Day'])\n",
        "X2 = np.array(df2['Day'])\n",
        "#Y1 = np.array(df1['Total Confirmed'])\n",
        "Y2 = np.array(df1['Total Recovered'])\n",
        "#Y3 = np.array(df1['Total Deceased'])\n",
        "Y1 = np.log(df1['Total Confirmed'])\n",
        "Y1 = np.array(Y1)\n",
        "Y2 = np.log(df1['Total Recovered'])\n",
        "Y2 = np.array(Y2)\n",
        "Y3 = np.log(df1['Total Deceased'])\n",
        "Y3 = np.array(Y3)\n",
        "#Y4 = np.array(df2['Daily Confirmed'])\n",
        "\n",
        "Y4 =np.log(df2['Daily Confirmed'])\n",
        "Y4 = np.array(Y4)\n"
      ],
      "execution_count": null,
      "outputs": []
    },
    {
      "cell_type": "code",
      "metadata": {
        "id": "DcOlR4igiPji",
        "colab_type": "code",
        "colab": {
          "base_uri": "https://localhost:8080/",
          "height": 108
        },
        "outputId": "14708a60-8ce8-4f15-db1d-5155aae78c82"
      },
      "source": [
        "from sklearn.linear_model import LinearRegression\n",
        "X1=X1.reshape(-1, 1)\n",
        "X2=X2.reshape(-1, 1)\n",
        "Y1=Y1.reshape(-1, 1)\n",
        "Y2=Y2.reshape(-1, 1)\n",
        "Y3=Y3.reshape(-1, 1)\n",
        "Y4=Y4.reshape(-1, 1)\n",
        "\n",
        "reg1 = LinearRegression().fit(X1, Y1)\n",
        "reg2 = LinearRegression().fit(X1, Y2)\n",
        "reg3 = LinearRegression().fit(X1, Y3)\n",
        "reg4 = LinearRegression().fit(X2, Y4)\n",
        "\n",
        "\n",
        "logb1 = reg1.coef_\n",
        "loga1 = reg1.intercept_\n",
        "a1 = np.exp(loga1)\n",
        "b1 = np.exp(logb1)\n",
        "\n",
        "logb2 = reg2.coef_\n",
        "loga2 = reg2.intercept_\n",
        "a2 = np.exp(loga2)\n",
        "b2 = np.exp(logb2)\n",
        "\n",
        "logb3 = reg3.coef_\n",
        "loga3 = reg3.intercept_\n",
        "a3 = np.exp(loga3)\n",
        "b3 = np.exp(logb3)\n",
        "\n",
        "logb4 = reg4.coef_\n",
        "loga4 = reg4.intercept_\n",
        "a4 = np.exp(loga4)\n",
        "b4 = np.exp(logb4)\n",
        "\n",
        "\n",
        "\n",
        "#print(\"Based on Last 20 Days Data\")\n",
        "#print (\"Total Confirmed Accuracy\", reg1.score(X1, Y1)*100)\n",
        "print (\"coefficient of determination for Total Confirmed\", reg1.score(X1, Y1)*100)\n",
        "print (\"coefficient of determination for Total Recovered \", reg2.score(X1, Y2)*100)\n",
        "print (\"coefficient of determination for Total Deceased \", reg3.score(X1, Y3)*100)\n",
        "print(\"coefficient of determination for Based on Last 30 Days Data\")\n",
        "print (\"coefficient of determination for Daily Confirmed \", reg4.score(X2, Y4)*100)\n",
        "#print (\"coefficient of determination for Daily Recovered \", reg5.score(X2, Y5)*100)\n",
        "#print (\"coefficient of determination for Daily Deceased \", reg6.score(X2, Y6)*100)\n"
      ],
      "execution_count": null,
      "outputs": [
        {
          "output_type": "stream",
          "text": [
            "coefficient of determination for Total Confirmed 99.97597164956578\n",
            "coefficient of determination for Total Recovered  99.47189985881812\n",
            "coefficient of determination for Total Deceased  77.92741932664786\n",
            "coefficient of determination for Based on Last 30 Days Data\n",
            "coefficient of determination for Daily Confirmed  86.41023763186979\n"
          ],
          "name": "stdout"
        }
      ]
    },
    {
      "cell_type": "code",
      "metadata": {
        "id": "Sfz63JT2iPjn",
        "colab_type": "code",
        "colab": {
          "base_uri": "https://localhost:8080/",
          "height": 198
        },
        "outputId": "a5ea18a0-7e0c-4202-bad2-a33a7b9e50df"
      },
      "source": [
        "drange = 35\n",
        "start =len(df) +1\n",
        "dval = np.arange(start,start+drange,1)\n",
        "dval= np.array(dval)\n",
        "val= dval\n",
        "dval=dval.reshape(-1, 1)\n",
        "\n",
        "start1 =len(DF)\n",
        "dval1 = np.arange(start1,start1+drange,1)\n",
        "dval1= np.array(dval1)\n",
        "val1= dval1\n",
        "dval1=dval1.reshape(-1, 1)\n",
        "import datetime\n",
        "base = datetime.date.today() - datetime.timedelta(days=1)\n",
        "#base = datetime.date(2020, 7, 17)\n",
        "date_list = [base + datetime.timedelta(days=x) for x in range(drange)]\n",
        "\n",
        "# DConfirmed = forecast(drange+1)\n",
        "# DConfirmed =DConfirmed[:-1]\n",
        "DConfirmed = np.round_(np.multiply(a4,(np.power(b4,val))))\n",
        "TConfirmed = np.round_(np.multiply(a1,(np.power(b1,val1))))\n",
        "#TConfirmed = np.round_(reg1.predict(dval1))\n",
        "#DRecovered = np.round_(np.multiply(a5,(np.power(b5,val))))\n",
        "TRecovered = np.round_(np.multiply(a2,(np.power(b2,val1))))\n",
        "#TRecovered = np.round_(reg2.predict(dval1))\n",
        "#DDeceased = np.round_(np.multiply(a6,(np.power(b6,val))))\n",
        "#TDeceased = np.round_(np.multiply(a3,(np.power(b3,val1))))\n",
        "#TDeceased = np.round_(reg3.predict(dval1))\n",
        "\n",
        "DConfirmed= DConfirmed.flatten()\n",
        "TConfirmed= TConfirmed.flatten()\n",
        "i = 1\n",
        "while i < len(TConfirmed):\n",
        "    DConfirmed[i]=TConfirmed[i]-TConfirmed[i-1]\n",
        "    i += 1\n",
        "\n",
        "lastD = df['Daily Confirmed'][0]\n",
        "lastT = DF['Total Confirmed'][0]\n",
        "lastDat = DF['date'][0]\n",
        "new_row = pd.DataFrame({'Daily Confirmed':lastD.flatten() ,\n",
        "                        'Total Confirmed':lastT.flatten(),\n",
        "                        'Date': pd.to_datetime(lastDat)\n",
        "                        })\n",
        "active = TConfirmed - TRecovered\n",
        "#DConfirmed[0]=DF['Total Confirmed'][0]-TConfirmed[0]\n",
        "dict = {\n",
        "        'Date' : date_list,\n",
        "        'Daily Confirmed': DConfirmed.flatten(), \n",
        "        'Total Confirmed': TConfirmed.flatten(), \n",
        "   #     'Daily Recovered': DRecovered.flatten() ,\n",
        "        'Total Recovered': TRecovered.flatten(),\n",
        "        'Active cases' : active.flatten(),\n",
        "    #    'Daily Deceased' : DDeceased.flatten(),\n",
        "     #   'Total Deceased' : TDeceased.flatten(),\n",
        "        'Day' : dval1.flatten() ,\n",
        "       } \n",
        "final = pd.DataFrame(dict) \n",
        "final = pd.concat([new_row, final]).reset_index(drop = True) \n",
        "final['Date'] = pd.to_datetime(final['Date'])\n",
        "final.head(5) \n"
      ],
      "execution_count": null,
      "outputs": [
        {
          "output_type": "execute_result",
          "data": {
            "text/html": [
              "<div>\n",
              "<style scoped>\n",
              "    .dataframe tbody tr th:only-of-type {\n",
              "        vertical-align: middle;\n",
              "    }\n",
              "\n",
              "    .dataframe tbody tr th {\n",
              "        vertical-align: top;\n",
              "    }\n",
              "\n",
              "    .dataframe thead th {\n",
              "        text-align: right;\n",
              "    }\n",
              "</style>\n",
              "<table border=\"1\" class=\"dataframe\">\n",
              "  <thead>\n",
              "    <tr style=\"text-align: right;\">\n",
              "      <th></th>\n",
              "      <th>Daily Confirmed</th>\n",
              "      <th>Total Confirmed</th>\n",
              "      <th>Date</th>\n",
              "      <th>Total Recovered</th>\n",
              "      <th>Active cases</th>\n",
              "      <th>Day</th>\n",
              "    </tr>\n",
              "  </thead>\n",
              "  <tbody>\n",
              "    <tr>\n",
              "      <th>0</th>\n",
              "      <td>6988.0</td>\n",
              "      <td>206737.0</td>\n",
              "      <td>2020-07-25</td>\n",
              "      <td>NaN</td>\n",
              "      <td>NaN</td>\n",
              "      <td>NaN</td>\n",
              "    </tr>\n",
              "    <tr>\n",
              "      <th>1</th>\n",
              "      <td>6638.0</td>\n",
              "      <td>206622.0</td>\n",
              "      <td>2020-07-25</td>\n",
              "      <td>150194.0</td>\n",
              "      <td>56428.0</td>\n",
              "      <td>119.0</td>\n",
              "    </tr>\n",
              "    <tr>\n",
              "      <th>2</th>\n",
              "      <td>7114.0</td>\n",
              "      <td>213736.0</td>\n",
              "      <td>2020-07-26</td>\n",
              "      <td>156910.0</td>\n",
              "      <td>56826.0</td>\n",
              "      <td>120.0</td>\n",
              "    </tr>\n",
              "    <tr>\n",
              "      <th>3</th>\n",
              "      <td>7359.0</td>\n",
              "      <td>221095.0</td>\n",
              "      <td>2020-07-27</td>\n",
              "      <td>163925.0</td>\n",
              "      <td>57170.0</td>\n",
              "      <td>121.0</td>\n",
              "    </tr>\n",
              "    <tr>\n",
              "      <th>4</th>\n",
              "      <td>7613.0</td>\n",
              "      <td>228708.0</td>\n",
              "      <td>2020-07-28</td>\n",
              "      <td>171254.0</td>\n",
              "      <td>57454.0</td>\n",
              "      <td>122.0</td>\n",
              "    </tr>\n",
              "  </tbody>\n",
              "</table>\n",
              "</div>"
            ],
            "text/plain": [
              "   Daily Confirmed  Total Confirmed  ... Active cases    Day\n",
              "0           6988.0         206737.0  ...          NaN    NaN\n",
              "1           6638.0         206622.0  ...      56428.0  119.0\n",
              "2           7114.0         213736.0  ...      56826.0  120.0\n",
              "3           7359.0         221095.0  ...      57170.0  121.0\n",
              "4           7613.0         228708.0  ...      57454.0  122.0\n",
              "\n",
              "[5 rows x 6 columns]"
            ]
          },
          "metadata": {
            "tags": []
          },
          "execution_count": 40
        }
      ]
    },
    {
      "cell_type": "code",
      "metadata": {
        "scrolled": false,
        "id": "JP0V21beiPj8",
        "colab_type": "code",
        "colab": {
          "base_uri": "https://localhost:8080/",
          "height": 198
        },
        "outputId": "9b6fd01a-75bb-427f-bbfd-e77a274d1517"
      },
      "source": [
        "final.tail(5)"
      ],
      "execution_count": null,
      "outputs": [
        {
          "output_type": "execute_result",
          "data": {
            "text/html": [
              "<div>\n",
              "<style scoped>\n",
              "    .dataframe tbody tr th:only-of-type {\n",
              "        vertical-align: middle;\n",
              "    }\n",
              "\n",
              "    .dataframe tbody tr th {\n",
              "        vertical-align: top;\n",
              "    }\n",
              "\n",
              "    .dataframe thead th {\n",
              "        text-align: right;\n",
              "    }\n",
              "</style>\n",
              "<table border=\"1\" class=\"dataframe\">\n",
              "  <thead>\n",
              "    <tr style=\"text-align: right;\">\n",
              "      <th></th>\n",
              "      <th>Daily Confirmed</th>\n",
              "      <th>Total Confirmed</th>\n",
              "      <th>Date</th>\n",
              "      <th>Total Recovered</th>\n",
              "      <th>Active cases</th>\n",
              "      <th>Day</th>\n",
              "    </tr>\n",
              "  </thead>\n",
              "  <tbody>\n",
              "    <tr>\n",
              "      <th>31</th>\n",
              "      <td>18988.0</td>\n",
              "      <td>570468.0</td>\n",
              "      <td>2020-08-24</td>\n",
              "      <td>557871.0</td>\n",
              "      <td>12597.0</td>\n",
              "      <td>149.0</td>\n",
              "    </tr>\n",
              "    <tr>\n",
              "      <th>32</th>\n",
              "      <td>19642.0</td>\n",
              "      <td>590110.0</td>\n",
              "      <td>2020-08-25</td>\n",
              "      <td>582814.0</td>\n",
              "      <td>7296.0</td>\n",
              "      <td>150.0</td>\n",
              "    </tr>\n",
              "    <tr>\n",
              "      <th>33</th>\n",
              "      <td>20319.0</td>\n",
              "      <td>610429.0</td>\n",
              "      <td>2020-08-26</td>\n",
              "      <td>608872.0</td>\n",
              "      <td>1557.0</td>\n",
              "      <td>151.0</td>\n",
              "    </tr>\n",
              "    <tr>\n",
              "      <th>34</th>\n",
              "      <td>21018.0</td>\n",
              "      <td>631447.0</td>\n",
              "      <td>2020-08-27</td>\n",
              "      <td>636095.0</td>\n",
              "      <td>-4648.0</td>\n",
              "      <td>152.0</td>\n",
              "    </tr>\n",
              "    <tr>\n",
              "      <th>35</th>\n",
              "      <td>21742.0</td>\n",
              "      <td>653189.0</td>\n",
              "      <td>2020-08-28</td>\n",
              "      <td>664535.0</td>\n",
              "      <td>-11346.0</td>\n",
              "      <td>153.0</td>\n",
              "    </tr>\n",
              "  </tbody>\n",
              "</table>\n",
              "</div>"
            ],
            "text/plain": [
              "    Daily Confirmed  Total Confirmed  ... Active cases    Day\n",
              "31          18988.0         570468.0  ...      12597.0  149.0\n",
              "32          19642.0         590110.0  ...       7296.0  150.0\n",
              "33          20319.0         610429.0  ...       1557.0  151.0\n",
              "34          21018.0         631447.0  ...      -4648.0  152.0\n",
              "35          21742.0         653189.0  ...     -11346.0  153.0\n",
              "\n",
              "[5 rows x 6 columns]"
            ]
          },
          "metadata": {
            "tags": []
          },
          "execution_count": 41
        }
      ]
    },
    {
      "cell_type": "code",
      "metadata": {
        "id": "MIc30m89iPj2",
        "colab_type": "code",
        "colab": {
          "base_uri": "https://localhost:8080/",
          "height": 465
        },
        "outputId": "1fd5e17b-ec54-4b16-8b36-2662131ee309"
      },
      "source": [
        "%matplotlib inline\n",
        "import matplotlib.pyplot as plt\n",
        "\n",
        "fig= plt.figure(figsize=(18,7))\n",
        "\n",
        "axes= fig.add_axes([0.1,0.1,0.8,0.8])\n",
        "\n",
        "time = df['Date']\n",
        "position =df['Daily Confirmed']\n",
        "\n",
        "time1 = final['Date']\n",
        "position1 = final['Daily Confirmed']\n",
        "\n",
        "axes.plot(time, position)\n",
        "axes.plot(time1, position1)\n",
        "plt.xlabel('Date')\n",
        "plt.ylabel('TN Daily Confirmed')\n",
        "\n",
        "plt.show()\n",
        "fig.savefig('TN_Daily.png')\n"
      ],
      "execution_count": null,
      "outputs": [
        {
          "output_type": "display_data",
          "data": {
            "image/png": "[encoded data removed]",
            "text/plain": [
              "<Figure size 1296x504 with 1 Axes>"
            ]
          },
          "metadata": {
            "tags": [],
            "needs_background": "light"
          }
        }
      ]
    },
    {
      "cell_type": "code",
      "metadata": {
        "id": "lrILYTlqShqh",
        "colab_type": "code",
        "colab": {
          "base_uri": "https://localhost:8080/",
          "height": 465
        },
        "outputId": "9317b1c0-98ba-4a78-d9fe-b5f65b729fd0"
      },
      "source": [
        "%matplotlib inline\n",
        "import matplotlib.pyplot as plt\n",
        "\n",
        "fig= plt.figure(figsize=(18,7))\n",
        "\n",
        "axes= fig.add_axes([0.1,0.1,0.8,0.8])\n",
        "\n",
        "# time = df0['Date']\n",
        "# position =df0['Total Confirmed']\n",
        "# axes.plot(time, position)\n",
        "\n",
        "time1 = final['Date']\n",
        "position1 = final['Active cases']\n",
        "axes.plot(time1, position1)\n",
        "\n",
        "plt.xlabel('Date(day)')\n",
        "plt.ylabel('INDIA Active Cases')\n",
        "fig.savefig('TN_Active.png')"
      ],
      "execution_count": null,
      "outputs": [
        {
          "output_type": "display_data",
          "data": {
            "image/png": "[encoded data removed]",
            "text/plain": [
              "<Figure size 1296x504 with 1 Axes>"
            ]
          },
          "metadata": {
            "tags": [],
            "needs_background": "light"
          }
        }
      ]
    },
    {
      "cell_type": "code",
      "metadata": {
        "id": "Vv_G9jA3iPkM",
        "colab_type": "code",
        "colab": {
          "base_uri": "https://localhost:8080/",
          "height": 465
        },
        "outputId": "b3e9e663-8119-45a2-a42f-ea555532fd02"
      },
      "source": [
        "%matplotlib inline\n",
        "import matplotlib.pyplot as plt\n",
        "\n",
        "fig= plt.figure(figsize=(18,7))\n",
        "\n",
        "axes= fig.add_axes([0.1,0.1,0.8,0.8])\n",
        "\n",
        "time = DF['date']\n",
        "position =DF['Total Confirmed']\n",
        "\n",
        "time1 = final['Date']\n",
        "position1 = final['Total Confirmed']\n",
        "axes.plot(time, position)\n",
        "axes.plot(time1, position1)\n",
        "\n",
        "plt.xlabel('Date')\n",
        "plt.ylabel('TN Total Confirmed')\n",
        "fig.savefig('TN_Total.png')"
      ],
      "execution_count": null,
      "outputs": [
        {
          "output_type": "display_data",
          "data": {
            "image/png": "[encoded data removed]",
            "text/plain": [
              "<Figure size 1296x504 with 1 Axes>"
            ]
          },
          "metadata": {
            "tags": [],
            "needs_background": "light"
          }
        }
      ]
    },
    {
      "cell_type": "code",
      "metadata": {
        "id": "-DvbESqPiPkV",
        "colab_type": "code",
        "colab": {
          "base_uri": "https://localhost:8080/",
          "height": 198
        },
        "outputId": "54aec2bc-c426-45a9-a794-bc698549ca87"
      },
      "source": [
        "#save to Csv\n",
        "final.to_csv(\"predictTN.csv\")\n",
        "pr=pd.read_csv('predictTN.csv')\n",
        "pr.head()"
      ],
      "execution_count": null,
      "outputs": [
        {
          "output_type": "execute_result",
          "data": {
            "text/html": [
              "<div>\n",
              "<style scoped>\n",
              "    .dataframe tbody tr th:only-of-type {\n",
              "        vertical-align: middle;\n",
              "    }\n",
              "\n",
              "    .dataframe tbody tr th {\n",
              "        vertical-align: top;\n",
              "    }\n",
              "\n",
              "    .dataframe thead th {\n",
              "        text-align: right;\n",
              "    }\n",
              "</style>\n",
              "<table border=\"1\" class=\"dataframe\">\n",
              "  <thead>\n",
              "    <tr style=\"text-align: right;\">\n",
              "      <th></th>\n",
              "      <th>Unnamed: 0</th>\n",
              "      <th>Daily Confirmed</th>\n",
              "      <th>Total Confirmed</th>\n",
              "      <th>Date</th>\n",
              "      <th>Total Recovered</th>\n",
              "      <th>Active cases</th>\n",
              "      <th>Day</th>\n",
              "    </tr>\n",
              "  </thead>\n",
              "  <tbody>\n",
              "    <tr>\n",
              "      <th>0</th>\n",
              "      <td>0</td>\n",
              "      <td>6988.0</td>\n",
              "      <td>206737.0</td>\n",
              "      <td>2020-07-25</td>\n",
              "      <td>NaN</td>\n",
              "      <td>NaN</td>\n",
              "      <td>NaN</td>\n",
              "    </tr>\n",
              "    <tr>\n",
              "      <th>1</th>\n",
              "      <td>1</td>\n",
              "      <td>6638.0</td>\n",
              "      <td>206622.0</td>\n",
              "      <td>2020-07-25</td>\n",
              "      <td>150194.0</td>\n",
              "      <td>56428.0</td>\n",
              "      <td>119.0</td>\n",
              "    </tr>\n",
              "    <tr>\n",
              "      <th>2</th>\n",
              "      <td>2</td>\n",
              "      <td>7114.0</td>\n",
              "      <td>213736.0</td>\n",
              "      <td>2020-07-26</td>\n",
              "      <td>156910.0</td>\n",
              "      <td>56826.0</td>\n",
              "      <td>120.0</td>\n",
              "    </tr>\n",
              "    <tr>\n",
              "      <th>3</th>\n",
              "      <td>3</td>\n",
              "      <td>7359.0</td>\n",
              "      <td>221095.0</td>\n",
              "      <td>2020-07-27</td>\n",
              "      <td>163925.0</td>\n",
              "      <td>57170.0</td>\n",
              "      <td>121.0</td>\n",
              "    </tr>\n",
              "    <tr>\n",
              "      <th>4</th>\n",
              "      <td>4</td>\n",
              "      <td>7613.0</td>\n",
              "      <td>228708.0</td>\n",
              "      <td>2020-07-28</td>\n",
              "      <td>171254.0</td>\n",
              "      <td>57454.0</td>\n",
              "      <td>122.0</td>\n",
              "    </tr>\n",
              "  </tbody>\n",
              "</table>\n",
              "</div>"
            ],
            "text/plain": [
              "   Unnamed: 0  Daily Confirmed  ...  Active cases    Day\n",
              "0           0           6988.0  ...           NaN    NaN\n",
              "1           1           6638.0  ...       56428.0  119.0\n",
              "2           2           7114.0  ...       56826.0  120.0\n",
              "3           3           7359.0  ...       57170.0  121.0\n",
              "4           4           7613.0  ...       57454.0  122.0\n",
              "\n",
              "[5 rows x 7 columns]"
            ]
          },
          "metadata": {
            "tags": []
          },
          "execution_count": 45
        }
      ]
    },
    {
      "cell_type": "code",
      "metadata": {
        "id": "SaNZdFTyZnwv",
        "colab_type": "code",
        "colab": {}
      },
      "source": [
        "\n",
        "T=DF['Total Confirmed']\n",
        "#T=T[::-1]\n",
        "Date = DF[\"date\"]\n",
        "H = [None] * len(T)\n",
        "TM1 = [None] * len(T)\n",
        "i = 1\n",
        "while i < len(T):\n",
        "    TM1[i] =T[i-1] \n",
        "    i += 1\n",
        "TM1=TM1[::-1]\n",
        "HDF = {'Date': Date,'TM1' :TM1 ,'T':T}\n",
        "hdf = pd.DataFrame(data=HDF)\n",
        "hdf['H value'] = hdf['TM1'].divide(T)\n",
        "hdf['DR'] = 2/hdf['H value'] \n",
        "#hdf['H value'] = hdf['T'].divide(hdf['TM1'])\n",
        "hdf = hdf.tail(30)\n"
      ],
      "execution_count": null,
      "outputs": []
    },
    {
      "cell_type": "code",
      "metadata": {
        "id": "TWi7loK3WbJ3",
        "colab_type": "code",
        "colab": {
          "base_uri": "https://localhost:8080/",
          "height": 465
        },
        "outputId": "3b786e3b-b279-452b-dc44-b352918b21a1"
      },
      "source": [
        "%matplotlib inline\n",
        "import matplotlib.pyplot as plt\n",
        "\n",
        "fig= plt.figure(figsize=(18,7))\n",
        "\n",
        "axes= fig.add_axes([0.1,0.1,0.8,0.8])\n",
        "\n",
        "time = hdf['Date']\n",
        "position =hdf['H value']\n",
        "axes.plot(time, position)\n",
        "\n",
        "# time1 = hdf['Date']\n",
        "# position1 =hdf['DR']\n",
        "# axes.plot(time1, position1)\n",
        "\n",
        "plt.xlabel('Date(day)')\n",
        "plt.ylabel('TN H ')\n",
        "fig.savefig('H Value')"
      ],
      "execution_count": null,
      "outputs": [
        {
          "output_type": "display_data",
          "data": {
            "image/png": "[encoded data removed]",
            "text/plain": [
              "<Figure size 1296x504 with 1 Axes>"
            ]
          },
          "metadata": {
            "tags": [],
            "needs_background": "light"
          }
        }
      ]
    },
    {
      "cell_type": "code",
      "metadata": {
        "id": "0IKKk4czWqPr",
        "colab_type": "code",
        "colab": {
          "base_uri": "https://localhost:8080/",
          "height": 216
        },
        "outputId": "f1f207fd-0b6f-4bec-a519-8112e0603e68"
      },
      "source": [
        "#Doubling Rate for every 7 days \n",
        "an = 7\n",
        "T1= DF['Total Confirmed']\n",
        "reminder = (len(T)%an) \n",
        "if reminder != 0 :\n",
        "  T1 = T1[0:-reminder]\n",
        "re = ((len(T))// an )\n",
        "Week=range(0,re)\n",
        "T1 = T1.to_numpy()\n",
        "T1=T1.reshape(re,an) \n",
        "double =  []\n",
        "print(len(T1))\n",
        "for n in range(0,len(T1)):\n",
        "  l2 = np.log(2)\n",
        "  Diff = np.log(T1[n][an-1]/T1[n][0])\n",
        "  V= l2*an/Diff\n",
        "  double.append(V)\n",
        "WL = DF['date']\n",
        "WL=WL[6::an]\n",
        "DRate = pd.DataFrame(list(zip(double, Week,WL)), \n",
        "               columns =['DRate', 'Weeks','Date'])\n",
        "DRate.tail()"
      ],
      "execution_count": null,
      "outputs": [
        {
          "output_type": "stream",
          "text": [
            "17\n"
          ],
          "name": "stdout"
        },
        {
          "output_type": "execute_result",
          "data": {
            "text/html": [
              "<div>\n",
              "<style scoped>\n",
              "    .dataframe tbody tr th:only-of-type {\n",
              "        vertical-align: middle;\n",
              "    }\n",
              "\n",
              "    .dataframe tbody tr th {\n",
              "        vertical-align: top;\n",
              "    }\n",
              "\n",
              "    .dataframe thead th {\n",
              "        text-align: right;\n",
              "    }\n",
              "</style>\n",
              "<table border=\"1\" class=\"dataframe\">\n",
              "  <thead>\n",
              "    <tr style=\"text-align: right;\">\n",
              "      <th></th>\n",
              "      <th>DRate</th>\n",
              "      <th>Weeks</th>\n",
              "      <th>Date</th>\n",
              "    </tr>\n",
              "  </thead>\n",
              "  <tbody>\n",
              "    <tr>\n",
              "      <th>12</th>\n",
              "      <td>17.510820</td>\n",
              "      <td>12</td>\n",
              "      <td>2020-06-27</td>\n",
              "    </tr>\n",
              "    <tr>\n",
              "      <th>13</th>\n",
              "      <td>18.464870</td>\n",
              "      <td>13</td>\n",
              "      <td>2020-07-04</td>\n",
              "    </tr>\n",
              "    <tr>\n",
              "      <th>14</th>\n",
              "      <td>25.721750</td>\n",
              "      <td>14</td>\n",
              "      <td>2020-07-11</td>\n",
              "    </tr>\n",
              "    <tr>\n",
              "      <th>15</th>\n",
              "      <td>27.014297</td>\n",
              "      <td>15</td>\n",
              "      <td>2020-07-18</td>\n",
              "    </tr>\n",
              "    <tr>\n",
              "      <th>16</th>\n",
              "      <td>25.326282</td>\n",
              "      <td>16</td>\n",
              "      <td>2020-07-25</td>\n",
              "    </tr>\n",
              "  </tbody>\n",
              "</table>\n",
              "</div>"
            ],
            "text/plain": [
              "        DRate  Weeks       Date\n",
              "12  17.510820     12 2020-06-27\n",
              "13  18.464870     13 2020-07-04\n",
              "14  25.721750     14 2020-07-11\n",
              "15  27.014297     15 2020-07-18\n",
              "16  25.326282     16 2020-07-25"
            ]
          },
          "metadata": {
            "tags": []
          },
          "execution_count": 55
        }
      ]
    },
    {
      "cell_type": "code",
      "metadata": {
        "id": "XYeDXp9bxr49",
        "colab_type": "code",
        "colab": {
          "base_uri": "https://localhost:8080/",
          "height": 388
        },
        "outputId": "d6c81de1-4b4f-418d-e321-8b78ade5b956"
      },
      "source": [
        "\n",
        "import datetime as dt\n",
        " \n",
        "ax = DRate.plot.bar(x='Weeks', y='DRate', rot=0,figsize=(18,6),label='Doubling Rate')\n",
        "plt.savefig('TN Doubling Rate')"
      ],
      "execution_count": null,
      "outputs": [
        {
          "output_type": "display_data",
          "data": {
            "image/png": "[encoded data removed]",
            "text/plain": [
              "<Figure size 1296x432 with 1 Axes>"
            ]
          },
          "metadata": {
            "tags": [],
            "needs_background": "light"
          }
        }
      ]
    },
    {
      "cell_type": "code",
      "metadata": {
        "id": "PGm0ZNvLtczK",
        "colab_type": "code",
        "colab": {}
      },
      "source": [
        ""
      ],
      "execution_count": null,
      "outputs": []
    },
    {
      "cell_type": "code",
      "metadata": {
        "id": "DDd2OKO3c3lr",
        "colab_type": "code",
        "colab": {}
      },
      "source": [
        ""
      ],
      "execution_count": null,
      "outputs": []
    },
    {
      "cell_type": "code",
      "metadata": {
        "id": "jh7VBov7c3Yq",
        "colab_type": "code",
        "colab": {}
      },
      "source": [
        ""
      ],
      "execution_count": null,
      "outputs": []
    },
    {
      "cell_type": "code",
      "metadata": {
        "id": "XZ8EClztiPkc",
        "colab_type": "code",
        "colab": {
          "base_uri": "https://localhost:8080/",
          "height": 413
        },
        "outputId": "37de828f-10a1-4ce2-d433-059934a49267"
      },
      "source": [
        "p=pd.read_csv('p.csv')\n",
        "p"
      ],
      "execution_count": null,
      "outputs": [
        {
          "output_type": "error",
          "ename": "FileNotFoundError",
          "evalue": "ignored",
          "traceback": [
            "\u001b[0;31m---------------------------------------------------------------------------\u001b[0m",
            "\u001b[0;31mFileNotFoundError\u001b[0m                         Traceback (most recent call last)",
            "\u001b[0;32m<ipython-input-46-7c459c932333>\u001b[0m in \u001b[0;36m<module>\u001b[0;34m()\u001b[0m\n\u001b[0;32m----> 1\u001b[0;31m \u001b[0mp\u001b[0m\u001b[0;34m=\u001b[0m\u001b[0mpd\u001b[0m\u001b[0;34m.\u001b[0m\u001b[0mread_csv\u001b[0m\u001b[0;34m(\u001b[0m\u001b[0;34m'p.csv'\u001b[0m\u001b[0;34m)\u001b[0m\u001b[0;34m\u001b[0m\u001b[0;34m\u001b[0m\u001b[0m\n\u001b[0m\u001b[1;32m      2\u001b[0m \u001b[0mp\u001b[0m\u001b[0;34m\u001b[0m\u001b[0;34m\u001b[0m\u001b[0m\n",
            "\u001b[0;32m/usr/local/lib/python3.6/dist-packages/pandas/io/parsers.py\u001b[0m in \u001b[0;36mparser_f\u001b[0;34m(filepath_or_buffer, sep, delimiter, header, names, index_col, usecols, squeeze, prefix, mangle_dupe_cols, dtype, engine, converters, true_values, false_values, skipinitialspace, skiprows, skipfooter, nrows, na_values, keep_default_na, na_filter, verbose, skip_blank_lines, parse_dates, infer_datetime_format, keep_date_col, date_parser, dayfirst, cache_dates, iterator, chunksize, compression, thousands, decimal, lineterminator, quotechar, quoting, doublequote, escapechar, comment, encoding, dialect, error_bad_lines, warn_bad_lines, delim_whitespace, low_memory, memory_map, float_precision)\u001b[0m\n\u001b[1;32m    674\u001b[0m         )\n\u001b[1;32m    675\u001b[0m \u001b[0;34m\u001b[0m\u001b[0m\n\u001b[0;32m--> 676\u001b[0;31m         \u001b[0;32mreturn\u001b[0m \u001b[0m_read\u001b[0m\u001b[0;34m(\u001b[0m\u001b[0mfilepath_or_buffer\u001b[0m\u001b[0;34m,\u001b[0m \u001b[0mkwds\u001b[0m\u001b[0;34m)\u001b[0m\u001b[0;34m\u001b[0m\u001b[0;34m\u001b[0m\u001b[0m\n\u001b[0m\u001b[1;32m    677\u001b[0m \u001b[0;34m\u001b[0m\u001b[0m\n\u001b[1;32m    678\u001b[0m     \u001b[0mparser_f\u001b[0m\u001b[0;34m.\u001b[0m\u001b[0m__name__\u001b[0m \u001b[0;34m=\u001b[0m \u001b[0mname\u001b[0m\u001b[0;34m\u001b[0m\u001b[0;34m\u001b[0m\u001b[0m\n",
            "\u001b[0;32m/usr/local/lib/python3.6/dist-packages/pandas/io/parsers.py\u001b[0m in \u001b[0;36m_read\u001b[0;34m(filepath_or_buffer, kwds)\u001b[0m\n\u001b[1;32m    446\u001b[0m \u001b[0;34m\u001b[0m\u001b[0m\n\u001b[1;32m    447\u001b[0m     \u001b[0;31m# Create the parser.\u001b[0m\u001b[0;34m\u001b[0m\u001b[0;34m\u001b[0m\u001b[0;34m\u001b[0m\u001b[0m\n\u001b[0;32m--> 448\u001b[0;31m     \u001b[0mparser\u001b[0m \u001b[0;34m=\u001b[0m \u001b[0mTextFileReader\u001b[0m\u001b[0;34m(\u001b[0m\u001b[0mfp_or_buf\u001b[0m\u001b[0;34m,\u001b[0m \u001b[0;34m**\u001b[0m\u001b[0mkwds\u001b[0m\u001b[0;34m)\u001b[0m\u001b[0;34m\u001b[0m\u001b[0;34m\u001b[0m\u001b[0m\n\u001b[0m\u001b[1;32m    449\u001b[0m \u001b[0;34m\u001b[0m\u001b[0m\n\u001b[1;32m    450\u001b[0m     \u001b[0;32mif\u001b[0m \u001b[0mchunksize\u001b[0m \u001b[0;32mor\u001b[0m \u001b[0miterator\u001b[0m\u001b[0;34m:\u001b[0m\u001b[0;34m\u001b[0m\u001b[0;34m\u001b[0m\u001b[0m\n",
            "\u001b[0;32m/usr/local/lib/python3.6/dist-packages/pandas/io/parsers.py\u001b[0m in \u001b[0;36m__init__\u001b[0;34m(self, f, engine, **kwds)\u001b[0m\n\u001b[1;32m    878\u001b[0m             \u001b[0mself\u001b[0m\u001b[0;34m.\u001b[0m\u001b[0moptions\u001b[0m\u001b[0;34m[\u001b[0m\u001b[0;34m\"has_index_names\"\u001b[0m\u001b[0;34m]\u001b[0m \u001b[0;34m=\u001b[0m \u001b[0mkwds\u001b[0m\u001b[0;34m[\u001b[0m\u001b[0;34m\"has_index_names\"\u001b[0m\u001b[0;34m]\u001b[0m\u001b[0;34m\u001b[0m\u001b[0;34m\u001b[0m\u001b[0m\n\u001b[1;32m    879\u001b[0m \u001b[0;34m\u001b[0m\u001b[0m\n\u001b[0;32m--> 880\u001b[0;31m         \u001b[0mself\u001b[0m\u001b[0;34m.\u001b[0m\u001b[0m_make_engine\u001b[0m\u001b[0;34m(\u001b[0m\u001b[0mself\u001b[0m\u001b[0;34m.\u001b[0m\u001b[0mengine\u001b[0m\u001b[0;34m)\u001b[0m\u001b[0;34m\u001b[0m\u001b[0;34m\u001b[0m\u001b[0m\n\u001b[0m\u001b[1;32m    881\u001b[0m \u001b[0;34m\u001b[0m\u001b[0m\n\u001b[1;32m    882\u001b[0m     \u001b[0;32mdef\u001b[0m \u001b[0mclose\u001b[0m\u001b[0;34m(\u001b[0m\u001b[0mself\u001b[0m\u001b[0;34m)\u001b[0m\u001b[0;34m:\u001b[0m\u001b[0;34m\u001b[0m\u001b[0;34m\u001b[0m\u001b[0m\n",
            "\u001b[0;32m/usr/local/lib/python3.6/dist-packages/pandas/io/parsers.py\u001b[0m in \u001b[0;36m_make_engine\u001b[0;34m(self, engine)\u001b[0m\n\u001b[1;32m   1112\u001b[0m     \u001b[0;32mdef\u001b[0m \u001b[0m_make_engine\u001b[0m\u001b[0;34m(\u001b[0m\u001b[0mself\u001b[0m\u001b[0;34m,\u001b[0m \u001b[0mengine\u001b[0m\u001b[0;34m=\u001b[0m\u001b[0;34m\"c\"\u001b[0m\u001b[0;34m)\u001b[0m\u001b[0;34m:\u001b[0m\u001b[0;34m\u001b[0m\u001b[0;34m\u001b[0m\u001b[0m\n\u001b[1;32m   1113\u001b[0m         \u001b[0;32mif\u001b[0m \u001b[0mengine\u001b[0m \u001b[0;34m==\u001b[0m \u001b[0;34m\"c\"\u001b[0m\u001b[0;34m:\u001b[0m\u001b[0;34m\u001b[0m\u001b[0;34m\u001b[0m\u001b[0m\n\u001b[0;32m-> 1114\u001b[0;31m             \u001b[0mself\u001b[0m\u001b[0;34m.\u001b[0m\u001b[0m_engine\u001b[0m \u001b[0;34m=\u001b[0m \u001b[0mCParserWrapper\u001b[0m\u001b[0;34m(\u001b[0m\u001b[0mself\u001b[0m\u001b[0;34m.\u001b[0m\u001b[0mf\u001b[0m\u001b[0;34m,\u001b[0m \u001b[0;34m**\u001b[0m\u001b[0mself\u001b[0m\u001b[0;34m.\u001b[0m\u001b[0moptions\u001b[0m\u001b[0;34m)\u001b[0m\u001b[0;34m\u001b[0m\u001b[0;34m\u001b[0m\u001b[0m\n\u001b[0m\u001b[1;32m   1115\u001b[0m         \u001b[0;32melse\u001b[0m\u001b[0;34m:\u001b[0m\u001b[0;34m\u001b[0m\u001b[0;34m\u001b[0m\u001b[0m\n\u001b[1;32m   1116\u001b[0m             \u001b[0;32mif\u001b[0m \u001b[0mengine\u001b[0m \u001b[0;34m==\u001b[0m \u001b[0;34m\"python\"\u001b[0m\u001b[0;34m:\u001b[0m\u001b[0;34m\u001b[0m\u001b[0;34m\u001b[0m\u001b[0m\n",
            "\u001b[0;32m/usr/local/lib/python3.6/dist-packages/pandas/io/parsers.py\u001b[0m in \u001b[0;36m__init__\u001b[0;34m(self, src, **kwds)\u001b[0m\n\u001b[1;32m   1889\u001b[0m         \u001b[0mkwds\u001b[0m\u001b[0;34m[\u001b[0m\u001b[0;34m\"usecols\"\u001b[0m\u001b[0;34m]\u001b[0m \u001b[0;34m=\u001b[0m \u001b[0mself\u001b[0m\u001b[0;34m.\u001b[0m\u001b[0musecols\u001b[0m\u001b[0;34m\u001b[0m\u001b[0;34m\u001b[0m\u001b[0m\n\u001b[1;32m   1890\u001b[0m \u001b[0;34m\u001b[0m\u001b[0m\n\u001b[0;32m-> 1891\u001b[0;31m         \u001b[0mself\u001b[0m\u001b[0;34m.\u001b[0m\u001b[0m_reader\u001b[0m \u001b[0;34m=\u001b[0m \u001b[0mparsers\u001b[0m\u001b[0;34m.\u001b[0m\u001b[0mTextReader\u001b[0m\u001b[0;34m(\u001b[0m\u001b[0msrc\u001b[0m\u001b[0;34m,\u001b[0m \u001b[0;34m**\u001b[0m\u001b[0mkwds\u001b[0m\u001b[0;34m)\u001b[0m\u001b[0;34m\u001b[0m\u001b[0;34m\u001b[0m\u001b[0m\n\u001b[0m\u001b[1;32m   1892\u001b[0m         \u001b[0mself\u001b[0m\u001b[0;34m.\u001b[0m\u001b[0munnamed_cols\u001b[0m \u001b[0;34m=\u001b[0m \u001b[0mself\u001b[0m\u001b[0;34m.\u001b[0m\u001b[0m_reader\u001b[0m\u001b[0;34m.\u001b[0m\u001b[0munnamed_cols\u001b[0m\u001b[0;34m\u001b[0m\u001b[0;34m\u001b[0m\u001b[0m\n\u001b[1;32m   1893\u001b[0m \u001b[0;34m\u001b[0m\u001b[0m\n",
            "\u001b[0;32mpandas/_libs/parsers.pyx\u001b[0m in \u001b[0;36mpandas._libs.parsers.TextReader.__cinit__\u001b[0;34m()\u001b[0m\n",
            "\u001b[0;32mpandas/_libs/parsers.pyx\u001b[0m in \u001b[0;36mpandas._libs.parsers.TextReader._setup_parser_source\u001b[0;34m()\u001b[0m\n",
            "\u001b[0;31mFileNotFoundError\u001b[0m: [Errno 2] File p.csv does not exist: 'p.csv'"
          ]
        }
      ]
    },
    {
      "cell_type": "code",
      "metadata": {
        "id": "Zx_bbNnm7h5U",
        "colab_type": "code",
        "colab": {
          "base_uri": "https://localhost:8080/",
          "height": 368
        },
        "outputId": "8e968339-c6bd-409a-b577-514510397678"
      },
      "source": [
        "%matplotlib inline\n",
        "import matplotlib.pyplot as plt\n",
        "p['Date'] = pd.to_datetime(p['Date'])\n",
        "fig= plt.figure(figsize=(18,7))\n",
        "\n",
        "axes= fig.add_axes([0.1,0.1,0.8,0.8])\n",
        "\n",
        "time = DF['date']\n",
        "position =DF['Total Confirmed']\n",
        "\n",
        "time1 = p['Date']\n",
        "position1 = p['Total Confirmed']\n",
        "\n",
        "axes.plot(time, position)\n",
        "axes.plot(time1, position1)\n",
        "plt.xlabel('Date')\n",
        "plt.ylabel('Daily Confirmed')\n",
        "\n",
        "plt.show()\n",
        "fig.savefig('TN Total Pred_Vs_Actual')"
      ],
      "execution_count": null,
      "outputs": [
        {
          "output_type": "display_data",
          "data": {
            "image/png": "[encoded data removed]",
            "text/plain": [
              "<Figure size 1296x504 with 1 Axes>"
            ]
          },
          "metadata": {
            "tags": [],
            "needs_background": "light"
          }
        }
      ]
    },
    {
      "cell_type": "code",
      "metadata": {
        "id": "gLsEue9J0_wf",
        "colab_type": "code",
        "colab": {
          "base_uri": "https://localhost:8080/",
          "height": 371
        },
        "outputId": "166a18cd-1495-4a59-a9c9-ae285e810000"
      },
      "source": [
        "%matplotlib inline\n",
        "import matplotlib.pyplot as plt\n",
        "p['Date'] = pd.to_datetime(p['Date'])\n",
        "fig= plt.figure(figsize=(18,7))\n",
        "\n",
        "axes= fig.add_axes([0.1,0.1,0.8,0.8])\n",
        "\n",
        "time = df['Date']\n",
        "position =df['Daily Confirmed']\n",
        "\n",
        "time1 = p['Date']\n",
        "position1 = p['Daily Confirmed']\n",
        "\n",
        "axes.plot(time, position)\n",
        "axes.plot(time1, position1)\n",
        "plt.xlabel('Date')\n",
        "plt.ylabel('TN Daily Confirmed')\n",
        "\n",
        "plt.show()\n",
        "fig.savefig('TN Daily Pred_Vs_Actual')\n",
        "\n",
        "\n"
      ],
      "execution_count": null,
      "outputs": [
        {
          "output_type": "display_data",
          "data": {
            "image/png": "[encoded data removed]",
            "text/plain": [
              "<Figure size 1296x504 with 1 Axes>"
            ]
          },
          "metadata": {
            "tags": [],
            "needs_background": "light"
          }
        }
      ]
    }
  ]
}