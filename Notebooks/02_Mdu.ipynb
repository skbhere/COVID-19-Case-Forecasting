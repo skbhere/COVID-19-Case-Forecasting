{
  "nbformat": 4,
  "nbformat_minor": 0,
  "metadata": {
    "kernelspec": {
      "name": "python3",
      "display_name": "Python 3"
    },
    "colab": {
      "name": "02_Mdu.ipynb",
      "provenance": []
    },
    "accelerator": "GPU"
  },
  "cells": [
    {
      "cell_type": "code",
      "metadata": {
        "id": "5PMvjbq2iPie",
        "colab_type": "code",
        "colab": {}
      },
      "source": [
        "import numpy as np\n",
        "import pandas as pd"
      ],
      "execution_count": 1,
      "outputs": []
    },
    {
      "cell_type": "code",
      "metadata": {
        "id": "0WxFsCPIgm50",
        "colab_type": "code",
        "colab": {}
      },
      "source": [
        "df= pd.read_csv(\"https://api.covid19india.org/csv/latest/districts.csv\")"
      ],
      "execution_count": 2,
      "outputs": []
    },
    {
      "cell_type": "code",
      "metadata": {
        "id": "eT-iDNlw2nEz",
        "colab_type": "code",
        "colab": {}
      },
      "source": [
        "df=df.loc[df['District'] == \"Madurai\"]"
      ],
      "execution_count": 3,
      "outputs": []
    },
    {
      "cell_type": "code",
      "metadata": {
        "id": "lWIqbA1t7M_a",
        "colab_type": "code",
        "colab": {}
      },
      "source": [
        "DF=df\n",
        "DF.rename(columns={'Confirmed':'Total Confirmed',\n",
        "                          'Recovered':'Total Recovered',\n",
        "                          'Deceased':'Total Deceased'}, \n",
        "                 inplace=True)\n",
        "xx=len(DF) - 1\n",
        "DF=DF.head(xx)"
      ],
      "execution_count": 4,
      "outputs": []
    },
    {
      "cell_type": "code",
      "metadata": {
        "id": "DxXRmHSCxLjl",
        "colab_type": "code",
        "colab": {
          "base_uri": "https://localhost:8080/",
          "height": 198
        },
        "outputId": "b152a130-2971-416a-dc97-b6ee1105d93f"
      },
      "source": [
        "DF.head()"
      ],
      "execution_count": 5,
      "outputs": [
        {
          "output_type": "execute_result",
          "data": {
            "text/html": [
              "<div>\n",
              "<style scoped>\n",
              "    .dataframe tbody tr th:only-of-type {\n",
              "        vertical-align: middle;\n",
              "    }\n",
              "\n",
              "    .dataframe tbody tr th {\n",
              "        vertical-align: top;\n",
              "    }\n",
              "\n",
              "    .dataframe thead th {\n",
              "        text-align: right;\n",
              "    }\n",
              "</style>\n",
              "<table border=\"1\" class=\"dataframe\">\n",
              "  <thead>\n",
              "    <tr style=\"text-align: right;\">\n",
              "      <th></th>\n",
              "      <th>Date</th>\n",
              "      <th>State</th>\n",
              "      <th>District</th>\n",
              "      <th>Total Confirmed</th>\n",
              "      <th>Total Recovered</th>\n",
              "      <th>Total Deceased</th>\n",
              "      <th>Migrated</th>\n",
              "      <th>Tested</th>\n",
              "    </tr>\n",
              "  </thead>\n",
              "  <tbody>\n",
              "    <tr>\n",
              "      <th>317</th>\n",
              "      <td>2020-04-26</td>\n",
              "      <td>Tamil Nadu</td>\n",
              "      <td>Madurai</td>\n",
              "      <td>75</td>\n",
              "      <td>8</td>\n",
              "      <td>2</td>\n",
              "      <td>0</td>\n",
              "      <td>NaN</td>\n",
              "    </tr>\n",
              "    <tr>\n",
              "      <th>750</th>\n",
              "      <td>2020-04-27</td>\n",
              "      <td>Tamil Nadu</td>\n",
              "      <td>Madurai</td>\n",
              "      <td>79</td>\n",
              "      <td>8</td>\n",
              "      <td>2</td>\n",
              "      <td>0</td>\n",
              "      <td>NaN</td>\n",
              "    </tr>\n",
              "    <tr>\n",
              "      <th>1194</th>\n",
              "      <td>2020-04-28</td>\n",
              "      <td>Tamil Nadu</td>\n",
              "      <td>Madurai</td>\n",
              "      <td>79</td>\n",
              "      <td>36</td>\n",
              "      <td>2</td>\n",
              "      <td>0</td>\n",
              "      <td>NaN</td>\n",
              "    </tr>\n",
              "    <tr>\n",
              "      <th>1642</th>\n",
              "      <td>2020-04-29</td>\n",
              "      <td>Tamil Nadu</td>\n",
              "      <td>Madurai</td>\n",
              "      <td>79</td>\n",
              "      <td>40</td>\n",
              "      <td>2</td>\n",
              "      <td>0</td>\n",
              "      <td>NaN</td>\n",
              "    </tr>\n",
              "    <tr>\n",
              "      <th>2091</th>\n",
              "      <td>2020-04-30</td>\n",
              "      <td>Tamil Nadu</td>\n",
              "      <td>Madurai</td>\n",
              "      <td>84</td>\n",
              "      <td>40</td>\n",
              "      <td>2</td>\n",
              "      <td>0</td>\n",
              "      <td>NaN</td>\n",
              "    </tr>\n",
              "  </tbody>\n",
              "</table>\n",
              "</div>"
            ],
            "text/plain": [
              "            Date       State District  ...  Total Deceased  Migrated  Tested\n",
              "317   2020-04-26  Tamil Nadu  Madurai  ...               2         0     NaN\n",
              "750   2020-04-27  Tamil Nadu  Madurai  ...               2         0     NaN\n",
              "1194  2020-04-28  Tamil Nadu  Madurai  ...               2         0     NaN\n",
              "1642  2020-04-29  Tamil Nadu  Madurai  ...               2         0     NaN\n",
              "2091  2020-04-30  Tamil Nadu  Madurai  ...               2         0     NaN\n",
              "\n",
              "[5 rows x 8 columns]"
            ]
          },
          "metadata": {
            "tags": []
          },
          "execution_count": 5
        }
      ]
    },
    {
      "cell_type": "code",
      "metadata": {
        "id": "9HAVwrAPvCQf",
        "colab_type": "code",
        "colab": {
          "base_uri": "https://localhost:8080/",
          "height": 345
        },
        "outputId": "fa146d5f-1828-4c74-f660-a48a1ed57e5a"
      },
      "source": [
        "TConfirmed = list(DF[\"Total Confirmed\"])\n",
        "DConfirmed = [None] * len(DF)\n",
        "i = 1\n",
        "while i < len(DF):\n",
        "    DConfirmed[i]=TConfirmed[i]-TConfirmed[i-1]\n",
        "    i += 1\n",
        "DF[\"Daily Confirmed\"]=DConfirmed\n",
        "DF[\"Day\"]=range(1,xx+1)\n",
        "i = range(0,len(DF))\n",
        "DF['Index']=i\n",
        "DF=DF.set_index('Index')\n",
        "xlen=len(DF)\n",
        "sp=round(xlen*0.9)\n",
        "DF['Date'] = pd.to_datetime(DF['Date'])\n",
        "df=DF"
      ],
      "execution_count": 6,
      "outputs": [
        {
          "output_type": "stream",
          "text": [
            "/usr/local/lib/python3.6/dist-packages/ipykernel_launcher.py:7: SettingWithCopyWarning: \n",
            "A value is trying to be set on a copy of a slice from a DataFrame.\n",
            "Try using .loc[row_indexer,col_indexer] = value instead\n",
            "\n",
            "See the caveats in the documentation: https://pandas.pydata.org/pandas-docs/stable/user_guide/indexing.html#returning-a-view-versus-a-copy\n",
            "  import sys\n",
            "/usr/local/lib/python3.6/dist-packages/ipykernel_launcher.py:8: SettingWithCopyWarning: \n",
            "A value is trying to be set on a copy of a slice from a DataFrame.\n",
            "Try using .loc[row_indexer,col_indexer] = value instead\n",
            "\n",
            "See the caveats in the documentation: https://pandas.pydata.org/pandas-docs/stable/user_guide/indexing.html#returning-a-view-versus-a-copy\n",
            "  \n",
            "/usr/local/lib/python3.6/dist-packages/ipykernel_launcher.py:10: SettingWithCopyWarning: \n",
            "A value is trying to be set on a copy of a slice from a DataFrame.\n",
            "Try using .loc[row_indexer,col_indexer] = value instead\n",
            "\n",
            "See the caveats in the documentation: https://pandas.pydata.org/pandas-docs/stable/user_guide/indexing.html#returning-a-view-versus-a-copy\n",
            "  # Remove the CWD from sys.path while we load stuff.\n"
          ],
          "name": "stderr"
        }
      ]
    },
    {
      "cell_type": "code",
      "metadata": {
        "id": "iASB49r3iPjG",
        "colab_type": "code",
        "colab": {}
      },
      "source": [
        "df2 = DF.tail(6)\n",
        "df1 =DF.tail(6)"
      ],
      "execution_count": 7,
      "outputs": []
    },
    {
      "cell_type": "code",
      "metadata": {
        "id": "DcOlR4igiPji",
        "colab_type": "code",
        "colab": {
          "base_uri": "https://localhost:8080/",
          "height": 108
        },
        "outputId": "d4a96e8d-cb6a-46c8-e208-815c0cd0b14d"
      },
      "source": [
        "X1 = np.array(df1['Day'])\n",
        "X2 = np.array(df2['Day'])\n",
        "#Y1 = np.array(df1['Total Confirmed'])\n",
        "#Y2 = np.array(df1['Total Recovered'])\n",
        "#Y3 = np.array(df1['Total Deceased'])\n",
        "Y1 = np.log(df1['Total Confirmed'])\n",
        "Y1 = np.array(Y1)\n",
        "Y2 = np.log(df1['Total Recovered'])\n",
        "Y2 = np.array(Y2)\n",
        "Y3 = np.log(df1['Total Deceased'])\n",
        "Y3 = np.array(Y3)\n",
        "#Y4 = np.array(df2['Daily Confirmed'])\n",
        "\n",
        "Y4 =np.log(df2['Daily Confirmed'])\n",
        "Y4 = np.array(Y4)\n",
        "from sklearn.linear_model import LinearRegression\n",
        "X1=X1.reshape(-1, 1)\n",
        "X2=X2.reshape(-1, 1)\n",
        "Y1=Y1.reshape(-1, 1)\n",
        "Y2=Y2.reshape(-1, 1)\n",
        "Y3=Y3.reshape(-1, 1)\n",
        "Y4=Y4.reshape(-1, 1)\n",
        "\n",
        "reg1 = LinearRegression().fit(X1, Y1)\n",
        "reg2 = LinearRegression().fit(X1, Y2)\n",
        "reg3 = LinearRegression().fit(X1, Y3)\n",
        "reg4 = LinearRegression().fit(X2, Y4)\n",
        "\n",
        "\n",
        "logb1 = reg1.coef_\n",
        "loga1 = reg1.intercept_\n",
        "a1 = np.exp(loga1)\n",
        "b1 = np.exp(logb1)\n",
        "\n",
        "logb2 = reg2.coef_\n",
        "loga2 = reg2.intercept_\n",
        "a2 = np.exp(loga2)\n",
        "b2 = np.exp(logb2)\n",
        "\n",
        "logb3 = reg3.coef_\n",
        "loga3 = reg3.intercept_\n",
        "a3 = np.exp(loga3)\n",
        "b3 = np.exp(logb3)\n",
        "\n",
        "logb4 = reg4.coef_\n",
        "loga4 = reg4.intercept_\n",
        "a4 = np.exp(loga4)\n",
        "b4 = np.exp(logb4)\n",
        "\n",
        "\n",
        "\n",
        "#print(\"Based on Last 20 Days Data\")\n",
        "#print (\"Total Confirmed Accuracy\", reg1.score(X1, Y1)*100)\n",
        "print (\"coefficient of determination for Total Confirmed\", reg1.score(X1, Y1)*100)\n",
        "print (\"coefficient of determination for Total Recovered \", reg2.score(X1, Y2)*100)\n",
        "print (\"coefficient of determination for Total Deceased \", reg3.score(X1, Y3)*100)\n",
        "print(\"coefficient of determination for Based on Last 30 Days Data\")\n",
        "print (\"coefficient of determination for Daily Confirmed \", reg4.score(X2, Y4)*100)\n",
        "#print (\"coefficient of determination for Daily Recovered \", reg5.score(X2, Y5)*100)\n",
        "#print (\"coefficient of determination for Daily Deceased \", reg6.score(X2, Y6)*100)\n"
      ],
      "execution_count": 8,
      "outputs": [
        {
          "output_type": "stream",
          "text": [
            "coefficient of determination for Total Confirmed 99.50564440482604\n",
            "coefficient of determination for Total Recovered  98.58586677897158\n",
            "coefficient of determination for Total Deceased  99.78521071322128\n",
            "coefficient of determination for Based on Last 30 Days Data\n",
            "coefficient of determination for Daily Confirmed  29.95520676778901\n"
          ],
          "name": "stdout"
        }
      ]
    },
    {
      "cell_type": "code",
      "metadata": {
        "id": "Sfz63JT2iPjn",
        "colab_type": "code",
        "colab": {
          "base_uri": "https://localhost:8080/",
          "height": 198
        },
        "outputId": "57d52195-c17e-4ca8-8570-b1e1188cd2d1"
      },
      "source": [
        "drange = 15\n",
        "start =len(df) +1\n",
        "dval = np.arange(start,start+drange,1)\n",
        "dval= np.array(dval)\n",
        "val= dval\n",
        "dval=dval.reshape(-1, 1)\n",
        "\n",
        "start1 =len(DF)\n",
        "dval1 = np.arange(start1,start1+drange,1)\n",
        "dval1= np.array(dval1)\n",
        "val1= dval1\n",
        "dval1=dval1.reshape(-1, 1)\n",
        "import datetime\n",
        "base = datetime.date.today() - datetime.timedelta(days=1)\n",
        "date_list = [base + datetime.timedelta(days=x) for x in range(drange)]\n",
        "\n",
        "# DConfirmed = forecast(drange+1)\n",
        "# DConfirmed =DConfirmed[:-1]\n",
        "DConfirmed = np.round_(np.multiply(a4,(np.power(b4,val))))\n",
        "TConfirmed = np.round_(np.multiply(a1,(np.power(b1,val1))))\n",
        "#TConfirmed = np.round_(reg1.predict(dval1))\n",
        "#DRecovered = np.round_(np.multiply(a5,(np.power(b5,val))))\n",
        "#TRecovered = np.round_(np.multiply(a2,(np.power(b2,val1))))\n",
        "#TRecovered = np.round_(reg2.predict(dval1))\n",
        "#DDeceased = np.round_(np.multiply(a6,(np.power(b6,val))))\n",
        "#TDeceased = np.round_(np.multiply(a3,(np.power(b3,val1))))\n",
        "#TDeceased = np.round_(reg3.predict(dval1))\n",
        "\n",
        "# DConfirmed= DConfirmed.flatten()\n",
        "# TConfirmed= TConfirmed.flatten()\n",
        "# i = 1\n",
        "# while i < len(TConfirmed):\n",
        "#     DConfirmed[i]=TConfirmed[i]-TConfirmed[i-1]\n",
        "#     i += 1\n",
        "ii=len(DF)-1\n",
        "lastD = DF['Daily Confirmed'][ii]\n",
        "lastT = DF['Total Confirmed'][ii]\n",
        "lastDat = DF['Date'][ii]\n",
        "new_row = pd.DataFrame({'Daily Confirmed':lastD.flatten() ,\n",
        "                        'Total Confirmed':lastT.flatten(),\n",
        "                        'Date': pd.to_datetime(lastDat)\n",
        "                        })\n",
        "#DConfirmed[0]=DF['Total Confirmed'][0]-TConfirmed[0]\n",
        "dict = {\n",
        "        'Date' : date_list,\n",
        "        'Daily Confirmed': DConfirmed.flatten(), \n",
        "        'Total Confirmed': TConfirmed.flatten(), \n",
        "   #     'Daily Recovered': DRecovered.flatten() ,\n",
        "    #    'Total Recovered': TRecovered.flatten(),\n",
        "    #    'Daily Deceased' : DDeceased.flatten(),\n",
        "     #   'Total Deceased' : TDeceased.flatten(),\n",
        "        'Day' : dval1.flatten() ,\n",
        "       } \n",
        "final = pd.DataFrame(dict) \n",
        "final = pd.concat([new_row, final]).reset_index(drop = True) \n",
        "final['Date'] = pd.to_datetime(final['Date'])\n",
        "final.head(5) "
      ],
      "execution_count": 9,
      "outputs": [
        {
          "output_type": "execute_result",
          "data": {
            "text/html": [
              "<div>\n",
              "<style scoped>\n",
              "    .dataframe tbody tr th:only-of-type {\n",
              "        vertical-align: middle;\n",
              "    }\n",
              "\n",
              "    .dataframe tbody tr th {\n",
              "        vertical-align: top;\n",
              "    }\n",
              "\n",
              "    .dataframe thead th {\n",
              "        text-align: right;\n",
              "    }\n",
              "</style>\n",
              "<table border=\"1\" class=\"dataframe\">\n",
              "  <thead>\n",
              "    <tr style=\"text-align: right;\">\n",
              "      <th></th>\n",
              "      <th>Daily Confirmed</th>\n",
              "      <th>Total Confirmed</th>\n",
              "      <th>Date</th>\n",
              "      <th>Day</th>\n",
              "    </tr>\n",
              "  </thead>\n",
              "  <tbody>\n",
              "    <tr>\n",
              "      <th>0</th>\n",
              "      <td>210.0</td>\n",
              "      <td>9805.0</td>\n",
              "      <td>2020-07-26</td>\n",
              "      <td>NaN</td>\n",
              "    </tr>\n",
              "    <tr>\n",
              "      <th>1</th>\n",
              "      <td>310.0</td>\n",
              "      <td>9838.0</td>\n",
              "      <td>2020-07-26</td>\n",
              "      <td>92.0</td>\n",
              "    </tr>\n",
              "    <tr>\n",
              "      <th>2</th>\n",
              "      <td>336.0</td>\n",
              "      <td>10132.0</td>\n",
              "      <td>2020-07-27</td>\n",
              "      <td>93.0</td>\n",
              "    </tr>\n",
              "    <tr>\n",
              "      <th>3</th>\n",
              "      <td>365.0</td>\n",
              "      <td>10435.0</td>\n",
              "      <td>2020-07-28</td>\n",
              "      <td>94.0</td>\n",
              "    </tr>\n",
              "    <tr>\n",
              "      <th>4</th>\n",
              "      <td>395.0</td>\n",
              "      <td>10747.0</td>\n",
              "      <td>2020-07-29</td>\n",
              "      <td>95.0</td>\n",
              "    </tr>\n",
              "  </tbody>\n",
              "</table>\n",
              "</div>"
            ],
            "text/plain": [
              "   Daily Confirmed  Total Confirmed       Date   Day\n",
              "0            210.0           9805.0 2020-07-26   NaN\n",
              "1            310.0           9838.0 2020-07-26  92.0\n",
              "2            336.0          10132.0 2020-07-27  93.0\n",
              "3            365.0          10435.0 2020-07-28  94.0\n",
              "4            395.0          10747.0 2020-07-29  95.0"
            ]
          },
          "metadata": {
            "tags": []
          },
          "execution_count": 9
        }
      ]
    },
    {
      "cell_type": "code",
      "metadata": {
        "id": "MIc30m89iPj2",
        "colab_type": "code",
        "colab": {
          "base_uri": "https://localhost:8080/",
          "height": 466
        },
        "outputId": "a1855e5b-a990-43f6-8ab8-a46dfba96b68"
      },
      "source": [
        "%matplotlib inline\n",
        "import matplotlib.pyplot as plt\n",
        "\n",
        "fig= plt.figure(figsize=(18,7))\n",
        "\n",
        "axes= fig.add_axes([0.1,0.1,0.8,0.8])\n",
        "\n",
        "time = df['Date']\n",
        "position =df['Daily Confirmed']\n",
        "\n",
        "time1 = final['Date']\n",
        "position1 = final['Daily Confirmed']\n",
        "\n",
        "axes.plot(time, position)\n",
        "axes.plot(time1, position1)\n",
        "plt.xlabel('Date')\n",
        "plt.ylabel('Daily Confirmed')\n",
        "\n",
        "plt.show()\n",
        "fig.savefig('MDU_Daily.png')\n"
      ],
      "execution_count": 10,
      "outputs": [
        {
          "output_type": "display_data",
          "data": {
            "image/png": "[encoded data removed]",
            "text/plain": [
              "<Figure size 1296x504 with 1 Axes>"
            ]
          },
          "metadata": {
            "tags": [],
            "needs_background": "light"
          }
        }
      ]
    },
    {
      "cell_type": "code",
      "metadata": {
        "id": "Vv_G9jA3iPkM",
        "colab_type": "code",
        "colab": {
          "base_uri": "https://localhost:8080/",
          "height": 753
        },
        "outputId": "b7a6af3b-3ea3-4252-d9ab-ea7840eb03b8"
      },
      "source": [
        "%matplotlib inline\n",
        "import matplotlib.pyplot as plt\n",
        "\n",
        "fig= plt.figure(figsize=(16,12))\n",
        "\n",
        "axes= fig.add_axes([0.1,0.1,0.8,0.8])\n",
        "\n",
        "time = DF['Date']\n",
        "position =DF['Total Confirmed']\n",
        "\n",
        "time1 = final['Date']\n",
        "position1 = final['Total Confirmed']\n",
        "axes.plot(time, position)\n",
        "axes.plot(time1, position1)\n",
        "\n",
        "plt.xlabel('Date')\n",
        "plt.ylabel('Total Confirmed')\n",
        "fig.savefig('MDU_Total.png')"
      ],
      "execution_count": 11,
      "outputs": [
        {
          "output_type": "display_data",
          "data": {
            "image/png": "[encoded data removed]",
            "text/plain": [
              "<Figure size 1152x864 with 1 Axes>"
            ]
          },
          "metadata": {
            "tags": [],
            "needs_background": "light"
          }
        }
      ]
    },
    {
      "cell_type": "code",
      "metadata": {
        "id": "-DvbESqPiPkV",
        "colab_type": "code",
        "colab": {
          "base_uri": "https://localhost:8080/",
          "height": 198
        },
        "outputId": "592ea3af-2cf1-4d58-e488-7b763a4238d8"
      },
      "source": [
        "#save to Csv\n",
        "final = final.iloc[1:]\n",
        "final.to_csv(\"predictMDU.csv\")\n",
        "pr=pd.read_csv('predictMDU.csv')\n",
        "pr.head()"
      ],
      "execution_count": 12,
      "outputs": [
        {
          "output_type": "execute_result",
          "data": {
            "text/html": [
              "<div>\n",
              "<style scoped>\n",
              "    .dataframe tbody tr th:only-of-type {\n",
              "        vertical-align: middle;\n",
              "    }\n",
              "\n",
              "    .dataframe tbody tr th {\n",
              "        vertical-align: top;\n",
              "    }\n",
              "\n",
              "    .dataframe thead th {\n",
              "        text-align: right;\n",
              "    }\n",
              "</style>\n",
              "<table border=\"1\" class=\"dataframe\">\n",
              "  <thead>\n",
              "    <tr style=\"text-align: right;\">\n",
              "      <th></th>\n",
              "      <th>Unnamed: 0</th>\n",
              "      <th>Daily Confirmed</th>\n",
              "      <th>Total Confirmed</th>\n",
              "      <th>Date</th>\n",
              "      <th>Day</th>\n",
              "    </tr>\n",
              "  </thead>\n",
              "  <tbody>\n",
              "    <tr>\n",
              "      <th>0</th>\n",
              "      <td>1</td>\n",
              "      <td>310.0</td>\n",
              "      <td>9838.0</td>\n",
              "      <td>2020-07-26</td>\n",
              "      <td>92.0</td>\n",
              "    </tr>\n",
              "    <tr>\n",
              "      <th>1</th>\n",
              "      <td>2</td>\n",
              "      <td>336.0</td>\n",
              "      <td>10132.0</td>\n",
              "      <td>2020-07-27</td>\n",
              "      <td>93.0</td>\n",
              "    </tr>\n",
              "    <tr>\n",
              "      <th>2</th>\n",
              "      <td>3</td>\n",
              "      <td>365.0</td>\n",
              "      <td>10435.0</td>\n",
              "      <td>2020-07-28</td>\n",
              "      <td>94.0</td>\n",
              "    </tr>\n",
              "    <tr>\n",
              "      <th>3</th>\n",
              "      <td>4</td>\n",
              "      <td>395.0</td>\n",
              "      <td>10747.0</td>\n",
              "      <td>2020-07-29</td>\n",
              "      <td>95.0</td>\n",
              "    </tr>\n",
              "    <tr>\n",
              "      <th>4</th>\n",
              "      <td>5</td>\n",
              "      <td>428.0</td>\n",
              "      <td>11068.0</td>\n",
              "      <td>2020-07-30</td>\n",
              "      <td>96.0</td>\n",
              "    </tr>\n",
              "  </tbody>\n",
              "</table>\n",
              "</div>"
            ],
            "text/plain": [
              "   Unnamed: 0  Daily Confirmed  Total Confirmed        Date   Day\n",
              "0           1            310.0           9838.0  2020-07-26  92.0\n",
              "1           2            336.0          10132.0  2020-07-27  93.0\n",
              "2           3            365.0          10435.0  2020-07-28  94.0\n",
              "3           4            395.0          10747.0  2020-07-29  95.0\n",
              "4           5            428.0          11068.0  2020-07-30  96.0"
            ]
          },
          "metadata": {
            "tags": []
          },
          "execution_count": 12
        }
      ]
    },
    {
      "cell_type": "code",
      "metadata": {
        "id": "7uG7LctW-Qae",
        "colab_type": "code",
        "colab": {
          "base_uri": "https://localhost:8080/",
          "height": 216
        },
        "outputId": "744945f6-6064-4961-89c0-86dccdc7656f"
      },
      "source": [
        "#Doubling Rate for every 7 days \n",
        "T1=DF['Total Confirmed']\n",
        "an = 7\n",
        "reminder = (len(T1)%an) \n",
        "if reminder != 0 :\n",
        "  T1 = T1[0:-reminder]\n",
        "re = ((len(T1))// an )\n",
        "Week=range(0,re)\n",
        "T1 = T1.to_numpy()\n",
        "T1=T1.reshape(re,an) \n",
        "double =  []\n",
        "print(len(T1))\n",
        "for n in range(0,len(T1)):\n",
        "  l2 = np.log(2)\n",
        "  Diff = np.log(T1[n][an-1]/T1[n][0])\n",
        "  V= l2*(an-1)/Diff\n",
        "  double.append(V)\n",
        "WL = DF['Date']\n",
        "WL=WL[6::an]\n",
        "DRate = pd.DataFrame(list(zip(double, Week,WL)), \n",
        "               columns =['DRate', 'Weeks','Date'])\n",
        "DRate.tail()"
      ],
      "execution_count": 14,
      "outputs": [
        {
          "output_type": "stream",
          "text": [
            "13\n"
          ],
          "name": "stdout"
        },
        {
          "output_type": "execute_result",
          "data": {
            "text/html": [
              "<div>\n",
              "<style scoped>\n",
              "    .dataframe tbody tr th:only-of-type {\n",
              "        vertical-align: middle;\n",
              "    }\n",
              "\n",
              "    .dataframe tbody tr th {\n",
              "        vertical-align: top;\n",
              "    }\n",
              "\n",
              "    .dataframe thead th {\n",
              "        text-align: right;\n",
              "    }\n",
              "</style>\n",
              "<table border=\"1\" class=\"dataframe\">\n",
              "  <thead>\n",
              "    <tr style=\"text-align: right;\">\n",
              "      <th></th>\n",
              "      <th>DRate</th>\n",
              "      <th>Weeks</th>\n",
              "      <th>Date</th>\n",
              "    </tr>\n",
              "  </thead>\n",
              "  <tbody>\n",
              "    <tr>\n",
              "      <th>8</th>\n",
              "      <td>4.715560</td>\n",
              "      <td>8</td>\n",
              "      <td>2020-06-27</td>\n",
              "    </tr>\n",
              "    <tr>\n",
              "      <th>9</th>\n",
              "      <td>6.518409</td>\n",
              "      <td>9</td>\n",
              "      <td>2020-07-04</td>\n",
              "    </tr>\n",
              "    <tr>\n",
              "      <th>10</th>\n",
              "      <td>12.121674</td>\n",
              "      <td>10</td>\n",
              "      <td>2020-07-11</td>\n",
              "    </tr>\n",
              "    <tr>\n",
              "      <th>11</th>\n",
              "      <td>14.839863</td>\n",
              "      <td>11</td>\n",
              "      <td>2020-07-18</td>\n",
              "    </tr>\n",
              "    <tr>\n",
              "      <th>12</th>\n",
              "      <td>27.559113</td>\n",
              "      <td>12</td>\n",
              "      <td>2020-07-25</td>\n",
              "    </tr>\n",
              "  </tbody>\n",
              "</table>\n",
              "</div>"
            ],
            "text/plain": [
              "        DRate  Weeks       Date\n",
              "8    4.715560      8 2020-06-27\n",
              "9    6.518409      9 2020-07-04\n",
              "10  12.121674     10 2020-07-11\n",
              "11  14.839863     11 2020-07-18\n",
              "12  27.559113     12 2020-07-25"
            ]
          },
          "metadata": {
            "tags": []
          },
          "execution_count": 14
        }
      ]
    },
    {
      "cell_type": "code",
      "metadata": {
        "id": "HE21GnW1-qui",
        "colab_type": "code",
        "colab": {
          "base_uri": "https://localhost:8080/",
          "height": 406
        },
        "outputId": "b01dfd7e-ee19-4556-94a7-85bb17012784"
      },
      "source": [
        "%matplotlib inline\n",
        "import matplotlib.pyplot as plt\n",
        "fig= plt.figure(figsize=(18,6))\n",
        "ax = DRate.plot.bar(x='Weeks', y='DRate', rot=0,figsize=(18,6),label='Doubling Rate' )\n",
        "plt.savefig('MDu Doubling Rate')"
      ],
      "execution_count": 15,
      "outputs": [
        {
          "output_type": "display_data",
          "data": {
            "text/plain": [
              "<Figure size 1296x432 with 0 Axes>"
            ]
          },
          "metadata": {
            "tags": []
          }
        },
        {
          "output_type": "display_data",
          "data": {
            "image/png": "[encoded data removed]",
            "text/plain": [
              "<Figure size 1296x432 with 1 Axes>"
            ]
          },
          "metadata": {
            "tags": [],
            "needs_background": "light"
          }
        }
      ]
    },
    {
      "cell_type": "code",
      "metadata": {
        "id": "_fTZ4-r6pwlY",
        "colab_type": "code",
        "colab": {
          "base_uri": "https://localhost:8080/",
          "height": 198
        },
        "outputId": "138ac1d9-fd82-4bd0-c1dc-c325d855ce10"
      },
      "source": [
        "df= pd.read_csv(\"https://api.covid19india.org/csv/latest/districts.csv\")\n",
        "name = \"Wayanad\"\n",
        "df1=df.loc[df['District'] == name ]\n",
        "df1.tail()"
      ],
      "execution_count": 29,
      "outputs": [
        {
          "output_type": "execute_result",
          "data": {
            "text/html": [
              "<div>\n",
              "<style scoped>\n",
              "    .dataframe tbody tr th:only-of-type {\n",
              "        vertical-align: middle;\n",
              "    }\n",
              "\n",
              "    .dataframe tbody tr th {\n",
              "        vertical-align: top;\n",
              "    }\n",
              "\n",
              "    .dataframe thead th {\n",
              "        text-align: right;\n",
              "    }\n",
              "</style>\n",
              "<table border=\"1\" class=\"dataframe\">\n",
              "  <thead>\n",
              "    <tr style=\"text-align: right;\">\n",
              "      <th></th>\n",
              "      <th>Date</th>\n",
              "      <th>State</th>\n",
              "      <th>District</th>\n",
              "      <th>Confirmed</th>\n",
              "      <th>Recovered</th>\n",
              "      <th>Deceased</th>\n",
              "      <th>Migrated</th>\n",
              "      <th>Tested</th>\n",
              "    </tr>\n",
              "  </thead>\n",
              "  <tbody>\n",
              "    <tr>\n",
              "      <th>56553</th>\n",
              "      <td>2020-07-23</td>\n",
              "      <td>Kerala</td>\n",
              "      <td>Wayanad</td>\n",
              "      <td>325</td>\n",
              "      <td>132</td>\n",
              "      <td>1</td>\n",
              "      <td>0</td>\n",
              "      <td>NaN</td>\n",
              "    </tr>\n",
              "    <tr>\n",
              "      <th>57265</th>\n",
              "      <td>2020-07-24</td>\n",
              "      <td>Kerala</td>\n",
              "      <td>Wayanad</td>\n",
              "      <td>340</td>\n",
              "      <td>153</td>\n",
              "      <td>1</td>\n",
              "      <td>0</td>\n",
              "      <td>NaN</td>\n",
              "    </tr>\n",
              "    <tr>\n",
              "      <th>57976</th>\n",
              "      <td>2020-07-25</td>\n",
              "      <td>Kerala</td>\n",
              "      <td>Wayanad</td>\n",
              "      <td>357</td>\n",
              "      <td>198</td>\n",
              "      <td>1</td>\n",
              "      <td>0</td>\n",
              "      <td>NaN</td>\n",
              "    </tr>\n",
              "    <tr>\n",
              "      <th>58688</th>\n",
              "      <td>2020-07-26</td>\n",
              "      <td>Kerala</td>\n",
              "      <td>Wayanad</td>\n",
              "      <td>385</td>\n",
              "      <td>198</td>\n",
              "      <td>1</td>\n",
              "      <td>0</td>\n",
              "      <td>NaN</td>\n",
              "    </tr>\n",
              "    <tr>\n",
              "      <th>59400</th>\n",
              "      <td>2020-07-27</td>\n",
              "      <td>Kerala</td>\n",
              "      <td>Wayanad</td>\n",
              "      <td>385</td>\n",
              "      <td>198</td>\n",
              "      <td>1</td>\n",
              "      <td>0</td>\n",
              "      <td>NaN</td>\n",
              "    </tr>\n",
              "  </tbody>\n",
              "</table>\n",
              "</div>"
            ],
            "text/plain": [
              "             Date   State District  ...  Deceased  Migrated  Tested\n",
              "56553  2020-07-23  Kerala  Wayanad  ...         1         0     NaN\n",
              "57265  2020-07-24  Kerala  Wayanad  ...         1         0     NaN\n",
              "57976  2020-07-25  Kerala  Wayanad  ...         1         0     NaN\n",
              "58688  2020-07-26  Kerala  Wayanad  ...         1         0     NaN\n",
              "59400  2020-07-27  Kerala  Wayanad  ...         1         0     NaN\n",
              "\n",
              "[5 rows x 8 columns]"
            ]
          },
          "metadata": {
            "tags": []
          },
          "execution_count": 29
        }
      ]
    },
    {
      "cell_type": "code",
      "metadata": {
        "id": "iQBbfnWtnoCF",
        "colab_type": "code",
        "colab": {
          "base_uri": "https://localhost:8080/",
          "height": 273
        },
        "outputId": "abeb7ed9-8a96-405b-d8ed-9f6dc9f432a3"
      },
      "source": [
        "T1=df1['Confirmed']\n",
        "an = 6\n",
        "reminder = (len(T1)%an) \n",
        "if reminder != 0 :\n",
        "  T1 = T1[0:-reminder]\n",
        "re = ((len(T1))// an )\n",
        "Week=range(0,re)\n",
        "T1 = T1.to_numpy()\n",
        "T1=T1.reshape(re,an) \n",
        "double =  []\n",
        "print(len(T1))\n",
        "for n in range(0,len(T1)):\n",
        "  l2 = np.log(2)\n",
        "  Diff = np.log(T1[n][an-1]/T1[n][0])\n",
        "  V= l2*(an-1)/Diff\n",
        "  double.append(V)\n",
        "WL = DF['Date']\n",
        "WL=WL[6::an]\n",
        "DRate = pd.DataFrame(list(zip(double, Week,WL)), \n",
        "               columns =['DRate', 'Weeks','Date'])\n",
        "DRate.tail()"
      ],
      "execution_count": 17,
      "outputs": [
        {
          "output_type": "stream",
          "text": [
            "15\n"
          ],
          "name": "stdout"
        },
        {
          "output_type": "stream",
          "text": [
            "/usr/local/lib/python3.6/dist-packages/ipykernel_launcher.py:15: RuntimeWarning: divide by zero encountered in double_scalars\n",
            "  from ipykernel import kernelapp as app\n"
          ],
          "name": "stderr"
        },
        {
          "output_type": "execute_result",
          "data": {
            "text/html": [
              "<div>\n",
              "<style scoped>\n",
              "    .dataframe tbody tr th:only-of-type {\n",
              "        vertical-align: middle;\n",
              "    }\n",
              "\n",
              "    .dataframe tbody tr th {\n",
              "        vertical-align: top;\n",
              "    }\n",
              "\n",
              "    .dataframe thead th {\n",
              "        text-align: right;\n",
              "    }\n",
              "</style>\n",
              "<table border=\"1\" class=\"dataframe\">\n",
              "  <thead>\n",
              "    <tr style=\"text-align: right;\">\n",
              "      <th></th>\n",
              "      <th>DRate</th>\n",
              "      <th>Weeks</th>\n",
              "      <th>Date</th>\n",
              "    </tr>\n",
              "  </thead>\n",
              "  <tbody>\n",
              "    <tr>\n",
              "      <th>10</th>\n",
              "      <td>20.167185</td>\n",
              "      <td>10</td>\n",
              "      <td>2020-07-01</td>\n",
              "    </tr>\n",
              "    <tr>\n",
              "      <th>11</th>\n",
              "      <td>20.553197</td>\n",
              "      <td>11</td>\n",
              "      <td>2020-07-07</td>\n",
              "    </tr>\n",
              "    <tr>\n",
              "      <th>12</th>\n",
              "      <td>9.716791</td>\n",
              "      <td>12</td>\n",
              "      <td>2020-07-13</td>\n",
              "    </tr>\n",
              "    <tr>\n",
              "      <th>13</th>\n",
              "      <td>9.308665</td>\n",
              "      <td>13</td>\n",
              "      <td>2020-07-19</td>\n",
              "    </tr>\n",
              "    <tr>\n",
              "      <th>14</th>\n",
              "      <td>14.564447</td>\n",
              "      <td>14</td>\n",
              "      <td>2020-07-25</td>\n",
              "    </tr>\n",
              "  </tbody>\n",
              "</table>\n",
              "</div>"
            ],
            "text/plain": [
              "        DRate  Weeks       Date\n",
              "10  20.167185     10 2020-07-01\n",
              "11  20.553197     11 2020-07-07\n",
              "12   9.716791     12 2020-07-13\n",
              "13   9.308665     13 2020-07-19\n",
              "14  14.564447     14 2020-07-25"
            ]
          },
          "metadata": {
            "tags": []
          },
          "execution_count": 17
        }
      ]
    },
    {
      "cell_type": "code",
      "metadata": {
        "id": "F6C9lzCWo9oo",
        "colab_type": "code",
        "colab": {
          "base_uri": "https://localhost:8080/",
          "height": 370
        },
        "outputId": "7c91585f-0312-427b-af52-92109135b95e"
      },
      "source": [
        "%matplotlib inline\n",
        "import matplotlib.pyplot as plt\n",
        "fig= plt.figure(figsize=(18,6))\n",
        "ax = DRate.plot.bar(x='Weeks', y='DRate', rot=0,figsize=(18,6),label='Doubling Rate' )\n",
        "\n",
        "plt.savefig( name +' Doubling Rate')\n",
        "name"
      ],
      "execution_count": 32,
      "outputs": [
        {
          "output_type": "execute_result",
          "data": {
            "application/vnd.google.colaboratory.intrinsic+json": {
              "type": "string"
            },
            "text/plain": [
              "'Wayanad'"
            ]
          },
          "metadata": {
            "tags": []
          },
          "execution_count": 32
        },
        {
          "output_type": "display_data",
          "data": {
            "text/plain": [
              "<Figure size 1296x432 with 0 Axes>"
            ]
          },
          "metadata": {
            "tags": []
          }
        },
        {
          "output_type": "display_data",
          "data": {
            "image/png": "[encoded data removed]",
            "text/plain": [
              "<Figure size 1296x432 with 1 Axes>"
            ]
          },
          "metadata": {
            "tags": [],
            "needs_background": "light"
          }
        }
      ]
    },
    {
      "cell_type": "code",
      "metadata": {
        "id": "jWhcYmt4pcsM",
        "colab_type": "code",
        "colab": {}
      },
      "source": [
        ""
      ],
      "execution_count": null,
      "outputs": []
    }
  ]
}