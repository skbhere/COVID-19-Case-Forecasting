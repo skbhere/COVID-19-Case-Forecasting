{
 "cells": [
  {
   "cell_type": "code",
   "execution_count": 378,
   "metadata": {},
   "outputs": [],
   "source": [
    "import numpy as np\n",
    "import pandas as pd\n",
    "import matplotlib.pyplot as plt\n",
    "%matplotlib inline"
   ]
  },
  {
   "cell_type": "code",
   "execution_count": 379,
   "metadata": {},
   "outputs": [],
   "source": [
    "df=pd.read_csv('case_time_series.csv')"
   ]
  },
  {
   "cell_type": "code",
   "execution_count": 382,
   "metadata": {},
   "outputs": [
    {
     "data": {
      "text/html": [
       "<div>\n",
       "<style scoped>\n",
       "    .dataframe tbody tr th:only-of-type {\n",
       "        vertical-align: middle;\n",
       "    }\n",
       "\n",
       "    .dataframe tbody tr th {\n",
       "        vertical-align: top;\n",
       "    }\n",
       "\n",
       "    .dataframe thead th {\n",
       "        text-align: right;\n",
       "    }\n",
       "</style>\n",
       "<table border=\"1\" class=\"dataframe\">\n",
       "  <thead>\n",
       "    <tr style=\"text-align: right;\">\n",
       "      <th></th>\n",
       "      <th>Date</th>\n",
       "      <th>Daily Confirmed</th>\n",
       "      <th>Total Confirmed</th>\n",
       "      <th>Daily Recovered</th>\n",
       "      <th>Total Recovered</th>\n",
       "      <th>Daily Deceased</th>\n",
       "      <th>Total Deceased</th>\n",
       "      <th>Day</th>\n",
       "    </tr>\n",
       "  </thead>\n",
       "  <tbody>\n",
       "    <tr>\n",
       "      <th>131</th>\n",
       "      <td>9-Jun</td>\n",
       "      <td>9981</td>\n",
       "      <td>276002</td>\n",
       "      <td>5634</td>\n",
       "      <td>134653</td>\n",
       "      <td>272</td>\n",
       "      <td>7749</td>\n",
       "      <td>132</td>\n",
       "    </tr>\n",
       "    <tr>\n",
       "      <th>132</th>\n",
       "      <td>10-Jun</td>\n",
       "      <td>11156</td>\n",
       "      <td>287158</td>\n",
       "      <td>6275</td>\n",
       "      <td>140928</td>\n",
       "      <td>358</td>\n",
       "      <td>8107</td>\n",
       "      <td>133</td>\n",
       "    </tr>\n",
       "    <tr>\n",
       "      <th>133</th>\n",
       "      <td>11-Jun</td>\n",
       "      <td>11135</td>\n",
       "      <td>298293</td>\n",
       "      <td>6044</td>\n",
       "      <td>146972</td>\n",
       "      <td>394</td>\n",
       "      <td>8501</td>\n",
       "      <td>134</td>\n",
       "    </tr>\n",
       "    <tr>\n",
       "      <th>134</th>\n",
       "      <td>12-Jun</td>\n",
       "      <td>11306</td>\n",
       "      <td>309599</td>\n",
       "      <td>7263</td>\n",
       "      <td>154235</td>\n",
       "      <td>388</td>\n",
       "      <td>8889</td>\n",
       "      <td>135</td>\n",
       "    </tr>\n",
       "    <tr>\n",
       "      <th>135</th>\n",
       "      <td>13-Jun</td>\n",
       "      <td>12035</td>\n",
       "      <td>321634</td>\n",
       "      <td>8092</td>\n",
       "      <td>162327</td>\n",
       "      <td>309</td>\n",
       "      <td>9198</td>\n",
       "      <td>136</td>\n",
       "    </tr>\n",
       "  </tbody>\n",
       "</table>\n",
       "</div>"
      ],
      "text/plain": [
       "       Date  Daily Confirmed  Total Confirmed  Daily Recovered  \\\n",
       "131   9-Jun             9981           276002             5634   \n",
       "132  10-Jun            11156           287158             6275   \n",
       "133  11-Jun            11135           298293             6044   \n",
       "134  12-Jun            11306           309599             7263   \n",
       "135  13-Jun            12035           321634             8092   \n",
       "\n",
       "     Total Recovered  Daily Deceased  Total Deceased  Day  \n",
       "131           134653             272            7749  132  \n",
       "132           140928             358            8107  133  \n",
       "133           146972             394            8501  134  \n",
       "134           154235             388            8889  135  \n",
       "135           162327             309            9198  136  "
      ]
     },
     "execution_count": 382,
     "metadata": {},
     "output_type": "execute_result"
    }
   ],
   "source": [
    "df.tail()"
   ]
  },
  {
   "cell_type": "code",
   "execution_count": 383,
   "metadata": {},
   "outputs": [],
   "source": [
    "#df = df.drop(['Date','Total Confirmed','Daily Recovered', 'Total Recovered','Daily Deceased','Daily Confirmed'], axis=1)"
   ]
  },
  {
   "cell_type": "code",
   "execution_count": 450,
   "metadata": {},
   "outputs": [],
   "source": [
    "#df=df.tail(10)\n",
    "df1=df.tail(20)\n",
    "df2=df.tail(50)"
   ]
  },
  {
   "cell_type": "code",
   "execution_count": 451,
   "metadata": {},
   "outputs": [],
   "source": [
    "Y1 = np.array(df1['Total Confirmed'])\n",
    "Y2 = np.array(df1['Total Recovered'])\n",
    "Y3 = np.array(df1['Total Deceased'])\n",
    "X1 = np.array(df1['Day'])\n",
    "X2 = np.array(df2['Day'])\n",
    "Y4 = np.array(df2['Daily Confirmed'])\n",
    "Y5 = np.array(df2['Daily Recovered'])\n",
    "Y6 = np.array(df2['Daily Deceased'])\n"
   ]
  },
  {
   "cell_type": "code",
   "execution_count": 452,
   "metadata": {},
   "outputs": [
    {
     "name": "stdout",
     "output_type": "stream",
     "text": [
      "Based on Last 20 Days Data\n",
      "Total Confirmed Accuracy 99.53893948770637\n",
      "Total Recovered Accuracy 99.44277094224464\n",
      "Total Deceased Accuracy 98.9769692778058\n",
      "Based on Last 50 Days Data\n",
      "Daily Confirmed Accuracy 95.85574807138369\n",
      "Daily Recovered Accuracy 72.11595436396026\n",
      "Daily Deceased Accuracy 85.2015301124599\n"
     ]
    }
   ],
   "source": [
    "from sklearn.linear_model import LinearRegression\n",
    "X1=X1.reshape(-1, 1)\n",
    "X2=X2.reshape(-1, 1)\n",
    "Y1=Y1.reshape(-1, 1)\n",
    "Y2=Y2.reshape(-1, 1)\n",
    "Y3=Y3.reshape(-1, 1)\n",
    "Y4=Y4.reshape(-1, 1)\n",
    "Y5=Y5.reshape(-1, 1)\n",
    "Y6=Y6.reshape(-1, 1)\n",
    "\n",
    "reg1 = LinearRegression().fit(X1, Y1)\n",
    "reg2 = LinearRegression().fit(X1, Y2)\n",
    "reg3 = LinearRegression().fit(X1, Y3)\n",
    "reg4 = LinearRegression().fit(X2, Y4)\n",
    "reg5 = LinearRegression().fit(X2, Y5)\n",
    "reg6 = LinearRegression().fit(X2, Y6)\n",
    "print(\"Based on Last 20 Days Data\")\n",
    "print (\"Total Confirmed Accuracy\", reg1.score(X1, Y1)*100)\n",
    "print (\"Total Recovered Accuracy\", reg2.score(X1, Y2)*100)\n",
    "print (\"Total Deceased Accuracy\", reg3.score(X1, Y3)*100)\n",
    "print(\"Based on Last 50 Days Data\")\n",
    "print (\"Daily Confirmed Accuracy\", reg4.score(X2, Y4)*100)\n",
    "print (\"Daily Recovered Accuracy\", reg5.score(X2, Y5)*100)\n",
    "print (\"Daily Deceased Accuracy\", reg6.score(X2, Y6)*100)\n"
   ]
  },
  {
   "cell_type": "code",
   "execution_count": 453,
   "metadata": {},
   "outputs": [
    {
     "data": {
      "text/html": [
       "<div>\n",
       "<style scoped>\n",
       "    .dataframe tbody tr th:only-of-type {\n",
       "        vertical-align: middle;\n",
       "    }\n",
       "\n",
       "    .dataframe tbody tr th {\n",
       "        vertical-align: top;\n",
       "    }\n",
       "\n",
       "    .dataframe thead th {\n",
       "        text-align: right;\n",
       "    }\n",
       "</style>\n",
       "<table border=\"1\" class=\"dataframe\">\n",
       "  <thead>\n",
       "    <tr style=\"text-align: right;\">\n",
       "      <th></th>\n",
       "      <th>Date</th>\n",
       "      <th>Daily Confirmed</th>\n",
       "      <th>Total Confirmed</th>\n",
       "      <th>Daily Recovered</th>\n",
       "      <th>Total Recovered</th>\n",
       "      <th>Daily Deceased</th>\n",
       "      <th>Total Deceased</th>\n",
       "      <th>Day</th>\n",
       "    </tr>\n",
       "  </thead>\n",
       "  <tbody>\n",
       "    <tr>\n",
       "      <th>131</th>\n",
       "      <td>9-Jun</td>\n",
       "      <td>9981</td>\n",
       "      <td>276002</td>\n",
       "      <td>5634</td>\n",
       "      <td>134653</td>\n",
       "      <td>272</td>\n",
       "      <td>7749</td>\n",
       "      <td>132</td>\n",
       "    </tr>\n",
       "    <tr>\n",
       "      <th>132</th>\n",
       "      <td>10-Jun</td>\n",
       "      <td>11156</td>\n",
       "      <td>287158</td>\n",
       "      <td>6275</td>\n",
       "      <td>140928</td>\n",
       "      <td>358</td>\n",
       "      <td>8107</td>\n",
       "      <td>133</td>\n",
       "    </tr>\n",
       "    <tr>\n",
       "      <th>133</th>\n",
       "      <td>11-Jun</td>\n",
       "      <td>11135</td>\n",
       "      <td>298293</td>\n",
       "      <td>6044</td>\n",
       "      <td>146972</td>\n",
       "      <td>394</td>\n",
       "      <td>8501</td>\n",
       "      <td>134</td>\n",
       "    </tr>\n",
       "    <tr>\n",
       "      <th>134</th>\n",
       "      <td>12-Jun</td>\n",
       "      <td>11306</td>\n",
       "      <td>309599</td>\n",
       "      <td>7263</td>\n",
       "      <td>154235</td>\n",
       "      <td>388</td>\n",
       "      <td>8889</td>\n",
       "      <td>135</td>\n",
       "    </tr>\n",
       "    <tr>\n",
       "      <th>135</th>\n",
       "      <td>13-Jun</td>\n",
       "      <td>12035</td>\n",
       "      <td>321634</td>\n",
       "      <td>8092</td>\n",
       "      <td>162327</td>\n",
       "      <td>309</td>\n",
       "      <td>9198</td>\n",
       "      <td>136</td>\n",
       "    </tr>\n",
       "  </tbody>\n",
       "</table>\n",
       "</div>"
      ],
      "text/plain": [
       "       Date  Daily Confirmed  Total Confirmed  Daily Recovered  \\\n",
       "131   9-Jun             9981           276002             5634   \n",
       "132  10-Jun            11156           287158             6275   \n",
       "133  11-Jun            11135           298293             6044   \n",
       "134  12-Jun            11306           309599             7263   \n",
       "135  13-Jun            12035           321634             8092   \n",
       "\n",
       "     Total Recovered  Daily Deceased  Total Deceased  Day  \n",
       "131           134653             272            7749  132  \n",
       "132           140928             358            8107  133  \n",
       "133           146972             394            8501  134  \n",
       "134           154235             388            8889  135  \n",
       "135           162327             309            9198  136  "
      ]
     },
     "execution_count": 453,
     "metadata": {},
     "output_type": "execute_result"
    }
   ],
   "source": [
    "df.tail()"
   ]
  },
  {
   "cell_type": "code",
   "execution_count": 455,
   "metadata": {},
   "outputs": [
    {
     "name": "stdout",
     "output_type": "stream",
     "text": [
      "Forcasted Data For 23rd June that is day 146 Since 31st january \n",
      "Daily Confirmed [[13167.]]\n",
      "Total Confirmed [[407955.]]\n",
      "Daily Recovered [[7708.]]\n",
      "Total Recovered [[208916.]]\n",
      "Daily Deceased [[364.]]\n",
      "Total Deceased [[11521.]]\n"
     ]
    }
   ],
   "source": [
    "#dval = 1 for January 30 \n",
    "dval = 146\n",
    "print(\"Forcasted Data For 23rd June that is day\",dval ,\"Since 31st january \")\n",
    "print(\"Daily Confirmed\", np.round_(reg4.predict(np.array([[dval]]))))\n",
    "print(\"Total Confirmed\", np.round_(reg1.predict(np.array([[dval]]))))\n",
    "print(\"Daily Recovered\", np.round_(reg5.predict(np.array([[dval]]))))\n",
    "print(\"Total Recovered\", np.round_(reg2.predict(np.array([[dval]]))))\n",
    "print(\"Daily Deceased\", np.round_(reg6.predict(np.array([[dval]]))))\n",
    "print(\"Total Deceased\", np.round_(reg3.predict(np.array([[dval]]))))"
   ]
  },
  {
   "cell_type": "code",
   "execution_count": null,
   "metadata": {},
   "outputs": [],
   "source": []
  },
  {
   "cell_type": "code",
   "execution_count": null,
   "metadata": {},
   "outputs": [],
   "source": []
  },
  {
   "cell_type": "code",
   "execution_count": null,
   "metadata": {},
   "outputs": [],
   "source": []
  },
  {
   "cell_type": "code",
   "execution_count": null,
   "metadata": {},
   "outputs": [],
   "source": []
  },
  {
   "cell_type": "code",
   "execution_count": null,
   "metadata": {},
   "outputs": [],
   "source": []
  },
  {
   "cell_type": "code",
   "execution_count": null,
   "metadata": {},
   "outputs": [],
   "source": []
  },
  {
   "cell_type": "code",
   "execution_count": null,
   "metadata": {},
   "outputs": [],
   "source": []
  },
  {
   "cell_type": "code",
   "execution_count": null,
   "metadata": {},
   "outputs": [],
   "source": []
  },
  {
   "cell_type": "code",
   "execution_count": null,
   "metadata": {},
   "outputs": [],
   "source": []
  },
  {
   "cell_type": "code",
   "execution_count": null,
   "metadata": {},
   "outputs": [],
   "source": []
  },
  {
   "cell_type": "code",
   "execution_count": null,
   "metadata": {},
   "outputs": [],
   "source": []
  },
  {
   "cell_type": "code",
   "execution_count": null,
   "metadata": {},
   "outputs": [],
   "source": []
  },
  {
   "cell_type": "code",
   "execution_count": null,
   "metadata": {},
   "outputs": [],
   "source": []
  },
  {
   "cell_type": "code",
   "execution_count": null,
   "metadata": {},
   "outputs": [],
   "source": []
  }
 ],
 "metadata": {
  "kernelspec": {
   "display_name": "Python 3.6 - AzureML",
   "language": "python",
   "name": "python3-azureml"
  },
  "language_info": {
   "codemirror_mode": {
    "name": "ipython",
    "version": 3
   },
   "file_extension": ".py",
   "mimetype": "text/x-python",
   "name": "python",
   "nbconvert_exporter": "python",
   "pygments_lexer": "ipython3",
   "version": "3.6.9"
  }
 },
 "nbformat": 4,
 "nbformat_minor": 4
}
