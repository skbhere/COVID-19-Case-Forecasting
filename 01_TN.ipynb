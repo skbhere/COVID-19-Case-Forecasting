{
  "nbformat": 4,
  "nbformat_minor": 0,
  "metadata": {
    "kernelspec": {
      "display_name": "Python 3.6 - AzureML",
      "language": "python",
      "name": "python3-azureml"
    },
    "language_info": {
      "codemirror_mode": {
        "name": "ipython",
        "version": 3
      },
      "file_extension": ".py",
      "mimetype": "text/x-python",
      "name": "python",
      "nbconvert_exporter": "python",
      "pygments_lexer": "ipython3",
      "version": "3.6.9"
    },
    "colab": {
      "name": "01_TN.ipynb",
      "provenance": [],
      "include_colab_link": true
    }
  },
  "cells": [
    {
      "cell_type": "markdown",
      "metadata": {
        "id": "view-in-github",
        "colab_type": "text"
      },
      "source": [
        "<a href=\"https://colab.research.google.com/github/skbhere/Simple-forecast-predicion-for-Covid-19-/blob/master/01_TN.ipynb\" target=\"_parent\"><img src=\"https://colab.research.google.com/assets/colab-badge.svg\" alt=\"Open In Colab\"/></a>"
      ]
    },
    {
      "cell_type": "code",
      "metadata": {
        "id": "5PMvjbq2iPie",
        "colab_type": "code",
        "colab": {}
      },
      "source": [
        "import numpy as np\n",
        "import pandas as pd"
      ],
      "execution_count": 4,
      "outputs": []
    },
    {
      "cell_type": "code",
      "metadata": {
        "id": "77wqBVWYiPin",
        "colab_type": "code",
        "colab": {}
      },
      "source": [
        "df=pd.read_csv('TN_daily.csv')"
      ],
      "execution_count": null,
      "outputs": []
    },
    {
      "cell_type": "code",
      "metadata": {
        "id": "T34X5uwhiPis",
        "colab_type": "code",
        "colab": {}
      },
      "source": [
        "df0 = pd.read_json(\"https://api.covid19india.org/v3/timeseries.json\")"
      ],
      "execution_count": 23,
      "outputs": []
    },
    {
      "cell_type": "code",
      "metadata": {
        "scrolled": true,
        "id": "A1NG0KPZiPiy",
        "colab_type": "code",
        "colab": {}
      },
      "source": [
        "\n",
        "TN = df0['TN']\n",
        "TN =TN.to_dict() \n",
        "data = pd.DataFrame.from_dict(TN)\n",
        "data =  data.transpose()\n",
        "data = data['total']\n",
        "df2=pd.DataFrame(data)\n",
        "data=data.reindex(index=data.index[::-1])\n",
        "data = data.drop(data.index[0:28])\n",
        "data = data.head(len(data)-3)\n"
      ],
      "execution_count": 221,
      "outputs": []
    },
    {
      "cell_type": "code",
      "metadata": {
        "id": "HeCeKuyBiU4A",
        "colab_type": "code",
        "colab": {}
      },
      "source": [
        "\n",
        "TN = df0['TN']\n",
        "TN =TN.to_dict() \n",
        "d = pd.DataFrame.from_dict(TN)\n",
        "d =  d.transpose()\n",
        "d = d['delta']\n",
        "df2=pd.DataFrame(d)\n",
        "d=d.reindex(index=d.index[::-1])\n",
        "d = d.drop(d.index[0:28])\n",
        "d = d.head(len(d)-11)\n"
      ],
      "execution_count": 222,
      "outputs": []
    },
    {
      "cell_type": "code",
      "metadata": {
        "scrolled": true,
        "id": "HOg1q2aZiPi5",
        "colab_type": "code",
        "colab": {}
      },
      "source": [
        "dcon = []\n",
        "con = []\n",
        "dec = []\n",
        "rec = []\n",
        "\n",
        "for index, value in data.items():\n",
        "    con.append(data[index]['confirmed'])\n",
        "    dec.append(data[index]['deceased'])\n",
        "    rec.append(data[index]['recovered'])\n",
        "    \n",
        "\n",
        "for index, value in d.items():\n",
        "    dcon.append(d[index]['confirmed'])\n",
        "  \n",
        "n = len(data)\n",
        "day = list(range(1, n+1))\n",
        "\n",
        "dict1 = { \n",
        "'date' : data.index.values,\n",
        "'Total Confirmed' :con,\n",
        "'Total Deceased' : dec,\n",
        "'Total Recovered' : rec,\n",
        "'test' : test,\n",
        "}\n",
        "\n",
        "nn = len(d)\n",
        "day1 = list(range(1, nn+1))\n",
        "dict2 = { \n",
        "         'Date' : d.index.values,\n",
        "         'Daily Confirmed' :dcon,\n",
        "         \n",
        "    \n",
        "}\n",
        "\n",
        "dict1\n",
        "DF= pd.DataFrame(dict1) \n",
        "DF=DF.head(len(DF))\n",
        "DF=DF.reindex(index=DF.index[::-1])\n",
        "DF[\"Day\"] = day\n",
        "Dailyf = pd.DataFrame(dict2) \n",
        "Dailyf=Dailyf.reindex(index=Dailyf.index[::-1])\n",
        "Dailyf[\"Day\"] = day1\n",
        "df=Dailyf\n",
        "#data['2020-06-13']['confirmed']"
      ],
      "execution_count": 223,
      "outputs": []
    },
    {
      "cell_type": "code",
      "metadata": {
        "id": "NuLCQ-27iPjB",
        "colab_type": "code",
        "colab": {}
      },
      "source": [
        ""
      ],
      "execution_count": 223,
      "outputs": []
    },
    {
      "cell_type": "code",
      "metadata": {
        "id": "iASB49r3iPjG",
        "colab_type": "code",
        "colab": {}
      },
      "source": [
        "df2 = Dailyf.tail(15)\n",
        "df1 =DF.tail(6)"
      ],
      "execution_count": 304,
      "outputs": []
    },
    {
      "cell_type": "code",
      "metadata": {
        "id": "Mjoq0R4PiPjc",
        "colab_type": "code",
        "colab": {}
      },
      "source": [
        "X1 = np.array(df1['Day'])\n",
        "X2 = np.array(df2['Day'])\n",
        "#Y1 = np.array(df1['Total Confirmed'])\n",
        "#Y2 = np.array(df1['Total Recovered'])\n",
        "#Y3 = np.array(df1['Total Deceased'])\n",
        "Y1 = np.log(df1['Total Confirmed'])\n",
        "Y1 = np.array(Y1)\n",
        "Y2 = np.log(df1['Total Recovered'])\n",
        "Y2 = np.array(Y2)\n",
        "Y3 = np.log(df1['Total Deceased'])\n",
        "Y3 = np.array(Y3)\n",
        "#Y4 = np.array(df2['Daily Confirmed'])\n",
        "\n",
        "Y4 =np.log(df2['Daily Confirmed'])\n",
        "Y4 = np.array(Y4)\n"
      ],
      "execution_count": 305,
      "outputs": []
    },
    {
      "cell_type": "code",
      "metadata": {
        "id": "DcOlR4igiPji",
        "colab_type": "code",
        "colab": {
          "base_uri": "https://localhost:8080/",
          "height": 98
        },
        "outputId": "2ffe8614-6e63-45a4-fe26-02a6714612cc"
      },
      "source": [
        "from sklearn.linear_model import LinearRegression\n",
        "X1=X1.reshape(-1, 1)\n",
        "X2=X2.reshape(-1, 1)\n",
        "Y1=Y1.reshape(-1, 1)\n",
        "Y2=Y2.reshape(-1, 1)\n",
        "Y3=Y3.reshape(-1, 1)\n",
        "Y4=Y4.reshape(-1, 1)\n",
        "\n",
        "reg1 = LinearRegression().fit(X1, Y1)\n",
        "reg2 = LinearRegression().fit(X1, Y2)\n",
        "reg3 = LinearRegression().fit(X1, Y3)\n",
        "reg4 = LinearRegression().fit(X2, Y4)\n",
        "\n",
        "\n",
        "logb1 = reg1.coef_\n",
        "loga1 = reg1.intercept_\n",
        "a1 = np.exp(loga1)\n",
        "b1 = np.exp(logb1)\n",
        "\n",
        "logb2 = reg2.coef_\n",
        "loga2 = reg2.intercept_\n",
        "a2 = np.exp(loga2)\n",
        "b2 = np.exp(logb2)\n",
        "\n",
        "logb3 = reg3.coef_\n",
        "loga3 = reg3.intercept_\n",
        "a3 = np.exp(loga3)\n",
        "b3 = np.exp(logb3)\n",
        "\n",
        "logb4 = reg4.coef_\n",
        "loga4 = reg4.intercept_\n",
        "a4 = np.exp(loga4)\n",
        "b4 = np.exp(logb4)\n",
        "\n",
        "\n",
        "\n",
        "#print(\"Based on Last 20 Days Data\")\n",
        "#print (\"Total Confirmed Accuracy\", reg1.score(X1, Y1)*100)\n",
        "print (\"coefficient of determination for Total Confirmed\", reg1.score(X1, Y1)*100)\n",
        "print (\"coefficient of determination for Total Recovered \", reg2.score(X1, Y2)*100)\n",
        "print (\"coefficient of determination for Total Deceased \", reg3.score(X1, Y3)*100)\n",
        "print(\"coefficient of determination for Based on Last 30 Days Data\")\n",
        "print (\"coefficient of determination for Daily Confirmed \", reg4.score(X2, Y4)*100)\n",
        "#print (\"coefficient of determination for Daily Recovered \", reg5.score(X2, Y5)*100)\n",
        "#print (\"coefficient of determination for Daily Deceased \", reg6.score(X2, Y6)*100)\n"
      ],
      "execution_count": 306,
      "outputs": [
        {
          "output_type": "stream",
          "text": [
            "coefficient of determination for Total Confirmed 99.96214343193434\n",
            "coefficient of determination for Total Recovered  98.93138206719236\n",
            "coefficient of determination for Total Deceased  99.37641443431289\n",
            "coefficient of determination for Based on Last 30 Days Data\n",
            "coefficient of determination for Daily Confirmed  89.26769865938401\n"
          ],
          "name": "stdout"
        }
      ]
    },
    {
      "cell_type": "code",
      "metadata": {
        "id": "Sfz63JT2iPjn",
        "colab_type": "code",
        "colab": {
          "base_uri": "https://localhost:8080/",
          "height": 33
        },
        "outputId": "8c25d870-7b84-4cde-928c-ae14613ac0d0"
      },
      "source": [
        "drange = 31\n",
        "start =len(df) +1\n",
        "dval = np.arange(start,start+drange,1)\n",
        "dval= np.array(dval)\n",
        "val= dval\n",
        "dval=dval.reshape(-1, 1)\n",
        "\n",
        "start1 =len(DF)\n",
        "dval1 = np.arange(start1,start1+drange,1)\n",
        "dval1= np.array(dval1)\n",
        "val1= dval1\n",
        "dval1=dval1.reshape(-1, 1)\n",
        "import datetime\n",
        "base = datetime.date.today() - datetime.timedelta(days=1)\n",
        "date_list = [base + datetime.timedelta(days=x) for x in range(drange)]\n",
        "\n",
        "DConfirmed = np.round_(np.multiply(a4,(np.power(b4,val))))\n",
        "TConfirmed = np.round_(np.multiply(a1,(np.power(b1,val1))))\n",
        "#TConfirmed = np.round_(reg1.predict(dval1))\n",
        "#DRecovered = np.round_(np.multiply(a5,(np.power(b5,val))))\n",
        "#TRecovered = np.round_(np.multiply(a2,(np.power(b2,val1))))\n",
        "#TRecovered = np.round_(reg2.predict(dval1))\n",
        "#DDeceased = np.round_(np.multiply(a6,(np.power(b6,val))))\n",
        "#TDeceased = np.round_(np.multiply(a3,(np.power(b3,val1))))\n",
        "#TDeceased = np.round_(reg3.predict(dval1))\n",
        "\n",
        "dict = {\n",
        "        'Date' : date_list,\n",
        "        'Daily Confirmed': DConfirmed.flatten(), \n",
        "        'Total Confirmed': TConfirmed.flatten(), \n",
        "   #     'Daily Recovered': DRecovered.flatten() ,\n",
        "    #    'Total Recovered': TRecovered.flatten(),\n",
        "    #    'Daily Deceased' : DDeceased.flatten(),\n",
        "     #   'Total Deceased' : TDeceased.flatten(),\n",
        "        'Day' : dval1.flatten() ,\n",
        "       } \n",
        "final = pd.DataFrame(dict) \n",
        "start1"
      ],
      "execution_count": 307,
      "outputs": [
        {
          "output_type": "execute_result",
          "data": {
            "text/plain": [
              "92"
            ]
          },
          "metadata": {
            "tags": []
          },
          "execution_count": 307
        }
      ]
    },
    {
      "cell_type": "code",
      "metadata": {
        "scrolled": false,
        "id": "JP0V21beiPj8",
        "colab_type": "code",
        "colab": {
          "base_uri": "https://localhost:8080/",
          "height": 191
        },
        "outputId": "59dbf2f4-5ba7-4d83-e661-1cafd9ae227a"
      },
      "source": [
        "final.head(5)"
      ],
      "execution_count": 309,
      "outputs": [
        {
          "output_type": "execute_result",
          "data": {
            "text/html": [
              "<div>\n",
              "<style scoped>\n",
              "    .dataframe tbody tr th:only-of-type {\n",
              "        vertical-align: middle;\n",
              "    }\n",
              "\n",
              "    .dataframe tbody tr th {\n",
              "        vertical-align: top;\n",
              "    }\n",
              "\n",
              "    .dataframe thead th {\n",
              "        text-align: right;\n",
              "    }\n",
              "</style>\n",
              "<table border=\"1\" class=\"dataframe\">\n",
              "  <thead>\n",
              "    <tr style=\"text-align: right;\">\n",
              "      <th></th>\n",
              "      <th>Date</th>\n",
              "      <th>Daily Confirmed</th>\n",
              "      <th>Total Confirmed</th>\n",
              "      <th>Day</th>\n",
              "    </tr>\n",
              "  </thead>\n",
              "  <tbody>\n",
              "    <tr>\n",
              "      <th>0</th>\n",
              "      <td>2020-06-28</td>\n",
              "      <td>4097.0</td>\n",
              "      <td>82234.0</td>\n",
              "      <td>92</td>\n",
              "    </tr>\n",
              "    <tr>\n",
              "      <th>1</th>\n",
              "      <td>2020-06-29</td>\n",
              "      <td>4348.0</td>\n",
              "      <td>86344.0</td>\n",
              "      <td>93</td>\n",
              "    </tr>\n",
              "    <tr>\n",
              "      <th>2</th>\n",
              "      <td>2020-06-30</td>\n",
              "      <td>4615.0</td>\n",
              "      <td>90660.0</td>\n",
              "      <td>94</td>\n",
              "    </tr>\n",
              "    <tr>\n",
              "      <th>3</th>\n",
              "      <td>2020-07-01</td>\n",
              "      <td>4899.0</td>\n",
              "      <td>95192.0</td>\n",
              "      <td>95</td>\n",
              "    </tr>\n",
              "    <tr>\n",
              "      <th>4</th>\n",
              "      <td>2020-07-02</td>\n",
              "      <td>5200.0</td>\n",
              "      <td>99950.0</td>\n",
              "      <td>96</td>\n",
              "    </tr>\n",
              "  </tbody>\n",
              "</table>\n",
              "</div>"
            ],
            "text/plain": [
              "         Date  Daily Confirmed  Total Confirmed  Day\n",
              "0  2020-06-28           4097.0          82234.0   92\n",
              "1  2020-06-29           4348.0          86344.0   93\n",
              "2  2020-06-30           4615.0          90660.0   94\n",
              "3  2020-07-01           4899.0          95192.0   95\n",
              "4  2020-07-02           5200.0          99950.0   96"
            ]
          },
          "metadata": {
            "tags": []
          },
          "execution_count": 309
        }
      ]
    },
    {
      "cell_type": "code",
      "metadata": {
        "id": "MIc30m89iPj2",
        "colab_type": "code",
        "colab": {
          "base_uri": "https://localhost:8080/",
          "height": 465
        },
        "outputId": "17fb4215-3343-4618-f61e-fc9298728466"
      },
      "source": [
        "%matplotlib inline\n",
        "import matplotlib.pyplot as plt\n",
        "\n",
        "fig= plt.figure(figsize=(18,7))\n",
        "\n",
        "axes= fig.add_axes([0.1,0.1,0.8,0.8])\n",
        "\n",
        "time = df['Date']\n",
        "position =df['Daily Confirmed']\n",
        "\n",
        "time1 = final['Date']\n",
        "position1 = final['Daily Confirmed']\n",
        "\n",
        "axes.plot(time, position)\n",
        "axes.plot(time1, position1)\n",
        "plt.xlabel('Date')\n",
        "plt.ylabel('Daily Confirmed')\n",
        "\n",
        "plt.show()\n",
        "fig.savefig('TN_Daily.png')\n"
      ],
      "execution_count": 310,
      "outputs": [
        {
          "output_type": "display_data",
          "data": {
            "image/png": "[encoded data removed]",
            "text/plain": [
              "<Figure size 1296x504 with 1 Axes>"
            ]
          },
          "metadata": {
            "tags": [],
            "needs_background": "light"
          }
        }
      ]
    },
    {
      "cell_type": "code",
      "metadata": {
        "id": "Vv_G9jA3iPkM",
        "colab_type": "code",
        "colab": {
          "base_uri": "https://localhost:8080/",
          "height": 752
        },
        "outputId": "9c0d445a-f76b-4d0a-8208-c26f70dff4dd"
      },
      "source": [
        "%matplotlib inline\n",
        "import matplotlib.pyplot as plt\n",
        "\n",
        "fig= plt.figure(figsize=(16,12))\n",
        "\n",
        "axes= fig.add_axes([0.1,0.1,0.8,0.8])\n",
        "\n",
        "time = DF['date']\n",
        "position =DF['Total Confirmed']\n",
        "\n",
        "time1 = final['Date']\n",
        "position1 = final['Total Confirmed']\n",
        "axes.plot(time, position)\n",
        "axes.plot(time1, position1)\n",
        "\n",
        "plt.xlabel('Date')\n",
        "plt.ylabel('Total Confirmed')\n",
        "fig.savefig('TN_Total.png')"
      ],
      "execution_count": 311,
      "outputs": [
        {
          "output_type": "display_data",
          "data": {
            "image/png": "[encoded data removed]",
            "text/plain": [
              "<Figure size 1152x864 with 1 Axes>"
            ]
          },
          "metadata": {
            "tags": [],
            "needs_background": "light"
          }
        }
      ]
    },
    {
      "cell_type": "code",
      "metadata": {
        "id": "-DvbESqPiPkV",
        "colab_type": "code",
        "colab": {
          "base_uri": "https://localhost:8080/",
          "height": 191
        },
        "outputId": "0bf449ea-7844-45bc-d64b-8c3b36ea210c"
      },
      "source": [
        "#save to Csv\n",
        "final.to_csv(\"predictTN.csv\")\n",
        "pr=pd.read_csv('predictTN.csv')\n",
        "pr.head()"
      ],
      "execution_count": 312,
      "outputs": [
        {
          "output_type": "execute_result",
          "data": {
            "text/html": [
              "<div>\n",
              "<style scoped>\n",
              "    .dataframe tbody tr th:only-of-type {\n",
              "        vertical-align: middle;\n",
              "    }\n",
              "\n",
              "    .dataframe tbody tr th {\n",
              "        vertical-align: top;\n",
              "    }\n",
              "\n",
              "    .dataframe thead th {\n",
              "        text-align: right;\n",
              "    }\n",
              "</style>\n",
              "<table border=\"1\" class=\"dataframe\">\n",
              "  <thead>\n",
              "    <tr style=\"text-align: right;\">\n",
              "      <th></th>\n",
              "      <th>Unnamed: 0</th>\n",
              "      <th>Date</th>\n",
              "      <th>Daily Confirmed</th>\n",
              "      <th>Total Confirmed</th>\n",
              "      <th>Day</th>\n",
              "    </tr>\n",
              "  </thead>\n",
              "  <tbody>\n",
              "    <tr>\n",
              "      <th>0</th>\n",
              "      <td>0</td>\n",
              "      <td>2020-06-28</td>\n",
              "      <td>4097.0</td>\n",
              "      <td>82234.0</td>\n",
              "      <td>92</td>\n",
              "    </tr>\n",
              "    <tr>\n",
              "      <th>1</th>\n",
              "      <td>1</td>\n",
              "      <td>2020-06-29</td>\n",
              "      <td>4348.0</td>\n",
              "      <td>86344.0</td>\n",
              "      <td>93</td>\n",
              "    </tr>\n",
              "    <tr>\n",
              "      <th>2</th>\n",
              "      <td>2</td>\n",
              "      <td>2020-06-30</td>\n",
              "      <td>4615.0</td>\n",
              "      <td>90660.0</td>\n",
              "      <td>94</td>\n",
              "    </tr>\n",
              "    <tr>\n",
              "      <th>3</th>\n",
              "      <td>3</td>\n",
              "      <td>2020-07-01</td>\n",
              "      <td>4899.0</td>\n",
              "      <td>95192.0</td>\n",
              "      <td>95</td>\n",
              "    </tr>\n",
              "    <tr>\n",
              "      <th>4</th>\n",
              "      <td>4</td>\n",
              "      <td>2020-07-02</td>\n",
              "      <td>5200.0</td>\n",
              "      <td>99950.0</td>\n",
              "      <td>96</td>\n",
              "    </tr>\n",
              "  </tbody>\n",
              "</table>\n",
              "</div>"
            ],
            "text/plain": [
              "   Unnamed: 0        Date  Daily Confirmed  Total Confirmed  Day\n",
              "0           0  2020-06-28           4097.0          82234.0   92\n",
              "1           1  2020-06-29           4348.0          86344.0   93\n",
              "2           2  2020-06-30           4615.0          90660.0   94\n",
              "3           3  2020-07-01           4899.0          95192.0   95\n",
              "4           4  2020-07-02           5200.0          99950.0   96"
            ]
          },
          "metadata": {
            "tags": []
          },
          "execution_count": 312
        }
      ]
    },
    {
      "cell_type": "code",
      "metadata": {
        "id": "XZ8EClztiPkc",
        "colab_type": "code",
        "colab": {
          "base_uri": "https://localhost:8080/",
          "height": 536
        },
        "outputId": "4c95cd53-80b2-4289-a6e5-b0a9a7fa8912"
      },
      "source": [
        "p=pd.read_csv('mypredtn.csv')\n",
        "p"
      ],
      "execution_count": 313,
      "outputs": [
        {
          "output_type": "execute_result",
          "data": {
            "text/html": [
              "<div>\n",
              "<style scoped>\n",
              "    .dataframe tbody tr th:only-of-type {\n",
              "        vertical-align: middle;\n",
              "    }\n",
              "\n",
              "    .dataframe tbody tr th {\n",
              "        vertical-align: top;\n",
              "    }\n",
              "\n",
              "    .dataframe thead th {\n",
              "        text-align: right;\n",
              "    }\n",
              "</style>\n",
              "<table border=\"1\" class=\"dataframe\">\n",
              "  <thead>\n",
              "    <tr style=\"text-align: right;\">\n",
              "      <th></th>\n",
              "      <th>Unnamed: 0</th>\n",
              "      <th>Date</th>\n",
              "      <th>Daily Confirmed</th>\n",
              "      <th>Total Confirmed</th>\n",
              "      <th>Day</th>\n",
              "    </tr>\n",
              "  </thead>\n",
              "  <tbody>\n",
              "    <tr>\n",
              "      <th>0</th>\n",
              "      <td>0</td>\n",
              "      <td>2020-06-19</td>\n",
              "      <td>2158.0</td>\n",
              "      <td>54401.0</td>\n",
              "      <td>83</td>\n",
              "    </tr>\n",
              "    <tr>\n",
              "      <th>1</th>\n",
              "      <td>1</td>\n",
              "      <td>2020-06-20</td>\n",
              "      <td>2236.0</td>\n",
              "      <td>56623.0</td>\n",
              "      <td>84</td>\n",
              "    </tr>\n",
              "    <tr>\n",
              "      <th>2</th>\n",
              "      <td>2</td>\n",
              "      <td>2020-06-21</td>\n",
              "      <td>2316.0</td>\n",
              "      <td>58936.0</td>\n",
              "      <td>85</td>\n",
              "    </tr>\n",
              "    <tr>\n",
              "      <th>3</th>\n",
              "      <td>3</td>\n",
              "      <td>2020-06-22</td>\n",
              "      <td>2400.0</td>\n",
              "      <td>61343.0</td>\n",
              "      <td>86</td>\n",
              "    </tr>\n",
              "    <tr>\n",
              "      <th>4</th>\n",
              "      <td>4</td>\n",
              "      <td>2020-06-23</td>\n",
              "      <td>2486.0</td>\n",
              "      <td>63849.0</td>\n",
              "      <td>87</td>\n",
              "    </tr>\n",
              "    <tr>\n",
              "      <th>5</th>\n",
              "      <td>5</td>\n",
              "      <td>2020-06-24</td>\n",
              "      <td>2575.0</td>\n",
              "      <td>66457.0</td>\n",
              "      <td>88</td>\n",
              "    </tr>\n",
              "    <tr>\n",
              "      <th>6</th>\n",
              "      <td>6</td>\n",
              "      <td>2020-06-25</td>\n",
              "      <td>2668.0</td>\n",
              "      <td>69171.0</td>\n",
              "      <td>89</td>\n",
              "    </tr>\n",
              "    <tr>\n",
              "      <th>7</th>\n",
              "      <td>7</td>\n",
              "      <td>2020-06-26</td>\n",
              "      <td>2764.0</td>\n",
              "      <td>71997.0</td>\n",
              "      <td>90</td>\n",
              "    </tr>\n",
              "    <tr>\n",
              "      <th>8</th>\n",
              "      <td>8</td>\n",
              "      <td>2020-06-27</td>\n",
              "      <td>2863.0</td>\n",
              "      <td>74937.0</td>\n",
              "      <td>91</td>\n",
              "    </tr>\n",
              "    <tr>\n",
              "      <th>9</th>\n",
              "      <td>9</td>\n",
              "      <td>2020-06-28</td>\n",
              "      <td>2966.0</td>\n",
              "      <td>77998.0</td>\n",
              "      <td>92</td>\n",
              "    </tr>\n",
              "    <tr>\n",
              "      <th>10</th>\n",
              "      <td>10</td>\n",
              "      <td>2020-06-29</td>\n",
              "      <td>3072.0</td>\n",
              "      <td>81184.0</td>\n",
              "      <td>93</td>\n",
              "    </tr>\n",
              "    <tr>\n",
              "      <th>11</th>\n",
              "      <td>11</td>\n",
              "      <td>2020-06-30</td>\n",
              "      <td>3183.0</td>\n",
              "      <td>84500.0</td>\n",
              "      <td>94</td>\n",
              "    </tr>\n",
              "    <tr>\n",
              "      <th>12</th>\n",
              "      <td>12</td>\n",
              "      <td>2020-07-01</td>\n",
              "      <td>3297.0</td>\n",
              "      <td>87951.0</td>\n",
              "      <td>95</td>\n",
              "    </tr>\n",
              "    <tr>\n",
              "      <th>13</th>\n",
              "      <td>13</td>\n",
              "      <td>2020-07-02</td>\n",
              "      <td>3416.0</td>\n",
              "      <td>91543.0</td>\n",
              "      <td>96</td>\n",
              "    </tr>\n",
              "    <tr>\n",
              "      <th>14</th>\n",
              "      <td>14</td>\n",
              "      <td>2020-07-03</td>\n",
              "      <td>3538.0</td>\n",
              "      <td>95283.0</td>\n",
              "      <td>97</td>\n",
              "    </tr>\n",
              "    <tr>\n",
              "      <th>15</th>\n",
              "      <td>15</td>\n",
              "      <td>2020-07-04</td>\n",
              "      <td>3665.0</td>\n",
              "      <td>99174.0</td>\n",
              "      <td>98</td>\n",
              "    </tr>\n",
              "    <tr>\n",
              "      <th>16</th>\n",
              "      <td>16</td>\n",
              "      <td>2020-07-05</td>\n",
              "      <td>3797.0</td>\n",
              "      <td>103225.0</td>\n",
              "      <td>99</td>\n",
              "    </tr>\n",
              "  </tbody>\n",
              "</table>\n",
              "</div>"
            ],
            "text/plain": [
              "    Unnamed: 0        Date  Daily Confirmed  Total Confirmed  Day\n",
              "0            0  2020-06-19           2158.0          54401.0   83\n",
              "1            1  2020-06-20           2236.0          56623.0   84\n",
              "2            2  2020-06-21           2316.0          58936.0   85\n",
              "3            3  2020-06-22           2400.0          61343.0   86\n",
              "4            4  2020-06-23           2486.0          63849.0   87\n",
              "5            5  2020-06-24           2575.0          66457.0   88\n",
              "6            6  2020-06-25           2668.0          69171.0   89\n",
              "7            7  2020-06-26           2764.0          71997.0   90\n",
              "8            8  2020-06-27           2863.0          74937.0   91\n",
              "9            9  2020-06-28           2966.0          77998.0   92\n",
              "10          10  2020-06-29           3072.0          81184.0   93\n",
              "11          11  2020-06-30           3183.0          84500.0   94\n",
              "12          12  2020-07-01           3297.0          87951.0   95\n",
              "13          13  2020-07-02           3416.0          91543.0   96\n",
              "14          14  2020-07-03           3538.0          95283.0   97\n",
              "15          15  2020-07-04           3665.0          99174.0   98\n",
              "16          16  2020-07-05           3797.0         103225.0   99"
            ]
          },
          "metadata": {
            "tags": []
          },
          "execution_count": 313
        }
      ]
    },
    {
      "cell_type": "code",
      "metadata": {
        "id": "gLsEue9J0_wf",
        "colab_type": "code",
        "colab": {
          "base_uri": "https://localhost:8080/",
          "height": 465
        },
        "outputId": "012d6f2d-b01a-4759-b83b-f03e2d8049ed"
      },
      "source": [
        "%matplotlib inline\n",
        "import matplotlib.pyplot as plt\n",
        "p['Date'] = pd.to_datetime(p['Date'])\n",
        "fig= plt.figure(figsize=(18,7))\n",
        "\n",
        "axes= fig.add_axes([0.1,0.1,0.8,0.8])\n",
        "\n",
        "time = df['Date']\n",
        "position =df['Daily Confirmed']\n",
        "\n",
        "time1 = p['Date']\n",
        "position1 = p['Daily Confirmed']\n",
        "\n",
        "axes.plot(time, position)\n",
        "axes.plot(time1, position1)\n",
        "plt.xlabel('Date')\n",
        "plt.ylabel('Daily Confirmed')\n",
        "\n",
        "plt.show()\n",
        "fig.savefig('Pred_Vs.png')\n",
        "\n",
        "\n"
      ],
      "execution_count": 314,
      "outputs": [
        {
          "output_type": "display_data",
          "data": {
            "image/png": "[encoded data removed]",
            "text/plain": [
              "<Figure size 1296x504 with 1 Axes>"
            ]
          },
          "metadata": {
            "tags": [],
            "needs_background": "light"
          }
        }
      ]
    },
    {
      "cell_type": "code",
      "metadata": {
        "id": "Zx_bbNnm7h5U",
        "colab_type": "code",
        "colab": {
          "base_uri": "https://localhost:8080/",
          "height": 191
        },
        "outputId": "1a4ec6fe-d60f-432f-9a28-98d7100f20fc"
      },
      "source": [
        "DF.head()"
      ],
      "execution_count": 315,
      "outputs": [
        {
          "output_type": "execute_result",
          "data": {
            "text/html": [
              "<div>\n",
              "<style scoped>\n",
              "    .dataframe tbody tr th:only-of-type {\n",
              "        vertical-align: middle;\n",
              "    }\n",
              "\n",
              "    .dataframe tbody tr th {\n",
              "        vertical-align: top;\n",
              "    }\n",
              "\n",
              "    .dataframe thead th {\n",
              "        text-align: right;\n",
              "    }\n",
              "</style>\n",
              "<table border=\"1\" class=\"dataframe\">\n",
              "  <thead>\n",
              "    <tr style=\"text-align: right;\">\n",
              "      <th></th>\n",
              "      <th>date</th>\n",
              "      <th>Total Confirmed</th>\n",
              "      <th>Total Deceased</th>\n",
              "      <th>Total Recovered</th>\n",
              "      <th>Day</th>\n",
              "    </tr>\n",
              "  </thead>\n",
              "  <tbody>\n",
              "    <tr>\n",
              "      <th>91</th>\n",
              "      <td>2020-03-29</td>\n",
              "      <td>50</td>\n",
              "      <td>1</td>\n",
              "      <td>4</td>\n",
              "      <td>1</td>\n",
              "    </tr>\n",
              "    <tr>\n",
              "      <th>90</th>\n",
              "      <td>2020-03-30</td>\n",
              "      <td>67</td>\n",
              "      <td>1</td>\n",
              "      <td>4</td>\n",
              "      <td>2</td>\n",
              "    </tr>\n",
              "    <tr>\n",
              "      <th>89</th>\n",
              "      <td>2020-03-31</td>\n",
              "      <td>124</td>\n",
              "      <td>1</td>\n",
              "      <td>6</td>\n",
              "      <td>3</td>\n",
              "    </tr>\n",
              "    <tr>\n",
              "      <th>88</th>\n",
              "      <td>2020-04-01</td>\n",
              "      <td>234</td>\n",
              "      <td>1</td>\n",
              "      <td>6</td>\n",
              "      <td>4</td>\n",
              "    </tr>\n",
              "    <tr>\n",
              "      <th>87</th>\n",
              "      <td>2020-04-02</td>\n",
              "      <td>309</td>\n",
              "      <td>1</td>\n",
              "      <td>6</td>\n",
              "      <td>5</td>\n",
              "    </tr>\n",
              "  </tbody>\n",
              "</table>\n",
              "</div>"
            ],
            "text/plain": [
              "         date  Total Confirmed  Total Deceased  Total Recovered  Day\n",
              "91 2020-03-29               50               1                4    1\n",
              "90 2020-03-30               67               1                4    2\n",
              "89 2020-03-31              124               1                6    3\n",
              "88 2020-04-01              234               1                6    4\n",
              "87 2020-04-02              309               1                6    5"
            ]
          },
          "metadata": {
            "tags": []
          },
          "execution_count": 315
        }
      ]
    },
    {
      "cell_type": "code",
      "metadata": {
        "id": "7WsNv2PdiPkg",
        "colab_type": "code",
        "colab": {
          "base_uri": "https://localhost:8080/",
          "height": 465
        },
        "outputId": "5a0d70db-f49e-4fce-9306-e72364e857a8"
      },
      "source": [
        "%matplotlib inline\n",
        "import matplotlib.pyplot as plt\n",
        "p['Date'] = pd.to_datetime(p['Date'])\n",
        "fig= plt.figure(figsize=(18,7))\n",
        "\n",
        "axes= fig.add_axes([0.1,0.1,0.8,0.8])\n",
        "\n",
        "time = DF['date']\n",
        "position =DF['Total Confirmed']\n",
        "\n",
        "time1 = p['Date']\n",
        "position1 = p['Total Confirmed']\n",
        "\n",
        "axes.plot(time, position)\n",
        "axes.plot(time1, position1)\n",
        "plt.xlabel('Date')\n",
        "plt.ylabel('Total Confirmed')\n",
        "\n",
        "plt.show()\n",
        "fig.savefig('Pred_Vs_Actual_Total.png')"
      ],
      "execution_count": 316,
      "outputs": [
        {
          "output_type": "display_data",
          "data": {
            "image/png": "[encoded data removed]",
            "text/plain": [
              "<Figure size 1296x504 with 1 Axes>"
            ]
          },
          "metadata": {
            "tags": [],
            "needs_background": "light"
          }
        }
      ]
    },
    {
      "cell_type": "code",
      "metadata": {
        "id": "IOBdy8nbiPkm",
        "colab_type": "code",
        "colab": {}
      },
      "source": [
        ""
      ],
      "execution_count": null,
      "outputs": []
    },
    {
      "cell_type": "code",
      "metadata": {
        "id": "-LMYFp6UiPks",
        "colab_type": "code",
        "colab": {}
      },
      "source": [
        ""
      ],
      "execution_count": null,
      "outputs": []
    },
    {
      "cell_type": "code",
      "metadata": {
        "id": "fBjSteXwiPkw",
        "colab_type": "code",
        "colab": {}
      },
      "source": [
        ""
      ],
      "execution_count": null,
      "outputs": []
    },
    {
      "cell_type": "code",
      "metadata": {
        "id": "S2NDyjWniPk5",
        "colab_type": "code",
        "colab": {}
      },
      "source": [
        ""
      ],
      "execution_count": null,
      "outputs": []
    },
    {
      "cell_type": "code",
      "metadata": {
        "id": "8WQnIwkaiPlA",
        "colab_type": "code",
        "colab": {}
      },
      "source": [
        ""
      ],
      "execution_count": null,
      "outputs": []
    },
    {
      "cell_type": "code",
      "metadata": {
        "id": "LXeEC2pziPlF",
        "colab_type": "code",
        "colab": {}
      },
      "source": [
        ""
      ],
      "execution_count": null,
      "outputs": []
    },
    {
      "cell_type": "code",
      "metadata": {
        "id": "sF2BQTK6iPlN",
        "colab_type": "code",
        "colab": {}
      },
      "source": [
        ""
      ],
      "execution_count": null,
      "outputs": []
    },
    {
      "cell_type": "code",
      "metadata": {
        "id": "W9bTEmg_iPlR",
        "colab_type": "code",
        "colab": {}
      },
      "source": [
        ""
      ],
      "execution_count": null,
      "outputs": []
    },
    {
      "cell_type": "code",
      "metadata": {
        "id": "0Xc1ef2oiPlW",
        "colab_type": "code",
        "colab": {}
      },
      "source": [
        ""
      ],
      "execution_count": null,
      "outputs": []
    },
    {
      "cell_type": "code",
      "metadata": {
        "id": "gHHAx7z3iPla",
        "colab_type": "code",
        "colab": {}
      },
      "source": [
        ""
      ],
      "execution_count": null,
      "outputs": []
    },
    {
      "cell_type": "code",
      "metadata": {
        "id": "12xXeqPZiPlh",
        "colab_type": "code",
        "colab": {}
      },
      "source": [
        ""
      ],
      "execution_count": null,
      "outputs": []
    },
    {
      "cell_type": "code",
      "metadata": {
        "id": "TJOpXU6GiPlm",
        "colab_type": "code",
        "colab": {}
      },
      "source": [
        ""
      ],
      "execution_count": null,
      "outputs": []
    },
    {
      "cell_type": "code",
      "metadata": {
        "id": "OfjGqq-iiPlp",
        "colab_type": "code",
        "colab": {}
      },
      "source": [
        ""
      ],
      "execution_count": null,
      "outputs": []
    },
    {
      "cell_type": "code",
      "metadata": {
        "id": "gKPiBcUhiPlt",
        "colab_type": "code",
        "colab": {}
      },
      "source": [
        ""
      ],
      "execution_count": null,
      "outputs": []
    }
  ]
}