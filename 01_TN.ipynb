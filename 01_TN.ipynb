{
  "nbformat": 4,
  "nbformat_minor": 0,
  "metadata": {
    "kernelspec": {
      "name": "python3",
      "display_name": "Python 3"
    },
    "colab": {
      "name": "01_TN.ipynb",
      "provenance": [],
      "include_colab_link": true
    },
    "accelerator": "GPU"
  },
  "cells": [
    {
      "cell_type": "markdown",
      "metadata": {
        "id": "view-in-github",
        "colab_type": "text"
      },
      "source": [
        "<a href=\"https://colab.research.google.com/github/skbhere/Simple-forecast-predicion-for-Covid-19-/blob/master/01_TN.ipynb\" target=\"_parent\"><img src=\"https://colab.research.google.com/assets/colab-badge.svg\" alt=\"Open In Colab\"/></a>"
      ]
    },
    {
      "cell_type": "code",
      "metadata": {
        "id": "5PMvjbq2iPie",
        "colab_type": "code",
        "colab": {}
      },
      "source": [
        "import numpy as np\n",
        "import pandas as pd"
      ],
      "execution_count": 2,
      "outputs": []
    },
    {
      "cell_type": "code",
      "metadata": {
        "id": "T34X5uwhiPis",
        "colab_type": "code",
        "colab": {}
      },
      "source": [
        "df0 = pd.read_json(\"https://api.covid19india.org/v3/timeseries.json\")"
      ],
      "execution_count": 3,
      "outputs": []
    },
    {
      "cell_type": "code",
      "metadata": {
        "scrolled": true,
        "id": "A1NG0KPZiPiy",
        "colab_type": "code",
        "colab": {}
      },
      "source": [
        "\n",
        "TN = df0['TN']\n",
        "TN =TN.to_dict() \n",
        "data = pd.DataFrame.from_dict(TN)\n",
        "data =  data.transpose()\n",
        "data = data['total']\n",
        "df2=pd.DataFrame(data)\n",
        "data=data.reindex(index=data.index[::-1])\n",
        "data = data.drop(data.index[0:28])\n",
        "data = data.head(len(data)-3)\n"
      ],
      "execution_count": 4,
      "outputs": []
    },
    {
      "cell_type": "code",
      "metadata": {
        "id": "HeCeKuyBiU4A",
        "colab_type": "code",
        "colab": {}
      },
      "source": [
        "\n",
        "TN = df0['TN']\n",
        "TN =TN.to_dict() \n",
        "d = pd.DataFrame.from_dict(TN)\n",
        "d =  d.transpose()\n",
        "d = d['delta']\n",
        "df2=pd.DataFrame(d)\n",
        "d=d.reindex(index=d.index[::-1])\n",
        "d = d.drop(d.index[0:28])\n",
        "d = d.head(len(d)-11)\n"
      ],
      "execution_count": 5,
      "outputs": []
    },
    {
      "cell_type": "code",
      "metadata": {
        "scrolled": true,
        "id": "HOg1q2aZiPi5",
        "colab_type": "code",
        "colab": {}
      },
      "source": [
        "dcon = []\n",
        "con = []\n",
        "dec = []\n",
        "rec = []\n",
        "\n",
        "for index, value in data.items():\n",
        "    con.append(data[index]['confirmed'])\n",
        "    dec.append(data[index]['deceased'])\n",
        "    rec.append(data[index]['recovered'])\n",
        "    \n",
        "\n",
        "for index, value in d.items():\n",
        "    dcon.append(d[index]['confirmed'])\n",
        "  \n",
        "n = len(data)\n",
        "day = list(range(1, n+1))\n",
        "\n",
        "dict1 = { \n",
        "'date' : data.index.values,\n",
        "'Total Confirmed' :con,\n",
        "'Total Deceased' : dec,\n",
        "'Total Recovered' : rec,\n",
        "}\n",
        "\n",
        "nn = len(d)\n",
        "day1 = list(range(1, nn+1))\n",
        "dict2 = { \n",
        "         'Date' : d.index.values,\n",
        "         'Daily Confirmed' :dcon,\n",
        "         \n",
        "    \n",
        "}\n",
        "\n",
        "dict1\n",
        "DF= pd.DataFrame(dict1) \n",
        "DF=DF.head(len(DF))\n",
        "DF=DF.reindex(index=DF.index[::-1])\n",
        "DF[\"Day\"] = day\n",
        "Dailyf = pd.DataFrame(dict2) \n",
        "Dailyf=Dailyf.reindex(index=Dailyf.index[::-1])\n",
        "Dailyf[\"Day\"] = day1\n",
        "df=Dailyf\n",
        "#data['2020-06-13']['confirmed']"
      ],
      "execution_count": 6,
      "outputs": []
    },
    {
      "cell_type": "code",
      "metadata": {
        "id": "NuLCQ-27iPjB",
        "colab_type": "code",
        "colab": {}
      },
      "source": [
        "xlen=len(df)\n",
        "sp=round(xlen*0.6)\n",
        "df['Date'] = pd.to_datetime(df['Date'])\n"
      ],
      "execution_count": 81,
      "outputs": []
    },
    {
      "cell_type": "code",
      "metadata": {
        "id": "RszYUwzjDK_M",
        "colab_type": "code",
        "colab": {
          "base_uri": "https://localhost:8080/",
          "height": 498
        },
        "outputId": "1bc1402f-9640-4cf0-a9ae-0ef37ff84fa1"
      },
      "source": [
        "import matplotlib.pyplot as plt\n",
        "train_data, test_data = df[0:sp], df[sp:]\n",
        "fig= plt.figure(figsize=(18,7))\n",
        "axes= fig.add_axes([0.1,0.1,0.8,0.8])\n",
        "#plt.figure(figsize=(12,7))\n",
        "plt.title('Daily Confirmed')\n",
        "plt.xlabel('Dates')\n",
        "plt.ylabel('Daily Confirmed')\n",
        "plt.plot(df['Daily Confirmed'], 'blue', label='Training Data')\n",
        "plt.plot(test_data['Daily Confirmed'], 'green', label='Testing Data')\n",
        "plt.xticks(np.arange(0,sp,xlen), df['Date'][0:sp:xlen])\n",
        "plt.legend()"
      ],
      "execution_count": 82,
      "outputs": [
        {
          "output_type": "execute_result",
          "data": {
            "text/plain": [
              "<matplotlib.legend.Legend at 0x7f3a74fbecf8>"
            ]
          },
          "metadata": {
            "tags": []
          },
          "execution_count": 82
        },
        {
          "output_type": "display_data",
          "data": {
            "image/png": "[encoded data removed]",
            "text/plain": [
              "<Figure size 1296x504 with 1 Axes>"
            ]
          },
          "metadata": {
            "tags": [],
            "needs_background": "light"
          }
        }
      ]
    },
    {
      "cell_type": "code",
      "metadata": {
        "id": "GrCvbHywdfzf",
        "colab_type": "code",
        "colab": {}
      },
      "source": [
        "def smape_kun(y_true, y_pred):\n",
        "    return np.mean((np.abs(y_pred - y_true) * 200/ (np.abs(y_pred) +       np.abs(y_true))))"
      ],
      "execution_count": 83,
      "outputs": []
    },
    {
      "cell_type": "code",
      "metadata": {
        "id": "e5ajmKd5fHme",
        "colab_type": "code",
        "colab": {
          "base_uri": "https://localhost:8080/",
          "height": 318
        },
        "outputId": "6912c43e-cd8c-495d-c04a-7cd0814a7727"
      },
      "source": [
        "from statsmodels.tsa.arima_model import ARIMA\n",
        "from statsmodels.tsa.statespace.sarimax import SARIMAX\n",
        "from sklearn.metrics import mean_squared_error\n",
        "train_ar = train_data['Daily Confirmed'].values\n",
        "test_ar = test_data['Daily Confirmed'].values\n",
        "history = [x for x in train_ar]\n",
        "print(type(history))\n",
        "predictions = list()\n",
        "for t in range(len(test_ar)):\n",
        "    my_order = (1, 1, 1)\n",
        "    my_seasonal_order = (1, 1, 1, 12)\n",
        "    model = SARIMAX(history, order=my_order, seasonal_order=my_seasonal_order)\n",
        "    #model = ARIMA(history, order=(5,1,0))\n",
        "    model_fit = model.fit(disp=0)\n",
        "    output = model_fit.forecast()\n",
        "    yhat = output[0]\n",
        "    predictions.append(yhat)\n",
        "    obs = test_ar[t]\n",
        "    history.append(obs)\n",
        "error = mean_squared_error(test_ar, predictions)\n",
        "print('Testing Mean Squared Error: %.3f' % error)\n",
        "error2 = smape_kun(test_ar, predictions)\n",
        "print('Symmetric mean absolute percentage error: %.3f' % error2)\n",
        "\n"
      ],
      "execution_count": 84,
      "outputs": [
        {
          "output_type": "stream",
          "text": [
            "<class 'list'>\n"
          ],
          "name": "stdout"
        },
        {
          "output_type": "stream",
          "text": [
            "/usr/local/lib/python3.6/dist-packages/statsmodels/tsa/statespace/sarimax.py:993: UserWarning: Non-invertible starting seasonal moving average Using zeros as starting parameters.\n",
            "  warn('Non-invertible starting seasonal moving average'\n",
            "/usr/local/lib/python3.6/dist-packages/statsmodels/base/model.py:512: ConvergenceWarning: Maximum Likelihood optimization failed to converge. Check mle_retvals\n",
            "  \"Check mle_retvals\", ConvergenceWarning)\n",
            "/usr/local/lib/python3.6/dist-packages/statsmodels/base/model.py:512: ConvergenceWarning: Maximum Likelihood optimization failed to converge. Check mle_retvals\n",
            "  \"Check mle_retvals\", ConvergenceWarning)\n",
            "/usr/local/lib/python3.6/dist-packages/statsmodels/base/model.py:512: ConvergenceWarning: Maximum Likelihood optimization failed to converge. Check mle_retvals\n",
            "  \"Check mle_retvals\", ConvergenceWarning)\n",
            "/usr/local/lib/python3.6/dist-packages/statsmodels/base/model.py:512: ConvergenceWarning: Maximum Likelihood optimization failed to converge. Check mle_retvals\n",
            "  \"Check mle_retvals\", ConvergenceWarning)\n",
            "/usr/local/lib/python3.6/dist-packages/statsmodels/base/model.py:512: ConvergenceWarning: Maximum Likelihood optimization failed to converge. Check mle_retvals\n",
            "  \"Check mle_retvals\", ConvergenceWarning)\n",
            "/usr/local/lib/python3.6/dist-packages/statsmodels/base/model.py:512: ConvergenceWarning: Maximum Likelihood optimization failed to converge. Check mle_retvals\n",
            "  \"Check mle_retvals\", ConvergenceWarning)\n"
          ],
          "name": "stderr"
        },
        {
          "output_type": "stream",
          "text": [
            "Testing Mean Squared Error: 50999.645\n",
            "Symmetric mean absolute percentage error: 7.496\n"
          ],
          "name": "stdout"
        }
      ]
    },
    {
      "cell_type": "code",
      "metadata": {
        "id": "7lE2fcPUpDEd",
        "colab_type": "code",
        "colab": {}
      },
      "source": [
        "f=[]\n",
        "def forecast(x) :\n",
        "  f = model_fit.forecast(steps=x)\n",
        "  f = np.round(f)\n",
        "  return f"
      ],
      "execution_count": 85,
      "outputs": []
    },
    {
      "cell_type": "code",
      "metadata": {
        "id": "1j46gZcwmaL7",
        "colab_type": "code",
        "colab": {
          "base_uri": "https://localhost:8080/",
          "height": 34
        },
        "outputId": "eaceb7c5-e26b-4e59-e2ee-537edd4be7bb"
      },
      "source": [
        "forecast(5)"
      ],
      "execution_count": 86,
      "outputs": [
        {
          "output_type": "execute_result",
          "data": {
            "text/plain": [
              "array([4467., 4629., 4579., 4747., 4947.])"
            ]
          },
          "metadata": {
            "tags": []
          },
          "execution_count": 86
        }
      ]
    },
    {
      "cell_type": "code",
      "metadata": {
        "id": "a6pnjYu1f4IY",
        "colab_type": "code",
        "colab": {
          "base_uri": "https://localhost:8080/",
          "height": 475
        },
        "outputId": "dde3aa5b-a77a-42e3-8c42-49616f5f89cc"
      },
      "source": [
        "plt.figure(figsize=(12,7))\n",
        "plt.plot(df['Daily Confirmed'], 'green', color='blue', label='Training Data')\n",
        "plt.plot(test_data.index, predictions, color='green', marker='o', linestyle='dashed', \n",
        "         label='Predicted Price')\n",
        "plt.plot(test_data.index, test_data['Daily Confirmed'], color='red', label='Actual Price')\n",
        "plt.title('Daily Confirmed Prediction')\n",
        "plt.xlabel('Dates')\n",
        "plt.ylabel('Daily Confirmed')\n",
        "plt.xticks(np.arange(0,sp,xlen), df['Date'][0:sp:xlen])\n",
        "plt.legend()"
      ],
      "execution_count": 87,
      "outputs": [
        {
          "output_type": "execute_result",
          "data": {
            "text/plain": [
              "<matplotlib.legend.Legend at 0x7f3a74f93358>"
            ]
          },
          "metadata": {
            "tags": []
          },
          "execution_count": 87
        },
        {
          "output_type": "display_data",
          "data": {
            "image/png": "[encoded data removed]",
            "text/plain": [
              "<Figure size 864x504 with 1 Axes>"
            ]
          },
          "metadata": {
            "tags": [],
            "needs_background": "light"
          }
        }
      ]
    },
    {
      "cell_type": "code",
      "metadata": {
        "id": "iASB49r3iPjG",
        "colab_type": "code",
        "colab": {}
      },
      "source": [
        "df2 = Dailyf.tail(17)\n",
        "df1 =DF.tail(6)"
      ],
      "execution_count": 88,
      "outputs": []
    },
    {
      "cell_type": "code",
      "metadata": {
        "id": "Mjoq0R4PiPjc",
        "colab_type": "code",
        "colab": {}
      },
      "source": [
        "X1 = np.array(df1['Day'])\n",
        "X2 = np.array(df2['Day'])\n",
        "#Y1 = np.array(df1['Total Confirmed'])\n",
        "#Y2 = np.array(df1['Total Recovered'])\n",
        "#Y3 = np.array(df1['Total Deceased'])\n",
        "Y1 = np.log(df1['Total Confirmed'])\n",
        "Y1 = np.array(Y1)\n",
        "Y2 = np.log(df1['Total Recovered'])\n",
        "Y2 = np.array(Y2)\n",
        "Y3 = np.log(df1['Total Deceased'])\n",
        "Y3 = np.array(Y3)\n",
        "#Y4 = np.array(df2['Daily Confirmed'])\n",
        "\n",
        "Y4 =np.log(df2['Daily Confirmed'])\n",
        "Y4 = np.array(Y4)\n"
      ],
      "execution_count": 89,
      "outputs": []
    },
    {
      "cell_type": "code",
      "metadata": {
        "id": "DcOlR4igiPji",
        "colab_type": "code",
        "colab": {
          "base_uri": "https://localhost:8080/",
          "height": 105
        },
        "outputId": "1dbfbbbe-e838-495c-dcf3-8cae40390aac"
      },
      "source": [
        "from sklearn.linear_model import LinearRegression\n",
        "X1=X1.reshape(-1, 1)\n",
        "X2=X2.reshape(-1, 1)\n",
        "Y1=Y1.reshape(-1, 1)\n",
        "Y2=Y2.reshape(-1, 1)\n",
        "Y3=Y3.reshape(-1, 1)\n",
        "Y4=Y4.reshape(-1, 1)\n",
        "\n",
        "reg1 = LinearRegression().fit(X1, Y1)\n",
        "reg2 = LinearRegression().fit(X1, Y2)\n",
        "reg3 = LinearRegression().fit(X1, Y3)\n",
        "reg4 = LinearRegression().fit(X2, Y4)\n",
        "\n",
        "\n",
        "logb1 = reg1.coef_\n",
        "loga1 = reg1.intercept_\n",
        "a1 = np.exp(loga1)\n",
        "b1 = np.exp(logb1)\n",
        "\n",
        "logb2 = reg2.coef_\n",
        "loga2 = reg2.intercept_\n",
        "a2 = np.exp(loga2)\n",
        "b2 = np.exp(logb2)\n",
        "\n",
        "logb3 = reg3.coef_\n",
        "loga3 = reg3.intercept_\n",
        "a3 = np.exp(loga3)\n",
        "b3 = np.exp(logb3)\n",
        "\n",
        "logb4 = reg4.coef_\n",
        "loga4 = reg4.intercept_\n",
        "a4 = np.exp(loga4)\n",
        "b4 = np.exp(logb4)\n",
        "\n",
        "\n",
        "\n",
        "#print(\"Based on Last 20 Days Data\")\n",
        "#print (\"Total Confirmed Accuracy\", reg1.score(X1, Y1)*100)\n",
        "print (\"coefficient of determination for Total Confirmed\", reg1.score(X1, Y1)*100)\n",
        "print (\"coefficient of determination for Total Recovered \", reg2.score(X1, Y2)*100)\n",
        "print (\"coefficient of determination for Total Deceased \", reg3.score(X1, Y3)*100)\n",
        "print(\"coefficient of determination for Based on Last 30 Days Data\")\n",
        "print (\"coefficient of determination for Daily Confirmed \", reg4.score(X2, Y4)*100)\n",
        "#print (\"coefficient of determination for Daily Recovered \", reg5.score(X2, Y5)*100)\n",
        "#print (\"coefficient of determination for Daily Deceased \", reg6.score(X2, Y6)*100)\n"
      ],
      "execution_count": 90,
      "outputs": [
        {
          "output_type": "stream",
          "text": [
            "coefficient of determination for Total Confirmed 99.97926912400816\n",
            "coefficient of determination for Total Recovered  99.83249248153639\n",
            "coefficient of determination for Total Deceased  99.84534090159029\n",
            "coefficient of determination for Based on Last 30 Days Data\n",
            "coefficient of determination for Daily Confirmed  93.13298862721385\n"
          ],
          "name": "stdout"
        }
      ]
    },
    {
      "cell_type": "code",
      "metadata": {
        "id": "Sfz63JT2iPjn",
        "colab_type": "code",
        "colab": {
          "base_uri": "https://localhost:8080/",
          "height": 197
        },
        "outputId": "4352785f-2445-4a32-a917-e9ab298b69c3"
      },
      "source": [
        "drange = 30\n",
        "start =len(df) +1\n",
        "dval = np.arange(start,start+drange,1)\n",
        "dval= np.array(dval)\n",
        "val= dval\n",
        "dval=dval.reshape(-1, 1)\n",
        "\n",
        "start1 =len(DF)\n",
        "dval1 = np.arange(start1,start1+drange,1)\n",
        "dval1= np.array(dval1)\n",
        "val1= dval1\n",
        "dval1=dval1.reshape(-1, 1)\n",
        "import datetime\n",
        "base = datetime.date.today() - datetime.timedelta(days=0)\n",
        "date_list = [base + datetime.timedelta(days=x) for x in range(drange)]\n",
        "\n",
        "DConfirmed = forecast(drange+1)\n",
        "DConfirmed =DConfirmed[:-1]\n",
        "#DConfirmed = np.round_(np.multiply(a4,(np.power(b4,val))))\n",
        "TConfirmed = np.round_(np.multiply(a1,(np.power(b1,val1))))\n",
        "#TConfirmed = np.round_(reg1.predict(dval1))\n",
        "#DRecovered = np.round_(np.multiply(a5,(np.power(b5,val))))\n",
        "#TRecovered = np.round_(np.multiply(a2,(np.power(b2,val1))))\n",
        "#TRecovered = np.round_(reg2.predict(dval1))\n",
        "#DDeceased = np.round_(np.multiply(a6,(np.power(b6,val))))\n",
        "#TDeceased = np.round_(np.multiply(a3,(np.power(b3,val1))))\n",
        "#TDeceased = np.round_(reg3.predict(dval1))\n",
        "\n",
        "DConfirmed= DConfirmed.flatten()\n",
        "TConfirmed= TConfirmed.flatten()\n",
        "i = 1\n",
        "while i < len(TConfirmed):\n",
        "    DConfirmed[i]=TConfirmed[i]-TConfirmed[i-1]\n",
        "    i += 1\n",
        "\n",
        "lastD = df['Daily Confirmed'][0]\n",
        "lastT = DF['Total Confirmed'][0]\n",
        "lastDat = DF['date'][0]\n",
        "new_row = pd.DataFrame({'Daily Confirmed':lastD.flatten() ,\n",
        "                        'Total Confirmed':lastT.flatten(),\n",
        "                        'Date': pd.to_datetime(lastDat)\n",
        "                        })\n",
        "#DConfirmed[0]=DF['Total Confirmed'][0]-TConfirmed[0]\n",
        "dict = {\n",
        "        'Date' : date_list,\n",
        "        'Daily Confirmed': DConfirmed.flatten(), \n",
        "        'Total Confirmed': TConfirmed.flatten(), \n",
        "   #     'Daily Recovered': DRecovered.flatten() ,\n",
        "    #    'Total Recovered': TRecovered.flatten(),\n",
        "    #    'Daily Deceased' : DDeceased.flatten(),\n",
        "     #   'Total Deceased' : TDeceased.flatten(),\n",
        "        'Day' : dval1.flatten() ,\n",
        "       } \n",
        "final = pd.DataFrame(dict) \n",
        "final = pd.concat([new_row, final]).reset_index(drop = True) \n",
        "final['Date'] = pd.to_datetime(final['Date'])\n",
        "final.head(5) \n"
      ],
      "execution_count": 162,
      "outputs": [
        {
          "output_type": "execute_result",
          "data": {
            "text/html": [
              "<div>\n",
              "<style scoped>\n",
              "    .dataframe tbody tr th:only-of-type {\n",
              "        vertical-align: middle;\n",
              "    }\n",
              "\n",
              "    .dataframe tbody tr th {\n",
              "        vertical-align: top;\n",
              "    }\n",
              "\n",
              "    .dataframe thead th {\n",
              "        text-align: right;\n",
              "    }\n",
              "</style>\n",
              "<table border=\"1\" class=\"dataframe\">\n",
              "  <thead>\n",
              "    <tr style=\"text-align: right;\">\n",
              "      <th></th>\n",
              "      <th>Daily Confirmed</th>\n",
              "      <th>Total Confirmed</th>\n",
              "      <th>Date</th>\n",
              "      <th>Day</th>\n",
              "    </tr>\n",
              "  </thead>\n",
              "  <tbody>\n",
              "    <tr>\n",
              "      <th>0</th>\n",
              "      <td>4329.0</td>\n",
              "      <td>102721.0</td>\n",
              "      <td>2020-07-03</td>\n",
              "      <td>NaN</td>\n",
              "    </tr>\n",
              "    <tr>\n",
              "      <th>1</th>\n",
              "      <td>4467.0</td>\n",
              "      <td>102803.0</td>\n",
              "      <td>2020-07-04</td>\n",
              "      <td>97.0</td>\n",
              "    </tr>\n",
              "    <tr>\n",
              "      <th>2</th>\n",
              "      <td>4648.0</td>\n",
              "      <td>107451.0</td>\n",
              "      <td>2020-07-05</td>\n",
              "      <td>98.0</td>\n",
              "    </tr>\n",
              "    <tr>\n",
              "      <th>3</th>\n",
              "      <td>4859.0</td>\n",
              "      <td>112310.0</td>\n",
              "      <td>2020-07-06</td>\n",
              "      <td>99.0</td>\n",
              "    </tr>\n",
              "    <tr>\n",
              "      <th>4</th>\n",
              "      <td>5079.0</td>\n",
              "      <td>117389.0</td>\n",
              "      <td>2020-07-07</td>\n",
              "      <td>100.0</td>\n",
              "    </tr>\n",
              "  </tbody>\n",
              "</table>\n",
              "</div>"
            ],
            "text/plain": [
              "   Daily Confirmed  Total Confirmed       Date    Day\n",
              "0           4329.0         102721.0 2020-07-03    NaN\n",
              "1           4467.0         102803.0 2020-07-04   97.0\n",
              "2           4648.0         107451.0 2020-07-05   98.0\n",
              "3           4859.0         112310.0 2020-07-06   99.0\n",
              "4           5079.0         117389.0 2020-07-07  100.0"
            ]
          },
          "metadata": {
            "tags": []
          },
          "execution_count": 162
        }
      ]
    },
    {
      "cell_type": "code",
      "metadata": {
        "scrolled": false,
        "id": "JP0V21beiPj8",
        "colab_type": "code",
        "colab": {
          "base_uri": "https://localhost:8080/",
          "height": 647
        },
        "outputId": "e89efc82-89ca-498b-f12c-4ce099d75aa5"
      },
      "source": [
        "final.head(20)"
      ],
      "execution_count": 163,
      "outputs": [
        {
          "output_type": "execute_result",
          "data": {
            "text/html": [
              "<div>\n",
              "<style scoped>\n",
              "    .dataframe tbody tr th:only-of-type {\n",
              "        vertical-align: middle;\n",
              "    }\n",
              "\n",
              "    .dataframe tbody tr th {\n",
              "        vertical-align: top;\n",
              "    }\n",
              "\n",
              "    .dataframe thead th {\n",
              "        text-align: right;\n",
              "    }\n",
              "</style>\n",
              "<table border=\"1\" class=\"dataframe\">\n",
              "  <thead>\n",
              "    <tr style=\"text-align: right;\">\n",
              "      <th></th>\n",
              "      <th>Daily Confirmed</th>\n",
              "      <th>Total Confirmed</th>\n",
              "      <th>Date</th>\n",
              "      <th>Day</th>\n",
              "    </tr>\n",
              "  </thead>\n",
              "  <tbody>\n",
              "    <tr>\n",
              "      <th>0</th>\n",
              "      <td>4329.0</td>\n",
              "      <td>102721.0</td>\n",
              "      <td>2020-07-03</td>\n",
              "      <td>NaN</td>\n",
              "    </tr>\n",
              "    <tr>\n",
              "      <th>1</th>\n",
              "      <td>4467.0</td>\n",
              "      <td>102803.0</td>\n",
              "      <td>2020-07-04</td>\n",
              "      <td>97.0</td>\n",
              "    </tr>\n",
              "    <tr>\n",
              "      <th>2</th>\n",
              "      <td>4648.0</td>\n",
              "      <td>107451.0</td>\n",
              "      <td>2020-07-05</td>\n",
              "      <td>98.0</td>\n",
              "    </tr>\n",
              "    <tr>\n",
              "      <th>3</th>\n",
              "      <td>4859.0</td>\n",
              "      <td>112310.0</td>\n",
              "      <td>2020-07-06</td>\n",
              "      <td>99.0</td>\n",
              "    </tr>\n",
              "    <tr>\n",
              "      <th>4</th>\n",
              "      <td>5079.0</td>\n",
              "      <td>117389.0</td>\n",
              "      <td>2020-07-07</td>\n",
              "      <td>100.0</td>\n",
              "    </tr>\n",
              "    <tr>\n",
              "      <th>5</th>\n",
              "      <td>5308.0</td>\n",
              "      <td>122697.0</td>\n",
              "      <td>2020-07-08</td>\n",
              "      <td>101.0</td>\n",
              "    </tr>\n",
              "    <tr>\n",
              "      <th>6</th>\n",
              "      <td>5548.0</td>\n",
              "      <td>128245.0</td>\n",
              "      <td>2020-07-09</td>\n",
              "      <td>102.0</td>\n",
              "    </tr>\n",
              "    <tr>\n",
              "      <th>7</th>\n",
              "      <td>5799.0</td>\n",
              "      <td>134044.0</td>\n",
              "      <td>2020-07-10</td>\n",
              "      <td>103.0</td>\n",
              "    </tr>\n",
              "    <tr>\n",
              "      <th>8</th>\n",
              "      <td>6062.0</td>\n",
              "      <td>140106.0</td>\n",
              "      <td>2020-07-11</td>\n",
              "      <td>104.0</td>\n",
              "    </tr>\n",
              "    <tr>\n",
              "      <th>9</th>\n",
              "      <td>6335.0</td>\n",
              "      <td>146441.0</td>\n",
              "      <td>2020-07-12</td>\n",
              "      <td>105.0</td>\n",
              "    </tr>\n",
              "    <tr>\n",
              "      <th>10</th>\n",
              "      <td>6622.0</td>\n",
              "      <td>153063.0</td>\n",
              "      <td>2020-07-13</td>\n",
              "      <td>106.0</td>\n",
              "    </tr>\n",
              "    <tr>\n",
              "      <th>11</th>\n",
              "      <td>6922.0</td>\n",
              "      <td>159985.0</td>\n",
              "      <td>2020-07-14</td>\n",
              "      <td>107.0</td>\n",
              "    </tr>\n",
              "    <tr>\n",
              "      <th>12</th>\n",
              "      <td>7234.0</td>\n",
              "      <td>167219.0</td>\n",
              "      <td>2020-07-15</td>\n",
              "      <td>108.0</td>\n",
              "    </tr>\n",
              "    <tr>\n",
              "      <th>13</th>\n",
              "      <td>7562.0</td>\n",
              "      <td>174781.0</td>\n",
              "      <td>2020-07-16</td>\n",
              "      <td>109.0</td>\n",
              "    </tr>\n",
              "    <tr>\n",
              "      <th>14</th>\n",
              "      <td>7903.0</td>\n",
              "      <td>182684.0</td>\n",
              "      <td>2020-07-17</td>\n",
              "      <td>110.0</td>\n",
              "    </tr>\n",
              "    <tr>\n",
              "      <th>15</th>\n",
              "      <td>8261.0</td>\n",
              "      <td>190945.0</td>\n",
              "      <td>2020-07-18</td>\n",
              "      <td>111.0</td>\n",
              "    </tr>\n",
              "    <tr>\n",
              "      <th>16</th>\n",
              "      <td>8634.0</td>\n",
              "      <td>199579.0</td>\n",
              "      <td>2020-07-19</td>\n",
              "      <td>112.0</td>\n",
              "    </tr>\n",
              "    <tr>\n",
              "      <th>17</th>\n",
              "      <td>9025.0</td>\n",
              "      <td>208604.0</td>\n",
              "      <td>2020-07-20</td>\n",
              "      <td>113.0</td>\n",
              "    </tr>\n",
              "    <tr>\n",
              "      <th>18</th>\n",
              "      <td>9433.0</td>\n",
              "      <td>218037.0</td>\n",
              "      <td>2020-07-21</td>\n",
              "      <td>114.0</td>\n",
              "    </tr>\n",
              "    <tr>\n",
              "      <th>19</th>\n",
              "      <td>9859.0</td>\n",
              "      <td>227896.0</td>\n",
              "      <td>2020-07-22</td>\n",
              "      <td>115.0</td>\n",
              "    </tr>\n",
              "  </tbody>\n",
              "</table>\n",
              "</div>"
            ],
            "text/plain": [
              "    Daily Confirmed  Total Confirmed       Date    Day\n",
              "0            4329.0         102721.0 2020-07-03    NaN\n",
              "1            4467.0         102803.0 2020-07-04   97.0\n",
              "2            4648.0         107451.0 2020-07-05   98.0\n",
              "3            4859.0         112310.0 2020-07-06   99.0\n",
              "4            5079.0         117389.0 2020-07-07  100.0\n",
              "5            5308.0         122697.0 2020-07-08  101.0\n",
              "6            5548.0         128245.0 2020-07-09  102.0\n",
              "7            5799.0         134044.0 2020-07-10  103.0\n",
              "8            6062.0         140106.0 2020-07-11  104.0\n",
              "9            6335.0         146441.0 2020-07-12  105.0\n",
              "10           6622.0         153063.0 2020-07-13  106.0\n",
              "11           6922.0         159985.0 2020-07-14  107.0\n",
              "12           7234.0         167219.0 2020-07-15  108.0\n",
              "13           7562.0         174781.0 2020-07-16  109.0\n",
              "14           7903.0         182684.0 2020-07-17  110.0\n",
              "15           8261.0         190945.0 2020-07-18  111.0\n",
              "16           8634.0         199579.0 2020-07-19  112.0\n",
              "17           9025.0         208604.0 2020-07-20  113.0\n",
              "18           9433.0         218037.0 2020-07-21  114.0\n",
              "19           9859.0         227896.0 2020-07-22  115.0"
            ]
          },
          "metadata": {
            "tags": []
          },
          "execution_count": 163
        }
      ]
    },
    {
      "cell_type": "code",
      "metadata": {
        "id": "MIc30m89iPj2",
        "colab_type": "code",
        "colab": {
          "base_uri": "https://localhost:8080/",
          "height": 464
        },
        "outputId": "b2c4e02d-3e34-40f8-ee74-73a615cd0b9e"
      },
      "source": [
        "%matplotlib inline\n",
        "import matplotlib.pyplot as plt\n",
        "\n",
        "fig= plt.figure(figsize=(18,7))\n",
        "\n",
        "axes= fig.add_axes([0.1,0.1,0.8,0.8])\n",
        "\n",
        "time = df['Date']\n",
        "position =df['Daily Confirmed']\n",
        "\n",
        "time1 = final['Date']\n",
        "position1 = final['Daily Confirmed']\n",
        "\n",
        "axes.plot(time, position)\n",
        "axes.plot(time1, position1)\n",
        "plt.xlabel('Date')\n",
        "plt.ylabel('Daily Confirmed')\n",
        "\n",
        "plt.show()\n",
        "fig.savefig('TN_Daily.png')\n"
      ],
      "execution_count": 164,
      "outputs": [
        {
          "output_type": "display_data",
          "data": {
            "image/png": "[encoded data removed]",
            "text/plain": [
              "<Figure size 1296x504 with 1 Axes>"
            ]
          },
          "metadata": {
            "tags": [],
            "needs_background": "light"
          }
        }
      ]
    },
    {
      "cell_type": "code",
      "metadata": {
        "id": "Vv_G9jA3iPkM",
        "colab_type": "code",
        "colab": {
          "base_uri": "https://localhost:8080/",
          "height": 753
        },
        "outputId": "2b609036-17d8-44cb-9beb-32dfdf1d03ff"
      },
      "source": [
        "%matplotlib inline\n",
        "import matplotlib.pyplot as plt\n",
        "\n",
        "fig= plt.figure(figsize=(16,12))\n",
        "\n",
        "axes= fig.add_axes([0.1,0.1,0.8,0.8])\n",
        "\n",
        "time = DF['date']\n",
        "position =DF['Total Confirmed']\n",
        "\n",
        "time1 = final['Date']\n",
        "position1 = final['Total Confirmed']\n",
        "axes.plot(time, position)\n",
        "axes.plot(time1, position1)\n",
        "\n",
        "plt.xlabel('Date')\n",
        "plt.ylabel('Total Confirmed')\n",
        "fig.savefig('TN_Total.png')"
      ],
      "execution_count": null,
      "outputs": [
        {
          "output_type": "display_data",
          "data": {
            "image/png": "[encoded data removed]",
            "text/plain": [
              "<Figure size 1152x864 with 1 Axes>"
            ]
          },
          "metadata": {
            "tags": [],
            "needs_background": "light"
          }
        }
      ]
    },
    {
      "cell_type": "code",
      "metadata": {
        "id": "-DvbESqPiPkV",
        "colab_type": "code",
        "colab": {
          "base_uri": "https://localhost:8080/",
          "height": 204
        },
        "outputId": "b1ad10ba-2d09-4709-e584-779762494d05"
      },
      "source": [
        "#save to Csv\n",
        "final.to_csv(\"predictTN.csv\")\n",
        "pr=pd.read_csv('predictTN.csv')\n",
        "pr.head()"
      ],
      "execution_count": null,
      "outputs": [
        {
          "output_type": "execute_result",
          "data": {
            "text/html": [
              "<div>\n",
              "<style scoped>\n",
              "    .dataframe tbody tr th:only-of-type {\n",
              "        vertical-align: middle;\n",
              "    }\n",
              "\n",
              "    .dataframe tbody tr th {\n",
              "        vertical-align: top;\n",
              "    }\n",
              "\n",
              "    .dataframe thead th {\n",
              "        text-align: right;\n",
              "    }\n",
              "</style>\n",
              "<table border=\"1\" class=\"dataframe\">\n",
              "  <thead>\n",
              "    <tr style=\"text-align: right;\">\n",
              "      <th></th>\n",
              "      <th>Unnamed: 0</th>\n",
              "      <th>Date</th>\n",
              "      <th>Daily Confirmed</th>\n",
              "      <th>Total Confirmed</th>\n",
              "      <th>Day</th>\n",
              "    </tr>\n",
              "  </thead>\n",
              "  <tbody>\n",
              "    <tr>\n",
              "      <th>0</th>\n",
              "      <td>0</td>\n",
              "      <td>2020-06-28</td>\n",
              "      <td>3916.0</td>\n",
              "      <td>82234.0</td>\n",
              "      <td>92</td>\n",
              "    </tr>\n",
              "    <tr>\n",
              "      <th>1</th>\n",
              "      <td>1</td>\n",
              "      <td>2020-06-29</td>\n",
              "      <td>3923.0</td>\n",
              "      <td>86344.0</td>\n",
              "      <td>93</td>\n",
              "    </tr>\n",
              "    <tr>\n",
              "      <th>2</th>\n",
              "      <td>2</td>\n",
              "      <td>2020-06-30</td>\n",
              "      <td>3906.0</td>\n",
              "      <td>90660.0</td>\n",
              "      <td>94</td>\n",
              "    </tr>\n",
              "    <tr>\n",
              "      <th>3</th>\n",
              "      <td>3</td>\n",
              "      <td>2020-07-01</td>\n",
              "      <td>4073.0</td>\n",
              "      <td>95192.0</td>\n",
              "      <td>95</td>\n",
              "    </tr>\n",
              "    <tr>\n",
              "      <th>4</th>\n",
              "      <td>4</td>\n",
              "      <td>2020-07-02</td>\n",
              "      <td>4176.0</td>\n",
              "      <td>99950.0</td>\n",
              "      <td>96</td>\n",
              "    </tr>\n",
              "  </tbody>\n",
              "</table>\n",
              "</div>"
            ],
            "text/plain": [
              "   Unnamed: 0        Date  Daily Confirmed  Total Confirmed  Day\n",
              "0           0  2020-06-28           3916.0          82234.0   92\n",
              "1           1  2020-06-29           3923.0          86344.0   93\n",
              "2           2  2020-06-30           3906.0          90660.0   94\n",
              "3           3  2020-07-01           4073.0          95192.0   95\n",
              "4           4  2020-07-02           4176.0          99950.0   96"
            ]
          },
          "metadata": {
            "tags": []
          },
          "execution_count": 208
        }
      ]
    },
    {
      "cell_type": "code",
      "metadata": {
        "id": "XZ8EClztiPkc",
        "colab_type": "code",
        "colab": {
          "base_uri": "https://localhost:8080/",
          "height": 576
        },
        "outputId": "0f333b32-9d52-4224-f862-9b8a4f7fa6e5"
      },
      "source": [
        "p=pd.read_csv('mypredtn.csv')\n",
        "p"
      ],
      "execution_count": null,
      "outputs": [
        {
          "output_type": "execute_result",
          "data": {
            "text/html": [
              "<div>\n",
              "<style scoped>\n",
              "    .dataframe tbody tr th:only-of-type {\n",
              "        vertical-align: middle;\n",
              "    }\n",
              "\n",
              "    .dataframe tbody tr th {\n",
              "        vertical-align: top;\n",
              "    }\n",
              "\n",
              "    .dataframe thead th {\n",
              "        text-align: right;\n",
              "    }\n",
              "</style>\n",
              "<table border=\"1\" class=\"dataframe\">\n",
              "  <thead>\n",
              "    <tr style=\"text-align: right;\">\n",
              "      <th></th>\n",
              "      <th>Unnamed: 0</th>\n",
              "      <th>Date</th>\n",
              "      <th>Daily Confirmed</th>\n",
              "      <th>Total Confirmed</th>\n",
              "      <th>Day</th>\n",
              "    </tr>\n",
              "  </thead>\n",
              "  <tbody>\n",
              "    <tr>\n",
              "      <th>0</th>\n",
              "      <td>0</td>\n",
              "      <td>2020-06-19</td>\n",
              "      <td>2158.0</td>\n",
              "      <td>54401.0</td>\n",
              "      <td>83</td>\n",
              "    </tr>\n",
              "    <tr>\n",
              "      <th>1</th>\n",
              "      <td>1</td>\n",
              "      <td>2020-06-20</td>\n",
              "      <td>2236.0</td>\n",
              "      <td>56623.0</td>\n",
              "      <td>84</td>\n",
              "    </tr>\n",
              "    <tr>\n",
              "      <th>2</th>\n",
              "      <td>2</td>\n",
              "      <td>2020-06-21</td>\n",
              "      <td>2316.0</td>\n",
              "      <td>58936.0</td>\n",
              "      <td>85</td>\n",
              "    </tr>\n",
              "    <tr>\n",
              "      <th>3</th>\n",
              "      <td>3</td>\n",
              "      <td>2020-06-22</td>\n",
              "      <td>2400.0</td>\n",
              "      <td>61343.0</td>\n",
              "      <td>86</td>\n",
              "    </tr>\n",
              "    <tr>\n",
              "      <th>4</th>\n",
              "      <td>4</td>\n",
              "      <td>2020-06-23</td>\n",
              "      <td>2486.0</td>\n",
              "      <td>63849.0</td>\n",
              "      <td>87</td>\n",
              "    </tr>\n",
              "    <tr>\n",
              "      <th>5</th>\n",
              "      <td>5</td>\n",
              "      <td>2020-06-24</td>\n",
              "      <td>2575.0</td>\n",
              "      <td>66457.0</td>\n",
              "      <td>88</td>\n",
              "    </tr>\n",
              "    <tr>\n",
              "      <th>6</th>\n",
              "      <td>6</td>\n",
              "      <td>2020-06-25</td>\n",
              "      <td>2668.0</td>\n",
              "      <td>69171.0</td>\n",
              "      <td>89</td>\n",
              "    </tr>\n",
              "    <tr>\n",
              "      <th>7</th>\n",
              "      <td>7</td>\n",
              "      <td>2020-06-26</td>\n",
              "      <td>2764.0</td>\n",
              "      <td>71997.0</td>\n",
              "      <td>90</td>\n",
              "    </tr>\n",
              "    <tr>\n",
              "      <th>8</th>\n",
              "      <td>8</td>\n",
              "      <td>2020-06-27</td>\n",
              "      <td>2863.0</td>\n",
              "      <td>74937.0</td>\n",
              "      <td>91</td>\n",
              "    </tr>\n",
              "    <tr>\n",
              "      <th>9</th>\n",
              "      <td>9</td>\n",
              "      <td>2020-06-28</td>\n",
              "      <td>2966.0</td>\n",
              "      <td>77998.0</td>\n",
              "      <td>92</td>\n",
              "    </tr>\n",
              "    <tr>\n",
              "      <th>10</th>\n",
              "      <td>10</td>\n",
              "      <td>2020-06-29</td>\n",
              "      <td>3072.0</td>\n",
              "      <td>81184.0</td>\n",
              "      <td>93</td>\n",
              "    </tr>\n",
              "    <tr>\n",
              "      <th>11</th>\n",
              "      <td>11</td>\n",
              "      <td>2020-06-30</td>\n",
              "      <td>3183.0</td>\n",
              "      <td>84500.0</td>\n",
              "      <td>94</td>\n",
              "    </tr>\n",
              "    <tr>\n",
              "      <th>12</th>\n",
              "      <td>12</td>\n",
              "      <td>2020-07-01</td>\n",
              "      <td>3297.0</td>\n",
              "      <td>87951.0</td>\n",
              "      <td>95</td>\n",
              "    </tr>\n",
              "    <tr>\n",
              "      <th>13</th>\n",
              "      <td>13</td>\n",
              "      <td>2020-07-02</td>\n",
              "      <td>3416.0</td>\n",
              "      <td>91543.0</td>\n",
              "      <td>96</td>\n",
              "    </tr>\n",
              "    <tr>\n",
              "      <th>14</th>\n",
              "      <td>14</td>\n",
              "      <td>2020-07-03</td>\n",
              "      <td>3538.0</td>\n",
              "      <td>95283.0</td>\n",
              "      <td>97</td>\n",
              "    </tr>\n",
              "    <tr>\n",
              "      <th>15</th>\n",
              "      <td>15</td>\n",
              "      <td>2020-07-04</td>\n",
              "      <td>3665.0</td>\n",
              "      <td>99174.0</td>\n",
              "      <td>98</td>\n",
              "    </tr>\n",
              "    <tr>\n",
              "      <th>16</th>\n",
              "      <td>16</td>\n",
              "      <td>2020-07-05</td>\n",
              "      <td>3797.0</td>\n",
              "      <td>103225.0</td>\n",
              "      <td>99</td>\n",
              "    </tr>\n",
              "  </tbody>\n",
              "</table>\n",
              "</div>"
            ],
            "text/plain": [
              "    Unnamed: 0        Date  Daily Confirmed  Total Confirmed  Day\n",
              "0            0  2020-06-19           2158.0          54401.0   83\n",
              "1            1  2020-06-20           2236.0          56623.0   84\n",
              "2            2  2020-06-21           2316.0          58936.0   85\n",
              "3            3  2020-06-22           2400.0          61343.0   86\n",
              "4            4  2020-06-23           2486.0          63849.0   87\n",
              "5            5  2020-06-24           2575.0          66457.0   88\n",
              "6            6  2020-06-25           2668.0          69171.0   89\n",
              "7            7  2020-06-26           2764.0          71997.0   90\n",
              "8            8  2020-06-27           2863.0          74937.0   91\n",
              "9            9  2020-06-28           2966.0          77998.0   92\n",
              "10          10  2020-06-29           3072.0          81184.0   93\n",
              "11          11  2020-06-30           3183.0          84500.0   94\n",
              "12          12  2020-07-01           3297.0          87951.0   95\n",
              "13          13  2020-07-02           3416.0          91543.0   96\n",
              "14          14  2020-07-03           3538.0          95283.0   97\n",
              "15          15  2020-07-04           3665.0          99174.0   98\n",
              "16          16  2020-07-05           3797.0         103225.0   99"
            ]
          },
          "metadata": {
            "tags": []
          },
          "execution_count": 212
        }
      ]
    },
    {
      "cell_type": "code",
      "metadata": {
        "id": "gLsEue9J0_wf",
        "colab_type": "code",
        "colab": {
          "base_uri": "https://localhost:8080/",
          "height": 432
        },
        "outputId": "b1b03fac-9754-4377-b5d1-11c75f39a09a"
      },
      "source": [
        "%matplotlib inline\n",
        "import matplotlib.pyplot as plt\n",
        "p['Date'] = pd.to_datetime(p['Date'])\n",
        "fig= plt.figure(figsize=(18,7))\n",
        "\n",
        "axes= fig.add_axes([0.1,0.1,0.8,0.8])\n",
        "\n",
        "time = df['Date']\n",
        "position =df['Daily Confirmed']\n",
        "\n",
        "time1 = p['Date']\n",
        "position1 = p['Daily Confirmed']\n",
        "\n",
        "axes.plot(time, position)\n",
        "axes.plot(time1, position1)\n",
        "plt.xlabel('Date')\n",
        "plt.ylabel('Daily Confirmed')\n",
        "\n",
        "plt.show()\n",
        "fig.savefig('Pred_Vs_Actualpng')\n",
        "\n",
        "\n"
      ],
      "execution_count": null,
      "outputs": [
        {
          "output_type": "display_data",
          "data": {
            "image/png": "[encoded data removed]",
            "text/plain": [
              "<Figure size 1296x504 with 1 Axes>"
            ]
          },
          "metadata": {
            "tags": [],
            "needs_background": "light"
          }
        }
      ]
    },
    {
      "cell_type": "code",
      "metadata": {
        "id": "Zx_bbNnm7h5U",
        "colab_type": "code",
        "colab": {
          "base_uri": "https://localhost:8080/",
          "height": 204
        },
        "outputId": "123822ef-5281-44d7-e001-4f163eca5907"
      },
      "source": [
        "DF.head()"
      ],
      "execution_count": null,
      "outputs": [
        {
          "output_type": "execute_result",
          "data": {
            "text/html": [
              "<div>\n",
              "<style scoped>\n",
              "    .dataframe tbody tr th:only-of-type {\n",
              "        vertical-align: middle;\n",
              "    }\n",
              "\n",
              "    .dataframe tbody tr th {\n",
              "        vertical-align: top;\n",
              "    }\n",
              "\n",
              "    .dataframe thead th {\n",
              "        text-align: right;\n",
              "    }\n",
              "</style>\n",
              "<table border=\"1\" class=\"dataframe\">\n",
              "  <thead>\n",
              "    <tr style=\"text-align: right;\">\n",
              "      <th></th>\n",
              "      <th>date</th>\n",
              "      <th>Total Confirmed</th>\n",
              "      <th>Total Deceased</th>\n",
              "      <th>Total Recovered</th>\n",
              "      <th>Day</th>\n",
              "    </tr>\n",
              "  </thead>\n",
              "  <tbody>\n",
              "    <tr>\n",
              "      <th>91</th>\n",
              "      <td>2020-03-29</td>\n",
              "      <td>50</td>\n",
              "      <td>1</td>\n",
              "      <td>4</td>\n",
              "      <td>1</td>\n",
              "    </tr>\n",
              "    <tr>\n",
              "      <th>90</th>\n",
              "      <td>2020-03-30</td>\n",
              "      <td>67</td>\n",
              "      <td>1</td>\n",
              "      <td>4</td>\n",
              "      <td>2</td>\n",
              "    </tr>\n",
              "    <tr>\n",
              "      <th>89</th>\n",
              "      <td>2020-03-31</td>\n",
              "      <td>124</td>\n",
              "      <td>1</td>\n",
              "      <td>6</td>\n",
              "      <td>3</td>\n",
              "    </tr>\n",
              "    <tr>\n",
              "      <th>88</th>\n",
              "      <td>2020-04-01</td>\n",
              "      <td>234</td>\n",
              "      <td>1</td>\n",
              "      <td>6</td>\n",
              "      <td>4</td>\n",
              "    </tr>\n",
              "    <tr>\n",
              "      <th>87</th>\n",
              "      <td>2020-04-02</td>\n",
              "      <td>309</td>\n",
              "      <td>1</td>\n",
              "      <td>6</td>\n",
              "      <td>5</td>\n",
              "    </tr>\n",
              "  </tbody>\n",
              "</table>\n",
              "</div>"
            ],
            "text/plain": [
              "         date  Total Confirmed  Total Deceased  Total Recovered  Day\n",
              "91 2020-03-29               50               1                4    1\n",
              "90 2020-03-30               67               1                4    2\n",
              "89 2020-03-31              124               1                6    3\n",
              "88 2020-04-01              234               1                6    4\n",
              "87 2020-04-02              309               1                6    5"
            ]
          },
          "metadata": {
            "tags": []
          },
          "execution_count": 214
        }
      ]
    },
    {
      "cell_type": "code",
      "metadata": {
        "id": "7WsNv2PdiPkg",
        "colab_type": "code",
        "colab": {
          "base_uri": "https://localhost:8080/",
          "height": 428
        },
        "outputId": "ffd08768-9150-45a9-9eb8-1f9017f43123"
      },
      "source": [
        "%matplotlib inline\n",
        "import matplotlib.pyplot as plt\n",
        "p['Date'] = pd.to_datetime(p['Date'])\n",
        "fig= plt.figure(figsize=(18,7))\n",
        "\n",
        "axes= fig.add_axes([0.1,0.1,0.8,0.8])\n",
        "\n",
        "time = DF['date']\n",
        "position =DF['Total Confirmed']\n",
        "\n",
        "time1 = p['Date']\n",
        "position1 = p['Total Confirmed']\n",
        "\n",
        "axes.plot(time, position)\n",
        "axes.plot(time1, position1)\n",
        "plt.xlabel('Date')\n",
        "plt.ylabel('Total Confirmed')\n",
        "\n",
        "plt.show()\n",
        "fig.savefig('Pred_Vs_Actual_Total.png')"
      ],
      "execution_count": null,
      "outputs": [
        {
          "output_type": "display_data",
          "data": {
            "image/png": "[encoded data removed]",
            "text/plain": [
              "<Figure size 1296x504 with 1 Axes>"
            ]
          },
          "metadata": {
            "tags": [],
            "needs_background": "light"
          }
        }
      ]
    }
  ]
}