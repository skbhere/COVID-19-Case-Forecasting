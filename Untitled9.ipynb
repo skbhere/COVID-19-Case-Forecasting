{
  "nbformat": 4,
  "nbformat_minor": 0,
  "metadata": {
    "colab": {
      "name": "Untitled9.ipynb",
      "provenance": [],
      "collapsed_sections": [],
      "authorship_tag": "ABX9TyPPA+u3pk+l7uLQfsXRL+A6",
      "include_colab_link": true
    },
    "kernelspec": {
      "name": "python3",
      "display_name": "Python 3"
    }
  },
  "cells": [
    {
      "cell_type": "markdown",
      "metadata": {
        "id": "view-in-github",
        "colab_type": "text"
      },
      "source": [
        "<a href=\"https://colab.research.google.com/github/skbhere/COVID-19-Case-Forecasting/blob/master/Untitled9.ipynb\" target=\"_parent\"><img src=\"https://colab.research.google.com/assets/colab-badge.svg\" alt=\"Open In Colab\"/></a>"
      ]
    },
    {
      "cell_type": "markdown",
      "metadata": {
        "id": "LpAzOTEvU4uO",
        "colab_type": "text"
      },
      "source": [
        "**OSIC Pulmonary Fibrosis Progression**"
      ]
    },
    {
      "cell_type": "code",
      "metadata": {
        "id": "9nW1G6YqVC_b",
        "colab_type": "code",
        "colab": {}
      },
      "source": [
        "import pandas as pd \n",
        "import numpy as np\n",
        "from sklearn.model_selection import train_test_split\n",
        "from keras.models import Sequential\n",
        "from keras.layers import Dense\n",
        "from sklearn.preprocessing import MinMaxScaler\n",
        "import tensorflow as tf\n"
      ],
      "execution_count": 263,
      "outputs": []
    },
    {
      "cell_type": "code",
      "metadata": {
        "id": "mTOCmOZDU0Gr",
        "colab_type": "code",
        "colab": {}
      },
      "source": [
        "df = pd.read_csv(\"train.csv\")"
      ],
      "execution_count": 238,
      "outputs": []
    },
    {
      "cell_type": "code",
      "metadata": {
        "id": "wQ6PhZvfVSjX",
        "colab_type": "code",
        "colab": {
          "base_uri": "https://localhost:8080/",
          "height": 204
        },
        "outputId": "ae79d5fd-e2df-4a19-f2e1-6158ee3e994d"
      },
      "source": [
        "df.tail()"
      ],
      "execution_count": 239,
      "outputs": [
        {
          "output_type": "execute_result",
          "data": {
            "text/html": [
              "<div>\n",
              "<style scoped>\n",
              "    .dataframe tbody tr th:only-of-type {\n",
              "        vertical-align: middle;\n",
              "    }\n",
              "\n",
              "    .dataframe tbody tr th {\n",
              "        vertical-align: top;\n",
              "    }\n",
              "\n",
              "    .dataframe thead th {\n",
              "        text-align: right;\n",
              "    }\n",
              "</style>\n",
              "<table border=\"1\" class=\"dataframe\">\n",
              "  <thead>\n",
              "    <tr style=\"text-align: right;\">\n",
              "      <th></th>\n",
              "      <th>Patient</th>\n",
              "      <th>Weeks</th>\n",
              "      <th>FVC</th>\n",
              "      <th>Percent</th>\n",
              "      <th>Age</th>\n",
              "      <th>Sex</th>\n",
              "      <th>SmokingStatus</th>\n",
              "    </tr>\n",
              "  </thead>\n",
              "  <tbody>\n",
              "    <tr>\n",
              "      <th>1544</th>\n",
              "      <td>ID00426637202313170790466</td>\n",
              "      <td>13</td>\n",
              "      <td>2712</td>\n",
              "      <td>66.594637</td>\n",
              "      <td>73</td>\n",
              "      <td>Male</td>\n",
              "      <td>Never smoked</td>\n",
              "    </tr>\n",
              "    <tr>\n",
              "      <th>1545</th>\n",
              "      <td>ID00426637202313170790466</td>\n",
              "      <td>19</td>\n",
              "      <td>2978</td>\n",
              "      <td>73.126412</td>\n",
              "      <td>73</td>\n",
              "      <td>Male</td>\n",
              "      <td>Never smoked</td>\n",
              "    </tr>\n",
              "    <tr>\n",
              "      <th>1546</th>\n",
              "      <td>ID00426637202313170790466</td>\n",
              "      <td>31</td>\n",
              "      <td>2908</td>\n",
              "      <td>71.407524</td>\n",
              "      <td>73</td>\n",
              "      <td>Male</td>\n",
              "      <td>Never smoked</td>\n",
              "    </tr>\n",
              "    <tr>\n",
              "      <th>1547</th>\n",
              "      <td>ID00426637202313170790466</td>\n",
              "      <td>43</td>\n",
              "      <td>2975</td>\n",
              "      <td>73.052745</td>\n",
              "      <td>73</td>\n",
              "      <td>Male</td>\n",
              "      <td>Never smoked</td>\n",
              "    </tr>\n",
              "    <tr>\n",
              "      <th>1548</th>\n",
              "      <td>ID00426637202313170790466</td>\n",
              "      <td>59</td>\n",
              "      <td>2774</td>\n",
              "      <td>68.117081</td>\n",
              "      <td>73</td>\n",
              "      <td>Male</td>\n",
              "      <td>Never smoked</td>\n",
              "    </tr>\n",
              "  </tbody>\n",
              "</table>\n",
              "</div>"
            ],
            "text/plain": [
              "                        Patient  Weeks   FVC  ...  Age   Sex SmokingStatus\n",
              "1544  ID00426637202313170790466     13  2712  ...   73  Male  Never smoked\n",
              "1545  ID00426637202313170790466     19  2978  ...   73  Male  Never smoked\n",
              "1546  ID00426637202313170790466     31  2908  ...   73  Male  Never smoked\n",
              "1547  ID00426637202313170790466     43  2975  ...   73  Male  Never smoked\n",
              "1548  ID00426637202313170790466     59  2774  ...   73  Male  Never smoked\n",
              "\n",
              "[5 rows x 7 columns]"
            ]
          },
          "metadata": {
            "tags": []
          },
          "execution_count": 239
        }
      ]
    },
    {
      "cell_type": "code",
      "metadata": {
        "id": "S-DMmICxgqUh",
        "colab_type": "code",
        "colab": {}
      },
      "source": [
        "df['Patient_number'] = pd.Categorical((pd.factorize(df.Patient)[0] + 1).astype(np.float32))"
      ],
      "execution_count": 240,
      "outputs": []
    },
    {
      "cell_type": "code",
      "metadata": {
        "id": "Ff06Y5OoXAaJ",
        "colab_type": "code",
        "colab": {}
      },
      "source": [
        "sex_dummy = pd.get_dummies(df.Sex)\n",
        "smoke_dummy = pd.get_dummies(df.SmokingStatus)"
      ],
      "execution_count": 241,
      "outputs": []
    },
    {
      "cell_type": "code",
      "metadata": {
        "id": "ExIXJRRDZb_U",
        "colab_type": "code",
        "colab": {}
      },
      "source": [
        "df[\"Male\"],df[\"Female\"]=sex_dummy[\"Male\"],sex_dummy[\"Female\"]\n",
        "df[\"Ex-smoker\"],df[\"Never smoked\"]=smoke_dummy[\"Ex-smoker\"],smoke_dummy[\"Never smoked\"]\n",
        "df=df.drop(['Sex', 'SmokingStatus',\"Patient\"], axis=1)"
      ],
      "execution_count": 242,
      "outputs": []
    },
    {
      "cell_type": "code",
      "metadata": {
        "id": "jk_AMaWa6EhX",
        "colab_type": "code",
        "colab": {
          "base_uri": "https://localhost:8080/",
          "height": 204
        },
        "outputId": "d519aa2c-382a-4297-ce53-b05bd664e385"
      },
      "source": [
        "df.head()"
      ],
      "execution_count": 243,
      "outputs": [
        {
          "output_type": "execute_result",
          "data": {
            "text/html": [
              "<div>\n",
              "<style scoped>\n",
              "    .dataframe tbody tr th:only-of-type {\n",
              "        vertical-align: middle;\n",
              "    }\n",
              "\n",
              "    .dataframe tbody tr th {\n",
              "        vertical-align: top;\n",
              "    }\n",
              "\n",
              "    .dataframe thead th {\n",
              "        text-align: right;\n",
              "    }\n",
              "</style>\n",
              "<table border=\"1\" class=\"dataframe\">\n",
              "  <thead>\n",
              "    <tr style=\"text-align: right;\">\n",
              "      <th></th>\n",
              "      <th>Weeks</th>\n",
              "      <th>FVC</th>\n",
              "      <th>Percent</th>\n",
              "      <th>Age</th>\n",
              "      <th>Patient_number</th>\n",
              "      <th>Male</th>\n",
              "      <th>Female</th>\n",
              "      <th>Ex-smoker</th>\n",
              "      <th>Never smoked</th>\n",
              "    </tr>\n",
              "  </thead>\n",
              "  <tbody>\n",
              "    <tr>\n",
              "      <th>0</th>\n",
              "      <td>-4</td>\n",
              "      <td>2315</td>\n",
              "      <td>58.253649</td>\n",
              "      <td>79</td>\n",
              "      <td>1.0</td>\n",
              "      <td>1</td>\n",
              "      <td>0</td>\n",
              "      <td>1</td>\n",
              "      <td>0</td>\n",
              "    </tr>\n",
              "    <tr>\n",
              "      <th>1</th>\n",
              "      <td>5</td>\n",
              "      <td>2214</td>\n",
              "      <td>55.712129</td>\n",
              "      <td>79</td>\n",
              "      <td>1.0</td>\n",
              "      <td>1</td>\n",
              "      <td>0</td>\n",
              "      <td>1</td>\n",
              "      <td>0</td>\n",
              "    </tr>\n",
              "    <tr>\n",
              "      <th>2</th>\n",
              "      <td>7</td>\n",
              "      <td>2061</td>\n",
              "      <td>51.862104</td>\n",
              "      <td>79</td>\n",
              "      <td>1.0</td>\n",
              "      <td>1</td>\n",
              "      <td>0</td>\n",
              "      <td>1</td>\n",
              "      <td>0</td>\n",
              "    </tr>\n",
              "    <tr>\n",
              "      <th>3</th>\n",
              "      <td>9</td>\n",
              "      <td>2144</td>\n",
              "      <td>53.950679</td>\n",
              "      <td>79</td>\n",
              "      <td>1.0</td>\n",
              "      <td>1</td>\n",
              "      <td>0</td>\n",
              "      <td>1</td>\n",
              "      <td>0</td>\n",
              "    </tr>\n",
              "    <tr>\n",
              "      <th>4</th>\n",
              "      <td>11</td>\n",
              "      <td>2069</td>\n",
              "      <td>52.063412</td>\n",
              "      <td>79</td>\n",
              "      <td>1.0</td>\n",
              "      <td>1</td>\n",
              "      <td>0</td>\n",
              "      <td>1</td>\n",
              "      <td>0</td>\n",
              "    </tr>\n",
              "  </tbody>\n",
              "</table>\n",
              "</div>"
            ],
            "text/plain": [
              "   Weeks   FVC    Percent  Age  ... Male  Female  Ex-smoker  Never smoked\n",
              "0     -4  2315  58.253649   79  ...    1       0          1             0\n",
              "1      5  2214  55.712129   79  ...    1       0          1             0\n",
              "2      7  2061  51.862104   79  ...    1       0          1             0\n",
              "3      9  2144  53.950679   79  ...    1       0          1             0\n",
              "4     11  2069  52.063412   79  ...    1       0          1             0\n",
              "\n",
              "[5 rows x 9 columns]"
            ]
          },
          "metadata": {
            "tags": []
          },
          "execution_count": 243
        }
      ]
    },
    {
      "cell_type": "code",
      "metadata": {
        "id": "uErc3Gmab48y",
        "colab_type": "code",
        "colab": {}
      },
      "source": [
        "x=df[['Weeks','Percent','Patient_number','Male','Female',\"Ex-smoker\",\"Never smoked\"]].values\n",
        "y=df[['FVC']].values\n",
        "# scalar = MinMaxScaler()\n",
        "# scalar.fit(x)\n",
        "# x = scalar.transform(x)"
      ],
      "execution_count": 244,
      "outputs": []
    },
    {
      "cell_type": "code",
      "metadata": {
        "id": "QgjS9Qq3cX1q",
        "colab_type": "code",
        "colab": {}
      },
      "source": [
        " X_train, X_test, y_train, y_test = train_test_split(x,y, test_size=0.33, random_state=42)"
      ],
      "execution_count": 245,
      "outputs": []
    },
    {
      "cell_type": "code",
      "metadata": {
        "id": "zeNytG6beWYB",
        "colab_type": "code",
        "colab": {
          "base_uri": "https://localhost:8080/",
          "height": 34
        },
        "outputId": "0b436432-385b-430c-ee95-84e981888ea0"
      },
      "source": [
        "X_train.shape"
      ],
      "execution_count": 246,
      "outputs": [
        {
          "output_type": "execute_result",
          "data": {
            "text/plain": [
              "(1037, 7)"
            ]
          },
          "metadata": {
            "tags": []
          },
          "execution_count": 246
        }
      ]
    },
    {
      "cell_type": "code",
      "metadata": {
        "id": "_MW0WjpUARRH",
        "colab_type": "code",
        "colab": {
          "base_uri": "https://localhost:8080/",
          "height": 88
        },
        "outputId": "cac1c723-fbcf-494b-9f72-0077605023d9"
      },
      "source": [
        "# Fitting Random Forest Regression to the dataset \n",
        "# import the regressor \n",
        "from sklearn.ensemble import RandomForestRegressor \n",
        "  \n",
        " # create regressor object \n",
        "regressor = RandomForestRegressor(n_estimators = 100, random_state = 0) \n",
        "  \n",
        "# fit the regressor with x and y data \n",
        "regressor.fit(X_train, y_train)   \n",
        "regressor.score(X_train, y_train)"
      ],
      "execution_count": 251,
      "outputs": [
        {
          "output_type": "stream",
          "text": [
            "/usr/local/lib/python3.6/dist-packages/ipykernel_launcher.py:9: DataConversionWarning: A column-vector y was passed when a 1d array was expected. Please change the shape of y to (n_samples,), for example using ravel().\n",
            "  if __name__ == '__main__':\n"
          ],
          "name": "stderr"
        },
        {
          "output_type": "execute_result",
          "data": {
            "text/plain": [
              "0.9917123560003603"
            ]
          },
          "metadata": {
            "tags": []
          },
          "execution_count": 251
        }
      ]
    },
    {
      "cell_type": "code",
      "metadata": {
        "id": "zv7vuZy2BlLZ",
        "colab_type": "code",
        "colab": {
          "base_uri": "https://localhost:8080/",
          "height": 68
        },
        "outputId": "6b0f485b-edcd-45a7-bd5b-c91ac38d39df"
      },
      "source": [
        "# Make predictions on test data\n",
        "predictions = regressor.predict(X_test)\n",
        "# Performance metrics\n",
        "errors = abs(predictions - y_test)\n",
        "print('Metrics for Random Forest Trained on Expanded Data')\n",
        "print('Average absolute error:', round(np.mean(errors), 2), 'degrees.')\n",
        "# Calculate mean absolute percentage error (MAPE)\n",
        "mape = np.mean(100 * (errors / y_test))\n",
        "# # Compare to baseline\n",
        "# improvement_baseline = 100 * abs(mape - baseline_mape) / baseline_mape\n",
        "# print('Improvement over baseline:', round(improvement_baseline, 2), '%.')\n",
        "# Calculate and display accuracy\n",
        "accuracy = 100 - mape\n",
        "print('Accuracy:', round(accuracy, 2), '%.')"
      ],
      "execution_count": 249,
      "outputs": [
        {
          "output_type": "stream",
          "text": [
            "Metrics for Random Forest Trained on Expanded Data\n",
            "Average absolute error: 865.56 degrees.\n",
            "Accuracy: 63.64 %.\n"
          ],
          "name": "stdout"
        }
      ]
    },
    {
      "cell_type": "code",
      "metadata": {
        "id": "LD_KvDXaD4R_",
        "colab_type": "code",
        "colab": {
          "base_uri": "https://localhost:8080/",
          "height": 88
        },
        "outputId": "240b1a51-c3e5-47d9-8d25-8db6df8d364f"
      },
      "source": [
        "from sklearn.ensemble import AdaBoostRegressor\n",
        "from sklearn.datasets import make_regression\n",
        "\n",
        "regr = AdaBoostRegressor(random_state=0, n_estimators=100)\n",
        "regr.fit(X_train, y_train)\n",
        "AdaBoostRegressor(n_estimators=100, random_state=0)\n",
        "regr.predict(X_test)\n",
        "regr.score(X_train, y_train)"
      ],
      "execution_count": 250,
      "outputs": [
        {
          "output_type": "stream",
          "text": [
            "/usr/local/lib/python3.6/dist-packages/sklearn/utils/validation.py:760: DataConversionWarning: A column-vector y was passed when a 1d array was expected. Please change the shape of y to (n_samples, ), for example using ravel().\n",
            "  y = column_or_1d(y, warn=True)\n"
          ],
          "name": "stderr"
        },
        {
          "output_type": "execute_result",
          "data": {
            "text/plain": [
              "0.8313235089214118"
            ]
          },
          "metadata": {
            "tags": []
          },
          "execution_count": 250
        }
      ]
    },
    {
      "cell_type": "code",
      "metadata": {
        "id": "rogaaH1FE3U4",
        "colab_type": "code",
        "colab": {
          "base_uri": "https://localhost:8080/",
          "height": 68
        },
        "outputId": "037e5e20-5726-4c2f-904c-bb7f2e3d82e2"
      },
      "source": [
        "# Make predictions on test data\n",
        "predictions = regr.predict(X_test)\n",
        "# Performance metrics\n",
        "errors = abs(predictions - y_test)\n",
        "print('Metrics for Random Forest Trained on Expanded Data')\n",
        "print('Average absolute error:', round(np.mean(errors), 2), 'degrees.')\n",
        "# Calculate mean absolute percentage error (MAPE)\n",
        "mape = np.mean(100 * (errors / y_test))\n",
        "# # Compare to baseline\n",
        "# improvement_baseline = 100 * abs(mape - baseline_mape) / baseline_mape\n",
        "# print('Improvement over baseline:', round(improvement_baseline, 2), '%.')\n",
        "# Calculate and display accuracy\n",
        "accuracy = 100 - mape\n",
        "print('Accuracy:', round(accuracy, 2), '%.')"
      ],
      "execution_count": 252,
      "outputs": [
        {
          "output_type": "stream",
          "text": [
            "Metrics for Random Forest Trained on Expanded Data\n",
            "Average absolute error: 827.93 degrees.\n",
            "Accuracy: 65.38 %.\n"
          ],
          "name": "stdout"
        }
      ]
    },
    {
      "cell_type": "code",
      "metadata": {
        "id": "-WBZKPmBGefs",
        "colab_type": "code",
        "colab": {
          "base_uri": "https://localhost:8080/",
          "height": 323
        },
        "outputId": "5d8efe71-f125-47bd-9d1c-b4d9213d6e06"
      },
      "source": [
        "NN_model = Sequential()\n",
        "\n",
        "# The Input Layer :\n",
        "NN_model.add(Dense(128, kernel_initializer='normal',input_dim = X_train.shape[1], activation='relu'))\n",
        "\n",
        "# The Hidden Layers :\n",
        "NN_model.add(Dense(256, kernel_initializer='normal',activation='relu'))\n",
        "NN_model.add(Dense(256, kernel_initializer='normal',activation='relu'))\n",
        "NN_model.add(Dense(256, kernel_initializer='normal',activation='relu'))\n",
        "\n",
        "# The Output Layer :\n",
        "NN_model.add(Dense(1, kernel_initializer='normal',activation='linear'))\n",
        "\n",
        "# Compile the network :\n",
        "NN_model.compile(loss='mean_absolute_error', optimizer='adam', metrics=['mean_absolute_percentage_error']) \n",
        "NN_model.summary()"
      ],
      "execution_count": 290,
      "outputs": [
        {
          "output_type": "stream",
          "text": [
            "Model: \"sequential_28\"\n",
            "_________________________________________________________________\n",
            "Layer (type)                 Output Shape              Param #   \n",
            "=================================================================\n",
            "dense_98 (Dense)             (None, 128)               1024      \n",
            "_________________________________________________________________\n",
            "dense_99 (Dense)             (None, 256)               33024     \n",
            "_________________________________________________________________\n",
            "dense_100 (Dense)            (None, 256)               65792     \n",
            "_________________________________________________________________\n",
            "dense_101 (Dense)            (None, 256)               65792     \n",
            "_________________________________________________________________\n",
            "dense_102 (Dense)            (None, 1)                 257       \n",
            "=================================================================\n",
            "Total params: 165,889\n",
            "Trainable params: 165,889\n",
            "Non-trainable params: 0\n",
            "_________________________________________________________________\n"
          ],
          "name": "stdout"
        }
      ]
    },
    {
      "cell_type": "code",
      "metadata": {
        "id": "aSPhGp4oIATa",
        "colab_type": "code",
        "colab": {}
      },
      "source": [
        "x = np.asarray(x).astype(np.float32)"
      ],
      "execution_count": 291,
      "outputs": []
    },
    {
      "cell_type": "code",
      "metadata": {
        "id": "NpAm3SO9eOmf",
        "colab_type": "code",
        "colab": {
          "base_uri": "https://localhost:8080/",
          "height": 1000
        },
        "outputId": "dd3b073c-0ea3-4a75-82ed-0f6bd4e6fc12"
      },
      "source": [
        "history =NN_model.fit(x,y, epochs=100, batch_size=32, validation_split = 0.2,verbose=2)\n"
      ],
      "execution_count": 292,
      "outputs": [
        {
          "output_type": "stream",
          "text": [
            "Epoch 1/100\n",
            "39/39 - 0s - loss: 1930.1102 - mean_absolute_percentage_error: 72.8056 - val_loss: 815.5781 - val_mean_absolute_percentage_error: 38.8044\n",
            "Epoch 2/100\n",
            "39/39 - 0s - loss: 624.9650 - mean_absolute_percentage_error: 26.6219 - val_loss: 458.2781 - val_mean_absolute_percentage_error: 20.8960\n",
            "Epoch 3/100\n",
            "39/39 - 0s - loss: 448.8669 - mean_absolute_percentage_error: 20.6108 - val_loss: 381.4902 - val_mean_absolute_percentage_error: 15.8874\n",
            "Epoch 4/100\n",
            "39/39 - 0s - loss: 445.3537 - mean_absolute_percentage_error: 20.1413 - val_loss: 423.8933 - val_mean_absolute_percentage_error: 18.6934\n",
            "Epoch 5/100\n",
            "39/39 - 0s - loss: 432.2532 - mean_absolute_percentage_error: 19.7073 - val_loss: 389.8420 - val_mean_absolute_percentage_error: 16.6361\n",
            "Epoch 6/100\n",
            "39/39 - 0s - loss: 421.6008 - mean_absolute_percentage_error: 19.0983 - val_loss: 398.6954 - val_mean_absolute_percentage_error: 17.2103\n",
            "Epoch 7/100\n",
            "39/39 - 0s - loss: 409.6407 - mean_absolute_percentage_error: 18.2947 - val_loss: 406.9753 - val_mean_absolute_percentage_error: 17.7092\n",
            "Epoch 8/100\n",
            "39/39 - 0s - loss: 396.4074 - mean_absolute_percentage_error: 17.8511 - val_loss: 361.1275 - val_mean_absolute_percentage_error: 14.6333\n",
            "Epoch 9/100\n",
            "39/39 - 0s - loss: 393.9198 - mean_absolute_percentage_error: 17.2754 - val_loss: 355.8117 - val_mean_absolute_percentage_error: 14.5743\n",
            "Epoch 10/100\n",
            "39/39 - 0s - loss: 376.7768 - mean_absolute_percentage_error: 16.6120 - val_loss: 397.3473 - val_mean_absolute_percentage_error: 16.9695\n",
            "Epoch 11/100\n",
            "39/39 - 0s - loss: 362.0875 - mean_absolute_percentage_error: 15.7757 - val_loss: 353.9525 - val_mean_absolute_percentage_error: 14.5227\n",
            "Epoch 12/100\n",
            "39/39 - 0s - loss: 353.5686 - mean_absolute_percentage_error: 15.0982 - val_loss: 392.8362 - val_mean_absolute_percentage_error: 16.6251\n",
            "Epoch 13/100\n",
            "39/39 - 0s - loss: 335.5364 - mean_absolute_percentage_error: 14.1821 - val_loss: 351.8359 - val_mean_absolute_percentage_error: 14.2671\n",
            "Epoch 14/100\n",
            "39/39 - 0s - loss: 320.8263 - mean_absolute_percentage_error: 13.2790 - val_loss: 339.3531 - val_mean_absolute_percentage_error: 12.1114\n",
            "Epoch 15/100\n",
            "39/39 - 0s - loss: 321.2046 - mean_absolute_percentage_error: 13.1181 - val_loss: 360.6031 - val_mean_absolute_percentage_error: 14.8188\n",
            "Epoch 16/100\n",
            "39/39 - 0s - loss: 302.6952 - mean_absolute_percentage_error: 12.3025 - val_loss: 348.8335 - val_mean_absolute_percentage_error: 14.1366\n",
            "Epoch 17/100\n",
            "39/39 - 0s - loss: 295.8365 - mean_absolute_percentage_error: 11.9285 - val_loss: 318.3520 - val_mean_absolute_percentage_error: 12.3689\n",
            "Epoch 18/100\n",
            "39/39 - 0s - loss: 297.8988 - mean_absolute_percentage_error: 11.8473 - val_loss: 312.9035 - val_mean_absolute_percentage_error: 12.1472\n",
            "Epoch 19/100\n",
            "39/39 - 0s - loss: 315.0195 - mean_absolute_percentage_error: 12.6352 - val_loss: 328.7368 - val_mean_absolute_percentage_error: 11.7867\n",
            "Epoch 20/100\n",
            "39/39 - 0s - loss: 291.1963 - mean_absolute_percentage_error: 11.5513 - val_loss: 317.1927 - val_mean_absolute_percentage_error: 12.7290\n",
            "Epoch 21/100\n",
            "39/39 - 0s - loss: 300.0777 - mean_absolute_percentage_error: 11.8208 - val_loss: 302.5281 - val_mean_absolute_percentage_error: 11.7332\n",
            "Epoch 22/100\n",
            "39/39 - 0s - loss: 284.2843 - mean_absolute_percentage_error: 11.3434 - val_loss: 299.4600 - val_mean_absolute_percentage_error: 11.0522\n",
            "Epoch 23/100\n",
            "39/39 - 0s - loss: 281.7863 - mean_absolute_percentage_error: 11.1115 - val_loss: 305.0800 - val_mean_absolute_percentage_error: 12.1345\n",
            "Epoch 24/100\n",
            "39/39 - 0s - loss: 288.9098 - mean_absolute_percentage_error: 11.4462 - val_loss: 283.0451 - val_mean_absolute_percentage_error: 10.6793\n",
            "Epoch 25/100\n",
            "39/39 - 0s - loss: 273.9813 - mean_absolute_percentage_error: 10.8366 - val_loss: 289.9697 - val_mean_absolute_percentage_error: 11.4277\n",
            "Epoch 26/100\n",
            "39/39 - 0s - loss: 272.2219 - mean_absolute_percentage_error: 10.7028 - val_loss: 280.9674 - val_mean_absolute_percentage_error: 10.5208\n",
            "Epoch 27/100\n",
            "39/39 - 0s - loss: 271.7684 - mean_absolute_percentage_error: 10.7730 - val_loss: 304.5887 - val_mean_absolute_percentage_error: 12.4475\n",
            "Epoch 28/100\n",
            "39/39 - 0s - loss: 286.9544 - mean_absolute_percentage_error: 11.3414 - val_loss: 289.6201 - val_mean_absolute_percentage_error: 11.5506\n",
            "Epoch 29/100\n",
            "39/39 - 0s - loss: 299.1277 - mean_absolute_percentage_error: 11.8080 - val_loss: 346.9045 - val_mean_absolute_percentage_error: 12.6134\n",
            "Epoch 30/100\n",
            "39/39 - 0s - loss: 278.7323 - mean_absolute_percentage_error: 11.0688 - val_loss: 276.9442 - val_mean_absolute_percentage_error: 10.2680\n",
            "Epoch 31/100\n",
            "39/39 - 0s - loss: 284.6564 - mean_absolute_percentage_error: 11.0924 - val_loss: 274.4626 - val_mean_absolute_percentage_error: 10.3127\n",
            "Epoch 32/100\n",
            "39/39 - 0s - loss: 282.3445 - mean_absolute_percentage_error: 11.1032 - val_loss: 273.0128 - val_mean_absolute_percentage_error: 10.3245\n",
            "Epoch 33/100\n",
            "39/39 - 0s - loss: 276.2408 - mean_absolute_percentage_error: 10.9256 - val_loss: 290.7345 - val_mean_absolute_percentage_error: 10.7149\n",
            "Epoch 34/100\n",
            "39/39 - 0s - loss: 288.1156 - mean_absolute_percentage_error: 11.2560 - val_loss: 275.1203 - val_mean_absolute_percentage_error: 10.3914\n",
            "Epoch 35/100\n",
            "39/39 - 0s - loss: 277.1704 - mean_absolute_percentage_error: 10.8736 - val_loss: 299.5109 - val_mean_absolute_percentage_error: 11.8207\n",
            "Epoch 36/100\n",
            "39/39 - 0s - loss: 284.1495 - mean_absolute_percentage_error: 11.2236 - val_loss: 340.1251 - val_mean_absolute_percentage_error: 12.4939\n",
            "Epoch 37/100\n",
            "39/39 - 0s - loss: 266.4094 - mean_absolute_percentage_error: 10.4545 - val_loss: 311.0978 - val_mean_absolute_percentage_error: 11.3880\n",
            "Epoch 38/100\n",
            "39/39 - 0s - loss: 288.8134 - mean_absolute_percentage_error: 11.2660 - val_loss: 322.9587 - val_mean_absolute_percentage_error: 12.9272\n",
            "Epoch 39/100\n",
            "39/39 - 0s - loss: 269.8256 - mean_absolute_percentage_error: 10.6482 - val_loss: 271.9884 - val_mean_absolute_percentage_error: 10.2910\n",
            "Epoch 40/100\n",
            "39/39 - 0s - loss: 261.0376 - mean_absolute_percentage_error: 10.2215 - val_loss: 269.8428 - val_mean_absolute_percentage_error: 10.1317\n",
            "Epoch 41/100\n",
            "39/39 - 0s - loss: 272.9201 - mean_absolute_percentage_error: 10.7422 - val_loss: 276.7346 - val_mean_absolute_percentage_error: 10.3742\n",
            "Epoch 42/100\n",
            "39/39 - 0s - loss: 264.9467 - mean_absolute_percentage_error: 10.4000 - val_loss: 275.4666 - val_mean_absolute_percentage_error: 10.3291\n",
            "Epoch 43/100\n",
            "39/39 - 0s - loss: 271.3181 - mean_absolute_percentage_error: 10.5442 - val_loss: 275.9284 - val_mean_absolute_percentage_error: 10.6633\n",
            "Epoch 44/100\n",
            "39/39 - 0s - loss: 283.6811 - mean_absolute_percentage_error: 11.2226 - val_loss: 325.4287 - val_mean_absolute_percentage_error: 13.0920\n",
            "Epoch 45/100\n",
            "39/39 - 0s - loss: 265.2147 - mean_absolute_percentage_error: 10.3992 - val_loss: 313.4358 - val_mean_absolute_percentage_error: 12.5203\n",
            "Epoch 46/100\n",
            "39/39 - 0s - loss: 263.0197 - mean_absolute_percentage_error: 10.2769 - val_loss: 273.5574 - val_mean_absolute_percentage_error: 10.4836\n",
            "Epoch 47/100\n",
            "39/39 - 0s - loss: 265.3594 - mean_absolute_percentage_error: 10.3318 - val_loss: 294.0024 - val_mean_absolute_percentage_error: 11.7713\n",
            "Epoch 48/100\n",
            "39/39 - 0s - loss: 261.5793 - mean_absolute_percentage_error: 10.2964 - val_loss: 269.7196 - val_mean_absolute_percentage_error: 10.2338\n",
            "Epoch 49/100\n",
            "39/39 - 0s - loss: 269.5259 - mean_absolute_percentage_error: 10.6093 - val_loss: 280.0703 - val_mean_absolute_percentage_error: 10.9558\n",
            "Epoch 50/100\n",
            "39/39 - 0s - loss: 268.8439 - mean_absolute_percentage_error: 10.5062 - val_loss: 340.0175 - val_mean_absolute_percentage_error: 12.7026\n",
            "Epoch 51/100\n",
            "39/39 - 0s - loss: 269.1706 - mean_absolute_percentage_error: 10.5656 - val_loss: 276.6355 - val_mean_absolute_percentage_error: 10.2625\n",
            "Epoch 52/100\n",
            "39/39 - 0s - loss: 266.2998 - mean_absolute_percentage_error: 10.4049 - val_loss: 286.4924 - val_mean_absolute_percentage_error: 11.2025\n",
            "Epoch 53/100\n",
            "39/39 - 0s - loss: 262.1922 - mean_absolute_percentage_error: 10.2822 - val_loss: 271.5941 - val_mean_absolute_percentage_error: 10.0984\n",
            "Epoch 54/100\n",
            "39/39 - 0s - loss: 269.5754 - mean_absolute_percentage_error: 10.6488 - val_loss: 307.2887 - val_mean_absolute_percentage_error: 11.3693\n",
            "Epoch 55/100\n",
            "39/39 - 0s - loss: 293.4428 - mean_absolute_percentage_error: 11.4424 - val_loss: 358.0428 - val_mean_absolute_percentage_error: 14.3346\n",
            "Epoch 56/100\n",
            "39/39 - 0s - loss: 284.0366 - mean_absolute_percentage_error: 11.0332 - val_loss: 278.8535 - val_mean_absolute_percentage_error: 10.5735\n",
            "Epoch 57/100\n",
            "39/39 - 0s - loss: 262.6031 - mean_absolute_percentage_error: 10.3131 - val_loss: 269.1283 - val_mean_absolute_percentage_error: 10.0761\n",
            "Epoch 58/100\n",
            "39/39 - 0s - loss: 270.6549 - mean_absolute_percentage_error: 10.6462 - val_loss: 279.8657 - val_mean_absolute_percentage_error: 11.0245\n",
            "Epoch 59/100\n",
            "39/39 - 0s - loss: 264.8668 - mean_absolute_percentage_error: 10.3157 - val_loss: 272.3773 - val_mean_absolute_percentage_error: 10.2003\n",
            "Epoch 60/100\n",
            "39/39 - 0s - loss: 266.6175 - mean_absolute_percentage_error: 10.4042 - val_loss: 273.8578 - val_mean_absolute_percentage_error: 10.5195\n",
            "Epoch 61/100\n",
            "39/39 - 0s - loss: 261.9200 - mean_absolute_percentage_error: 10.2786 - val_loss: 271.8162 - val_mean_absolute_percentage_error: 10.4266\n",
            "Epoch 62/100\n",
            "39/39 - 0s - loss: 262.5104 - mean_absolute_percentage_error: 10.2017 - val_loss: 274.2238 - val_mean_absolute_percentage_error: 10.5672\n",
            "Epoch 63/100\n",
            "39/39 - 0s - loss: 259.1021 - mean_absolute_percentage_error: 10.1258 - val_loss: 277.7232 - val_mean_absolute_percentage_error: 10.5274\n",
            "Epoch 64/100\n",
            "39/39 - 0s - loss: 259.8305 - mean_absolute_percentage_error: 10.1636 - val_loss: 302.7010 - val_mean_absolute_percentage_error: 12.1703\n",
            "Epoch 65/100\n",
            "39/39 - 0s - loss: 272.5947 - mean_absolute_percentage_error: 10.7012 - val_loss: 313.5223 - val_mean_absolute_percentage_error: 11.4677\n",
            "Epoch 66/100\n",
            "39/39 - 0s - loss: 272.8895 - mean_absolute_percentage_error: 10.5518 - val_loss: 280.5002 - val_mean_absolute_percentage_error: 10.9447\n",
            "Epoch 67/100\n",
            "39/39 - 0s - loss: 261.9469 - mean_absolute_percentage_error: 10.2311 - val_loss: 272.4651 - val_mean_absolute_percentage_error: 10.0908\n",
            "Epoch 68/100\n",
            "39/39 - 0s - loss: 259.1174 - mean_absolute_percentage_error: 10.1387 - val_loss: 284.9218 - val_mean_absolute_percentage_error: 11.1495\n",
            "Epoch 69/100\n",
            "39/39 - 0s - loss: 262.1876 - mean_absolute_percentage_error: 10.2310 - val_loss: 274.3032 - val_mean_absolute_percentage_error: 10.2856\n",
            "Epoch 70/100\n",
            "39/39 - 0s - loss: 263.7337 - mean_absolute_percentage_error: 10.2549 - val_loss: 275.4420 - val_mean_absolute_percentage_error: 10.6432\n",
            "Epoch 71/100\n",
            "39/39 - 0s - loss: 263.6979 - mean_absolute_percentage_error: 10.2316 - val_loss: 304.8416 - val_mean_absolute_percentage_error: 12.0791\n",
            "Epoch 72/100\n",
            "39/39 - 0s - loss: 265.3748 - mean_absolute_percentage_error: 10.3462 - val_loss: 270.8231 - val_mean_absolute_percentage_error: 10.1570\n",
            "Epoch 73/100\n",
            "39/39 - 0s - loss: 258.5602 - mean_absolute_percentage_error: 10.1236 - val_loss: 277.3655 - val_mean_absolute_percentage_error: 10.6142\n",
            "Epoch 74/100\n",
            "39/39 - 0s - loss: 262.8345 - mean_absolute_percentage_error: 10.2785 - val_loss: 307.7202 - val_mean_absolute_percentage_error: 12.1392\n",
            "Epoch 75/100\n",
            "39/39 - 0s - loss: 258.5560 - mean_absolute_percentage_error: 10.0480 - val_loss: 271.6577 - val_mean_absolute_percentage_error: 10.4717\n",
            "Epoch 76/100\n",
            "39/39 - 0s - loss: 265.8080 - mean_absolute_percentage_error: 10.3912 - val_loss: 332.7022 - val_mean_absolute_percentage_error: 12.3533\n",
            "Epoch 77/100\n",
            "39/39 - 0s - loss: 288.6549 - mean_absolute_percentage_error: 11.1985 - val_loss: 284.7795 - val_mean_absolute_percentage_error: 11.0379\n",
            "Epoch 78/100\n",
            "39/39 - 0s - loss: 259.6572 - mean_absolute_percentage_error: 10.0796 - val_loss: 260.9931 - val_mean_absolute_percentage_error: 9.7686\n",
            "Epoch 79/100\n",
            "39/39 - 0s - loss: 256.5212 - mean_absolute_percentage_error: 10.0366 - val_loss: 285.6942 - val_mean_absolute_percentage_error: 11.2776\n",
            "Epoch 80/100\n",
            "39/39 - 0s - loss: 262.2944 - mean_absolute_percentage_error: 10.1489 - val_loss: 336.9666 - val_mean_absolute_percentage_error: 13.6155\n",
            "Epoch 81/100\n",
            "39/39 - 0s - loss: 260.9674 - mean_absolute_percentage_error: 10.1820 - val_loss: 298.6989 - val_mean_absolute_percentage_error: 11.6044\n",
            "Epoch 82/100\n",
            "39/39 - 0s - loss: 290.8273 - mean_absolute_percentage_error: 11.4174 - val_loss: 276.8063 - val_mean_absolute_percentage_error: 10.2405\n",
            "Epoch 83/100\n",
            "39/39 - 0s - loss: 278.6385 - mean_absolute_percentage_error: 10.8302 - val_loss: 265.5508 - val_mean_absolute_percentage_error: 9.9064\n",
            "Epoch 84/100\n",
            "39/39 - 0s - loss: 284.8829 - mean_absolute_percentage_error: 11.0992 - val_loss: 284.0114 - val_mean_absolute_percentage_error: 11.1464\n",
            "Epoch 85/100\n",
            "39/39 - 0s - loss: 271.6487 - mean_absolute_percentage_error: 10.6026 - val_loss: 380.4550 - val_mean_absolute_percentage_error: 15.4177\n",
            "Epoch 86/100\n",
            "39/39 - 0s - loss: 256.0653 - mean_absolute_percentage_error: 10.0139 - val_loss: 273.8521 - val_mean_absolute_percentage_error: 10.2670\n",
            "Epoch 87/100\n",
            "39/39 - 0s - loss: 268.3530 - mean_absolute_percentage_error: 10.4857 - val_loss: 271.4372 - val_mean_absolute_percentage_error: 10.0779\n",
            "Epoch 88/100\n",
            "39/39 - 0s - loss: 272.2232 - mean_absolute_percentage_error: 10.6822 - val_loss: 271.8903 - val_mean_absolute_percentage_error: 10.2416\n",
            "Epoch 89/100\n",
            "39/39 - 0s - loss: 256.7675 - mean_absolute_percentage_error: 10.0221 - val_loss: 301.7260 - val_mean_absolute_percentage_error: 11.3737\n",
            "Epoch 90/100\n",
            "39/39 - 0s - loss: 259.8833 - mean_absolute_percentage_error: 10.1257 - val_loss: 273.7570 - val_mean_absolute_percentage_error: 10.4389\n",
            "Epoch 91/100\n",
            "39/39 - 0s - loss: 253.4052 - mean_absolute_percentage_error: 9.8283 - val_loss: 266.4014 - val_mean_absolute_percentage_error: 10.0560\n",
            "Epoch 92/100\n",
            "39/39 - 0s - loss: 260.2220 - mean_absolute_percentage_error: 10.2153 - val_loss: 279.1336 - val_mean_absolute_percentage_error: 10.7254\n",
            "Epoch 93/100\n",
            "39/39 - 0s - loss: 253.8755 - mean_absolute_percentage_error: 9.8654 - val_loss: 278.1651 - val_mean_absolute_percentage_error: 10.7924\n",
            "Epoch 94/100\n",
            "39/39 - 0s - loss: 254.8796 - mean_absolute_percentage_error: 9.9333 - val_loss: 316.7968 - val_mean_absolute_percentage_error: 12.7852\n",
            "Epoch 95/100\n",
            "39/39 - 0s - loss: 280.8452 - mean_absolute_percentage_error: 10.8487 - val_loss: 273.9324 - val_mean_absolute_percentage_error: 10.5898\n",
            "Epoch 96/100\n",
            "39/39 - 0s - loss: 254.5763 - mean_absolute_percentage_error: 9.8964 - val_loss: 273.3140 - val_mean_absolute_percentage_error: 10.3914\n",
            "Epoch 97/100\n",
            "39/39 - 0s - loss: 253.2898 - mean_absolute_percentage_error: 9.8534 - val_loss: 272.6241 - val_mean_absolute_percentage_error: 10.3042\n",
            "Epoch 98/100\n",
            "39/39 - 0s - loss: 257.2434 - mean_absolute_percentage_error: 9.9606 - val_loss: 287.8470 - val_mean_absolute_percentage_error: 11.1612\n",
            "Epoch 99/100\n",
            "39/39 - 0s - loss: 250.5967 - mean_absolute_percentage_error: 9.7372 - val_loss: 265.8453 - val_mean_absolute_percentage_error: 10.0661\n",
            "Epoch 100/100\n",
            "39/39 - 0s - loss: 256.6918 - mean_absolute_percentage_error: 9.9919 - val_loss: 283.7659 - val_mean_absolute_percentage_error: 11.1002\n"
          ],
          "name": "stdout"
        }
      ]
    },
    {
      "cell_type": "code",
      "metadata": {
        "id": "dZQhjtx7ernE",
        "colab_type": "code",
        "colab": {
          "base_uri": "https://localhost:8080/",
          "height": 329
        },
        "outputId": "661448e5-f16d-4041-bec9-c5a459d3c712"
      },
      "source": [
        "import matplotlib.image  as mpimg\n",
        "import matplotlib.pyplot as plt\n",
        "\n",
        "#-----------------------------------------------------------\n",
        "# Retrieve a list of list results on training and test data\n",
        "# sets for each training epoch\n",
        "#-----------------------------------------------------------\n",
        "mape=history.history['mean_absolute_percentage_error']\n",
        "loss=history.history['loss']\n",
        "\n",
        "epochs=range(len(loss)) # Get number of epochs\n",
        "\n",
        "#------------------------------------------------\n",
        "# Plot MAE and Loss\n",
        "#------------------------------------------------\n",
        "plt.plot(epochs, mape, 'r')\n",
        "plt.plot(epochs, loss, 'b')\n",
        "plt.title('MAPE and Loss')\n",
        "plt.xlabel(\"Epochs\")\n",
        "plt.ylabel(\"Accuracy\")\n",
        "plt.legend([\"MAPE\", \"Loss\"])\n",
        "\n",
        "plt.figure()"
      ],
      "execution_count": 293,
      "outputs": [
        {
          "output_type": "execute_result",
          "data": {
            "text/plain": [
              "<Figure size 432x288 with 0 Axes>"
            ]
          },
          "metadata": {
            "tags": []
          },
          "execution_count": 293
        },
        {
          "output_type": "display_data",
          "data": {
            "image/png": "[encoded data removed]",
            "text/plain": [
              "<Figure size 432x288 with 1 Axes>"
            ]
          },
          "metadata": {
            "tags": [],
            "needs_background": "light"
          }
        },
        {
          "output_type": "display_data",
          "data": {
            "text/plain": [
              "<Figure size 432x288 with 0 Axes>"
            ]
          },
          "metadata": {
            "tags": []
          }
        }
      ]
    },
    {
      "cell_type": "code",
      "metadata": {
        "id": "WJsr110fMc0K",
        "colab_type": "code",
        "colab": {
          "base_uri": "https://localhost:8080/",
          "height": 34
        },
        "outputId": "40a34691-07c6-4c75-fab2-85fba6cac9c5"
      },
      "source": [
        "from statistics import mean\n",
        "mean(mape)"
      ],
      "execution_count": 294,
      "outputs": [
        {
          "output_type": "execute_result",
          "data": {
            "text/plain": [
              "12.247908411026001"
            ]
          },
          "metadata": {
            "tags": []
          },
          "execution_count": 294
        }
      ]
    },
    {
      "cell_type": "code",
      "metadata": {
        "id": "D6jJuWuqNP-g",
        "colab_type": "code",
        "colab": {}
      },
      "source": [
        ""
      ],
      "execution_count": null,
      "outputs": []
    }
  ]
}