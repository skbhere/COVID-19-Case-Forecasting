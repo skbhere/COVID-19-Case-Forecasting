{
 "cells": [
  {
   "cell_type": "code",
   "execution_count": 992,
   "metadata": {},
   "outputs": [],
   "source": [
    "import numpy as np\n",
    "import pandas as pd"
   ]
  },
  {
   "cell_type": "code",
   "execution_count": 993,
   "metadata": {},
   "outputs": [],
   "source": [
    "df=pd.read_csv('TN_daily.csv')"
   ]
  },
  {
   "cell_type": "code",
   "execution_count": 1029,
   "metadata": {},
   "outputs": [],
   "source": [
    "df0 = pd.read_json(\"https://api.covid19india.org/v3/timeseries.json\")"
   ]
  },
  {
   "cell_type": "code",
   "execution_count": 1201,
   "metadata": {
    "scrolled": true
   },
   "outputs": [
    {
     "data": {
      "text/plain": [
       "82"
      ]
     },
     "execution_count": 1201,
     "metadata": {},
     "output_type": "execute_result"
    }
   ],
   "source": [
    "\n",
    "TN = df0['TN']\n",
    "TN =TN.to_dict() \n",
    "data = pd.DataFrame.from_dict(TN)\n",
    "data =  data.transpose()\n",
    "data = data['total']\n",
    "data = data.drop(data.index[:30])\n",
    "df2=pd.DataFrame(data)\n",
    "data['2020-06-18']\n",
    "len(data)"
   ]
  },
  {
   "cell_type": "code",
   "execution_count": 1202,
   "metadata": {
    "scrolled": true
   },
   "outputs": [],
   "source": [
    "con = []\n",
    "dec = []\n",
    "rec = []\n",
    "\n",
    "for index, value in data.items():\n",
    "    #print(index)\n",
    "    con.append(data[index]['confirmed'])\n",
    "    dec.append(data[index]['deceased'])\n",
    "    rec.append(data[index]['recovered'])\n",
    "    #test.append(data[index]['tested'])\n",
    "n = len(data)\n",
    "day = list(range(1, n+1))\n",
    "dict1 = { 'Day' : day,\n",
    "'date' : data.index.values,\n",
    "'Total Confirmed' :con,\n",
    "'Total Deceased' : dec,\n",
    "'Total Recovered' : rec,\n",
    "#'test' : test,\n",
    "}\n",
    "\n",
    "dict1\n",
    "DF= pd.DataFrame(dict1) \n",
    "DF=DF.head(len(DF))\n",
    "\n",
    "#data['2020-06-13']['confirmed']"
   ]
  },
  {
   "cell_type": "code",
   "execution_count": 1203,
   "metadata": {},
   "outputs": [],
   "source": [
    "#df = df.drop(['Date','Total Confirmed','Daily Recovered', 'Total Recovered','Daily Deceased','Daily Confirmed'], axis=1)"
   ]
  },
  {
   "cell_type": "code",
   "execution_count": 1356,
   "metadata": {},
   "outputs": [],
   "source": [
    "#df=df.tail(10)\n",
    "ta=47\n",
    "df2=df.tail(ta)\n",
    "df1 =DF.tail(6)"
   ]
  },
  {
   "cell_type": "code",
   "execution_count": 1357,
   "metadata": {},
   "outputs": [
    {
     "data": {
      "text/html": [
       "<div>\n",
       "<style scoped>\n",
       "    .dataframe tbody tr th:only-of-type {\n",
       "        vertical-align: middle;\n",
       "    }\n",
       "\n",
       "    .dataframe tbody tr th {\n",
       "        vertical-align: top;\n",
       "    }\n",
       "\n",
       "    .dataframe thead th {\n",
       "        text-align: right;\n",
       "    }\n",
       "</style>\n",
       "<table border=\"1\" class=\"dataframe\">\n",
       "  <thead>\n",
       "    <tr style=\"text-align: right;\">\n",
       "      <th></th>\n",
       "      <th>Day</th>\n",
       "      <th>date</th>\n",
       "      <th>Total Confirmed</th>\n",
       "      <th>Total Deceased</th>\n",
       "      <th>Total Recovered</th>\n",
       "    </tr>\n",
       "  </thead>\n",
       "  <tbody>\n",
       "    <tr>\n",
       "      <th>77</th>\n",
       "      <td>78</td>\n",
       "      <td>2020-06-14</td>\n",
       "      <td>44661</td>\n",
       "      <td>435</td>\n",
       "      <td>24547</td>\n",
       "    </tr>\n",
       "    <tr>\n",
       "      <th>78</th>\n",
       "      <td>79</td>\n",
       "      <td>2020-06-15</td>\n",
       "      <td>46504</td>\n",
       "      <td>479</td>\n",
       "      <td>25344</td>\n",
       "    </tr>\n",
       "    <tr>\n",
       "      <th>79</th>\n",
       "      <td>80</td>\n",
       "      <td>2020-06-16</td>\n",
       "      <td>48019</td>\n",
       "      <td>528</td>\n",
       "      <td>26782</td>\n",
       "    </tr>\n",
       "    <tr>\n",
       "      <th>80</th>\n",
       "      <td>81</td>\n",
       "      <td>2020-06-17</td>\n",
       "      <td>50193</td>\n",
       "      <td>576</td>\n",
       "      <td>27624</td>\n",
       "    </tr>\n",
       "    <tr>\n",
       "      <th>81</th>\n",
       "      <td>82</td>\n",
       "      <td>2020-06-18</td>\n",
       "      <td>52334</td>\n",
       "      <td>625</td>\n",
       "      <td>28641</td>\n",
       "    </tr>\n",
       "  </tbody>\n",
       "</table>\n",
       "</div>"
      ],
      "text/plain": [
       "    Day       date  Total Confirmed  Total Deceased  Total Recovered\n",
       "77   78 2020-06-14            44661             435            24547\n",
       "78   79 2020-06-15            46504             479            25344\n",
       "79   80 2020-06-16            48019             528            26782\n",
       "80   81 2020-06-17            50193             576            27624\n",
       "81   82 2020-06-18            52334             625            28641"
      ]
     },
     "execution_count": 1357,
     "metadata": {},
     "output_type": "execute_result"
    }
   ],
   "source": [
    "\n",
    "df1.tail()"
   ]
  },
  {
   "cell_type": "code",
   "execution_count": 1358,
   "metadata": {},
   "outputs": [],
   "source": [
    "#Y1 = np.array(df1['Total Confirmed'])\n",
    "X1 = np.array(df1['Day'])\n",
    "X2 = np.array(df2['Day'])\n",
    "#Y1 = np.array(df1['Total Confirmed'])\n",
    "#Y2 = np.array(df1['Total Recovered'])\n",
    "#Y3 = np.array(df1['Total Deceased'])\n",
    "Y1 = np.log(df1['Total Confirmed'])\n",
    "Y1 = np.array(Y1)\n",
    "Y2 = np.log(df1['Total Recovered'])\n",
    "Y2 = np.array(Y2)\n",
    "Y3 = np.log(df1['Total Deceased'])\n",
    "Y3 = np.array(Y3)\n",
    "#Y4 = np.array(df2['Daily Confirmed'])\n",
    "\n",
    "Y4 =np.log(df2['Confirmed'])\n",
    "Y4 = np.array(Y4)\n",
    "Y5 =np.log(df2['Recovered'])\n",
    "Y5 = np.array(Y5)\n",
    "Y6 =np.log(df2['Deceased'])\n",
    "Y6 = np.array(Y6)\n"
   ]
  },
  {
   "cell_type": "code",
   "execution_count": 1359,
   "metadata": {},
   "outputs": [
    {
     "name": "stdout",
     "output_type": "stream",
     "text": [
      "coefficient of determination for Total Confirmed 99.82840486151801\n",
      "coefficient of determination for Total Recovered  99.44359909053459\n",
      "coefficient of determination for Total Deceased  99.90863095965537\n",
      "coefficient of determination for Based on Last 30 Days Data\n",
      "coefficient of determination for Daily Confirmed  85.78229183692366\n",
      "coefficient of determination for Daily Recovered  67.95414107114036\n",
      "coefficient of determination for Daily Deceased  88.60734274286385\n"
     ]
    }
   ],
   "source": [
    "from sklearn.linear_model import LinearRegression\n",
    "X1=X1.reshape(-1, 1)\n",
    "X2=X2.reshape(-1, 1)\n",
    "Y1=Y1.reshape(-1, 1)\n",
    "Y2=Y2.reshape(-1, 1)\n",
    "Y3=Y3.reshape(-1, 1)\n",
    "Y4=Y4.reshape(-1, 1)\n",
    "Y5=Y5.reshape(-1, 1)\n",
    "Y6=Y6.reshape(-1, 1)\n",
    "\n",
    "reg1 = LinearRegression().fit(X1, Y1)\n",
    "reg2 = LinearRegression().fit(X1, Y2)\n",
    "reg3 = LinearRegression().fit(X1, Y3)\n",
    "reg4 = LinearRegression().fit(X2, Y4)\n",
    "reg5 = LinearRegression().fit(X2, Y5)\n",
    "reg6 = LinearRegression().fit(X2, Y6)\n",
    "\n",
    "logb1 = reg1.coef_\n",
    "loga1 = reg1.intercept_\n",
    "a1 = np.exp(loga1)\n",
    "b1 = np.exp(logb1)\n",
    "\n",
    "logb2 = reg2.coef_\n",
    "loga2 = reg2.intercept_\n",
    "a2 = np.exp(loga2)\n",
    "b2 = np.exp(logb2)\n",
    "\n",
    "logb3 = reg3.coef_\n",
    "loga3 = reg3.intercept_\n",
    "a3 = np.exp(loga3)\n",
    "b3 = np.exp(logb3)\n",
    "\n",
    "logb4 = reg4.coef_\n",
    "loga4 = reg4.intercept_\n",
    "a4 = np.exp(loga4)\n",
    "b4 = np.exp(logb4)\n",
    "\n",
    "logb5 = reg5.coef_\n",
    "loga5 = reg5.intercept_\n",
    "a5 = np.exp(loga5)\n",
    "b5 = np.exp(logb5)\n",
    "\n",
    "logb6 = reg6.coef_\n",
    "loga6 = reg6.intercept_\n",
    "a6 = np.exp(loga6)\n",
    "b6 = np.exp(logb6)\n",
    "\n",
    "#print(\"Based on Last 20 Days Data\")\n",
    "#print (\"Total Confirmed Accuracy\", reg1.score(X1, Y1)*100)\n",
    "print (\"coefficient of determination for Total Confirmed\", reg1.score(X1, Y1)*100)\n",
    "print (\"coefficient of determination for Total Recovered \", reg2.score(X1, Y2)*100)\n",
    "print (\"coefficient of determination for Total Deceased \", reg3.score(X1, Y3)*100)\n",
    "print(\"coefficient of determination for Based on Last 30 Days Data\")\n",
    "print (\"coefficient of determination for Daily Confirmed \", reg4.score(X2, Y4)*100)\n",
    "print (\"coefficient of determination for Daily Recovered \", reg5.score(X2, Y5)*100)\n",
    "print (\"coefficient of determination for Daily Deceased \", reg6.score(X2, Y6)*100)\n"
   ]
  },
  {
   "cell_type": "code",
   "execution_count": 1400,
   "metadata": {},
   "outputs": [
    {
     "data": {
      "text/plain": [
       "82"
      ]
     },
     "execution_count": 1400,
     "metadata": {},
     "output_type": "execute_result"
    }
   ],
   "source": [
    "drange = 17\n",
    "start =len(df) +1\n",
    "dval = np.arange(start,start+drange,1)\n",
    "dval= np.array(dval)\n",
    "val= dval\n",
    "dval=dval.reshape(-1, 1)\n",
    "#print(dval.shape)\n",
    "\n",
    "start1 =len(DF)\n",
    "dval1 = np.arange(start1,start1+drange,1)\n",
    "dval1= np.array(dval1)\n",
    "val1= dval1\n",
    "dval1=dval1.reshape(-1, 1)\n",
    "#print(dval1)\n",
    "import datetime\n",
    "base = datetime.date.today() - datetime.timedelta(days=1)\n",
    "date_list = [base + datetime.timedelta(days=x) for x in range(drange)]\n",
    "\n",
    "DConfirmed = np.round_(np.multiply(a4,(np.power(b4,val))))\n",
    "TConfirmed = np.round_(np.multiply(a1,(np.power(b1,val1))))\n",
    "#TConfirmed = np.round_(reg1.predict(dval1))\n",
    "DRecovered = np.round_(np.multiply(a5,(np.power(b5,val))))\n",
    "TRecovered = np.round_(np.multiply(a2,(np.power(b2,val1))))\n",
    "#TRecovered = np.round_(reg2.predict(dval1))\n",
    "DDeceased = np.round_(np.multiply(a6,(np.power(b6,val))))\n",
    "TDeceased = np.round_(np.multiply(a3,(np.power(b3,val1))))\n",
    "#TDeceased = np.round_(reg3.predict(dval1))\n",
    "\n",
    "dict = {\n",
    "        'Date' : date_list,\n",
    "        'Daily Confirmed': DConfirmed.flatten(), \n",
    "        'Total Confirmed': TConfirmed.flatten(), \n",
    "   #     'Daily Recovered': DRecovered.flatten() ,\n",
    "    #    'Total Recovered': TRecovered.flatten(),\n",
    "    #    'Daily Deceased' : DDeceased.flatten(),\n",
    "     #   'Total Deceased' : TDeceased.flatten(),\n",
    "        'Day' : dval1.flatten() ,\n",
    "       } \n",
    "final = pd.DataFrame(dict) \n",
    "start1"
   ]
  },
  {
   "cell_type": "code",
   "execution_count": null,
   "metadata": {},
   "outputs": [],
   "source": []
  },
  {
   "cell_type": "code",
   "execution_count": 1401,
   "metadata": {},
   "outputs": [],
   "source": [
    "date=pd.to_datetime(df['Date'])\n",
    "df['date'] = date"
   ]
  },
  {
   "cell_type": "code",
   "execution_count": 1402,
   "metadata": {},
   "outputs": [
    {
     "data": {
      "image/png": "[encoded data removed]",
      "text/plain": [
       "<Figure size 1296x504 with 1 Axes>"
      ]
     },
     "metadata": {
      "needs_background": "light"
     },
     "output_type": "display_data"
    }
   ],
   "source": [
    "%matplotlib inline\n",
    "import matplotlib.pyplot as plt\n",
    "\n",
    "fig= plt.figure(figsize=(18,7))\n",
    "\n",
    "axes= fig.add_axes([0.1,0.1,0.8,0.8])\n",
    "\n",
    "time = df['date']\n",
    "position =df['Confirmed']\n",
    "\n",
    "time1 = final['Date']\n",
    "position1 = final['Daily Confirmed']\n",
    "\n",
    "axes.plot(time, position)\n",
    "axes.plot(time1, position1)\n",
    "\n",
    "plt.show()\n",
    "fig.savefig('TN_Daily.png')\n",
    "\n",
    "\n",
    "\n",
    "\n",
    "#plt.xlabel('Date(day)')\n",
    "#plt.ylabel('Total Confirmed')"
   ]
  },
  {
   "cell_type": "code",
   "execution_count": 1403,
   "metadata": {
    "scrolled": false
   },
   "outputs": [
    {
     "data": {
      "text/html": [
       "<div>\n",
       "<style scoped>\n",
       "    .dataframe tbody tr th:only-of-type {\n",
       "        vertical-align: middle;\n",
       "    }\n",
       "\n",
       "    .dataframe tbody tr th {\n",
       "        vertical-align: top;\n",
       "    }\n",
       "\n",
       "    .dataframe thead th {\n",
       "        text-align: right;\n",
       "    }\n",
       "</style>\n",
       "<table border=\"1\" class=\"dataframe\">\n",
       "  <thead>\n",
       "    <tr style=\"text-align: right;\">\n",
       "      <th></th>\n",
       "      <th>Date</th>\n",
       "      <th>Daily Confirmed</th>\n",
       "      <th>Total Confirmed</th>\n",
       "      <th>Day</th>\n",
       "    </tr>\n",
       "  </thead>\n",
       "  <tbody>\n",
       "    <tr>\n",
       "      <th>0</th>\n",
       "      <td>2020-06-18</td>\n",
       "      <td>2158.0</td>\n",
       "      <td>52267.0</td>\n",
       "      <td>82</td>\n",
       "    </tr>\n",
       "    <tr>\n",
       "      <th>1</th>\n",
       "      <td>2020-06-19</td>\n",
       "      <td>2236.0</td>\n",
       "      <td>54401.0</td>\n",
       "      <td>83</td>\n",
       "    </tr>\n",
       "    <tr>\n",
       "      <th>2</th>\n",
       "      <td>2020-06-20</td>\n",
       "      <td>2316.0</td>\n",
       "      <td>56623.0</td>\n",
       "      <td>84</td>\n",
       "    </tr>\n",
       "    <tr>\n",
       "      <th>3</th>\n",
       "      <td>2020-06-21</td>\n",
       "      <td>2400.0</td>\n",
       "      <td>58936.0</td>\n",
       "      <td>85</td>\n",
       "    </tr>\n",
       "    <tr>\n",
       "      <th>4</th>\n",
       "      <td>2020-06-22</td>\n",
       "      <td>2486.0</td>\n",
       "      <td>61343.0</td>\n",
       "      <td>86</td>\n",
       "    </tr>\n",
       "    <tr>\n",
       "      <th>5</th>\n",
       "      <td>2020-06-23</td>\n",
       "      <td>2575.0</td>\n",
       "      <td>63849.0</td>\n",
       "      <td>87</td>\n",
       "    </tr>\n",
       "    <tr>\n",
       "      <th>6</th>\n",
       "      <td>2020-06-24</td>\n",
       "      <td>2668.0</td>\n",
       "      <td>66457.0</td>\n",
       "      <td>88</td>\n",
       "    </tr>\n",
       "    <tr>\n",
       "      <th>7</th>\n",
       "      <td>2020-06-25</td>\n",
       "      <td>2764.0</td>\n",
       "      <td>69171.0</td>\n",
       "      <td>89</td>\n",
       "    </tr>\n",
       "    <tr>\n",
       "      <th>8</th>\n",
       "      <td>2020-06-26</td>\n",
       "      <td>2863.0</td>\n",
       "      <td>71997.0</td>\n",
       "      <td>90</td>\n",
       "    </tr>\n",
       "    <tr>\n",
       "      <th>9</th>\n",
       "      <td>2020-06-27</td>\n",
       "      <td>2966.0</td>\n",
       "      <td>74937.0</td>\n",
       "      <td>91</td>\n",
       "    </tr>\n",
       "    <tr>\n",
       "      <th>10</th>\n",
       "      <td>2020-06-28</td>\n",
       "      <td>3072.0</td>\n",
       "      <td>77998.0</td>\n",
       "      <td>92</td>\n",
       "    </tr>\n",
       "    <tr>\n",
       "      <th>11</th>\n",
       "      <td>2020-06-29</td>\n",
       "      <td>3183.0</td>\n",
       "      <td>81184.0</td>\n",
       "      <td>93</td>\n",
       "    </tr>\n",
       "    <tr>\n",
       "      <th>12</th>\n",
       "      <td>2020-06-30</td>\n",
       "      <td>3297.0</td>\n",
       "      <td>84500.0</td>\n",
       "      <td>94</td>\n",
       "    </tr>\n",
       "    <tr>\n",
       "      <th>13</th>\n",
       "      <td>2020-07-01</td>\n",
       "      <td>3416.0</td>\n",
       "      <td>87951.0</td>\n",
       "      <td>95</td>\n",
       "    </tr>\n",
       "    <tr>\n",
       "      <th>14</th>\n",
       "      <td>2020-07-02</td>\n",
       "      <td>3538.0</td>\n",
       "      <td>91543.0</td>\n",
       "      <td>96</td>\n",
       "    </tr>\n",
       "    <tr>\n",
       "      <th>15</th>\n",
       "      <td>2020-07-03</td>\n",
       "      <td>3665.0</td>\n",
       "      <td>95283.0</td>\n",
       "      <td>97</td>\n",
       "    </tr>\n",
       "    <tr>\n",
       "      <th>16</th>\n",
       "      <td>2020-07-04</td>\n",
       "      <td>3797.0</td>\n",
       "      <td>99174.0</td>\n",
       "      <td>98</td>\n",
       "    </tr>\n",
       "  </tbody>\n",
       "</table>\n",
       "</div>"
      ],
      "text/plain": [
       "          Date  Daily Confirmed  Total Confirmed  Day\n",
       "0   2020-06-18           2158.0          52267.0   82\n",
       "1   2020-06-19           2236.0          54401.0   83\n",
       "2   2020-06-20           2316.0          56623.0   84\n",
       "3   2020-06-21           2400.0          58936.0   85\n",
       "4   2020-06-22           2486.0          61343.0   86\n",
       "5   2020-06-23           2575.0          63849.0   87\n",
       "6   2020-06-24           2668.0          66457.0   88\n",
       "7   2020-06-25           2764.0          69171.0   89\n",
       "8   2020-06-26           2863.0          71997.0   90\n",
       "9   2020-06-27           2966.0          74937.0   91\n",
       "10  2020-06-28           3072.0          77998.0   92\n",
       "11  2020-06-29           3183.0          81184.0   93\n",
       "12  2020-06-30           3297.0          84500.0   94\n",
       "13  2020-07-01           3416.0          87951.0   95\n",
       "14  2020-07-02           3538.0          91543.0   96\n",
       "15  2020-07-03           3665.0          95283.0   97\n",
       "16  2020-07-04           3797.0          99174.0   98"
      ]
     },
     "execution_count": 1403,
     "metadata": {},
     "output_type": "execute_result"
    }
   ],
   "source": [
    "final"
   ]
  },
  {
   "cell_type": "code",
   "execution_count": 1404,
   "metadata": {},
   "outputs": [
    {
     "data": {
      "text/html": [
       "<div>\n",
       "<style scoped>\n",
       "    .dataframe tbody tr th:only-of-type {\n",
       "        vertical-align: middle;\n",
       "    }\n",
       "\n",
       "    .dataframe tbody tr th {\n",
       "        vertical-align: top;\n",
       "    }\n",
       "\n",
       "    .dataframe thead th {\n",
       "        text-align: right;\n",
       "    }\n",
       "</style>\n",
       "<table border=\"1\" class=\"dataframe\">\n",
       "  <thead>\n",
       "    <tr style=\"text-align: right;\">\n",
       "      <th></th>\n",
       "      <th>Day</th>\n",
       "      <th>date</th>\n",
       "      <th>Total Confirmed</th>\n",
       "      <th>Total Deceased</th>\n",
       "      <th>Total Recovered</th>\n",
       "    </tr>\n",
       "  </thead>\n",
       "  <tbody>\n",
       "    <tr>\n",
       "      <th>77</th>\n",
       "      <td>78</td>\n",
       "      <td>2020-06-14</td>\n",
       "      <td>44661</td>\n",
       "      <td>435</td>\n",
       "      <td>24547</td>\n",
       "    </tr>\n",
       "    <tr>\n",
       "      <th>78</th>\n",
       "      <td>79</td>\n",
       "      <td>2020-06-15</td>\n",
       "      <td>46504</td>\n",
       "      <td>479</td>\n",
       "      <td>25344</td>\n",
       "    </tr>\n",
       "    <tr>\n",
       "      <th>79</th>\n",
       "      <td>80</td>\n",
       "      <td>2020-06-16</td>\n",
       "      <td>48019</td>\n",
       "      <td>528</td>\n",
       "      <td>26782</td>\n",
       "    </tr>\n",
       "    <tr>\n",
       "      <th>80</th>\n",
       "      <td>81</td>\n",
       "      <td>2020-06-17</td>\n",
       "      <td>50193</td>\n",
       "      <td>576</td>\n",
       "      <td>27624</td>\n",
       "    </tr>\n",
       "    <tr>\n",
       "      <th>81</th>\n",
       "      <td>82</td>\n",
       "      <td>2020-06-18</td>\n",
       "      <td>52334</td>\n",
       "      <td>625</td>\n",
       "      <td>28641</td>\n",
       "    </tr>\n",
       "  </tbody>\n",
       "</table>\n",
       "</div>"
      ],
      "text/plain": [
       "    Day       date  Total Confirmed  Total Deceased  Total Recovered\n",
       "77   78 2020-06-14            44661             435            24547\n",
       "78   79 2020-06-15            46504             479            25344\n",
       "79   80 2020-06-16            48019             528            26782\n",
       "80   81 2020-06-17            50193             576            27624\n",
       "81   82 2020-06-18            52334             625            28641"
      ]
     },
     "execution_count": 1404,
     "metadata": {},
     "output_type": "execute_result"
    }
   ],
   "source": [
    "df1.tail()"
   ]
  },
  {
   "cell_type": "code",
   "execution_count": 1406,
   "metadata": {},
   "outputs": [
    {
     "data": {
      "image/png": "[encoded data removed]",
      "text/plain": [
       "<Figure size 1152x864 with 1 Axes>"
      ]
     },
     "metadata": {
      "needs_background": "light"
     },
     "output_type": "display_data"
    }
   ],
   "source": [
    "%matplotlib inline\n",
    "import matplotlib.pyplot as plt\n",
    "\n",
    "fig= plt.figure(figsize=(16,12))\n",
    "\n",
    "axes= fig.add_axes([0.1,0.1,0.8,0.8])\n",
    "\n",
    "time = df1['date']\n",
    "position =df1['Total Confirmed']\n",
    "\n",
    "time1 = final['Date']\n",
    "position1 = final['Total Confirmed']\n",
    "axes.plot(time, position)\n",
    "axes.plot(time1, position1)\n",
    "\n",
    "plt.xlabel('Date(day)')\n",
    "plt.ylabel('Total Confirmed')\n",
    "fig.savefig('TN_Total.png')"
   ]
  },
  {
   "cell_type": "code",
   "execution_count": 1378,
   "metadata": {},
   "outputs": [
    {
     "data": {
      "text/html": [
       "<div>\n",
       "<style scoped>\n",
       "    .dataframe tbody tr th:only-of-type {\n",
       "        vertical-align: middle;\n",
       "    }\n",
       "\n",
       "    .dataframe tbody tr th {\n",
       "        vertical-align: top;\n",
       "    }\n",
       "\n",
       "    .dataframe thead th {\n",
       "        text-align: right;\n",
       "    }\n",
       "</style>\n",
       "<table border=\"1\" class=\"dataframe\">\n",
       "  <thead>\n",
       "    <tr style=\"text-align: right;\">\n",
       "      <th></th>\n",
       "      <th>Unnamed: 0</th>\n",
       "      <th>Date</th>\n",
       "      <th>Daily Confirmed</th>\n",
       "      <th>Total Confirmed</th>\n",
       "      <th>Day</th>\n",
       "    </tr>\n",
       "  </thead>\n",
       "  <tbody>\n",
       "    <tr>\n",
       "      <th>0</th>\n",
       "      <td>0</td>\n",
       "      <td>2020-06-19</td>\n",
       "      <td>2158.0</td>\n",
       "      <td>54401.0</td>\n",
       "      <td>83</td>\n",
       "    </tr>\n",
       "    <tr>\n",
       "      <th>1</th>\n",
       "      <td>1</td>\n",
       "      <td>2020-06-20</td>\n",
       "      <td>2236.0</td>\n",
       "      <td>56623.0</td>\n",
       "      <td>84</td>\n",
       "    </tr>\n",
       "    <tr>\n",
       "      <th>2</th>\n",
       "      <td>2</td>\n",
       "      <td>2020-06-21</td>\n",
       "      <td>2316.0</td>\n",
       "      <td>58936.0</td>\n",
       "      <td>85</td>\n",
       "    </tr>\n",
       "    <tr>\n",
       "      <th>3</th>\n",
       "      <td>3</td>\n",
       "      <td>2020-06-22</td>\n",
       "      <td>2400.0</td>\n",
       "      <td>61343.0</td>\n",
       "      <td>86</td>\n",
       "    </tr>\n",
       "    <tr>\n",
       "      <th>4</th>\n",
       "      <td>4</td>\n",
       "      <td>2020-06-23</td>\n",
       "      <td>2486.0</td>\n",
       "      <td>63849.0</td>\n",
       "      <td>87</td>\n",
       "    </tr>\n",
       "  </tbody>\n",
       "</table>\n",
       "</div>"
      ],
      "text/plain": [
       "   Unnamed: 0        Date  Daily Confirmed  Total Confirmed  Day\n",
       "0           0  2020-06-19           2158.0          54401.0   83\n",
       "1           1  2020-06-20           2236.0          56623.0   84\n",
       "2           2  2020-06-21           2316.0          58936.0   85\n",
       "3           3  2020-06-22           2400.0          61343.0   86\n",
       "4           4  2020-06-23           2486.0          63849.0   87"
      ]
     },
     "execution_count": 1378,
     "metadata": {},
     "output_type": "execute_result"
    }
   ],
   "source": [
    "#save to Csv\n",
    "final.to_csv(\"predictTN.csv\")\n",
    "pr=pd.read_csv('predictTN.csv')\n",
    "pr.head()"
   ]
  },
  {
   "cell_type": "code",
   "execution_count": null,
   "metadata": {},
   "outputs": [],
   "source": []
  },
  {
   "cell_type": "code",
   "execution_count": null,
   "metadata": {},
   "outputs": [],
   "source": []
  },
  {
   "cell_type": "code",
   "execution_count": null,
   "metadata": {},
   "outputs": [],
   "source": []
  },
  {
   "cell_type": "code",
   "execution_count": null,
   "metadata": {},
   "outputs": [],
   "source": []
  },
  {
   "cell_type": "code",
   "execution_count": null,
   "metadata": {},
   "outputs": [],
   "source": []
  },
  {
   "cell_type": "code",
   "execution_count": null,
   "metadata": {},
   "outputs": [],
   "source": []
  },
  {
   "cell_type": "code",
   "execution_count": null,
   "metadata": {},
   "outputs": [],
   "source": []
  },
  {
   "cell_type": "code",
   "execution_count": null,
   "metadata": {},
   "outputs": [],
   "source": []
  },
  {
   "cell_type": "code",
   "execution_count": null,
   "metadata": {},
   "outputs": [],
   "source": []
  },
  {
   "cell_type": "code",
   "execution_count": null,
   "metadata": {},
   "outputs": [],
   "source": []
  },
  {
   "cell_type": "code",
   "execution_count": null,
   "metadata": {},
   "outputs": [],
   "source": []
  },
  {
   "cell_type": "code",
   "execution_count": null,
   "metadata": {},
   "outputs": [],
   "source": []
  },
  {
   "cell_type": "code",
   "execution_count": null,
   "metadata": {},
   "outputs": [],
   "source": []
  },
  {
   "cell_type": "code",
   "execution_count": null,
   "metadata": {},
   "outputs": [],
   "source": []
  },
  {
   "cell_type": "code",
   "execution_count": null,
   "metadata": {},
   "outputs": [],
   "source": []
  },
  {
   "cell_type": "code",
   "execution_count": null,
   "metadata": {},
   "outputs": [],
   "source": []
  }
 ],
 "metadata": {
  "kernelspec": {
   "display_name": "Python 3.6 - AzureML",
   "language": "python",
   "name": "python3-azureml"
  },
  "language_info": {
   "codemirror_mode": {
    "name": "ipython",
    "version": 3
   },
   "file_extension": ".py",
   "mimetype": "text/x-python",
   "name": "python",
   "nbconvert_exporter": "python",
   "pygments_lexer": "ipython3",
   "version": "3.6.9"
  }
 },
 "nbformat": 4,
 "nbformat_minor": 4
}
