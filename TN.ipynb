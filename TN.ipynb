{
 "cells": [
  {
   "cell_type": "code",
   "execution_count": 98,
   "metadata": {},
   "outputs": [],
   "source": [
    "import numpy as np\n",
    "import pandas as pd"
   ]
  },
  {
   "cell_type": "code",
   "execution_count": 99,
   "metadata": {},
   "outputs": [],
   "source": [
    "df=pd.read_csv('TN_daily.csv')"
   ]
  },
  {
   "cell_type": "code",
   "execution_count": 100,
   "metadata": {},
   "outputs": [
    {
     "data": {
      "text/html": [
       "<div>\n",
       "<style scoped>\n",
       "    .dataframe tbody tr th:only-of-type {\n",
       "        vertical-align: middle;\n",
       "    }\n",
       "\n",
       "    .dataframe tbody tr th {\n",
       "        vertical-align: top;\n",
       "    }\n",
       "\n",
       "    .dataframe thead th {\n",
       "        text-align: right;\n",
       "    }\n",
       "</style>\n",
       "<table border=\"1\" class=\"dataframe\">\n",
       "  <thead>\n",
       "    <tr style=\"text-align: right;\">\n",
       "      <th></th>\n",
       "      <th>Date</th>\n",
       "      <th>Confirmed</th>\n",
       "      <th>Deceased</th>\n",
       "      <th>Recovered</th>\n",
       "      <th>Day</th>\n",
       "    </tr>\n",
       "  </thead>\n",
       "  <tbody>\n",
       "    <tr>\n",
       "      <th>90</th>\n",
       "      <td>12-Jun-20</td>\n",
       "      <td>1982</td>\n",
       "      <td>18</td>\n",
       "      <td>1342</td>\n",
       "      <td>91</td>\n",
       "    </tr>\n",
       "    <tr>\n",
       "      <th>91</th>\n",
       "      <td>13-Jun-20</td>\n",
       "      <td>1989</td>\n",
       "      <td>30</td>\n",
       "      <td>1362</td>\n",
       "      <td>92</td>\n",
       "    </tr>\n",
       "    <tr>\n",
       "      <th>92</th>\n",
       "      <td>14-Jun-20</td>\n",
       "      <td>1974</td>\n",
       "      <td>38</td>\n",
       "      <td>1138</td>\n",
       "      <td>93</td>\n",
       "    </tr>\n",
       "    <tr>\n",
       "      <th>93</th>\n",
       "      <td>15-Jun-20</td>\n",
       "      <td>1843</td>\n",
       "      <td>44</td>\n",
       "      <td>797</td>\n",
       "      <td>94</td>\n",
       "    </tr>\n",
       "    <tr>\n",
       "      <th>94</th>\n",
       "      <td>16-Jun-20</td>\n",
       "      <td>1515</td>\n",
       "      <td>49</td>\n",
       "      <td>1438</td>\n",
       "      <td>95</td>\n",
       "    </tr>\n",
       "  </tbody>\n",
       "</table>\n",
       "</div>"
      ],
      "text/plain": [
       "         Date  Confirmed  Deceased  Recovered  Day\n",
       "90  12-Jun-20       1982        18       1342   91\n",
       "91  13-Jun-20       1989        30       1362   92\n",
       "92  14-Jun-20       1974        38       1138   93\n",
       "93  15-Jun-20       1843        44        797   94\n",
       "94  16-Jun-20       1515        49       1438   95"
      ]
     },
     "execution_count": 100,
     "metadata": {},
     "output_type": "execute_result"
    }
   ],
   "source": [
    "df.tail()"
   ]
  },
  {
   "cell_type": "code",
   "execution_count": 97,
   "metadata": {},
   "outputs": [],
   "source": [
    "#df = df.drop(['Date','Total Confirmed','Daily Recovered', 'Total Recovered','Daily Deceased','Daily Confirmed'], axis=1)"
   ]
  },
  {
   "cell_type": "code",
   "execution_count": 118,
   "metadata": {},
   "outputs": [],
   "source": [
    "#df=df.tail(10)\n",
    "ta=47\n",
    "df2=df.tail(ta)\n"
   ]
  },
  {
   "cell_type": "code",
   "execution_count": 119,
   "metadata": {},
   "outputs": [],
   "source": [
    "#Y1 = np.array(df1['Total Confirmed'])\n",
    "#X1 = np.array(df1['Day'])\n",
    "X2 = np.array(df2['Day'])\n",
    "\n",
    "#Y4 = np.array(df2['Daily Confirmed'])\n",
    "Y4 =np.log(df2['Confirmed'])\n",
    "Y4 = np.array(Y4)\n",
    "Y5 =np.log(df2['Recovered'])\n",
    "Y5 = np.array(Y5)\n",
    "Y6 =np.log(df2['Deceased'])\n",
    "Y6 = np.array(Y6)\n"
   ]
  },
  {
   "cell_type": "code",
   "execution_count": null,
   "metadata": {},
   "outputs": [],
   "source": []
  },
  {
   "cell_type": "code",
   "execution_count": 120,
   "metadata": {},
   "outputs": [
    {
     "name": "stdout",
     "output_type": "stream",
     "text": [
      "Based on Last few Days Data\n",
      "Daily Confirmed Accuracy 84.08522565594494\n",
      "Daily Recovered Accuracy 72.18398396219474\n",
      "Daily Deceased Accuracy 88.57390825404624\n"
     ]
    }
   ],
   "source": [
    "from sklearn.linear_model import LinearRegression\n",
    "#X1=X1.reshape(-1, 1)\n",
    "X2=X2.reshape(-1, 1)\n",
    "\n",
    "Y4=Y4.reshape(-1, 1)\n",
    "Y5=Y5.reshape(-1, 1)\n",
    "Y6=Y6.reshape(-1, 1)\n",
    "\n",
    "#reg1 = LinearRegression().fit(X1, Y1)\n",
    "#reg2 = LinearRegression().fit(X1, Y2)\n",
    "#reg3 = LinearRegression().fit(X1, Y3)\n",
    "reg4 = LinearRegression().fit(X2, Y4)\n",
    "reg5 = LinearRegression().fit(X2, Y5)\n",
    "reg6 = LinearRegression().fit(X2, Y6)\n",
    "\n",
    "logb4 = reg4.coef_\n",
    "loga4 = reg4.intercept_\n",
    "a4 = np.exp(loga4)\n",
    "b4 = np.exp(logb4)\n",
    "\n",
    "logb5 = reg5.coef_\n",
    "loga5 = reg5.intercept_\n",
    "a5 = np.exp(loga5)\n",
    "b5 = np.exp(logb5)\n",
    "\n",
    "logb6 = reg6.coef_\n",
    "loga6 = reg6.intercept_\n",
    "a6 = np.exp(loga6)\n",
    "b6 = np.exp(logb6)\n",
    "\n",
    "#print(\"Based on Last 20 Days Data\")\n",
    "#print (\"Total Confirmed Accuracy\", reg1.score(X1, Y1)*100)\n",
    "print(\"Based on Last few Days Data\")\n",
    "print (\"Daily Confirmed Accuracy\", reg4.score(X2, Y4)*100)\n",
    "print (\"Daily Recovered Accuracy\", reg5.score(X2, Y5)*100)\n",
    "print (\"Daily Deceased Accuracy\", reg6.score(X2, Y6)*100)\n"
   ]
  },
  {
   "cell_type": "code",
   "execution_count": 121,
   "metadata": {},
   "outputs": [
    {
     "name": "stdout",
     "output_type": "stream",
     "text": [
      "(11, 1)\n"
     ]
    }
   ],
   "source": [
    "drange = 11\n",
    "start =len(df) +1\n",
    "dval = np.arange(start,start+drange,1)\n",
    "dval= np.array(dval)\n",
    "val= dval\n",
    "dval=dval.reshape(-1, 1)\n",
    "print(dval.shape)\n",
    "import datetime\n",
    "base = datetime.date.today()\n",
    "date_list = [base + datetime.timedelta(days=x) for x in range(drange)]\n",
    "\n",
    "DConfirmed = np.round_(np.multiply(a4,(np.power(b4,val))))\n",
    "#TConfirmed = np.round_(reg1.predict(dval))\n",
    "DRecovered = np.round_(np.multiply(a5,(np.power(b5,val))))\n",
    "#TRecovered = np.round_(reg2.predict(dval))\n",
    "DDeceased = np.round_(np.multiply(a6,(np.power(b6,val))))\n",
    "#TDeceased = np.round_(reg3.predict(dval))\n",
    "\n",
    "dict = {\n",
    "        'Date' : date_list,\n",
    "        'Daily Confirmed': DConfirmed.flatten(), \n",
    "#        'Total Confirmed': TConfirmed.flatten(), \n",
    "#        'Daily Recovered': DRecovered.flatten() ,\n",
    "#        'Total Recovered': TRecovered.flatten(),\n",
    "        'Daily Deceased' : DDeceased.flatten(),\n",
    "#        'Total Deceased' : TDeceased.flatten(),\n",
    "        'Day' : dval.flatten() ,\n",
    "       } \n",
    "final = pd.DataFrame(dict) \n"
   ]
  },
  {
   "cell_type": "code",
   "execution_count": 122,
   "metadata": {},
   "outputs": [
    {
     "data": {
      "text/html": [
       "<div>\n",
       "<style scoped>\n",
       "    .dataframe tbody tr th:only-of-type {\n",
       "        vertical-align: middle;\n",
       "    }\n",
       "\n",
       "    .dataframe tbody tr th {\n",
       "        vertical-align: top;\n",
       "    }\n",
       "\n",
       "    .dataframe thead th {\n",
       "        text-align: right;\n",
       "    }\n",
       "</style>\n",
       "<table border=\"1\" class=\"dataframe\">\n",
       "  <thead>\n",
       "    <tr style=\"text-align: right;\">\n",
       "      <th></th>\n",
       "      <th>Date</th>\n",
       "      <th>Confirmed</th>\n",
       "      <th>Deceased</th>\n",
       "      <th>Recovered</th>\n",
       "      <th>Day</th>\n",
       "    </tr>\n",
       "  </thead>\n",
       "  <tbody>\n",
       "    <tr>\n",
       "      <th>90</th>\n",
       "      <td>12-Jun-20</td>\n",
       "      <td>1982</td>\n",
       "      <td>18</td>\n",
       "      <td>1342</td>\n",
       "      <td>91</td>\n",
       "    </tr>\n",
       "    <tr>\n",
       "      <th>91</th>\n",
       "      <td>13-Jun-20</td>\n",
       "      <td>1989</td>\n",
       "      <td>30</td>\n",
       "      <td>1362</td>\n",
       "      <td>92</td>\n",
       "    </tr>\n",
       "    <tr>\n",
       "      <th>92</th>\n",
       "      <td>14-Jun-20</td>\n",
       "      <td>1974</td>\n",
       "      <td>38</td>\n",
       "      <td>1138</td>\n",
       "      <td>93</td>\n",
       "    </tr>\n",
       "    <tr>\n",
       "      <th>93</th>\n",
       "      <td>15-Jun-20</td>\n",
       "      <td>1843</td>\n",
       "      <td>44</td>\n",
       "      <td>797</td>\n",
       "      <td>94</td>\n",
       "    </tr>\n",
       "    <tr>\n",
       "      <th>94</th>\n",
       "      <td>16-Jun-20</td>\n",
       "      <td>1515</td>\n",
       "      <td>49</td>\n",
       "      <td>1438</td>\n",
       "      <td>95</td>\n",
       "    </tr>\n",
       "  </tbody>\n",
       "</table>\n",
       "</div>"
      ],
      "text/plain": [
       "         Date  Confirmed  Deceased  Recovered  Day\n",
       "90  12-Jun-20       1982        18       1342   91\n",
       "91  13-Jun-20       1989        30       1362   92\n",
       "92  14-Jun-20       1974        38       1138   93\n",
       "93  15-Jun-20       1843        44        797   94\n",
       "94  16-Jun-20       1515        49       1438   95"
      ]
     },
     "execution_count": 122,
     "metadata": {},
     "output_type": "execute_result"
    }
   ],
   "source": [
    "df.tail()"
   ]
  },
  {
   "cell_type": "code",
   "execution_count": 123,
   "metadata": {},
   "outputs": [
    {
     "data": {
      "text/html": [
       "<div>\n",
       "<style scoped>\n",
       "    .dataframe tbody tr th:only-of-type {\n",
       "        vertical-align: middle;\n",
       "    }\n",
       "\n",
       "    .dataframe tbody tr th {\n",
       "        vertical-align: top;\n",
       "    }\n",
       "\n",
       "    .dataframe thead th {\n",
       "        text-align: right;\n",
       "    }\n",
       "</style>\n",
       "<table border=\"1\" class=\"dataframe\">\n",
       "  <thead>\n",
       "    <tr style=\"text-align: right;\">\n",
       "      <th></th>\n",
       "      <th>Date</th>\n",
       "      <th>Daily Confirmed</th>\n",
       "      <th>Daily Deceased</th>\n",
       "      <th>Day</th>\n",
       "    </tr>\n",
       "  </thead>\n",
       "  <tbody>\n",
       "    <tr>\n",
       "      <th>0</th>\n",
       "      <td>2020-06-17</td>\n",
       "      <td>2092.0</td>\n",
       "      <td>36.0</td>\n",
       "      <td>96</td>\n",
       "    </tr>\n",
       "    <tr>\n",
       "      <th>1</th>\n",
       "      <td>2020-06-18</td>\n",
       "      <td>2173.0</td>\n",
       "      <td>38.0</td>\n",
       "      <td>97</td>\n",
       "    </tr>\n",
       "    <tr>\n",
       "      <th>2</th>\n",
       "      <td>2020-06-19</td>\n",
       "      <td>2257.0</td>\n",
       "      <td>41.0</td>\n",
       "      <td>98</td>\n",
       "    </tr>\n",
       "    <tr>\n",
       "      <th>3</th>\n",
       "      <td>2020-06-20</td>\n",
       "      <td>2345.0</td>\n",
       "      <td>44.0</td>\n",
       "      <td>99</td>\n",
       "    </tr>\n",
       "    <tr>\n",
       "      <th>4</th>\n",
       "      <td>2020-06-21</td>\n",
       "      <td>2436.0</td>\n",
       "      <td>48.0</td>\n",
       "      <td>100</td>\n",
       "    </tr>\n",
       "    <tr>\n",
       "      <th>5</th>\n",
       "      <td>2020-06-22</td>\n",
       "      <td>2530.0</td>\n",
       "      <td>51.0</td>\n",
       "      <td>101</td>\n",
       "    </tr>\n",
       "    <tr>\n",
       "      <th>6</th>\n",
       "      <td>2020-06-23</td>\n",
       "      <td>2628.0</td>\n",
       "      <td>55.0</td>\n",
       "      <td>102</td>\n",
       "    </tr>\n",
       "    <tr>\n",
       "      <th>7</th>\n",
       "      <td>2020-06-24</td>\n",
       "      <td>2730.0</td>\n",
       "      <td>59.0</td>\n",
       "      <td>103</td>\n",
       "    </tr>\n",
       "    <tr>\n",
       "      <th>8</th>\n",
       "      <td>2020-06-25</td>\n",
       "      <td>2836.0</td>\n",
       "      <td>63.0</td>\n",
       "      <td>104</td>\n",
       "    </tr>\n",
       "    <tr>\n",
       "      <th>9</th>\n",
       "      <td>2020-06-26</td>\n",
       "      <td>2946.0</td>\n",
       "      <td>68.0</td>\n",
       "      <td>105</td>\n",
       "    </tr>\n",
       "    <tr>\n",
       "      <th>10</th>\n",
       "      <td>2020-06-27</td>\n",
       "      <td>3061.0</td>\n",
       "      <td>73.0</td>\n",
       "      <td>106</td>\n",
       "    </tr>\n",
       "  </tbody>\n",
       "</table>\n",
       "</div>"
      ],
      "text/plain": [
       "          Date  Daily Confirmed  Daily Deceased  Day\n",
       "0   2020-06-17           2092.0            36.0   96\n",
       "1   2020-06-18           2173.0            38.0   97\n",
       "2   2020-06-19           2257.0            41.0   98\n",
       "3   2020-06-20           2345.0            44.0   99\n",
       "4   2020-06-21           2436.0            48.0  100\n",
       "5   2020-06-22           2530.0            51.0  101\n",
       "6   2020-06-23           2628.0            55.0  102\n",
       "7   2020-06-24           2730.0            59.0  103\n",
       "8   2020-06-25           2836.0            63.0  104\n",
       "9   2020-06-26           2946.0            68.0  105\n",
       "10  2020-06-27           3061.0            73.0  106"
      ]
     },
     "execution_count": 123,
     "metadata": {},
     "output_type": "execute_result"
    }
   ],
   "source": [
    "final"
   ]
  },
  {
   "cell_type": "code",
   "execution_count": 124,
   "metadata": {},
   "outputs": [
    {
     "name": "stdout",
     "output_type": "stream",
     "text": [
      "Daily Confirmed [[2092. 2173. 2257. 2345. 2436. 2530. 2628. 2730. 2836. 2946. 3061.]]\n",
      "Daily Recovered [array([[2066., 2232., 2410., 2602., 2810., 3035., 3277., 3539., 3822.,\n",
      "        4127., 4457.]])]\n",
      "Daily Deceased [array([[36., 38., 41., 44., 48., 51., 55., 59., 63., 68., 73.]])]\n"
     ]
    }
   ],
   "source": [
    "#final = pd.Series(dict).to_frame()\n",
    "print(\"Daily Confirmed\",DConfirmed )\n",
    "#print(\"Total Confirmed\",[TConfirmed] )\n",
    "print(\"Daily Recovered\",[DRecovered] )\n",
    "#print(\"Total Recovered\",[TRecovered] )\n",
    "print(\"Daily Deceased\",[DDeceased])\n",
    "#print(\"Total Deceased\",[TDeceased] )"
   ]
  },
  {
   "cell_type": "code",
   "execution_count": 81,
   "metadata": {},
   "outputs": [
    {
     "data": {
      "text/html": [
       "<div>\n",
       "<style scoped>\n",
       "    .dataframe tbody tr th:only-of-type {\n",
       "        vertical-align: middle;\n",
       "    }\n",
       "\n",
       "    .dataframe tbody tr th {\n",
       "        vertical-align: top;\n",
       "    }\n",
       "\n",
       "    .dataframe thead th {\n",
       "        text-align: right;\n",
       "    }\n",
       "</style>\n",
       "<table border=\"1\" class=\"dataframe\">\n",
       "  <thead>\n",
       "    <tr style=\"text-align: right;\">\n",
       "      <th></th>\n",
       "      <th>Unnamed: 0</th>\n",
       "      <th>Date</th>\n",
       "      <th>Daily Confirmed</th>\n",
       "      <th>Daily Deceased</th>\n",
       "      <th>Day</th>\n",
       "    </tr>\n",
       "  </thead>\n",
       "  <tbody>\n",
       "    <tr>\n",
       "      <th>0</th>\n",
       "      <td>0</td>\n",
       "      <td>2020-06-17</td>\n",
       "      <td>2180.0</td>\n",
       "      <td>39.0</td>\n",
       "      <td>97</td>\n",
       "    </tr>\n",
       "    <tr>\n",
       "      <th>1</th>\n",
       "      <td>1</td>\n",
       "      <td>2020-06-18</td>\n",
       "      <td>2265.0</td>\n",
       "      <td>42.0</td>\n",
       "      <td>98</td>\n",
       "    </tr>\n",
       "    <tr>\n",
       "      <th>2</th>\n",
       "      <td>2</td>\n",
       "      <td>2020-06-19</td>\n",
       "      <td>2353.0</td>\n",
       "      <td>45.0</td>\n",
       "      <td>99</td>\n",
       "    </tr>\n",
       "    <tr>\n",
       "      <th>3</th>\n",
       "      <td>3</td>\n",
       "      <td>2020-06-20</td>\n",
       "      <td>2444.0</td>\n",
       "      <td>49.0</td>\n",
       "      <td>100</td>\n",
       "    </tr>\n",
       "    <tr>\n",
       "      <th>4</th>\n",
       "      <td>4</td>\n",
       "      <td>2020-06-21</td>\n",
       "      <td>2539.0</td>\n",
       "      <td>52.0</td>\n",
       "      <td>101</td>\n",
       "    </tr>\n",
       "  </tbody>\n",
       "</table>\n",
       "</div>"
      ],
      "text/plain": [
       "   Unnamed: 0        Date  Daily Confirmed  Daily Deceased  Day\n",
       "0           0  2020-06-17           2180.0            39.0   97\n",
       "1           1  2020-06-18           2265.0            42.0   98\n",
       "2           2  2020-06-19           2353.0            45.0   99\n",
       "3           3  2020-06-20           2444.0            49.0  100\n",
       "4           4  2020-06-21           2539.0            52.0  101"
      ]
     },
     "execution_count": 81,
     "metadata": {},
     "output_type": "execute_result"
    }
   ],
   "source": [
    "#save to Csv\n",
    "final.to_csv(\"predictTN.csv\")\n",
    "pr=pd.read_csv('predictTN.csv')\n",
    "pr.head()"
   ]
  },
  {
   "cell_type": "code",
   "execution_count": null,
   "metadata": {},
   "outputs": [],
   "source": []
  },
  {
   "cell_type": "code",
   "execution_count": null,
   "metadata": {},
   "outputs": [],
   "source": []
  },
  {
   "cell_type": "code",
   "execution_count": null,
   "metadata": {},
   "outputs": [],
   "source": []
  },
  {
   "cell_type": "code",
   "execution_count": null,
   "metadata": {},
   "outputs": [],
   "source": []
  },
  {
   "cell_type": "code",
   "execution_count": null,
   "metadata": {},
   "outputs": [],
   "source": []
  },
  {
   "cell_type": "code",
   "execution_count": null,
   "metadata": {},
   "outputs": [],
   "source": []
  },
  {
   "cell_type": "code",
   "execution_count": null,
   "metadata": {},
   "outputs": [],
   "source": []
  },
  {
   "cell_type": "code",
   "execution_count": null,
   "metadata": {},
   "outputs": [],
   "source": []
  },
  {
   "cell_type": "code",
   "execution_count": null,
   "metadata": {},
   "outputs": [],
   "source": []
  },
  {
   "cell_type": "code",
   "execution_count": null,
   "metadata": {},
   "outputs": [],
   "source": []
  },
  {
   "cell_type": "code",
   "execution_count": null,
   "metadata": {},
   "outputs": [],
   "source": []
  },
  {
   "cell_type": "code",
   "execution_count": null,
   "metadata": {},
   "outputs": [],
   "source": []
  },
  {
   "cell_type": "code",
   "execution_count": null,
   "metadata": {},
   "outputs": [],
   "source": []
  },
  {
   "cell_type": "code",
   "execution_count": null,
   "metadata": {},
   "outputs": [],
   "source": []
  },
  {
   "cell_type": "code",
   "execution_count": null,
   "metadata": {},
   "outputs": [],
   "source": []
  },
  {
   "cell_type": "code",
   "execution_count": null,
   "metadata": {},
   "outputs": [],
   "source": []
  }
 ],
 "metadata": {
  "kernelspec": {
   "display_name": "Python 3.6 - AzureML",
   "language": "python",
   "name": "python3-azureml"
  },
  "language_info": {
   "codemirror_mode": {
    "name": "ipython",
    "version": 3
   },
   "file_extension": ".py",
   "mimetype": "text/x-python",
   "name": "python",
   "nbconvert_exporter": "python",
   "pygments_lexer": "ipython3",
   "version": "3.6.9"
  }
 },
 "nbformat": 4,
 "nbformat_minor": 4
}
